{
 "cells": [
  {
   "cell_type": "markdown",
   "metadata": {},
   "source": [
    "# COVID-19 and Weather Patterns"
   ]
  },
  {
   "cell_type": "markdown",
   "metadata": {},
   "source": [
    "## Imports\n",
    "\n",
    "- *tensorflow* for tensor processing\n",
    "- *keras* for simplified tensor processing\n",
    "- *matplotlib* for rendering data visually\n",
    "- *numpy* for array processing\n",
    "- *pandas* for rendering tabular data"
   ]
  },
  {
   "cell_type": "code",
   "execution_count": 1,
   "metadata": {},
   "outputs": [
    {
     "data": {
      "text/plain": [
       "'2.7.0'"
      ]
     },
     "execution_count": 1,
     "metadata": {},
     "output_type": "execute_result"
    }
   ],
   "source": [
    "# Management\n",
    "import os\n",
    "from pathlib import Path\n",
    "from zipfile import ZipFile\n",
    "\n",
    "# Processing\n",
    "import numpy\n",
    "import pandas\n",
    "import tensorflow\n",
    "from tensorflow import keras\n",
    "\n",
    "# Visualization\n",
    "import matplotlib.pyplot as plt\n",
    "\n",
    "tensorflow.__version__"
   ]
  },
  {
   "cell_type": "markdown",
   "metadata": {},
   "source": [
    "## Introduction\n",
    "\n",
    "The goal of this work is to determine whether or not weather patterns should be considered as supporting input data when making predictions about new daily COVID-19 cases within a given geographical space. Using census, weather, and COVID-19 datasets provided by the Urban Sustain project, the authors attempt to quantify the correlation between particular weather patterns and COVID-19 transmission events."
   ]
  },
  {
   "cell_type": "markdown",
   "metadata": {},
   "source": [
    "## Defining Terms"
   ]
  },
  {
   "cell_type": "markdown",
   "metadata": {},
   "source": [
    "## Loading Data"
   ]
  },
  {
   "cell_type": "markdown",
   "metadata": {},
   "source": [
    "**DEVELOPER NOTE:** Download the five required datasets from Urban Sustain and place them in the cloned repository at ```./data/```. These datasets are also available at a shared OneDrive folder. This logic expects that these files exist at relative path ```../data/``` with respect to this notebook."
   ]
  },
  {
   "cell_type": "markdown",
   "metadata": {},
   "source": [
    "We'll begin by defining a path to our data directory and a list of the datasets that we expect to find there."
   ]
  },
  {
   "cell_type": "code",
   "execution_count": 2,
   "metadata": {},
   "outputs": [],
   "source": [
    "dataPath = '../data/'\n",
    "expectedDatasets = [\n",
    "    'covid_county.Colorado.zip',\n",
    "    'neon_2d_wind.Colorado.zip',\n",
    "    'neon_barometric_pressure.Colorado.zip',\n",
    "    'neon_single_asp_air_temperature.Colorado.zip',\n",
    "    'svi_county_GISJOIN.Colorado.zip'\n",
    "]"
   ]
  },
  {
   "cell_type": "markdown",
   "metadata": {},
   "source": [
    "Next, we will attempt to extract each of these archived datasets into a subdirectory within the data directory."
   ]
  },
  {
   "cell_type": "code",
   "execution_count": 3,
   "metadata": {},
   "outputs": [],
   "source": [
    "for datasetName in expectedDatasets:\n",
    "    try:\n",
    "        with ZipFile(dataPath + datasetName, 'r') as currentzip:\n",
    "            datasetNameTokens = datasetName.split('.')\n",
    "            datasetNameTokens.remove('zip')\n",
    "            targetDirectory = '.'.join(datasetNameTokens)\n",
    "            \n",
    "            if not os.path.exists(dataPath + targetDirectory):\n",
    "                Path(dataPath + targetDirectory).mkdir()\n",
    "            currentzip.extractall(dataPath + targetDirectory)\n",
    "    except FileNotFoundError:\n",
    "        print(\"Unable to open \" + datasetName + \" at path \" + dataPath + datasetName)"
   ]
  },
  {
   "cell_type": "markdown",
   "metadata": {},
   "source": [
    "## File Information"
   ]
  },
  {
   "cell_type": "markdown",
   "metadata": {},
   "source": [
    "## Preprocessing"
   ]
  },
  {
   "cell_type": "markdown",
   "metadata": {},
   "source": [
    "## References"
   ]
  },
  {
   "cell_type": "markdown",
   "metadata": {},
   "source": [
    "## About this Notebook\n",
    "\n",
    "**Authors:** Kyle Bassignani, Jeff Borgerson, and Christian Westbrook  \n",
    "**Updated On:** 2021-11-12"
   ]
  }
 ],
 "metadata": {
  "kernelspec": {
   "display_name": "Python 3",
   "language": "python",
   "name": "python3"
  },
  "language_info": {
   "codemirror_mode": {
    "name": "ipython",
    "version": 3
   },
   "file_extension": ".py",
   "mimetype": "text/x-python",
   "name": "python",
   "nbconvert_exporter": "python",
   "pygments_lexer": "ipython3",
   "version": "3.8.3"
  }
 },
 "nbformat": 4,
 "nbformat_minor": 4
}
