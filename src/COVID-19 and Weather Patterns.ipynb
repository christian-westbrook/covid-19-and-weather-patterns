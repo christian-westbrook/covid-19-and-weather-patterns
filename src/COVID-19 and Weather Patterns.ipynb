{
 "cells": [
  {
   "cell_type": "markdown",
   "metadata": {},
   "source": [
    "# COVID-19 and Weather Patterns"
   ]
  },
  {
   "cell_type": "markdown",
   "metadata": {},
   "source": [
    "## Imports\n",
    "\n",
    "- *os* for interfacing with the operating system\n",
    "- *pathlib* for interfacing with the file system\n",
    "- *zipfile* for managing archive files\n",
    "\n",
    "- *numpy* for array processing\n",
    "- *pandas* for tabular processing\n",
    "- *tensorflow* for tensor processing\n",
    "- *keras* for simplified tensor processing\n",
    "\n",
    "- *matplotlib* for visualization\n",
    "- *seaborn* for enhanced visualization"
   ]
  },
  {
   "cell_type": "code",
   "execution_count": 1,
   "metadata": {},
   "outputs": [
    {
     "data": {
      "text/plain": "'2.7.0'"
     },
     "execution_count": 1,
     "metadata": {},
     "output_type": "execute_result"
    }
   ],
   "source": [
    "# Custom\n",
    "import data_processing\n",
    "\n",
    "# File System\n",
    "import os\n",
    "import json\n",
    "from pathlib import Path\n",
    "from zipfile import ZipFile\n",
    "import pickle\n",
    "\n",
    "# Processing\n",
    "import numpy as np\n",
    "import pandas as pd\n",
    "from sympy import *\n",
    "from sympy.geometry import *\n",
    "import tensorflow\n",
    "from tensorflow import keras\n",
    "\n",
    "# Visualization\n",
    "import matplotlib.pyplot as plt\n",
    "import seaborn as sns\n",
    "\n",
    "tensorflow.__version__"
   ]
  },
  {
   "cell_type": "markdown",
   "metadata": {},
   "source": [
    "## Introduction\n",
    "\n",
    "The goal of this work is to determine whether or not weather patterns should be considered as a meaningful supporting input when making predictions about new daily COVID-19 cases within a given geographical space. Using census, weather, and COVID-19 datasets provided by the Urban Sustain project, the authors attempt to quantify the correlation between particular weather patterns and COVID-19 transmission events."
   ]
  },
  {
   "cell_type": "markdown",
   "metadata": {},
   "source": [
    "## Defining Terms\n",
    "\n",
    "***Urban Sustain Project*** - A joint effort between researchers at Colorado State University, Arizona State University, the University of California-Irvine, and the University of Maryland – Baltimore County."
   ]
  },
  {
   "cell_type": "markdown",
   "metadata": {},
   "source": [
    "## Loading Data"
   ]
  },
  {
   "cell_type": "markdown",
   "metadata": {},
   "source": [
    "**DEVELOPER NOTE:** Download the five required datasets from Urban Sustain and place them in the cloned repository at ```./data/```. These datasets are also available at a shared OneDrive folder. This logic expects that these files exist at relative path ```../data/``` with respect to this notebook."
   ]
  },
  {
   "cell_type": "markdown",
   "metadata": {},
   "source": [
    "We'll begin by defining a path to our data directory and a list of the datasets that we expect to find there."
   ]
  },
  {
   "cell_type": "code",
   "execution_count": 2,
   "metadata": {},
   "outputs": [],
   "source": [
    "DATA_PATH = '../data/' # Point this constant to the location of your data archive files\n",
    "\n",
    "EXPECTED_DATASETS = [\n",
    "    'county_total_population.Colorado.zip',\n",
    "    'covid_county.Colorado.zip',\n",
    "    'neon_2d_wind.Colorado.zip',\n",
    "    'neon_barometric_pressure.Colorado.zip',\n",
    "    'neon_single_asp_air_temperature.Colorado.zip'\n",
    "]"
   ]
  },
  {
   "cell_type": "markdown",
   "metadata": {},
   "source": [
    "Next, we will attempt to extract each of these archived datasets into a dedicated subdirectory within the given data directory."
   ]
  },
  {
   "cell_type": "code",
   "execution_count": 3,
   "metadata": {},
   "outputs": [],
   "source": [
    "# For each listed dataset string in the EXPECTED_DATASETS constant\n",
    "for datasetName in EXPECTED_DATASETS:\n",
    "    try:\n",
    "        # Open the given archive file\n",
    "        with ZipFile(DATA_PATH + datasetName, 'r') as currentZip:\n",
    "            # Build the target directory path for extracted data\n",
    "            datasetNameTokens = datasetName.split('.')\n",
    "            datasetNameTokens.remove('zip')\n",
    "            targetDirectory = DATA_PATH + '.'.join(datasetNameTokens)\n",
    "            \n",
    "            # If the target directory doesn't exist, create it\n",
    "            if not os.path.exists(targetDirectory):\n",
    "                Path(targetDirectory).mkdir()\n",
    "            \n",
    "            # Extract all data from the archive file to the target directory\n",
    "            currentZip.extractall(targetDirectory)\n",
    "    except FileNotFoundError:\n",
    "        print(\"Unable to open \" + datasetName + \" at path \" + DATA_PATH + datasetName)"
   ]
  },
  {
   "cell_type": "markdown",
   "metadata": {},
   "source": [
    "## File Information\n",
    "\n",
    "Four of the five datasets referenced in this work relate geospatial information to particular events as they occur over time Each is provided by the Urban Sustain project and employs a similar file structure.\n",
    "\n",
    "- data.json\n",
    "- fieldLabels.json\n",
    "- linkedGeometry.json\n",
    "- README.txt\n"
   ]
  },
  {
   "cell_type": "markdown",
   "metadata": {},
   "source": [
    "#### New York Times COVID-19 County Dataset\n",
    "\n",
    "The included COVID-19 County dataset "
   ]
  },
  {
   "cell_type": "code",
   "execution_count": 4,
   "metadata": {},
   "outputs": [
    {
     "data": {
      "text/plain": "                                        _id   GISJOIN  \\\n34131  {'$oid': '615fc627bf06594c4cadca38'}  G0801070   \n9611   {'$oid': '615fc625bf06594c4cad67fa'}  G0800290   \n31054  {'$oid': '615fc627bf06594c4cadbe2c'}  G0800970   \n38380  {'$oid': '615fc628bf06594c4caddce2'}  G0801210   \n26825  {'$oid': '615fc627bf06594c4cadaad7'}  G0800830   \n\n                             epoch_time dateString      county     state  \\\n34131  {'$numberLong': '1618812000000'}    4/19/21       Routt  Colorado   \n9611   {'$numberLong': '1602396000000'}   10/11/20       Delta  Colorado   \n31054  {'$numberLong': '1621922400000'}    5/25/21      Pitkin  Colorado   \n38380  {'$numberLong': '1600236000000'}    9/16/20  Washington  Colorado   \n26825  {'$numberLong': '1625551200000'}     7/6/21   Montezuma  Colorado   \n\n       totalCaseCount  newCaseCount  totalDeathCount  newDeathCount  \n34131            2156             2               20              0  \n9611              193             0                3              0  \n31054            2594             1                4              0  \n38380              56             0                0              0  \n26825            2105             2               25              0  ",
      "text/html": "<div>\n<style scoped>\n    .dataframe tbody tr th:only-of-type {\n        vertical-align: middle;\n    }\n\n    .dataframe tbody tr th {\n        vertical-align: top;\n    }\n\n    .dataframe thead th {\n        text-align: right;\n    }\n</style>\n<table border=\"1\" class=\"dataframe\">\n  <thead>\n    <tr style=\"text-align: right;\">\n      <th></th>\n      <th>_id</th>\n      <th>GISJOIN</th>\n      <th>epoch_time</th>\n      <th>dateString</th>\n      <th>county</th>\n      <th>state</th>\n      <th>totalCaseCount</th>\n      <th>newCaseCount</th>\n      <th>totalDeathCount</th>\n      <th>newDeathCount</th>\n    </tr>\n  </thead>\n  <tbody>\n    <tr>\n      <th>34131</th>\n      <td>{'$oid': '615fc627bf06594c4cadca38'}</td>\n      <td>G0801070</td>\n      <td>{'$numberLong': '1618812000000'}</td>\n      <td>4/19/21</td>\n      <td>Routt</td>\n      <td>Colorado</td>\n      <td>2156</td>\n      <td>2</td>\n      <td>20</td>\n      <td>0</td>\n    </tr>\n    <tr>\n      <th>9611</th>\n      <td>{'$oid': '615fc625bf06594c4cad67fa'}</td>\n      <td>G0800290</td>\n      <td>{'$numberLong': '1602396000000'}</td>\n      <td>10/11/20</td>\n      <td>Delta</td>\n      <td>Colorado</td>\n      <td>193</td>\n      <td>0</td>\n      <td>3</td>\n      <td>0</td>\n    </tr>\n    <tr>\n      <th>31054</th>\n      <td>{'$oid': '615fc627bf06594c4cadbe2c'}</td>\n      <td>G0800970</td>\n      <td>{'$numberLong': '1621922400000'}</td>\n      <td>5/25/21</td>\n      <td>Pitkin</td>\n      <td>Colorado</td>\n      <td>2594</td>\n      <td>1</td>\n      <td>4</td>\n      <td>0</td>\n    </tr>\n    <tr>\n      <th>38380</th>\n      <td>{'$oid': '615fc628bf06594c4caddce2'}</td>\n      <td>G0801210</td>\n      <td>{'$numberLong': '1600236000000'}</td>\n      <td>9/16/20</td>\n      <td>Washington</td>\n      <td>Colorado</td>\n      <td>56</td>\n      <td>0</td>\n      <td>0</td>\n      <td>0</td>\n    </tr>\n    <tr>\n      <th>26825</th>\n      <td>{'$oid': '615fc627bf06594c4cadaad7'}</td>\n      <td>G0800830</td>\n      <td>{'$numberLong': '1625551200000'}</td>\n      <td>7/6/21</td>\n      <td>Montezuma</td>\n      <td>Colorado</td>\n      <td>2105</td>\n      <td>2</td>\n      <td>25</td>\n      <td>0</td>\n    </tr>\n  </tbody>\n</table>\n</div>"
     },
     "execution_count": 4,
     "metadata": {},
     "output_type": "execute_result"
    }
   ],
   "source": [
    "covidDataFrame = pd.io.json.read_json('../data/covid_county.Colorado/data.json')\n",
    "covidDataFrame.sample(5)"
   ]
  },
  {
   "cell_type": "code",
   "execution_count": 5,
   "metadata": {},
   "outputs": [
    {
     "data": {
      "text/plain": "              name              label\n4   totalCaseCount   Total Case Count\n2  totalDeathCount  Total Death Count\n1    newDeathCount    New Death Count\n3     newCaseCount     New Case Count\n0       epoch_time               Date",
      "text/html": "<div>\n<style scoped>\n    .dataframe tbody tr th:only-of-type {\n        vertical-align: middle;\n    }\n\n    .dataframe tbody tr th {\n        vertical-align: top;\n    }\n\n    .dataframe thead th {\n        text-align: right;\n    }\n</style>\n<table border=\"1\" class=\"dataframe\">\n  <thead>\n    <tr style=\"text-align: right;\">\n      <th></th>\n      <th>name</th>\n      <th>label</th>\n    </tr>\n  </thead>\n  <tbody>\n    <tr>\n      <th>4</th>\n      <td>totalCaseCount</td>\n      <td>Total Case Count</td>\n    </tr>\n    <tr>\n      <th>2</th>\n      <td>totalDeathCount</td>\n      <td>Total Death Count</td>\n    </tr>\n    <tr>\n      <th>1</th>\n      <td>newDeathCount</td>\n      <td>New Death Count</td>\n    </tr>\n    <tr>\n      <th>3</th>\n      <td>newCaseCount</td>\n      <td>New Case Count</td>\n    </tr>\n    <tr>\n      <th>0</th>\n      <td>epoch_time</td>\n      <td>Date</td>\n    </tr>\n  </tbody>\n</table>\n</div>"
     },
     "execution_count": 5,
     "metadata": {},
     "output_type": "execute_result"
    }
   ],
   "source": [
    "covidLabelsFrame = pd.io.json.read_json('../data/covid_county.Colorado/fieldLabels.json')\n",
    "covidLabelsFrame.sample(5)"
   ]
  },
  {
   "cell_type": "code",
   "execution_count": 6,
   "metadata": {
    "scrolled": true
   },
   "outputs": [
    {
     "data": {
      "text/plain": "                                     _id     type  \\\n39  {'$oid': '604964eefed2e95d6b68b83c'}  Feature   \n31  {'$oid': '604964eefed2e95d6b68b842'}  Feature   \n58  {'$oid': '604964ecfed2e95d6b68b67e'}  Feature   \n30  {'$oid': '604964ecfed2e95d6b68b68f'}  Feature   \n43  {'$oid': '604964eefed2e95d6b68b9c2'}  Feature   \n\n                                             geometry  \\\n39  {'type': 'Polygon', 'coordinates': [[[-107.430...   \n31  {'type': 'Polygon', 'coordinates': [[[-102.045...   \n58  {'type': 'Polygon', 'coordinates': [[[-102.621...   \n30  {'type': 'MultiPolygon', 'coordinates': [[[[-1...   \n43  {'type': 'Polygon', 'coordinates': [[[-107.500...   \n\n                                           properties   GISJOIN  \n39  {'STATEFP10': '08', 'COUNTYFP10': '077', 'COUN...  G0800770  \n31  {'STATEFP10': '08', 'COUNTYFP10': '061', 'COUN...  G0800610  \n58  {'STATEFP10': '08', 'COUNTYFP10': '115', 'COUN...  G0801150  \n30  {'STATEFP10': '08', 'COUNTYFP10': '059', 'COUN...  G0800590  \n43  {'STATEFP10': '08', 'COUNTYFP10': '085', 'COUN...  G0800850  ",
      "text/html": "<div>\n<style scoped>\n    .dataframe tbody tr th:only-of-type {\n        vertical-align: middle;\n    }\n\n    .dataframe tbody tr th {\n        vertical-align: top;\n    }\n\n    .dataframe thead th {\n        text-align: right;\n    }\n</style>\n<table border=\"1\" class=\"dataframe\">\n  <thead>\n    <tr style=\"text-align: right;\">\n      <th></th>\n      <th>_id</th>\n      <th>type</th>\n      <th>geometry</th>\n      <th>properties</th>\n      <th>GISJOIN</th>\n    </tr>\n  </thead>\n  <tbody>\n    <tr>\n      <th>39</th>\n      <td>{'$oid': '604964eefed2e95d6b68b83c'}</td>\n      <td>Feature</td>\n      <td>{'type': 'Polygon', 'coordinates': [[[-107.430...</td>\n      <td>{'STATEFP10': '08', 'COUNTYFP10': '077', 'COUN...</td>\n      <td>G0800770</td>\n    </tr>\n    <tr>\n      <th>31</th>\n      <td>{'$oid': '604964eefed2e95d6b68b842'}</td>\n      <td>Feature</td>\n      <td>{'type': 'Polygon', 'coordinates': [[[-102.045...</td>\n      <td>{'STATEFP10': '08', 'COUNTYFP10': '061', 'COUN...</td>\n      <td>G0800610</td>\n    </tr>\n    <tr>\n      <th>58</th>\n      <td>{'$oid': '604964ecfed2e95d6b68b67e'}</td>\n      <td>Feature</td>\n      <td>{'type': 'Polygon', 'coordinates': [[[-102.621...</td>\n      <td>{'STATEFP10': '08', 'COUNTYFP10': '115', 'COUN...</td>\n      <td>G0801150</td>\n    </tr>\n    <tr>\n      <th>30</th>\n      <td>{'$oid': '604964ecfed2e95d6b68b68f'}</td>\n      <td>Feature</td>\n      <td>{'type': 'MultiPolygon', 'coordinates': [[[[-1...</td>\n      <td>{'STATEFP10': '08', 'COUNTYFP10': '059', 'COUN...</td>\n      <td>G0800590</td>\n    </tr>\n    <tr>\n      <th>43</th>\n      <td>{'$oid': '604964eefed2e95d6b68b9c2'}</td>\n      <td>Feature</td>\n      <td>{'type': 'Polygon', 'coordinates': [[[-107.500...</td>\n      <td>{'STATEFP10': '08', 'COUNTYFP10': '085', 'COUN...</td>\n      <td>G0800850</td>\n    </tr>\n  </tbody>\n</table>\n</div>"
     },
     "execution_count": 6,
     "metadata": {},
     "output_type": "execute_result"
    }
   ],
   "source": [
    "covidGeometryFrame = pd.io.json.read_json('../data/covid_county.Colorado/linkedGeometry.json')\n",
    "covidGeometryFrame.sample(5)"
   ]
  },
  {
   "cell_type": "markdown",
   "metadata": {},
   "source": [
    "#### NEON 2D Wind Dataset"
   ]
  },
  {
   "cell_type": "code",
   "execution_count": 7,
   "metadata": {
    "scrolled": true
   },
   "outputs": [
    {
     "data": {
      "text/plain": "                                          _id                        site  \\\n206063   {'$oid': '60cbc07451c1683b4629d439'}  CPER_DP1.00001.001_000.010   \n505789   {'$oid': '60cbc08e51c1683b462cba50'}  CPER_DP1.00001.001_000.030   \n454860   {'$oid': '60cbc07851c1683b462a57ba'}  CPER_DP1.00001.001_000.030   \n225506   {'$oid': '60cbc07b51c1683b462aadae'}  CPER_DP1.00001.001_000.010   \n1095271  {'$oid': '60cbc2a151c1683b4666616a'}  RMNP_DP1.00001.001_000.040   \n\n                               epoch_time         startDateTime  \\\n206063   {'$numberLong': '1486162800000'}  2017-02-03T23:00:00Z   \n505789   {'$numberLong': '1601618400000'}  2020-10-02T06:00:00Z   \n454860   {'$numberLong': '1506204000000'}  2017-09-23T22:00:00Z   \n225506   {'$numberLong': '1521549000000'}  2018-03-20T12:30:00Z   \n1095271  {'$numberLong': '1597158000000'}  2020-08-11T15:00:00Z   \n\n                  endDateTime  windSpeedMean  windSpeedMinimum  \\\n206063   2017-02-03T23:30:00Z           0.59              0.03   \n505789   2020-10-02T06:30:00Z           2.05              1.17   \n454860   2017-09-23T22:30:00Z           4.67              2.53   \n225506   2018-03-20T13:00:00Z           1.80              0.74   \n1095271  2020-08-11T15:30:00Z           2.52              0.06   \n\n         windSpeedMaximum  windSpeedVariance  windSpeedNumPts  \\\n206063               2.36               0.08             1800   \n505789               2.83               0.11             1800   \n454860               7.19               0.63             1800   \n225506               3.83               0.26             1800   \n1095271              6.64               1.47             1796   \n\n         windSpeedExpUncert  windSpeedStdErMean  windSpeedFinalQF  \\\n206063                 0.05                0.01                 0   \n505789                 0.06                0.01                 0   \n454860                 0.22                0.02                 0   \n225506                 0.08                0.01                 0   \n1095271                0.19                0.03                 0   \n\n         windDirMean  windDirVariance  windDirNumPts  windDirExpUncert  \\\n206063        260.45           812.33           1800              0.07   \n505789        313.17           322.27           1800              0.07   \n454860         12.85            61.01           1800              0.07   \n225506        329.24           175.19           1800              0.07   \n1095271       242.46          4169.37           1796              0.07   \n\n         windDirStdErMean  windDirFinalQF  \n206063               0.01               1  \n505789               0.01               0  \n454860               0.06               0  \n225506               0.02               0  \n1095271              0.03               0  ",
      "text/html": "<div>\n<style scoped>\n    .dataframe tbody tr th:only-of-type {\n        vertical-align: middle;\n    }\n\n    .dataframe tbody tr th {\n        vertical-align: top;\n    }\n\n    .dataframe thead th {\n        text-align: right;\n    }\n</style>\n<table border=\"1\" class=\"dataframe\">\n  <thead>\n    <tr style=\"text-align: right;\">\n      <th></th>\n      <th>_id</th>\n      <th>site</th>\n      <th>epoch_time</th>\n      <th>startDateTime</th>\n      <th>endDateTime</th>\n      <th>windSpeedMean</th>\n      <th>windSpeedMinimum</th>\n      <th>windSpeedMaximum</th>\n      <th>windSpeedVariance</th>\n      <th>windSpeedNumPts</th>\n      <th>windSpeedExpUncert</th>\n      <th>windSpeedStdErMean</th>\n      <th>windSpeedFinalQF</th>\n      <th>windDirMean</th>\n      <th>windDirVariance</th>\n      <th>windDirNumPts</th>\n      <th>windDirExpUncert</th>\n      <th>windDirStdErMean</th>\n      <th>windDirFinalQF</th>\n    </tr>\n  </thead>\n  <tbody>\n    <tr>\n      <th>206063</th>\n      <td>{'$oid': '60cbc07451c1683b4629d439'}</td>\n      <td>CPER_DP1.00001.001_000.010</td>\n      <td>{'$numberLong': '1486162800000'}</td>\n      <td>2017-02-03T23:00:00Z</td>\n      <td>2017-02-03T23:30:00Z</td>\n      <td>0.59</td>\n      <td>0.03</td>\n      <td>2.36</td>\n      <td>0.08</td>\n      <td>1800</td>\n      <td>0.05</td>\n      <td>0.01</td>\n      <td>0</td>\n      <td>260.45</td>\n      <td>812.33</td>\n      <td>1800</td>\n      <td>0.07</td>\n      <td>0.01</td>\n      <td>1</td>\n    </tr>\n    <tr>\n      <th>505789</th>\n      <td>{'$oid': '60cbc08e51c1683b462cba50'}</td>\n      <td>CPER_DP1.00001.001_000.030</td>\n      <td>{'$numberLong': '1601618400000'}</td>\n      <td>2020-10-02T06:00:00Z</td>\n      <td>2020-10-02T06:30:00Z</td>\n      <td>2.05</td>\n      <td>1.17</td>\n      <td>2.83</td>\n      <td>0.11</td>\n      <td>1800</td>\n      <td>0.06</td>\n      <td>0.01</td>\n      <td>0</td>\n      <td>313.17</td>\n      <td>322.27</td>\n      <td>1800</td>\n      <td>0.07</td>\n      <td>0.01</td>\n      <td>0</td>\n    </tr>\n    <tr>\n      <th>454860</th>\n      <td>{'$oid': '60cbc07851c1683b462a57ba'}</td>\n      <td>CPER_DP1.00001.001_000.030</td>\n      <td>{'$numberLong': '1506204000000'}</td>\n      <td>2017-09-23T22:00:00Z</td>\n      <td>2017-09-23T22:30:00Z</td>\n      <td>4.67</td>\n      <td>2.53</td>\n      <td>7.19</td>\n      <td>0.63</td>\n      <td>1800</td>\n      <td>0.22</td>\n      <td>0.02</td>\n      <td>0</td>\n      <td>12.85</td>\n      <td>61.01</td>\n      <td>1800</td>\n      <td>0.07</td>\n      <td>0.06</td>\n      <td>0</td>\n    </tr>\n    <tr>\n      <th>225506</th>\n      <td>{'$oid': '60cbc07b51c1683b462aadae'}</td>\n      <td>CPER_DP1.00001.001_000.010</td>\n      <td>{'$numberLong': '1521549000000'}</td>\n      <td>2018-03-20T12:30:00Z</td>\n      <td>2018-03-20T13:00:00Z</td>\n      <td>1.80</td>\n      <td>0.74</td>\n      <td>3.83</td>\n      <td>0.26</td>\n      <td>1800</td>\n      <td>0.08</td>\n      <td>0.01</td>\n      <td>0</td>\n      <td>329.24</td>\n      <td>175.19</td>\n      <td>1800</td>\n      <td>0.07</td>\n      <td>0.02</td>\n      <td>0</td>\n    </tr>\n    <tr>\n      <th>1095271</th>\n      <td>{'$oid': '60cbc2a151c1683b4666616a'}</td>\n      <td>RMNP_DP1.00001.001_000.040</td>\n      <td>{'$numberLong': '1597158000000'}</td>\n      <td>2020-08-11T15:00:00Z</td>\n      <td>2020-08-11T15:30:00Z</td>\n      <td>2.52</td>\n      <td>0.06</td>\n      <td>6.64</td>\n      <td>1.47</td>\n      <td>1796</td>\n      <td>0.19</td>\n      <td>0.03</td>\n      <td>0</td>\n      <td>242.46</td>\n      <td>4169.37</td>\n      <td>1796</td>\n      <td>0.07</td>\n      <td>0.03</td>\n      <td>0</td>\n    </tr>\n  </tbody>\n</table>\n</div>"
     },
     "execution_count": 7,
     "metadata": {},
     "output_type": "execute_result"
    }
   ],
   "source": [
    "windDataFrame = pd.io.json.read_json('../data/neon_2d_wind.Colorado/data.json')\n",
    "windDataFrame.sample(5)"
   ]
  },
  {
   "cell_type": "code",
   "execution_count": 8,
   "metadata": {},
   "outputs": [
    {
     "data": {
      "text/plain": "                        name  \\\n27     windSpeedValidCalNAQM   \n48  windDirSensorErrorPassQM   \n58         windDirCalmWindQF   \n4           windSpeedMinimum   \n53     windDirValidCalFailQM   \n\n                                                label  \n27  Wind speed quality metric that summarizes when...  \n48  Wind direction quality metric that summarizes ...  \n58  Wind direction quality flag for the calm wind ...  \n4                                  Minimum wind speed  \n53  Wind direction quality metric that summarizes ...  ",
      "text/html": "<div>\n<style scoped>\n    .dataframe tbody tr th:only-of-type {\n        vertical-align: middle;\n    }\n\n    .dataframe tbody tr th {\n        vertical-align: top;\n    }\n\n    .dataframe thead th {\n        text-align: right;\n    }\n</style>\n<table border=\"1\" class=\"dataframe\">\n  <thead>\n    <tr style=\"text-align: right;\">\n      <th></th>\n      <th>name</th>\n      <th>label</th>\n    </tr>\n  </thead>\n  <tbody>\n    <tr>\n      <th>27</th>\n      <td>windSpeedValidCalNAQM</td>\n      <td>Wind speed quality metric that summarizes when...</td>\n    </tr>\n    <tr>\n      <th>48</th>\n      <td>windDirSensorErrorPassQM</td>\n      <td>Wind direction quality metric that summarizes ...</td>\n    </tr>\n    <tr>\n      <th>58</th>\n      <td>windDirCalmWindQF</td>\n      <td>Wind direction quality flag for the calm wind ...</td>\n    </tr>\n    <tr>\n      <th>4</th>\n      <td>windSpeedMinimum</td>\n      <td>Minimum wind speed</td>\n    </tr>\n    <tr>\n      <th>53</th>\n      <td>windDirValidCalFailQM</td>\n      <td>Wind direction quality metric that summarizes ...</td>\n    </tr>\n  </tbody>\n</table>\n</div>"
     },
     "execution_count": 8,
     "metadata": {},
     "output_type": "execute_result"
    }
   ],
   "source": [
    "windLabelsFrame = pd.io.json.read_json('../data/neon_2d_wind.Colorado/fieldLabels.json')\n",
    "windLabelsFrame.sample(5)"
   ]
  },
  {
   "cell_type": "code",
   "execution_count": 9,
   "metadata": {
    "scrolled": false
   },
   "outputs": [
    {
     "data": {
      "text/plain": "                                     _id     type  \\\n2   {'$oid': '60cbcf5eed5577c25c205231'}  Feature   \n14  {'$oid': '60cbcf5eed5577c25c205268'}  Feature   \n3   {'$oid': '60cbcf5eed5577c25c205232'}  Feature   \n7   {'$oid': '60cbcf5eed5577c25c205296'}  Feature   \n4   {'$oid': '60cbcf5eed5577c25c205282'}  Feature   \n\n                                             geometry  \\\n2   {'type': 'Point', 'coordinates': [-105.545955,...   \n14  {'type': 'Point', 'coordinates': [-102.450966,...   \n3   {'type': 'Point', 'coordinates': [-105.545955,...   \n7   {'type': 'Point', 'coordinates': [-105.58238, ...   \n4   {'type': 'Point', 'coordinates': [-105.544602,...   \n\n                                           properties  \\\n2   {'HOR.VER': '000.020', 'name': 'CFGLOC100669',...   \n14  {'HOR.VER': '200.000', 'name': 'CFGLOC101251',...   \n3   {'HOR.VER': '000.030', 'name': 'CFGLOC100672',...   \n7   {'HOR.VER': '000.030', 'name': 'CFGLOC109359',...   \n4   {'HOR.VER': '200.000', 'name': 'CFGLOC101555',...   \n\n                          site  \n2   RMNP_DP1.00001.001_000.020  \n14  ARIK_DP1.00001.001_200.000  \n3   RMNP_DP1.00001.001_000.030  \n7   NIWO_DP1.00001.001_000.030  \n4   COMO_DP1.00001.001_200.000  ",
      "text/html": "<div>\n<style scoped>\n    .dataframe tbody tr th:only-of-type {\n        vertical-align: middle;\n    }\n\n    .dataframe tbody tr th {\n        vertical-align: top;\n    }\n\n    .dataframe thead th {\n        text-align: right;\n    }\n</style>\n<table border=\"1\" class=\"dataframe\">\n  <thead>\n    <tr style=\"text-align: right;\">\n      <th></th>\n      <th>_id</th>\n      <th>type</th>\n      <th>geometry</th>\n      <th>properties</th>\n      <th>site</th>\n    </tr>\n  </thead>\n  <tbody>\n    <tr>\n      <th>2</th>\n      <td>{'$oid': '60cbcf5eed5577c25c205231'}</td>\n      <td>Feature</td>\n      <td>{'type': 'Point', 'coordinates': [-105.545955,...</td>\n      <td>{'HOR.VER': '000.020', 'name': 'CFGLOC100669',...</td>\n      <td>RMNP_DP1.00001.001_000.020</td>\n    </tr>\n    <tr>\n      <th>14</th>\n      <td>{'$oid': '60cbcf5eed5577c25c205268'}</td>\n      <td>Feature</td>\n      <td>{'type': 'Point', 'coordinates': [-102.450966,...</td>\n      <td>{'HOR.VER': '200.000', 'name': 'CFGLOC101251',...</td>\n      <td>ARIK_DP1.00001.001_200.000</td>\n    </tr>\n    <tr>\n      <th>3</th>\n      <td>{'$oid': '60cbcf5eed5577c25c205232'}</td>\n      <td>Feature</td>\n      <td>{'type': 'Point', 'coordinates': [-105.545955,...</td>\n      <td>{'HOR.VER': '000.030', 'name': 'CFGLOC100672',...</td>\n      <td>RMNP_DP1.00001.001_000.030</td>\n    </tr>\n    <tr>\n      <th>7</th>\n      <td>{'$oid': '60cbcf5eed5577c25c205296'}</td>\n      <td>Feature</td>\n      <td>{'type': 'Point', 'coordinates': [-105.58238, ...</td>\n      <td>{'HOR.VER': '000.030', 'name': 'CFGLOC109359',...</td>\n      <td>NIWO_DP1.00001.001_000.030</td>\n    </tr>\n    <tr>\n      <th>4</th>\n      <td>{'$oid': '60cbcf5eed5577c25c205282'}</td>\n      <td>Feature</td>\n      <td>{'type': 'Point', 'coordinates': [-105.544602,...</td>\n      <td>{'HOR.VER': '200.000', 'name': 'CFGLOC101555',...</td>\n      <td>COMO_DP1.00001.001_200.000</td>\n    </tr>\n  </tbody>\n</table>\n</div>"
     },
     "execution_count": 9,
     "metadata": {},
     "output_type": "execute_result"
    }
   ],
   "source": [
    "windGeometryFrame = pd.io.json.read_json('../data/neon_2d_wind.Colorado/linkedGeometry.json')\n",
    "windGeometryFrame.sample(5)"
   ]
  },
  {
   "cell_type": "markdown",
   "metadata": {},
   "source": [
    "#### NEON Barometric Pressure Dataset"
   ]
  },
  {
   "cell_type": "code",
   "execution_count": 10,
   "metadata": {
    "scrolled": true
   },
   "outputs": [
    {
     "data": {
      "text/plain": "                                         _id                site  \\\n204397  {'$oid': '60c78b14c8cb4f3f3bedbbb0'}  CPER_DP1.00004.001   \n528520  {'$oid': '60c78d4cc8cb4f3f3b2eea5c'}  WLOU_DP1.00004.001   \n529399  {'$oid': '60c78d4cc8cb4f3f3b2eedc2'}  WLOU_DP1.00004.001   \n439801  {'$oid': '60c78cdfc8cb4f3f3b22a79d'}  STER_DP1.00004.001   \n227264  {'$oid': '60c78b16c8cb4f3f3bee128e'}  CPER_DP1.00004.001   \n\n                              epoch_time         startDateTime  \\\n204397  {'$numberLong': '1565092800000'}  2019-08-06T12:00:00Z   \n528520  {'$numberLong': '1613293200000'}  2021-02-14T09:00:00Z   \n529399  {'$numberLong': '1614866400000'}  2021-03-04T14:00:00Z   \n439801  {'$numberLong': '1532352600000'}  2018-07-23T13:30:00Z   \n227264  {'$numberLong': '1605870000000'}  2020-11-20T11:00:00Z   \n\n                 endDateTime  staPresMean  staPresMinimum  staPresMaximum  \\\n204397  2019-08-06T12:30:00Z     83.72242        83.71520        83.73520   \n528520  2021-02-14T09:30:00Z     69.56740        69.55773        69.57773   \n529399  2021-03-04T14:30:00Z     71.08952        71.05779        71.10780   \n439801  2018-07-23T14:00:00Z     86.48613        86.46751        86.50707   \n227264  2020-11-20T11:30:00Z     84.16887        84.15359        84.18360   \n\n        staPresVariance  staPresNumPts  staPresExpUncert  staPresStdErMean  \\\n204397          0.00004            180           0.01722           0.00046   \n528520          0.00001            119           0.04721           0.00024   \n529399          0.00014            180           0.04724           0.00088   \n439801          0.00008            180           0.01725           0.00068   \n227264          0.00009            180           0.04731           0.00069   \n\n        staPresFinalQF    corPres  corPresExpUncert  corPresFinalQF  \n204397               0  101.56236           0.15256               0  \n528520               1  100.10026           0.51843               1  \n529399               0  101.71419           0.51094               0  \n439801               0  101.06451           0.10881               0  \n227264               0  103.10607           0.17966               0  ",
      "text/html": "<div>\n<style scoped>\n    .dataframe tbody tr th:only-of-type {\n        vertical-align: middle;\n    }\n\n    .dataframe tbody tr th {\n        vertical-align: top;\n    }\n\n    .dataframe thead th {\n        text-align: right;\n    }\n</style>\n<table border=\"1\" class=\"dataframe\">\n  <thead>\n    <tr style=\"text-align: right;\">\n      <th></th>\n      <th>_id</th>\n      <th>site</th>\n      <th>epoch_time</th>\n      <th>startDateTime</th>\n      <th>endDateTime</th>\n      <th>staPresMean</th>\n      <th>staPresMinimum</th>\n      <th>staPresMaximum</th>\n      <th>staPresVariance</th>\n      <th>staPresNumPts</th>\n      <th>staPresExpUncert</th>\n      <th>staPresStdErMean</th>\n      <th>staPresFinalQF</th>\n      <th>corPres</th>\n      <th>corPresExpUncert</th>\n      <th>corPresFinalQF</th>\n    </tr>\n  </thead>\n  <tbody>\n    <tr>\n      <th>204397</th>\n      <td>{'$oid': '60c78b14c8cb4f3f3bedbbb0'}</td>\n      <td>CPER_DP1.00004.001</td>\n      <td>{'$numberLong': '1565092800000'}</td>\n      <td>2019-08-06T12:00:00Z</td>\n      <td>2019-08-06T12:30:00Z</td>\n      <td>83.72242</td>\n      <td>83.71520</td>\n      <td>83.73520</td>\n      <td>0.00004</td>\n      <td>180</td>\n      <td>0.01722</td>\n      <td>0.00046</td>\n      <td>0</td>\n      <td>101.56236</td>\n      <td>0.15256</td>\n      <td>0</td>\n    </tr>\n    <tr>\n      <th>528520</th>\n      <td>{'$oid': '60c78d4cc8cb4f3f3b2eea5c'}</td>\n      <td>WLOU_DP1.00004.001</td>\n      <td>{'$numberLong': '1613293200000'}</td>\n      <td>2021-02-14T09:00:00Z</td>\n      <td>2021-02-14T09:30:00Z</td>\n      <td>69.56740</td>\n      <td>69.55773</td>\n      <td>69.57773</td>\n      <td>0.00001</td>\n      <td>119</td>\n      <td>0.04721</td>\n      <td>0.00024</td>\n      <td>1</td>\n      <td>100.10026</td>\n      <td>0.51843</td>\n      <td>1</td>\n    </tr>\n    <tr>\n      <th>529399</th>\n      <td>{'$oid': '60c78d4cc8cb4f3f3b2eedc2'}</td>\n      <td>WLOU_DP1.00004.001</td>\n      <td>{'$numberLong': '1614866400000'}</td>\n      <td>2021-03-04T14:00:00Z</td>\n      <td>2021-03-04T14:30:00Z</td>\n      <td>71.08952</td>\n      <td>71.05779</td>\n      <td>71.10780</td>\n      <td>0.00014</td>\n      <td>180</td>\n      <td>0.04724</td>\n      <td>0.00088</td>\n      <td>0</td>\n      <td>101.71419</td>\n      <td>0.51094</td>\n      <td>0</td>\n    </tr>\n    <tr>\n      <th>439801</th>\n      <td>{'$oid': '60c78cdfc8cb4f3f3b22a79d'}</td>\n      <td>STER_DP1.00004.001</td>\n      <td>{'$numberLong': '1532352600000'}</td>\n      <td>2018-07-23T13:30:00Z</td>\n      <td>2018-07-23T14:00:00Z</td>\n      <td>86.48613</td>\n      <td>86.46751</td>\n      <td>86.50707</td>\n      <td>0.00008</td>\n      <td>180</td>\n      <td>0.01725</td>\n      <td>0.00068</td>\n      <td>0</td>\n      <td>101.06451</td>\n      <td>0.10881</td>\n      <td>0</td>\n    </tr>\n    <tr>\n      <th>227264</th>\n      <td>{'$oid': '60c78b16c8cb4f3f3bee128e'}</td>\n      <td>CPER_DP1.00004.001</td>\n      <td>{'$numberLong': '1605870000000'}</td>\n      <td>2020-11-20T11:00:00Z</td>\n      <td>2020-11-20T11:30:00Z</td>\n      <td>84.16887</td>\n      <td>84.15359</td>\n      <td>84.18360</td>\n      <td>0.00009</td>\n      <td>180</td>\n      <td>0.04731</td>\n      <td>0.00069</td>\n      <td>0</td>\n      <td>103.10607</td>\n      <td>0.17966</td>\n      <td>0</td>\n    </tr>\n  </tbody>\n</table>\n</div>"
     },
     "execution_count": 10,
     "metadata": {},
     "output_type": "execute_result"
    }
   ],
   "source": [
    "pressureDataFrame = pd.io.json.read_json('../data/neon_barometric_pressure.Colorado/data.json')\n",
    "pressureDataFrame.sample(5)"
   ]
  },
  {
   "cell_type": "code",
   "execution_count": 11,
   "metadata": {},
   "outputs": [
    {
     "data": {
      "text/plain": "                        name  \\\n37             corPresTempQF   \n13  staPresPersistenceFailQM   \n19         staPresNullFailQM   \n2                endDateTime   \n39            corPresFinalQF   \n\n                                                label  \n37  Corrected pressure quality flag that assesses ...  \n13  Station pressure quality metric that summarize...  \n19  Station pressure quality metric that summarize...  \n2      Date and time at which a sampling is completed  \n39  Pressure corrected to sea level quality flag i...  ",
      "text/html": "<div>\n<style scoped>\n    .dataframe tbody tr th:only-of-type {\n        vertical-align: middle;\n    }\n\n    .dataframe tbody tr th {\n        vertical-align: top;\n    }\n\n    .dataframe thead th {\n        text-align: right;\n    }\n</style>\n<table border=\"1\" class=\"dataframe\">\n  <thead>\n    <tr style=\"text-align: right;\">\n      <th></th>\n      <th>name</th>\n      <th>label</th>\n    </tr>\n  </thead>\n  <tbody>\n    <tr>\n      <th>37</th>\n      <td>corPresTempQF</td>\n      <td>Corrected pressure quality flag that assesses ...</td>\n    </tr>\n    <tr>\n      <th>13</th>\n      <td>staPresPersistenceFailQM</td>\n      <td>Station pressure quality metric that summarize...</td>\n    </tr>\n    <tr>\n      <th>19</th>\n      <td>staPresNullFailQM</td>\n      <td>Station pressure quality metric that summarize...</td>\n    </tr>\n    <tr>\n      <th>2</th>\n      <td>endDateTime</td>\n      <td>Date and time at which a sampling is completed</td>\n    </tr>\n    <tr>\n      <th>39</th>\n      <td>corPresFinalQF</td>\n      <td>Pressure corrected to sea level quality flag i...</td>\n    </tr>\n  </tbody>\n</table>\n</div>"
     },
     "execution_count": 11,
     "metadata": {},
     "output_type": "execute_result"
    }
   ],
   "source": [
    "pressureLabelsFrame = pd.io.json.read_json('../data/neon_barometric_pressure.Colorado/fieldLabels.json')\n",
    "pressureLabelsFrame.sample(5)"
   ]
  },
  {
   "cell_type": "code",
   "execution_count": 12,
   "metadata": {
    "scrolled": true
   },
   "outputs": [
    {
     "data": {
      "text/plain": "                                    _id     type  \\\n0  {'$oid': '60c78a9d230c7f49850c20dc'}  Feature   \n6  {'$oid': '60c78a9d230c7f49850c20a5'}  Feature   \n1  {'$oid': '60c78a9d230c7f49850c20ef'}  Feature   \n3  {'$oid': '60c78a9d230c7f49850c20cf'}  Feature   \n5  {'$oid': '60c78a9d230c7f49850c20e3'}  Feature   \n\n                                            geometry  \\\n0  {'type': 'Point', 'coordinates': [-105.545955,...   \n6  {'type': 'Point', 'coordinates': [-102.450966,...   \n1  {'type': 'Point', 'coordinates': [-105.914674,...   \n3  {'type': 'Point', 'coordinates': [-105.58238, ...   \n5  {'type': 'Point', 'coordinates': [-103.02929, ...   \n\n                                          properties                site  \n0  {'site': 'RMNP_DP1.00004.001', 'name': 'neon_b...  RMNP_DP1.00004.001  \n6  {'site': 'ARIK_DP1.00004.001', 'name': 'neon_b...  ARIK_DP1.00004.001  \n1  {'site': 'WLOU_DP1.00004.001', 'name': 'neon_b...  WLOU_DP1.00004.001  \n3  {'site': 'NIWO_DP1.00004.001', 'name': 'neon_b...  NIWO_DP1.00004.001  \n5  {'site': 'STER_DP1.00004.001', 'name': 'neon_b...  STER_DP1.00004.001  ",
      "text/html": "<div>\n<style scoped>\n    .dataframe tbody tr th:only-of-type {\n        vertical-align: middle;\n    }\n\n    .dataframe tbody tr th {\n        vertical-align: top;\n    }\n\n    .dataframe thead th {\n        text-align: right;\n    }\n</style>\n<table border=\"1\" class=\"dataframe\">\n  <thead>\n    <tr style=\"text-align: right;\">\n      <th></th>\n      <th>_id</th>\n      <th>type</th>\n      <th>geometry</th>\n      <th>properties</th>\n      <th>site</th>\n    </tr>\n  </thead>\n  <tbody>\n    <tr>\n      <th>0</th>\n      <td>{'$oid': '60c78a9d230c7f49850c20dc'}</td>\n      <td>Feature</td>\n      <td>{'type': 'Point', 'coordinates': [-105.545955,...</td>\n      <td>{'site': 'RMNP_DP1.00004.001', 'name': 'neon_b...</td>\n      <td>RMNP_DP1.00004.001</td>\n    </tr>\n    <tr>\n      <th>6</th>\n      <td>{'$oid': '60c78a9d230c7f49850c20a5'}</td>\n      <td>Feature</td>\n      <td>{'type': 'Point', 'coordinates': [-102.450966,...</td>\n      <td>{'site': 'ARIK_DP1.00004.001', 'name': 'neon_b...</td>\n      <td>ARIK_DP1.00004.001</td>\n    </tr>\n    <tr>\n      <th>1</th>\n      <td>{'$oid': '60c78a9d230c7f49850c20ef'}</td>\n      <td>Feature</td>\n      <td>{'type': 'Point', 'coordinates': [-105.914674,...</td>\n      <td>{'site': 'WLOU_DP1.00004.001', 'name': 'neon_b...</td>\n      <td>WLOU_DP1.00004.001</td>\n    </tr>\n    <tr>\n      <th>3</th>\n      <td>{'$oid': '60c78a9d230c7f49850c20cf'}</td>\n      <td>Feature</td>\n      <td>{'type': 'Point', 'coordinates': [-105.58238, ...</td>\n      <td>{'site': 'NIWO_DP1.00004.001', 'name': 'neon_b...</td>\n      <td>NIWO_DP1.00004.001</td>\n    </tr>\n    <tr>\n      <th>5</th>\n      <td>{'$oid': '60c78a9d230c7f49850c20e3'}</td>\n      <td>Feature</td>\n      <td>{'type': 'Point', 'coordinates': [-103.02929, ...</td>\n      <td>{'site': 'STER_DP1.00004.001', 'name': 'neon_b...</td>\n      <td>STER_DP1.00004.001</td>\n    </tr>\n  </tbody>\n</table>\n</div>"
     },
     "execution_count": 12,
     "metadata": {},
     "output_type": "execute_result"
    }
   ],
   "source": [
    "pressureGeometryFrame = pd.io.json.read_json('../data/neon_barometric_pressure.Colorado/linkedGeometry.json')\n",
    "pressureGeometryFrame.sample(5)"
   ]
  },
  {
   "cell_type": "markdown",
   "metadata": {},
   "source": [
    "#### NEON Air Temperature"
   ]
  },
  {
   "cell_type": "code",
   "execution_count": 13,
   "metadata": {},
   "outputs": [
    {
     "data": {
      "text/plain": "                                          _id                        site  \\\n80653    {'$oid': '60cbd7450fc3818c81489cbf'}  ARIK_DP1.00002.001_200.000   \n1268444  {'$oid': '60cbd3bb0fc3818c81dd302c'}  STER_DP1.00002.001_000.030   \n37021    {'$oid': '60cbd73f0fc3818c8147f2cf'}  ARIK_DP1.00002.001_200.000   \n967381   {'$oid': '60cbd39b0fc3818c81d970ff'}  STER_DP1.00002.001_000.010   \n543200   {'$oid': '60cbd8a30fc3818c8171eff8'}  NIWO_DP1.00002.001_000.020   \n\n                               epoch_time         startDateTime  \\\n80653    {'$numberLong': '1610555400000'}  2021-01-13T16:30:00Z   \n1268444  {'$numberLong': '1617177600000'}  2021-03-31T08:00:00Z   \n37021    {'$numberLong': '1531735200000'}  2018-07-16T10:00:00Z   \n967381   {'$numberLong': '1440455400000'}  2015-08-24T22:30:00Z   \n543200   {'$numberLong': '1614407400000'}  2021-02-27T06:30:00Z   \n\n                  endDateTime  tempSingleMean  tempSingleMinimum  \\\n80653    2021-01-13T17:00:00Z         10.9256             9.3706   \n1268444  2021-03-31T08:30:00Z         -3.0871            -5.6200   \n37021    2018-07-16T10:30:00Z         19.8946            19.7744   \n967381   2015-08-24T23:00:00Z         32.9481            31.8195   \n543200   2021-02-27T07:00:00Z        -13.2000           -13.3318   \n\n         tempSingleMaximum  tempSingleVariance  tempSingleNumPts  \\\n80653              11.7116              0.5131              1800   \n1268444            -2.2856              0.7385              1800   \n37021              20.0313              0.0028              1800   \n967381             33.8799              0.3205              1800   \n543200            -13.0473              0.0050              1800   \n\n         tempSingleExpUncert  tempSingleStdErMean  finalQF  \n80653                 0.1457               0.0169        0  \n1268444               0.1417               0.0203        0  \n37021                 0.1428               0.0012        0  \n967381                0.1511               0.0133        0  \n543200                0.1313               0.0017        0  ",
      "text/html": "<div>\n<style scoped>\n    .dataframe tbody tr th:only-of-type {\n        vertical-align: middle;\n    }\n\n    .dataframe tbody tr th {\n        vertical-align: top;\n    }\n\n    .dataframe thead th {\n        text-align: right;\n    }\n</style>\n<table border=\"1\" class=\"dataframe\">\n  <thead>\n    <tr style=\"text-align: right;\">\n      <th></th>\n      <th>_id</th>\n      <th>site</th>\n      <th>epoch_time</th>\n      <th>startDateTime</th>\n      <th>endDateTime</th>\n      <th>tempSingleMean</th>\n      <th>tempSingleMinimum</th>\n      <th>tempSingleMaximum</th>\n      <th>tempSingleVariance</th>\n      <th>tempSingleNumPts</th>\n      <th>tempSingleExpUncert</th>\n      <th>tempSingleStdErMean</th>\n      <th>finalQF</th>\n    </tr>\n  </thead>\n  <tbody>\n    <tr>\n      <th>80653</th>\n      <td>{'$oid': '60cbd7450fc3818c81489cbf'}</td>\n      <td>ARIK_DP1.00002.001_200.000</td>\n      <td>{'$numberLong': '1610555400000'}</td>\n      <td>2021-01-13T16:30:00Z</td>\n      <td>2021-01-13T17:00:00Z</td>\n      <td>10.9256</td>\n      <td>9.3706</td>\n      <td>11.7116</td>\n      <td>0.5131</td>\n      <td>1800</td>\n      <td>0.1457</td>\n      <td>0.0169</td>\n      <td>0</td>\n    </tr>\n    <tr>\n      <th>1268444</th>\n      <td>{'$oid': '60cbd3bb0fc3818c81dd302c'}</td>\n      <td>STER_DP1.00002.001_000.030</td>\n      <td>{'$numberLong': '1617177600000'}</td>\n      <td>2021-03-31T08:00:00Z</td>\n      <td>2021-03-31T08:30:00Z</td>\n      <td>-3.0871</td>\n      <td>-5.6200</td>\n      <td>-2.2856</td>\n      <td>0.7385</td>\n      <td>1800</td>\n      <td>0.1417</td>\n      <td>0.0203</td>\n      <td>0</td>\n    </tr>\n    <tr>\n      <th>37021</th>\n      <td>{'$oid': '60cbd73f0fc3818c8147f2cf'}</td>\n      <td>ARIK_DP1.00002.001_200.000</td>\n      <td>{'$numberLong': '1531735200000'}</td>\n      <td>2018-07-16T10:00:00Z</td>\n      <td>2018-07-16T10:30:00Z</td>\n      <td>19.8946</td>\n      <td>19.7744</td>\n      <td>20.0313</td>\n      <td>0.0028</td>\n      <td>1800</td>\n      <td>0.1428</td>\n      <td>0.0012</td>\n      <td>0</td>\n    </tr>\n    <tr>\n      <th>967381</th>\n      <td>{'$oid': '60cbd39b0fc3818c81d970ff'}</td>\n      <td>STER_DP1.00002.001_000.010</td>\n      <td>{'$numberLong': '1440455400000'}</td>\n      <td>2015-08-24T22:30:00Z</td>\n      <td>2015-08-24T23:00:00Z</td>\n      <td>32.9481</td>\n      <td>31.8195</td>\n      <td>33.8799</td>\n      <td>0.3205</td>\n      <td>1800</td>\n      <td>0.1511</td>\n      <td>0.0133</td>\n      <td>0</td>\n    </tr>\n    <tr>\n      <th>543200</th>\n      <td>{'$oid': '60cbd8a30fc3818c8171eff8'}</td>\n      <td>NIWO_DP1.00002.001_000.020</td>\n      <td>{'$numberLong': '1614407400000'}</td>\n      <td>2021-02-27T06:30:00Z</td>\n      <td>2021-02-27T07:00:00Z</td>\n      <td>-13.2000</td>\n      <td>-13.3318</td>\n      <td>-13.0473</td>\n      <td>0.0050</td>\n      <td>1800</td>\n      <td>0.1313</td>\n      <td>0.0017</td>\n      <td>0</td>\n    </tr>\n  </tbody>\n</table>\n</div>"
     },
     "execution_count": 13,
     "metadata": {},
     "output_type": "execute_result"
    }
   ],
   "source": [
    "temperatureDataFrame = pd.io.json.read_json('../data/neon_single_asp_air_temperature.Colorado/data.json')\n",
    "temperatureDataFrame.sample(5)"
   ]
  },
  {
   "cell_type": "code",
   "execution_count": 14,
   "metadata": {
    "scrolled": true
   },
   "outputs": [
    {
     "data": {
      "text/plain": "                  name                                              label\n2          endDateTime     Date and time at which a sampling is completed\n6   tempSingleVariance       Variance in single aspirated air temperature\n5    tempSingleMaximum           Maximum single aspirated air temperature\n4    tempSingleMinimum           Minimum single aspirated air temperature\n38              betaQM  Quality metric detailing the outcomes of the b...",
      "text/html": "<div>\n<style scoped>\n    .dataframe tbody tr th:only-of-type {\n        vertical-align: middle;\n    }\n\n    .dataframe tbody tr th {\n        vertical-align: top;\n    }\n\n    .dataframe thead th {\n        text-align: right;\n    }\n</style>\n<table border=\"1\" class=\"dataframe\">\n  <thead>\n    <tr style=\"text-align: right;\">\n      <th></th>\n      <th>name</th>\n      <th>label</th>\n    </tr>\n  </thead>\n  <tbody>\n    <tr>\n      <th>2</th>\n      <td>endDateTime</td>\n      <td>Date and time at which a sampling is completed</td>\n    </tr>\n    <tr>\n      <th>6</th>\n      <td>tempSingleVariance</td>\n      <td>Variance in single aspirated air temperature</td>\n    </tr>\n    <tr>\n      <th>5</th>\n      <td>tempSingleMaximum</td>\n      <td>Maximum single aspirated air temperature</td>\n    </tr>\n    <tr>\n      <th>4</th>\n      <td>tempSingleMinimum</td>\n      <td>Minimum single aspirated air temperature</td>\n    </tr>\n    <tr>\n      <th>38</th>\n      <td>betaQM</td>\n      <td>Quality metric detailing the outcomes of the b...</td>\n    </tr>\n  </tbody>\n</table>\n</div>"
     },
     "execution_count": 14,
     "metadata": {},
     "output_type": "execute_result"
    }
   ],
   "source": [
    "temperatureLabelsFrame = pd.io.json.read_json('../data/neon_single_asp_air_temperature.Colorado/fieldLabels.json')\n",
    "temperatureLabelsFrame.sample(5)"
   ]
  },
  {
   "cell_type": "code",
   "execution_count": 15,
   "metadata": {
    "scrolled": true
   },
   "outputs": [
    {
     "data": {
      "text/plain": "                                     _id     type  \\\n1   {'$oid': '60cbd3907adbc5ff35cc41ca'}  Feature   \n0   {'$oid': '60cbd3907adbc5ff35cc41cb'}  Feature   \n10  {'$oid': '60cbd3907adbc5ff35cc41a5'}  Feature   \n11  {'$oid': '60cbd3907adbc5ff35cc41a4'}  Feature   \n12  {'$oid': '60cbd3907adbc5ff35cc41a1'}  Feature   \n\n                                             geometry  \\\n1   {'type': 'Point', 'coordinates': [-105.545955,...   \n0   {'type': 'Point', 'coordinates': [-105.545955,...   \n10  {'type': 'Point', 'coordinates': [-104.74559, ...   \n11  {'type': 'Point', 'coordinates': [-104.74559, ...   \n12  {'type': 'Point', 'coordinates': [-103.02929, ...   \n\n                                           properties  \\\n1   {'HOR.VER': '000.020', 'name': 'CFGLOC100668',...   \n0   {'HOR.VER': '000.030', 'name': 'CFGLOC100671',...   \n10  {'HOR.VER': '000.020', 'name': 'CFGLOC100241',...   \n11  {'HOR.VER': '000.010', 'name': 'CFGLOC100238',...   \n12  {'HOR.VER': '000.010', 'name': 'CFGLOC100016',...   \n\n                          site  \n1   RMNP_DP1.00002.001_000.020  \n0   RMNP_DP1.00002.001_000.030  \n10  CPER_DP1.00002.001_000.020  \n11  CPER_DP1.00002.001_000.010  \n12  STER_DP1.00002.001_000.010  ",
      "text/html": "<div>\n<style scoped>\n    .dataframe tbody tr th:only-of-type {\n        vertical-align: middle;\n    }\n\n    .dataframe tbody tr th {\n        vertical-align: top;\n    }\n\n    .dataframe thead th {\n        text-align: right;\n    }\n</style>\n<table border=\"1\" class=\"dataframe\">\n  <thead>\n    <tr style=\"text-align: right;\">\n      <th></th>\n      <th>_id</th>\n      <th>type</th>\n      <th>geometry</th>\n      <th>properties</th>\n      <th>site</th>\n    </tr>\n  </thead>\n  <tbody>\n    <tr>\n      <th>1</th>\n      <td>{'$oid': '60cbd3907adbc5ff35cc41ca'}</td>\n      <td>Feature</td>\n      <td>{'type': 'Point', 'coordinates': [-105.545955,...</td>\n      <td>{'HOR.VER': '000.020', 'name': 'CFGLOC100668',...</td>\n      <td>RMNP_DP1.00002.001_000.020</td>\n    </tr>\n    <tr>\n      <th>0</th>\n      <td>{'$oid': '60cbd3907adbc5ff35cc41cb'}</td>\n      <td>Feature</td>\n      <td>{'type': 'Point', 'coordinates': [-105.545955,...</td>\n      <td>{'HOR.VER': '000.030', 'name': 'CFGLOC100671',...</td>\n      <td>RMNP_DP1.00002.001_000.030</td>\n    </tr>\n    <tr>\n      <th>10</th>\n      <td>{'$oid': '60cbd3907adbc5ff35cc41a5'}</td>\n      <td>Feature</td>\n      <td>{'type': 'Point', 'coordinates': [-104.74559, ...</td>\n      <td>{'HOR.VER': '000.020', 'name': 'CFGLOC100241',...</td>\n      <td>CPER_DP1.00002.001_000.020</td>\n    </tr>\n    <tr>\n      <th>11</th>\n      <td>{'$oid': '60cbd3907adbc5ff35cc41a4'}</td>\n      <td>Feature</td>\n      <td>{'type': 'Point', 'coordinates': [-104.74559, ...</td>\n      <td>{'HOR.VER': '000.010', 'name': 'CFGLOC100238',...</td>\n      <td>CPER_DP1.00002.001_000.010</td>\n    </tr>\n    <tr>\n      <th>12</th>\n      <td>{'$oid': '60cbd3907adbc5ff35cc41a1'}</td>\n      <td>Feature</td>\n      <td>{'type': 'Point', 'coordinates': [-103.02929, ...</td>\n      <td>{'HOR.VER': '000.010', 'name': 'CFGLOC100016',...</td>\n      <td>STER_DP1.00002.001_000.010</td>\n    </tr>\n  </tbody>\n</table>\n</div>"
     },
     "execution_count": 15,
     "metadata": {},
     "output_type": "execute_result"
    }
   ],
   "source": [
    "temperatureGeometryFrame = pd.io.json.read_json('../data/neon_single_asp_air_temperature.Colorado/linkedGeometry.json')\n",
    "temperatureGeometryFrame.sample(5)"
   ]
  },
  {
   "cell_type": "markdown",
   "metadata": {},
   "source": [
    "### U.S. Census Total County Population Dataset"
   ]
  },
  {
   "cell_type": "code",
   "execution_count": 16,
   "metadata": {},
   "outputs": [
    {
     "data": {
      "text/plain": "                                     _id   GISJOIN     STATE  STATEFP  \\\n0   {'$oid': '607d4c2708e81eceb6b6e384'}  G0800010  Colorado        8   \n1   {'$oid': '607d4c2708e81eceb6b6e385'}  G0800030  Colorado        8   \n2   {'$oid': '607d4c2708e81eceb6b6e386'}  G0800050  Colorado        8   \n3   {'$oid': '607d4c2708e81eceb6b6e387'}  G0800070  Colorado        8   \n4   {'$oid': '607d4c2708e81eceb6b6e388'}  G0800090  Colorado        8   \n..                                   ...       ...       ...      ...   \n58  {'$oid': '607d4c2708e81eceb6b6e3bf'}  G0801170  Colorado        8   \n59  {'$oid': '607d4c2708e81eceb6b6e3c4'}  G0801190  Colorado        8   \n60  {'$oid': '607d4c2708e81eceb6b6e3c3'}  G0801210  Colorado        8   \n61  {'$oid': '607d4c2708e81eceb6b6e3c2'}  G0801230  Colorado        8   \n62  {'$oid': '607d4c2708e81eceb6b6e3c5'}  G0801250  Colorado        8   \n\n    STATENH             COUNTY  COUNTYFP  COUNTYNH  1980_total_population  \\\n0        80       Adams County         1        10                 245944   \n1        80     Alamosa County         3        30                  11799   \n2        80    Arapahoe County         5        50                 293621   \n3        80   Archuleta County         7        70                   3664   \n4        80        Baca County         9        90                   5419   \n..      ...                ...       ...       ...                    ...   \n58       80      Summit County       117      1170                   8848   \n59       80      Teller County       119      1190                   8034   \n60       80  Washington County       121      1210                   5304   \n61       80        Weld County       123      1230                 123438   \n62       80        Yuma County       125      1250                   9682   \n\n    1990_total_population  2000_total_population  2010_total_population  \n0                  265038                 363857                 441603  \n1                   13617                  14966                  15445  \n2                  391511                 487967                 572003  \n3                    5345                   9898                  12084  \n4                    4556                   4517                   3788  \n..                    ...                    ...                    ...  \n58                  12881                  23548                  27994  \n59                  12468                  20555                  23350  \n60                   4812                   4926                   4814  \n61                 131821                 180936                 252825  \n62                   8954                   9841                  10043  \n\n[63 rows x 12 columns]",
      "text/html": "<div>\n<style scoped>\n    .dataframe tbody tr th:only-of-type {\n        vertical-align: middle;\n    }\n\n    .dataframe tbody tr th {\n        vertical-align: top;\n    }\n\n    .dataframe thead th {\n        text-align: right;\n    }\n</style>\n<table border=\"1\" class=\"dataframe\">\n  <thead>\n    <tr style=\"text-align: right;\">\n      <th></th>\n      <th>_id</th>\n      <th>GISJOIN</th>\n      <th>STATE</th>\n      <th>STATEFP</th>\n      <th>STATENH</th>\n      <th>COUNTY</th>\n      <th>COUNTYFP</th>\n      <th>COUNTYNH</th>\n      <th>1980_total_population</th>\n      <th>1990_total_population</th>\n      <th>2000_total_population</th>\n      <th>2010_total_population</th>\n    </tr>\n  </thead>\n  <tbody>\n    <tr>\n      <th>0</th>\n      <td>{'$oid': '607d4c2708e81eceb6b6e384'}</td>\n      <td>G0800010</td>\n      <td>Colorado</td>\n      <td>8</td>\n      <td>80</td>\n      <td>Adams County</td>\n      <td>1</td>\n      <td>10</td>\n      <td>245944</td>\n      <td>265038</td>\n      <td>363857</td>\n      <td>441603</td>\n    </tr>\n    <tr>\n      <th>1</th>\n      <td>{'$oid': '607d4c2708e81eceb6b6e385'}</td>\n      <td>G0800030</td>\n      <td>Colorado</td>\n      <td>8</td>\n      <td>80</td>\n      <td>Alamosa County</td>\n      <td>3</td>\n      <td>30</td>\n      <td>11799</td>\n      <td>13617</td>\n      <td>14966</td>\n      <td>15445</td>\n    </tr>\n    <tr>\n      <th>2</th>\n      <td>{'$oid': '607d4c2708e81eceb6b6e386'}</td>\n      <td>G0800050</td>\n      <td>Colorado</td>\n      <td>8</td>\n      <td>80</td>\n      <td>Arapahoe County</td>\n      <td>5</td>\n      <td>50</td>\n      <td>293621</td>\n      <td>391511</td>\n      <td>487967</td>\n      <td>572003</td>\n    </tr>\n    <tr>\n      <th>3</th>\n      <td>{'$oid': '607d4c2708e81eceb6b6e387'}</td>\n      <td>G0800070</td>\n      <td>Colorado</td>\n      <td>8</td>\n      <td>80</td>\n      <td>Archuleta County</td>\n      <td>7</td>\n      <td>70</td>\n      <td>3664</td>\n      <td>5345</td>\n      <td>9898</td>\n      <td>12084</td>\n    </tr>\n    <tr>\n      <th>4</th>\n      <td>{'$oid': '607d4c2708e81eceb6b6e388'}</td>\n      <td>G0800090</td>\n      <td>Colorado</td>\n      <td>8</td>\n      <td>80</td>\n      <td>Baca County</td>\n      <td>9</td>\n      <td>90</td>\n      <td>5419</td>\n      <td>4556</td>\n      <td>4517</td>\n      <td>3788</td>\n    </tr>\n    <tr>\n      <th>...</th>\n      <td>...</td>\n      <td>...</td>\n      <td>...</td>\n      <td>...</td>\n      <td>...</td>\n      <td>...</td>\n      <td>...</td>\n      <td>...</td>\n      <td>...</td>\n      <td>...</td>\n      <td>...</td>\n      <td>...</td>\n    </tr>\n    <tr>\n      <th>58</th>\n      <td>{'$oid': '607d4c2708e81eceb6b6e3bf'}</td>\n      <td>G0801170</td>\n      <td>Colorado</td>\n      <td>8</td>\n      <td>80</td>\n      <td>Summit County</td>\n      <td>117</td>\n      <td>1170</td>\n      <td>8848</td>\n      <td>12881</td>\n      <td>23548</td>\n      <td>27994</td>\n    </tr>\n    <tr>\n      <th>59</th>\n      <td>{'$oid': '607d4c2708e81eceb6b6e3c4'}</td>\n      <td>G0801190</td>\n      <td>Colorado</td>\n      <td>8</td>\n      <td>80</td>\n      <td>Teller County</td>\n      <td>119</td>\n      <td>1190</td>\n      <td>8034</td>\n      <td>12468</td>\n      <td>20555</td>\n      <td>23350</td>\n    </tr>\n    <tr>\n      <th>60</th>\n      <td>{'$oid': '607d4c2708e81eceb6b6e3c3'}</td>\n      <td>G0801210</td>\n      <td>Colorado</td>\n      <td>8</td>\n      <td>80</td>\n      <td>Washington County</td>\n      <td>121</td>\n      <td>1210</td>\n      <td>5304</td>\n      <td>4812</td>\n      <td>4926</td>\n      <td>4814</td>\n    </tr>\n    <tr>\n      <th>61</th>\n      <td>{'$oid': '607d4c2708e81eceb6b6e3c2'}</td>\n      <td>G0801230</td>\n      <td>Colorado</td>\n      <td>8</td>\n      <td>80</td>\n      <td>Weld County</td>\n      <td>123</td>\n      <td>1230</td>\n      <td>123438</td>\n      <td>131821</td>\n      <td>180936</td>\n      <td>252825</td>\n    </tr>\n    <tr>\n      <th>62</th>\n      <td>{'$oid': '607d4c2708e81eceb6b6e3c5'}</td>\n      <td>G0801250</td>\n      <td>Colorado</td>\n      <td>8</td>\n      <td>80</td>\n      <td>Yuma County</td>\n      <td>125</td>\n      <td>1250</td>\n      <td>9682</td>\n      <td>8954</td>\n      <td>9841</td>\n      <td>10043</td>\n    </tr>\n  </tbody>\n</table>\n<p>63 rows × 12 columns</p>\n</div>"
     },
     "execution_count": 16,
     "metadata": {},
     "output_type": "execute_result"
    }
   ],
   "source": [
    "populationDataFrame = pd.io.json.read_json('../data/county_total_population.Colorado/data.json')\n",
    "populationDataFrame"
   ]
  },
  {
   "cell_type": "code",
   "execution_count": 17,
   "metadata": {},
   "outputs": [
    {
     "data": {
      "text/plain": "Empty DataFrame\nColumns: []\nIndex: []",
      "text/html": "<div>\n<style scoped>\n    .dataframe tbody tr th:only-of-type {\n        vertical-align: middle;\n    }\n\n    .dataframe tbody tr th {\n        vertical-align: top;\n    }\n\n    .dataframe thead th {\n        text-align: right;\n    }\n</style>\n<table border=\"1\" class=\"dataframe\">\n  <thead>\n    <tr style=\"text-align: right;\">\n      <th></th>\n    </tr>\n  </thead>\n  <tbody>\n  </tbody>\n</table>\n</div>"
     },
     "execution_count": 17,
     "metadata": {},
     "output_type": "execute_result"
    }
   ],
   "source": [
    "populationLabelsFrame = pd.io.json.read_json('../data/county_total_population.Colorado/fieldLabels.json')\n",
    "populationLabelsFrame"
   ]
  },
  {
   "cell_type": "code",
   "execution_count": 18,
   "metadata": {},
   "outputs": [
    {
     "data": {
      "text/plain": "                                     _id     type  \\\n0   {'$oid': '604964ecfed2e95d6b68b676'}  Feature   \n1   {'$oid': '604964ecfed2e95d6b68b684'}  Feature   \n2   {'$oid': '604964eefed2e95d6b68bb16'}  Feature   \n3   {'$oid': '604964eefed2e95d6b68b9c8'}  Feature   \n4   {'$oid': '604964eefed2e95d6b68b83d'}  Feature   \n..                                   ...      ...   \n59  {'$oid': '604964ecfed2e95d6b68b677'}  Feature   \n60  {'$oid': '604964eefed2e95d6b68b840'}  Feature   \n61  {'$oid': '604964eefed2e95d6b68b9c5'}  Feature   \n62  {'$oid': '604964eefed2e95d6b68b9c3'}  Feature   \n63  {'$oid': '604964ecfed2e95d6b68b674'}  Feature   \n\n                                             geometry  \\\n0   {'type': 'Polygon', 'coordinates': [[[-104.961...   \n1   {'type': 'Polygon', 'coordinates': [[[-105.457...   \n2   {'type': 'MultiPolygon', 'coordinates': [[[[-1...   \n3   {'type': 'Polygon', 'coordinates': [[[-107.128...   \n4   {'type': 'Polygon', 'coordinates': [[[-102.747...   \n..                                                ...   \n59  {'type': 'Polygon', 'coordinates': [[[-105.924...   \n60  {'type': 'Polygon', 'coordinates': [[[-105.329...   \n61  {'type': 'Polygon', 'coordinates': [[[-102.779...   \n62  {'type': 'MultiPolygon', 'coordinates': [[[[-1...   \n63  {'type': 'Polygon', 'coordinates': [[[-102.664...   \n\n                                           properties   GISJOIN  \n0   {'STATEFP10': '08', 'COUNTYFP10': '001', 'COUN...  G0800010  \n1   {'STATEFP10': '08', 'COUNTYFP10': '003', 'COUN...  G0800030  \n2   {'STATEFP10': '08', 'COUNTYFP10': '005', 'COUN...  G0800050  \n3   {'STATEFP10': '08', 'COUNTYFP10': '007', 'COUN...  G0800070  \n4   {'STATEFP10': '08', 'COUNTYFP10': '009', 'COUN...  G0800090  \n..                                                ...       ...  \n59  {'STATEFP10': '08', 'COUNTYFP10': '117', 'COUN...  G0801170  \n60  {'STATEFP10': '08', 'COUNTYFP10': '119', 'COUN...  G0801190  \n61  {'STATEFP10': '08', 'COUNTYFP10': '121', 'COUN...  G0801210  \n62  {'STATEFP10': '08', 'COUNTYFP10': '123', 'COUN...  G0801230  \n63  {'STATEFP10': '08', 'COUNTYFP10': '125', 'COUN...  G0801250  \n\n[64 rows x 5 columns]",
      "text/html": "<div>\n<style scoped>\n    .dataframe tbody tr th:only-of-type {\n        vertical-align: middle;\n    }\n\n    .dataframe tbody tr th {\n        vertical-align: top;\n    }\n\n    .dataframe thead th {\n        text-align: right;\n    }\n</style>\n<table border=\"1\" class=\"dataframe\">\n  <thead>\n    <tr style=\"text-align: right;\">\n      <th></th>\n      <th>_id</th>\n      <th>type</th>\n      <th>geometry</th>\n      <th>properties</th>\n      <th>GISJOIN</th>\n    </tr>\n  </thead>\n  <tbody>\n    <tr>\n      <th>0</th>\n      <td>{'$oid': '604964ecfed2e95d6b68b676'}</td>\n      <td>Feature</td>\n      <td>{'type': 'Polygon', 'coordinates': [[[-104.961...</td>\n      <td>{'STATEFP10': '08', 'COUNTYFP10': '001', 'COUN...</td>\n      <td>G0800010</td>\n    </tr>\n    <tr>\n      <th>1</th>\n      <td>{'$oid': '604964ecfed2e95d6b68b684'}</td>\n      <td>Feature</td>\n      <td>{'type': 'Polygon', 'coordinates': [[[-105.457...</td>\n      <td>{'STATEFP10': '08', 'COUNTYFP10': '003', 'COUN...</td>\n      <td>G0800030</td>\n    </tr>\n    <tr>\n      <th>2</th>\n      <td>{'$oid': '604964eefed2e95d6b68bb16'}</td>\n      <td>Feature</td>\n      <td>{'type': 'MultiPolygon', 'coordinates': [[[[-1...</td>\n      <td>{'STATEFP10': '08', 'COUNTYFP10': '005', 'COUN...</td>\n      <td>G0800050</td>\n    </tr>\n    <tr>\n      <th>3</th>\n      <td>{'$oid': '604964eefed2e95d6b68b9c8'}</td>\n      <td>Feature</td>\n      <td>{'type': 'Polygon', 'coordinates': [[[-107.128...</td>\n      <td>{'STATEFP10': '08', 'COUNTYFP10': '007', 'COUN...</td>\n      <td>G0800070</td>\n    </tr>\n    <tr>\n      <th>4</th>\n      <td>{'$oid': '604964eefed2e95d6b68b83d'}</td>\n      <td>Feature</td>\n      <td>{'type': 'Polygon', 'coordinates': [[[-102.747...</td>\n      <td>{'STATEFP10': '08', 'COUNTYFP10': '009', 'COUN...</td>\n      <td>G0800090</td>\n    </tr>\n    <tr>\n      <th>...</th>\n      <td>...</td>\n      <td>...</td>\n      <td>...</td>\n      <td>...</td>\n      <td>...</td>\n    </tr>\n    <tr>\n      <th>59</th>\n      <td>{'$oid': '604964ecfed2e95d6b68b677'}</td>\n      <td>Feature</td>\n      <td>{'type': 'Polygon', 'coordinates': [[[-105.924...</td>\n      <td>{'STATEFP10': '08', 'COUNTYFP10': '117', 'COUN...</td>\n      <td>G0801170</td>\n    </tr>\n    <tr>\n      <th>60</th>\n      <td>{'$oid': '604964eefed2e95d6b68b840'}</td>\n      <td>Feature</td>\n      <td>{'type': 'Polygon', 'coordinates': [[[-105.329...</td>\n      <td>{'STATEFP10': '08', 'COUNTYFP10': '119', 'COUN...</td>\n      <td>G0801190</td>\n    </tr>\n    <tr>\n      <th>61</th>\n      <td>{'$oid': '604964eefed2e95d6b68b9c5'}</td>\n      <td>Feature</td>\n      <td>{'type': 'Polygon', 'coordinates': [[[-102.779...</td>\n      <td>{'STATEFP10': '08', 'COUNTYFP10': '121', 'COUN...</td>\n      <td>G0801210</td>\n    </tr>\n    <tr>\n      <th>62</th>\n      <td>{'$oid': '604964eefed2e95d6b68b9c3'}</td>\n      <td>Feature</td>\n      <td>{'type': 'MultiPolygon', 'coordinates': [[[[-1...</td>\n      <td>{'STATEFP10': '08', 'COUNTYFP10': '123', 'COUN...</td>\n      <td>G0801230</td>\n    </tr>\n    <tr>\n      <th>63</th>\n      <td>{'$oid': '604964ecfed2e95d6b68b674'}</td>\n      <td>Feature</td>\n      <td>{'type': 'Polygon', 'coordinates': [[[-102.664...</td>\n      <td>{'STATEFP10': '08', 'COUNTYFP10': '125', 'COUN...</td>\n      <td>G0801250</td>\n    </tr>\n  </tbody>\n</table>\n<p>64 rows × 5 columns</p>\n</div>"
     },
     "execution_count": 18,
     "metadata": {},
     "output_type": "execute_result"
    }
   ],
   "source": [
    "populationGeometryFrame = pd.io.json.read_json('../data/county_total_population.Colorado/linkedGeometry.json')\n",
    "populationGeometryFrame"
   ]
  },
  {
   "cell_type": "markdown",
   "metadata": {},
   "source": [
    "## Data Exploration"
   ]
  },
  {
   "cell_type": "code",
   "execution_count": 19,
   "metadata": {},
   "outputs": [
    {
     "name": "stderr",
     "output_type": "stream",
     "text": [
      "c:\\users\\jfizzle\\appdata\\local\\programs\\python\\python38\\lib\\site-packages\\seaborn\\distributions.py:2619: FutureWarning: `distplot` is a deprecated function and will be removed in a future version. Please adapt your code to use either `displot` (a figure-level function with similar flexibility) or `histplot` (an axes-level function for histograms).\n",
      "  warnings.warn(msg, FutureWarning)\n"
     ]
    },
    {
     "data": {
      "text/plain": "<AxesSubplot:xlabel='newCaseCount', ylabel='Density'>"
     },
     "execution_count": 19,
     "metadata": {},
     "output_type": "execute_result"
    },
    {
     "data": {
      "text/plain": "<Figure size 432x288 with 1 Axes>",
      "image/png": "[encoded data removed]"
     },
     "metadata": {
      "needs_background": "light"
     },
     "output_type": "display_data"
    }
   ],
   "source": [
    "sns.distplot(covidDataFrame.newCaseCount)"
   ]
  },
  {
   "cell_type": "code",
   "execution_count": 20,
   "metadata": {},
   "outputs": [
    {
     "name": "stderr",
     "output_type": "stream",
     "text": [
      "c:\\users\\jfizzle\\appdata\\local\\programs\\python\\python38\\lib\\site-packages\\seaborn\\distributions.py:2619: FutureWarning: `distplot` is a deprecated function and will be removed in a future version. Please adapt your code to use either `displot` (a figure-level function with similar flexibility) or `histplot` (an axes-level function for histograms).\n",
      "  warnings.warn(msg, FutureWarning)\n"
     ]
    },
    {
     "data": {
      "text/plain": "<AxesSubplot:xlabel='tempSingleMean', ylabel='Density'>"
     },
     "execution_count": 20,
     "metadata": {},
     "output_type": "execute_result"
    },
    {
     "data": {
      "text/plain": "<Figure size 432x288 with 1 Axes>",
      "image/png": "[encoded data removed]"
     },
     "metadata": {
      "needs_background": "light"
     },
     "output_type": "display_data"
    }
   ],
   "source": [
    "sns.distplot(temperatureDataFrame.tempSingleMean)"
   ]
  },
  {
   "cell_type": "markdown",
   "metadata": {},
   "source": [
    "## Preprocessing"
   ]
  },
  {
   "cell_type": "markdown",
   "metadata": {},
   "source": [
    "#### Flatten Frames"
   ]
  },
  {
   "cell_type": "code",
   "execution_count": 21,
   "metadata": {},
   "outputs": [],
   "source": [
    "flattenedCovidDataFrame = pd.json_normalize(json.load(open(Path('../data/covid_county.Colorado/data.json'))))\n",
    "flattenedCovidGeometryFrame = pd.json_normalize(json.load(open(Path('../data/covid_county.Colorado/linkedGeometry.json'))))\n",
    "\n",
    "flattenedWindDataFrame = pd.json_normalize(json.load(open(Path('../data/neon_2d_wind.Colorado/data.json'))))\n",
    "flattenedWindGeometryFrame = pd.json_normalize(json.load(open(Path('../data/neon_2d_wind.Colorado/linkedGeometry.json'))))\n",
    "\n",
    "flattenedPressureDataFrame = pd.json_normalize(json.load(open(Path('../data/neon_barometric_pressure.Colorado/data.json'))))\n",
    "flattenedPressureGeometryFrame = pd.json_normalize(json.load(open(Path('../data/neon_barometric_pressure.Colorado/linkedGeometry.json'))))\n",
    "\n",
    "flattenedTemperatureDataFrame = pd.json_normalize(json.load(open(Path('../data/neon_single_asp_air_temperature.Colorado/data.json'))))\n",
    "flattenedTemperatureGeometryFrame = pd.json_normalize(json.load(open(Path('../data/neon_single_asp_air_temperature.Colorado/linkedGeometry.json'))))\n",
    "\n",
    "flattenedPopulationDataFrame = pd.json_normalize(json.load(open(Path('../data/county_total_population.Colorado/data.json'))))\n",
    "flattenedPopulationGeometryFrame = pd.json_normalize(json.load(open(Path('../data/county_total_population.Colorado/linkedGeometry.json'))))"
   ]
  },
  {
   "cell_type": "markdown",
   "source": [
    "#### Lookup County for Geometry"
   ],
   "metadata": {
    "collapsed": false
   }
  },
  {
   "cell_type": "code",
   "execution_count": 33,
   "outputs": [],
   "source": [
    "combinedCovidFrame = flattenedCovidDataFrame.set_index('GISJOIN').join(flattenedCovidGeometryFrame.set_index('GISJOIN'), lsuffix='_data', rsuffix='_geo')\n",
    "\n",
    "def create_county_polygons(combinedCovidFrame):\n",
    "    county_polygons = []\n",
    "    df = combinedCovidFrame.groupby('county').first().reindex(columns=['coordJsonString', 'geometry.type', \"geometry.coordinates\"])\n",
    "    print(df)\n",
    "    df['coordJsonString'] = df[\"geometry.coordinates\"].apply(json.dumps)\n",
    "    for index, row in df[['coordJsonString', 'geometry.type']].iterrows():\n",
    "        print(f\"processing: {index}\")\n",
    "        shape_data = json.loads(row['coordJsonString'])\n",
    "        county = index\n",
    "        if row['geometry.type'] == 'MultiPolygon':\n",
    "            for p in shape_data:\n",
    "                s = np.asarray(p)[0]\n",
    "                shape = Polygon(*s)\n",
    "                county_polygons.append((county, shape))\n",
    "        elif row['geometry.type'] == 'Polygon':\n",
    "            s = np.asarray(shape_data)[0]\n",
    "            shape = Polygon(*s)\n",
    "            county_polygons.append((county, shape))\n",
    "        else:\n",
    "            print(f\"Row had geometry type of {row['geometry.type']}, row is {row}\")\n",
    "    return county_polygons\n",
    "\n",
    "if not os.path.exists(DATA_PATH + '/county_objects.pickle'):\n",
    "    county_polygons = create_county_polygons(combinedCovidFrame)\n",
    "    with open(DATA_PATH + '/county_objects.pickle', 'wb') as handle:\n",
    "        pickle.dump(county_polygons, handle)\n",
    "else:\n",
    "    with open(DATA_PATH + '/county_objects.pickle', 'rb') as handle:\n",
    "        county_polygons = pickle.load(handle)\n",
    "\n",
    "def lookup_county_from_geometry(county_polygons, geometry):\n",
    "    point = Point(np.asarray(geometry))\n",
    "    for county, shape in county_polygons:\n",
    "        if shape.encloses_point(point):\n",
    "            print(f\"found {county}\")\n",
    "            return county"
   ],
   "metadata": {
    "collapsed": false,
    "pycharm": {
     "name": "#%%\n"
    }
   }
  },
  {
   "cell_type": "code",
   "execution_count": 37,
   "outputs": [
    {
     "name": "stdout",
     "output_type": "stream",
     "text": [
      "found Larimer\n",
      "found Grand\n",
      "found Boulder\n",
      "found Boulder\n",
      "found Weld\n",
      "found Logan\n",
      "found Yuma\n",
      "found Larimer\n",
      "found Larimer\n",
      "found Larimer\n",
      "found Larimer\n",
      "found Boulder\n",
      "found Boulder\n",
      "found Boulder\n",
      "found Boulder\n",
      "found Weld\n",
      "found Weld\n",
      "found Weld\n",
      "found Logan\n",
      "found Logan\n",
      "found Logan\n",
      "found Yuma\n",
      "found Larimer\n",
      "found Larimer\n",
      "found Larimer\n",
      "found Larimer\n",
      "found Grand\n",
      "found Boulder\n",
      "found Boulder\n",
      "found Boulder\n",
      "found Boulder\n",
      "found Weld\n",
      "found Weld\n",
      "found Weld\n",
      "found Logan\n",
      "found Logan\n",
      "found Logan\n",
      "found Yuma\n",
      "took 1381.855630159378\n"
     ]
    }
   ],
   "source": [
    "import time\n",
    "s = time.time()\n",
    "\n",
    "flattenedPressureGeometryFrame['county'] = flattenedPressureGeometryFrame.apply(lambda row: lookup_county_from_geometry(county_polygons, row['geometry.coordinates']), axis=1)\n",
    "flattenedWindGeometryFrame['county'] = flattenedWindGeometryFrame.apply(lambda row: lookup_county_from_geometry(county_polygons, row['geometry.coordinates']), axis=1)\n",
    "flattenedTemperatureGeometryFrame['county'] = flattenedTemperatureGeometryFrame.apply(lambda row: lookup_county_from_geometry(county_polygons, row['geometry.coordinates']), axis=1)\n",
    "print(f'took {time.time() - s}')\n"
   ],
   "metadata": {
    "collapsed": false,
    "pycharm": {
     "name": "#%%\n"
    }
   }
  },
  {
   "cell_type": "markdown",
   "metadata": {},
   "source": [
    "#### Join Data and Geometry"
   ]
  },
  {
   "cell_type": "code",
   "execution_count": 38,
   "metadata": {},
   "outputs": [],
   "source": [
    "combinedWindFrame = flattenedWindDataFrame.set_index('site').join(flattenedWindGeometryFrame.set_index('site'), lsuffix='_data', rsuffix='_geo')\n",
    "combinedPressureFrame = flattenedPressureDataFrame.set_index('site').join(flattenedPressureGeometryFrame.set_index('site'), lsuffix='_data', rsuffix='_geo')\n",
    "combinedTemperatureFrame = flattenedTemperatureDataFrame.set_index('site').join(flattenedTemperatureGeometryFrame.set_index('site'), lsuffix='_data', rsuffix='_geo')\n",
    "combinedPopulationFrame = flattenedPopulationDataFrame.set_index('GISJOIN').join(flattenedPopulationGeometryFrame.set_index('GISJOIN'), lsuffix='_data', rsuffix='_geo')"
   ]
  },
  {
   "cell_type": "markdown",
   "metadata": {},
   "source": [
    "#### Generalize Geometry"
   ]
  },
  {
   "cell_type": "code",
   "execution_count": 39,
   "metadata": {
    "pycharm": {
     "name": "#%%\n"
    }
   },
   "outputs": [
    {
     "name": "stdout",
     "output_type": "stream",
     "text": [
      "                                   startDateTime           endDateTime  \\\n",
      "site                                                                     \n",
      "RMNP_DP1.00001.001_000.020  2018-11-10T17:00:00Z  2018-11-10T17:30:00Z   \n",
      "STER_DP1.00001.001_000.010  2018-02-09T19:30:00Z  2018-02-09T20:00:00Z   \n",
      "CPER_DP1.00001.001_000.030  2021-01-10T02:00:00Z  2021-01-10T02:30:00Z   \n",
      "CPER_DP1.00001.001_000.010  2021-05-10T10:00:00Z  2021-05-10T10:30:00Z   \n",
      "STER_DP1.00001.001_000.030  2015-02-10T06:00:00Z  2015-02-10T06:30:00Z   \n",
      "\n",
      "                            windSpeedMean  windSpeedMinimum  windSpeedMaximum  \\\n",
      "site                                                                            \n",
      "RMNP_DP1.00001.001_000.020           2.01              0.06              7.10   \n",
      "STER_DP1.00001.001_000.010           3.27              1.39              5.52   \n",
      "CPER_DP1.00001.001_000.030           1.98              1.43              2.58   \n",
      "CPER_DP1.00001.001_000.010           0.89              0.19              2.76   \n",
      "STER_DP1.00001.001_000.030           4.17              1.90              6.65   \n",
      "\n",
      "                            windSpeedVariance  windSpeedNumPts  \\\n",
      "site                                                             \n",
      "RMNP_DP1.00001.001_000.020               1.08             1797   \n",
      "STER_DP1.00001.001_000.010               0.39             1800   \n",
      "CPER_DP1.00001.001_000.030               0.04             1796   \n",
      "CPER_DP1.00001.001_000.010               0.11             1800   \n",
      "STER_DP1.00001.001_000.030               0.63             1800   \n",
      "\n",
      "                            windSpeedExpUncert  windSpeedStdErMean  \\\n",
      "site                                                                 \n",
      "RMNP_DP1.00001.001_000.020                0.21                0.02   \n",
      "STER_DP1.00001.001_000.010                0.13                0.01   \n",
      "CPER_DP1.00001.001_000.030                0.05                0.00   \n",
      "CPER_DP1.00001.001_000.010                0.06                0.01   \n",
      "STER_DP1.00001.001_000.030                0.19                0.02   \n",
      "\n",
      "                            windSpeedFinalQF  ...  properties.pitch  \\\n",
      "site                                          ...                     \n",
      "RMNP_DP1.00001.001_000.020                 0  ...              0.00   \n",
      "STER_DP1.00001.001_000.010                 0  ...              0.00   \n",
      "CPER_DP1.00001.001_000.030                 0  ...              0.00   \n",
      "CPER_DP1.00001.001_000.010                 0  ...              0.00   \n",
      "STER_DP1.00001.001_000.030                 0  ...              0.00   \n",
      "\n",
      "                            properties.roll  properties.azimuth  \\\n",
      "site                                                              \n",
      "RMNP_DP1.00001.001_000.020             0.00              213.00   \n",
      "STER_DP1.00001.001_000.010             0.00              270.00   \n",
      "CPER_DP1.00001.001_000.030             0.00              270.00   \n",
      "CPER_DP1.00001.001_000.010             0.00              270.00   \n",
      "STER_DP1.00001.001_000.030             0.00              270.00   \n",
      "\n",
      "                            properties.referenceLatitude  \\\n",
      "site                                                       \n",
      "RMNP_DP1.00001.001_000.020                     40.275903   \n",
      "STER_DP1.00001.001_000.010                     40.461927   \n",
      "CPER_DP1.00001.001_000.030                     40.815538   \n",
      "CPER_DP1.00001.001_000.010                     40.815538   \n",
      "STER_DP1.00001.001_000.030                     40.461927   \n",
      "\n",
      "                            properties.referenceLongitude  \\\n",
      "site                                                        \n",
      "RMNP_DP1.00001.001_000.020                    -105.545955   \n",
      "STER_DP1.00001.001_000.010                    -103.029290   \n",
      "CPER_DP1.00001.001_000.030                    -104.745590   \n",
      "CPER_DP1.00001.001_000.010                    -104.745590   \n",
      "STER_DP1.00001.001_000.030                    -103.029290   \n",
      "\n",
      "                            properties.referenceElevation properties.loc  \\\n",
      "site                                                                       \n",
      "RMNP_DP1.00001.001_000.020                        2741.57        000.020   \n",
      "STER_DP1.00001.001_000.010                        1364.63        000.010   \n",
      "CPER_DP1.00001.001_000.030                        1653.92        000.030   \n",
      "CPER_DP1.00001.001_000.010                        1653.92        000.010   \n",
      "STER_DP1.00001.001_000.030                        1364.63        000.030   \n",
      "\n",
      "                                       properties.site  \\\n",
      "site                                                     \n",
      "RMNP_DP1.00001.001_000.020  RMNP_DP1.00001.001_000.020   \n",
      "STER_DP1.00001.001_000.010  STER_DP1.00001.001_000.010   \n",
      "CPER_DP1.00001.001_000.030  CPER_DP1.00001.001_000.030   \n",
      "CPER_DP1.00001.001_000.010  CPER_DP1.00001.001_000.010   \n",
      "STER_DP1.00001.001_000.030  STER_DP1.00001.001_000.030   \n",
      "\n",
      "                           properties.collectionName   county  \n",
      "site                                                           \n",
      "RMNP_DP1.00001.001_000.020              neon_2d_wind  Larimer  \n",
      "STER_DP1.00001.001_000.010              neon_2d_wind    Logan  \n",
      "CPER_DP1.00001.001_000.030              neon_2d_wind     Weld  \n",
      "CPER_DP1.00001.001_000.010              neon_2d_wind     Weld  \n",
      "STER_DP1.00001.001_000.030              neon_2d_wind    Logan  \n",
      "\n",
      "[5 rows x 44 columns]\n",
      "                           startDateTime           endDateTime  staPresMean  \\\n",
      "site                                                                          \n",
      "RMNP_DP1.00004.001  2019-01-19T22:00:00Z  2019-01-19T22:30:00Z     72.85642   \n",
      "NIWO_DP1.00004.001  2019-08-24T12:00:00Z  2019-08-24T12:30:00Z     66.91921   \n",
      "RMNP_DP1.00004.001  2021-03-24T00:00:00Z  2021-03-24T00:30:00Z     72.27668   \n",
      "STER_DP1.00004.001  2015-12-21T17:00:00Z  2015-12-21T17:30:00Z     85.81534   \n",
      "RMNP_DP1.00004.001  2016-03-24T21:30:00Z  2016-03-24T22:00:00Z     72.34530   \n",
      "\n",
      "                    staPresMinimum  staPresMaximum  staPresVariance  \\\n",
      "site                                                                  \n",
      "RMNP_DP1.00004.001        72.81236        72.89237          0.00025   \n",
      "NIWO_DP1.00004.001        66.87905        66.93904          0.00016   \n",
      "RMNP_DP1.00004.001        72.24984        72.30986          0.00028   \n",
      "STER_DP1.00004.001        85.80147        85.82248          0.00003   \n",
      "RMNP_DP1.00004.001        72.31330        72.36730          0.00013   \n",
      "\n",
      "                    staPresNumPts  staPresExpUncert  staPresStdErMean  \\\n",
      "site                                                                    \n",
      "RMNP_DP1.00004.001            180           0.01736           0.00117   \n",
      "NIWO_DP1.00004.001            180           0.04734           0.00094   \n",
      "RMNP_DP1.00004.001            180           0.04727           0.00125   \n",
      "STER_DP1.00004.001            180           0.01722           0.00040   \n",
      "RMNP_DP1.00004.001            180           0.01729           0.00087   \n",
      "\n",
      "                    staPresFinalQF  ...  corPresFinalQF  \\\n",
      "site                                ...                   \n",
      "RMNP_DP1.00004.001               0  ...               0   \n",
      "NIWO_DP1.00004.001               0  ...               0   \n",
      "RMNP_DP1.00004.001               0  ...               0   \n",
      "STER_DP1.00004.001               0  ...               0   \n",
      "RMNP_DP1.00004.001               0  ...               0   \n",
      "\n",
      "                               _id.$oid_data  epoch_time.$numberLong     type  \\\n",
      "site                                                                            \n",
      "RMNP_DP1.00004.001  60c78c9ec8cb4f3f3b1b11ee           1547935200000  Feature   \n",
      "NIWO_DP1.00004.001  60c78c2cc8cb4f3f3b0df2d7           1566648000000  Feature   \n",
      "RMNP_DP1.00004.001  60c78ca3c8cb4f3f3b1ba3df           1616544000000  Feature   \n",
      "STER_DP1.00004.001  60c78cd9c8cb4f3f3b21fa51           1450717200000  Feature   \n",
      "RMNP_DP1.00004.001  60c78c98c8cb4f3f3b1a5d72           1458855000000  Feature   \n",
      "\n",
      "                                _id.$oid_geo geometry.type  \\\n",
      "site                                                         \n",
      "RMNP_DP1.00004.001  60c78a9d230c7f49850c20dc         Point   \n",
      "NIWO_DP1.00004.001  60c78a9d230c7f49850c20cf         Point   \n",
      "RMNP_DP1.00004.001  60c78a9d230c7f49850c20dc         Point   \n",
      "STER_DP1.00004.001  60c78a9d230c7f49850c20e3         Point   \n",
      "RMNP_DP1.00004.001  60c78a9d230c7f49850c20dc         Point   \n",
      "\n",
      "                        geometry.coordinates     properties.site  \\\n",
      "site                                                               \n",
      "RMNP_DP1.00004.001  [-105.545955, 40.275903]  RMNP_DP1.00004.001   \n",
      "NIWO_DP1.00004.001   [-105.58238, 40.054269]  NIWO_DP1.00004.001   \n",
      "RMNP_DP1.00004.001  [-105.545955, 40.275903]  RMNP_DP1.00004.001   \n",
      "STER_DP1.00004.001   [-103.02929, 40.461927]  STER_DP1.00004.001   \n",
      "RMNP_DP1.00004.001  [-105.545955, 40.275903]  RMNP_DP1.00004.001   \n",
      "\n",
      "                             properties.name   county  \n",
      "site                                                   \n",
      "RMNP_DP1.00004.001  neon_barometric_pressure  Larimer  \n",
      "NIWO_DP1.00004.001  neon_barometric_pressure  Boulder  \n",
      "RMNP_DP1.00004.001  neon_barometric_pressure  Larimer  \n",
      "STER_DP1.00004.001  neon_barometric_pressure    Logan  \n",
      "RMNP_DP1.00004.001  neon_barometric_pressure  Larimer  \n",
      "\n",
      "[5 rows x 22 columns]\n",
      "                                   startDateTime           endDateTime  \\\n",
      "site                                                                     \n",
      "CPER_DP1.00002.001_000.020  2016-11-27T17:00:00Z  2016-11-27T17:30:00Z   \n",
      "STER_DP1.00002.001_000.010  2019-01-26T23:30:00Z  2019-01-27T00:00:00Z   \n",
      "CPER_DP1.00002.001_000.020  2019-12-23T21:30:00Z  2019-12-23T22:00:00Z   \n",
      "STER_DP1.00002.001_000.010  2021-05-20T07:00:00Z  2021-05-20T07:30:00Z   \n",
      "CPER_DP1.00002.001_000.010  2021-03-13T02:30:00Z  2021-03-13T03:00:00Z   \n",
      "\n",
      "                            tempSingleMean  tempSingleMinimum  \\\n",
      "site                                                            \n",
      "CPER_DP1.00002.001_000.020          4.4957             3.9079   \n",
      "STER_DP1.00002.001_000.010          2.1809             1.8374   \n",
      "CPER_DP1.00002.001_000.020         10.8892            10.5246   \n",
      "STER_DP1.00002.001_000.010         10.5582            10.3219   \n",
      "CPER_DP1.00002.001_000.010          2.8291             2.5745   \n",
      "\n",
      "                            tempSingleMaximum  tempSingleVariance  \\\n",
      "site                                                                \n",
      "CPER_DP1.00002.001_000.020             5.2666              0.1294   \n",
      "STER_DP1.00002.001_000.010             2.6480              0.0535   \n",
      "CPER_DP1.00002.001_000.020            11.0968              0.0240   \n",
      "STER_DP1.00002.001_000.010            10.7061              0.0091   \n",
      "CPER_DP1.00002.001_000.010             3.0041              0.0165   \n",
      "\n",
      "                            tempSingleNumPts  tempSingleExpUncert  \\\n",
      "site                                                                \n",
      "CPER_DP1.00002.001_000.020              1800               0.1374   \n",
      "STER_DP1.00002.001_000.010              1800               0.1358   \n",
      "CPER_DP1.00002.001_000.020              1800               0.1389   \n",
      "STER_DP1.00002.001_000.010              1800               0.1415   \n",
      "CPER_DP1.00002.001_000.010              1800               0.1382   \n",
      "\n",
      "                            tempSingleStdErMean  finalQF  ...  \\\n",
      "site                                                      ...   \n",
      "CPER_DP1.00002.001_000.020               0.0085        0  ...   \n",
      "STER_DP1.00002.001_000.010               0.0055        0  ...   \n",
      "CPER_DP1.00002.001_000.020               0.0037        0  ...   \n",
      "STER_DP1.00002.001_000.010               0.0023        0  ...   \n",
      "CPER_DP1.00002.001_000.010               0.0030        0  ...   \n",
      "\n",
      "                           properties.pitch properties.roll  \\\n",
      "site                                                          \n",
      "CPER_DP1.00002.001_000.020             0.00            0.00   \n",
      "STER_DP1.00002.001_000.010             0.00            0.00   \n",
      "CPER_DP1.00002.001_000.020             0.00            0.00   \n",
      "STER_DP1.00002.001_000.010             0.00            0.00   \n",
      "CPER_DP1.00002.001_000.010             0.00            0.00   \n",
      "\n",
      "                           properties.azimuth properties.referenceLatitude  \\\n",
      "site                                                                         \n",
      "CPER_DP1.00002.001_000.020               0.00                    40.815538   \n",
      "STER_DP1.00002.001_000.010               0.00                    40.461927   \n",
      "CPER_DP1.00002.001_000.020               0.00                    40.815538   \n",
      "STER_DP1.00002.001_000.010               0.00                    40.461927   \n",
      "CPER_DP1.00002.001_000.010               0.00                    40.815538   \n",
      "\n",
      "                           properties.referenceLongitude  \\\n",
      "site                                                       \n",
      "CPER_DP1.00002.001_000.020                   -104.745590   \n",
      "STER_DP1.00002.001_000.010                   -103.029290   \n",
      "CPER_DP1.00002.001_000.020                   -104.745590   \n",
      "STER_DP1.00002.001_000.010                   -103.029290   \n",
      "CPER_DP1.00002.001_000.010                   -104.745590   \n",
      "\n",
      "                           properties.referenceElevation properties.loc  \\\n",
      "site                                                                      \n",
      "CPER_DP1.00002.001_000.020                       1653.92        000.020   \n",
      "STER_DP1.00002.001_000.010                       1364.63        000.010   \n",
      "CPER_DP1.00002.001_000.020                       1653.92        000.020   \n",
      "STER_DP1.00002.001_000.010                       1364.63        000.010   \n",
      "CPER_DP1.00002.001_000.010                       1653.92        000.010   \n",
      "\n",
      "                                       properties.site  \\\n",
      "site                                                     \n",
      "CPER_DP1.00002.001_000.020  CPER_DP1.00002.001_000.020   \n",
      "STER_DP1.00002.001_000.010  STER_DP1.00002.001_000.010   \n",
      "CPER_DP1.00002.001_000.020  CPER_DP1.00002.001_000.020   \n",
      "STER_DP1.00002.001_000.010  STER_DP1.00002.001_000.010   \n",
      "CPER_DP1.00002.001_000.010  CPER_DP1.00002.001_000.010   \n",
      "\n",
      "                                  properties.collectionName county  \n",
      "site                                                                \n",
      "CPER_DP1.00002.001_000.020  neon_single_asp_air_temperature   Weld  \n",
      "STER_DP1.00002.001_000.010  neon_single_asp_air_temperature  Logan  \n",
      "CPER_DP1.00002.001_000.020  neon_single_asp_air_temperature   Weld  \n",
      "STER_DP1.00002.001_000.010  neon_single_asp_air_temperature  Logan  \n",
      "CPER_DP1.00002.001_000.010  neon_single_asp_air_temperature   Weld  \n",
      "\n",
      "[5 rows x 38 columns]\n",
      "             STATE STATEFP STATENH             COUNTY COUNTYFP COUNTYNH  \\\n",
      "GISJOIN                                                                   \n",
      "G0801130  Colorado      08     080  San Miguel County      113     1130   \n",
      "G0801250  Colorado      08     080        Yuma County      125     1250   \n",
      "G0801050  Colorado      08     080  Rio Grande County      105     1050   \n",
      "G0800330  Colorado      08     080     Dolores County      033     0330   \n",
      "G0800370  Colorado      08     080       Eagle County      037     0370   \n",
      "\n",
      "          1980_total_population  1990_total_population  2000_total_population  \\\n",
      "GISJOIN                                                                         \n",
      "G0801130                   3192                   3653                   6594   \n",
      "G0801250                   9682                   8954                   9841   \n",
      "G0801050                  10511                  10770                  12413   \n",
      "G0800330                   1658                   1504                   1844   \n",
      "G0800370                  13320                  21928                  41659   \n",
      "\n",
      "          2010_total_population  ... properties.METDIVFP10  \\\n",
      "GISJOIN                          ...                         \n",
      "G0801130                   7359  ...                         \n",
      "G0801250                  10043  ...                         \n",
      "G0801050                  11982  ...                         \n",
      "G0800330                   2064  ...                         \n",
      "G0800370                  52197  ...                         \n",
      "\n",
      "         properties.FUNCSTAT10 properties.ALAND10.$numberLong  \\\n",
      "GISJOIN                                                         \n",
      "G0801130                     A                     3332308274   \n",
      "G0801250                     A                     6123779829   \n",
      "G0801050                     A                     2361959921   \n",
      "G0800330                     A                     2763650142   \n",
      "G0800370                     A                     4362911978   \n",
      "\n",
      "         properties.AWATER10 properties.INTPTLAT10 properties.INTPTLON10  \\\n",
      "GISJOIN                                                                    \n",
      "G0801130             5213876           +38.0093735          -108.4273260   \n",
      "G0801250            11134777           +40.0006314          -102.4226490   \n",
      "G0801050              983955           +37.4857631          -106.4532135   \n",
      "G0800330             2716145           +37.7476020          -108.5303829   \n",
      "G0800370            18806424           +39.6306381          -106.6929439   \n",
      "\n",
      "         properties.GISJOIN properties.Shape_area properties.Shape_len  \\\n",
      "GISJOIN                                                                  \n",
      "G0801130           G0801130          3.337412e+09        321283.106307   \n",
      "G0801250           G0801250          6.134898e+09        322138.946826   \n",
      "G0801050           G0801050          2.362940e+09        214749.299112   \n",
      "G0800330           G0800330          2.766443e+09        297892.971688   \n",
      "G0800370           G0800370          4.381725e+09        300068.753685   \n",
      "\n",
      "         properties.ALAND10  \n",
      "GISJOIN                      \n",
      "G0801130                NaN  \n",
      "G0801250                NaN  \n",
      "G0801050                NaN  \n",
      "G0800330                NaN  \n",
      "G0800370                NaN  \n",
      "\n",
      "[5 rows x 36 columns]\n"
     ]
    }
   ],
   "source": [
    "print(combinedWindFrame.sample(5))\n",
    "print(combinedPressureFrame.sample(5))\n",
    "print(combinedTemperatureFrame.sample(5))\n",
    "print(combinedPopulationFrame.sample(5))\n"
   ]
  },
  {
   "cell_type": "markdown",
   "metadata": {},
   "source": [
    "## References"
   ]
  },
  {
   "cell_type": "markdown",
   "metadata": {},
   "source": [
    "## About this Notebook\n",
    "\n",
    "**Authors:** Kyle Bassignani, Jeff Borgerson, and Christian Westbrook  \n",
    "**Updated On:** 2021-11-20"
   ]
  }
 ],
 "metadata": {
  "kernelspec": {
   "display_name": "Python 3",
   "language": "python",
   "name": "python3"
  },
  "language_info": {
   "codemirror_mode": {
    "name": "ipython",
    "version": 3
   },
   "file_extension": ".py",
   "mimetype": "text/x-python",
   "name": "python",
   "nbconvert_exporter": "python",
   "pygments_lexer": "ipython3",
   "version": "3.8.3"
  }
 },
 "nbformat": 4,
 "nbformat_minor": 4
}