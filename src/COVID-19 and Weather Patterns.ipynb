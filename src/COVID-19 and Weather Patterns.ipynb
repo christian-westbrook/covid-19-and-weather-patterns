{
 "cells": [
  {
   "cell_type": "markdown",
   "metadata": {},
   "source": [
    "# COVID-19 and Weather Patterns"
   ]
  },
  {
   "cell_type": "markdown",
   "metadata": {},
   "source": [
    "## Imports\n",
    "\n",
    "- *os* for interfacing with the operating system\n",
    "- *pathlib* for interfacing with the file system\n",
    "- *zipfile* for managing archive files\n",
    "\n",
    "- *numpy* for array processing\n",
    "- *pandas* for tabular processing\n",
    "- *tensorflow* for tensor processing\n",
    "- *keras* for simplified tensor processing\n",
    "\n",
    "- *matplotlib* for visualization\n",
    "- *seaborn* for enhanced visualization"
   ]
  },
  {
   "cell_type": "code",
   "execution_count": 27,
   "metadata": {},
   "outputs": [
    {
     "data": {
      "text/plain": "'2.7.0'"
     },
     "execution_count": 27,
     "metadata": {},
     "output_type": "execute_result"
    }
   ],
   "source": [
    "# Custom\n",
    "import data_processing\n",
    "\n",
    "# File System\n",
    "import os\n",
    "import json\n",
    "from pathlib import Path\n",
    "from zipfile import ZipFile\n",
    "import pickle\n",
    "\n",
    "# Processing\n",
    "import gc\n",
    "import numpy as np\n",
    "import pandas as pd\n",
    "from sympy import *\n",
    "from sympy.geometry import *\n",
    "import tensorflow\n",
    "from tensorflow import keras\n",
    "\n",
    "# Visualization\n",
    "import matplotlib.pyplot as plt\n",
    "import seaborn as sns\n",
    "\n",
    "tensorflow.__version__"
   ]
  },
  {
   "cell_type": "markdown",
   "metadata": {},
   "source": [
    "## Introduction\n",
    "\n",
    "The goal of this work is to determine whether or not weather patterns should be considered as a meaningful supporting input when making predictions about new daily COVID-19 cases within a given geographical space. Using census, weather, and COVID-19 datasets provided by the Urban Sustain project, the authors attempt to quantify the correlation between particular weather patterns and COVID-19 transmission events."
   ]
  },
  {
   "cell_type": "markdown",
   "metadata": {},
   "source": [
    "## Defining Terms\n",
    "\n",
    "***Urban Sustain Project*** - A joint effort between researchers at Colorado State University, Arizona State University, the University of California-Irvine, and the University of Maryland – Baltimore County."
   ]
  },
  {
   "cell_type": "markdown",
   "metadata": {},
   "source": [
    "## Loading Data"
   ]
  },
  {
   "cell_type": "markdown",
   "metadata": {},
   "source": [
    "**DEVELOPER NOTE:** Download the five required datasets from Urban Sustain and place them in the cloned repository at ```./data/```. These datasets are also available at a shared OneDrive folder. This logic expects that these files exist at relative path ```../data/``` with respect to this notebook."
   ]
  },
  {
   "cell_type": "markdown",
   "metadata": {},
   "source": [
    "We'll begin by defining a path to our data directory and a list of the datasets that we expect to find there."
   ]
  },
  {
   "cell_type": "code",
   "execution_count": 28,
   "metadata": {},
   "outputs": [],
   "source": [
    "DATA_PATH = '../data/' # Point this constant to the location of your data archive files\n",
    "\n",
    "EXPECTED_DATASETS = [\n",
    "    'county_total_population.Colorado.zip',\n",
    "    'covid_county.Colorado.zip',\n",
    "    'neon_2d_wind.Colorado.zip',\n",
    "    'neon_barometric_pressure.Colorado.zip',\n",
    "    'neon_single_asp_air_temperature.Colorado.zip'\n",
    "]"
   ]
  },
  {
   "cell_type": "markdown",
   "metadata": {},
   "source": [
    "Next, we will attempt to extract each of these archived datasets into a dedicated subdirectory within the given data directory."
   ]
  },
  {
   "cell_type": "code",
   "execution_count": 29,
   "metadata": {},
   "outputs": [],
   "source": [
    "# For each listed dataset string in the EXPECTED_DATASETS constant\n",
    "for datasetName in EXPECTED_DATASETS:\n",
    "    try:\n",
    "        # Open the given archive file\n",
    "        with ZipFile(DATA_PATH + datasetName, 'r') as currentZip:\n",
    "            # Build the target directory path for extracted data\n",
    "            datasetNameTokens = datasetName.split('.')\n",
    "            datasetNameTokens.remove('zip')\n",
    "            targetDirectory = DATA_PATH + '.'.join(datasetNameTokens)\n",
    "            \n",
    "            # If the target directory doesn't exist, create it\n",
    "            if not os.path.exists(targetDirectory):\n",
    "                Path(targetDirectory).mkdir()\n",
    "            \n",
    "            # Extract all data from the archive file to the target directory\n",
    "            currentZip.extractall(targetDirectory)\n",
    "    except FileNotFoundError:\n",
    "        print(\"Unable to open \" + datasetName + \" at path \" + DATA_PATH + datasetName)"
   ]
  },
  {
   "cell_type": "markdown",
   "metadata": {},
   "source": [
    "## File Information\n",
    "\n",
    "Four of the five datasets referenced in this work relate geospatial information to particular events as they occur over time Each is provided by the Urban Sustain project and employs a similar file structure.\n",
    "\n",
    "- data.json\n",
    "- fieldLabels.json\n",
    "- linkedGeometry.json\n",
    "- README.txt\n"
   ]
  },
  {
   "cell_type": "markdown",
   "metadata": {},
   "source": [
    "#### New York Times COVID-19 County Dataset\n",
    "\n",
    "The included COVID-19 County dataset "
   ]
  },
  {
   "cell_type": "code",
   "execution_count": 30,
   "metadata": {},
   "outputs": [
    {
     "data": {
      "text/plain": "                                        _id   GISJOIN  \\\n9217   {'$oid': '615fc625bf06594c4cad6643'}  G0800270   \n7637   {'$oid': '615fc624bf06594c4cad6042'}  G0800230   \n31323  {'$oid': '615fc627bf06594c4cadbfa8'}  G0800990   \n14118  {'$oid': '615fc625bf06594c4cad78dc'}  G0800430   \n15050  {'$oid': '615fc625bf06594c4cad7d6e'}  G0800470   \n\n                             epoch_time dateString    county     state  \\\n9217   {'$numberLong': '1618207200000'}    4/12/21    Custer  Colorado   \n7637   {'$numberLong': '1593410400000'}    6/29/20  Costilla  Colorado   \n31323  {'$numberLong': '1600322400000'}    9/17/20   Prowers  Colorado   \n14118  {'$numberLong': '1598335200000'}    8/25/20   Fremont  Colorado   \n15050  {'$numberLong': '1591250400000'}     6/4/20    Gilpin  Colorado   \n\n       totalCaseCount  newCaseCount  totalDeathCount  newDeathCount  \n9217              177             0                1              0  \n7637               20             0                0              0  \n31323              92             0                0              0  \n14118             152             6                0              0  \n15050               4             0                0              0  ",
      "text/html": "<div>\n<style scoped>\n    .dataframe tbody tr th:only-of-type {\n        vertical-align: middle;\n    }\n\n    .dataframe tbody tr th {\n        vertical-align: top;\n    }\n\n    .dataframe thead th {\n        text-align: right;\n    }\n</style>\n<table border=\"1\" class=\"dataframe\">\n  <thead>\n    <tr style=\"text-align: right;\">\n      <th></th>\n      <th>_id</th>\n      <th>GISJOIN</th>\n      <th>epoch_time</th>\n      <th>dateString</th>\n      <th>county</th>\n      <th>state</th>\n      <th>totalCaseCount</th>\n      <th>newCaseCount</th>\n      <th>totalDeathCount</th>\n      <th>newDeathCount</th>\n    </tr>\n  </thead>\n  <tbody>\n    <tr>\n      <th>9217</th>\n      <td>{'$oid': '615fc625bf06594c4cad6643'}</td>\n      <td>G0800270</td>\n      <td>{'$numberLong': '1618207200000'}</td>\n      <td>4/12/21</td>\n      <td>Custer</td>\n      <td>Colorado</td>\n      <td>177</td>\n      <td>0</td>\n      <td>1</td>\n      <td>0</td>\n    </tr>\n    <tr>\n      <th>7637</th>\n      <td>{'$oid': '615fc624bf06594c4cad6042'}</td>\n      <td>G0800230</td>\n      <td>{'$numberLong': '1593410400000'}</td>\n      <td>6/29/20</td>\n      <td>Costilla</td>\n      <td>Colorado</td>\n      <td>20</td>\n      <td>0</td>\n      <td>0</td>\n      <td>0</td>\n    </tr>\n    <tr>\n      <th>31323</th>\n      <td>{'$oid': '615fc627bf06594c4cadbfa8'}</td>\n      <td>G0800990</td>\n      <td>{'$numberLong': '1600322400000'}</td>\n      <td>9/17/20</td>\n      <td>Prowers</td>\n      <td>Colorado</td>\n      <td>92</td>\n      <td>0</td>\n      <td>0</td>\n      <td>0</td>\n    </tr>\n    <tr>\n      <th>14118</th>\n      <td>{'$oid': '615fc625bf06594c4cad78dc'}</td>\n      <td>G0800430</td>\n      <td>{'$numberLong': '1598335200000'}</td>\n      <td>8/25/20</td>\n      <td>Fremont</td>\n      <td>Colorado</td>\n      <td>152</td>\n      <td>6</td>\n      <td>0</td>\n      <td>0</td>\n    </tr>\n    <tr>\n      <th>15050</th>\n      <td>{'$oid': '615fc625bf06594c4cad7d6e'}</td>\n      <td>G0800470</td>\n      <td>{'$numberLong': '1591250400000'}</td>\n      <td>6/4/20</td>\n      <td>Gilpin</td>\n      <td>Colorado</td>\n      <td>4</td>\n      <td>0</td>\n      <td>0</td>\n      <td>0</td>\n    </tr>\n  </tbody>\n</table>\n</div>"
     },
     "execution_count": 30,
     "metadata": {},
     "output_type": "execute_result"
    }
   ],
   "source": [
    "covidDataFrame = pd.io.json.read_json('../data/covid_county.Colorado/data.json')\n",
    "covidDataFrame.sample(5)"
   ]
  },
  {
   "cell_type": "code",
   "execution_count": 31,
   "metadata": {},
   "outputs": [
    {
     "data": {
      "text/plain": "              name              label\n4   totalCaseCount   Total Case Count\n2  totalDeathCount  Total Death Count\n3     newCaseCount     New Case Count\n1    newDeathCount    New Death Count\n0       epoch_time               Date",
      "text/html": "<div>\n<style scoped>\n    .dataframe tbody tr th:only-of-type {\n        vertical-align: middle;\n    }\n\n    .dataframe tbody tr th {\n        vertical-align: top;\n    }\n\n    .dataframe thead th {\n        text-align: right;\n    }\n</style>\n<table border=\"1\" class=\"dataframe\">\n  <thead>\n    <tr style=\"text-align: right;\">\n      <th></th>\n      <th>name</th>\n      <th>label</th>\n    </tr>\n  </thead>\n  <tbody>\n    <tr>\n      <th>4</th>\n      <td>totalCaseCount</td>\n      <td>Total Case Count</td>\n    </tr>\n    <tr>\n      <th>2</th>\n      <td>totalDeathCount</td>\n      <td>Total Death Count</td>\n    </tr>\n    <tr>\n      <th>3</th>\n      <td>newCaseCount</td>\n      <td>New Case Count</td>\n    </tr>\n    <tr>\n      <th>1</th>\n      <td>newDeathCount</td>\n      <td>New Death Count</td>\n    </tr>\n    <tr>\n      <th>0</th>\n      <td>epoch_time</td>\n      <td>Date</td>\n    </tr>\n  </tbody>\n</table>\n</div>"
     },
     "execution_count": 31,
     "metadata": {},
     "output_type": "execute_result"
    }
   ],
   "source": [
    "covidLabelsFrame = pd.io.json.read_json('../data/covid_county.Colorado/fieldLabels.json')\n",
    "covidLabelsFrame.sample(5)"
   ]
  },
  {
   "cell_type": "code",
   "execution_count": 32,
   "metadata": {
    "scrolled": true
   },
   "outputs": [
    {
     "data": {
      "text/plain": "                                     _id     type  \\\n12  {'$oid': '604964ecfed2e95d6b68b682'}  Feature   \n37  {'$oid': '604964ecfed2e95d6b68b680'}  Feature   \n8   {'$oid': '604964eefed2e95d6b68b846'}  Feature   \n56  {'$oid': '604964eefed2e95d6b68b9c7'}  Feature   \n15  {'$oid': '604964ecfed2e95d6b68b67d'}  Feature   \n\n                                             geometry  \\\n12  {'type': 'Polygon', 'coordinates': [[[-105.154...   \n37  {'type': 'Polygon', 'coordinates': [[[-103.707...   \n8   {'type': 'Polygon', 'coordinates': [[[-106.191...   \n56  {'type': 'Polygon', 'coordinates': [[[-107.568...   \n15  {'type': 'Polygon', 'coordinates': [[[-107.500...   \n\n                                           properties   GISJOIN  \n12  {'STATEFP10': '08', 'COUNTYFP10': '023', 'COUN...  G0800230  \n37  {'STATEFP10': '08', 'COUNTYFP10': '073', 'COUN...  G0800730  \n8   {'STATEFP10': '08', 'COUNTYFP10': '015', 'COUN...  G0800150  \n56  {'STATEFP10': '08', 'COUNTYFP10': '111', 'COUN...  G0801110  \n15  {'STATEFP10': '08', 'COUNTYFP10': '029', 'COUN...  G0800290  ",
      "text/html": "<div>\n<style scoped>\n    .dataframe tbody tr th:only-of-type {\n        vertical-align: middle;\n    }\n\n    .dataframe tbody tr th {\n        vertical-align: top;\n    }\n\n    .dataframe thead th {\n        text-align: right;\n    }\n</style>\n<table border=\"1\" class=\"dataframe\">\n  <thead>\n    <tr style=\"text-align: right;\">\n      <th></th>\n      <th>_id</th>\n      <th>type</th>\n      <th>geometry</th>\n      <th>properties</th>\n      <th>GISJOIN</th>\n    </tr>\n  </thead>\n  <tbody>\n    <tr>\n      <th>12</th>\n      <td>{'$oid': '604964ecfed2e95d6b68b682'}</td>\n      <td>Feature</td>\n      <td>{'type': 'Polygon', 'coordinates': [[[-105.154...</td>\n      <td>{'STATEFP10': '08', 'COUNTYFP10': '023', 'COUN...</td>\n      <td>G0800230</td>\n    </tr>\n    <tr>\n      <th>37</th>\n      <td>{'$oid': '604964ecfed2e95d6b68b680'}</td>\n      <td>Feature</td>\n      <td>{'type': 'Polygon', 'coordinates': [[[-103.707...</td>\n      <td>{'STATEFP10': '08', 'COUNTYFP10': '073', 'COUN...</td>\n      <td>G0800730</td>\n    </tr>\n    <tr>\n      <th>8</th>\n      <td>{'$oid': '604964eefed2e95d6b68b846'}</td>\n      <td>Feature</td>\n      <td>{'type': 'Polygon', 'coordinates': [[[-106.191...</td>\n      <td>{'STATEFP10': '08', 'COUNTYFP10': '015', 'COUN...</td>\n      <td>G0800150</td>\n    </tr>\n    <tr>\n      <th>56</th>\n      <td>{'$oid': '604964eefed2e95d6b68b9c7'}</td>\n      <td>Feature</td>\n      <td>{'type': 'Polygon', 'coordinates': [[[-107.568...</td>\n      <td>{'STATEFP10': '08', 'COUNTYFP10': '111', 'COUN...</td>\n      <td>G0801110</td>\n    </tr>\n    <tr>\n      <th>15</th>\n      <td>{'$oid': '604964ecfed2e95d6b68b67d'}</td>\n      <td>Feature</td>\n      <td>{'type': 'Polygon', 'coordinates': [[[-107.500...</td>\n      <td>{'STATEFP10': '08', 'COUNTYFP10': '029', 'COUN...</td>\n      <td>G0800290</td>\n    </tr>\n  </tbody>\n</table>\n</div>"
     },
     "execution_count": 32,
     "metadata": {},
     "output_type": "execute_result"
    }
   ],
   "source": [
    "covidGeometryFrame = pd.io.json.read_json('../data/covid_county.Colorado/linkedGeometry.json')\n",
    "covidGeometryFrame.sample(5)"
   ]
  },
  {
   "cell_type": "markdown",
   "metadata": {},
   "source": [
    "#### NEON 2D Wind Dataset"
   ]
  },
  {
   "cell_type": "code",
   "execution_count": 33,
   "metadata": {
    "scrolled": true
   },
   "outputs": [
    {
     "data": {
      "text/plain": "                                          _id                        site  \\\n384249   {'$oid': '60cbc08b51c1683b462c7196'}  CPER_DP1.00001.001_000.020   \n212759   {'$oid': '60cbc07651c1683b462a1b50'}  CPER_DP1.00001.001_000.010   \n291276   {'$oid': '60cbc06651c1683b46283e9d'}  CPER_DP1.00001.001_000.020   \n1264729  {'$oid': '60cbc03d51c1683b4623e311'}  STER_DP1.00001.001_000.020   \n118185   {'$oid': '60cbc65651c1683b46cdfde0'}  COMO_DP1.00001.001_200.000   \n\n                               epoch_time         startDateTime  \\\n384249   {'$numberLong': '1591898400000'}  2020-06-11T18:00:00Z   \n212759   {'$numberLong': '1498843800000'}  2017-06-30T17:30:00Z   \n291276   {'$numberLong': '1415518200000'}  2014-11-09T07:30:00Z   \n1264729  {'$numberLong': '1457235000000'}  2016-03-06T03:30:00Z   \n118185   {'$numberLong': '1551771000000'}  2019-03-05T07:30:00Z   \n\n                  endDateTime  windSpeedMean  windSpeedMinimum  \\\n384249   2020-06-11T18:30:00Z           3.17              0.00   \n212759   2017-06-30T18:00:00Z           0.72              0.01   \n291276   2014-11-09T08:00:00Z           1.63              0.16   \n1264729  2016-03-06T04:00:00Z           3.35              1.69   \n118185   2019-03-05T08:00:00Z           1.14              0.01   \n\n         windSpeedMaximum  windSpeedVariance  windSpeedNumPts  \\\n384249               7.79               2.48             1800   \n212759               1.99               0.14             1800   \n291276               3.06               0.30             1800   \n1264729              5.29               0.31             1800   \n118185               4.80               0.45             1800   \n\n         windSpeedExpUncert  windSpeedStdErMean  windSpeedFinalQF  \\\n384249                 0.25                0.04                 0   \n212759                 0.04                0.01                 0   \n291276                 0.06                0.01                 0   \n1264729                0.12                0.01                 0   \n118185                 0.10                0.02                 0   \n\n         windDirMean  windDirVariance  windDirNumPts  windDirExpUncert  \\\n384249        301.76          1496.39           1800              0.07   \n212759        152.64          4672.16           1800              0.07   \n291276        358.96           770.86           1800              0.07   \n1264729       165.41            55.33           1800              0.19   \n118185        349.00          6107.69           1800              0.07   \n\n         windDirStdErMean  windDirFinalQF  \n384249               0.03               0  \n212759               0.03               1  \n291276               0.06               1  \n1264729              0.00               0  \n118185               0.05               0  ",
      "text/html": "<div>\n<style scoped>\n    .dataframe tbody tr th:only-of-type {\n        vertical-align: middle;\n    }\n\n    .dataframe tbody tr th {\n        vertical-align: top;\n    }\n\n    .dataframe thead th {\n        text-align: right;\n    }\n</style>\n<table border=\"1\" class=\"dataframe\">\n  <thead>\n    <tr style=\"text-align: right;\">\n      <th></th>\n      <th>_id</th>\n      <th>site</th>\n      <th>epoch_time</th>\n      <th>startDateTime</th>\n      <th>endDateTime</th>\n      <th>windSpeedMean</th>\n      <th>windSpeedMinimum</th>\n      <th>windSpeedMaximum</th>\n      <th>windSpeedVariance</th>\n      <th>windSpeedNumPts</th>\n      <th>windSpeedExpUncert</th>\n      <th>windSpeedStdErMean</th>\n      <th>windSpeedFinalQF</th>\n      <th>windDirMean</th>\n      <th>windDirVariance</th>\n      <th>windDirNumPts</th>\n      <th>windDirExpUncert</th>\n      <th>windDirStdErMean</th>\n      <th>windDirFinalQF</th>\n    </tr>\n  </thead>\n  <tbody>\n    <tr>\n      <th>384249</th>\n      <td>{'$oid': '60cbc08b51c1683b462c7196'}</td>\n      <td>CPER_DP1.00001.001_000.020</td>\n      <td>{'$numberLong': '1591898400000'}</td>\n      <td>2020-06-11T18:00:00Z</td>\n      <td>2020-06-11T18:30:00Z</td>\n      <td>3.17</td>\n      <td>0.00</td>\n      <td>7.79</td>\n      <td>2.48</td>\n      <td>1800</td>\n      <td>0.25</td>\n      <td>0.04</td>\n      <td>0</td>\n      <td>301.76</td>\n      <td>1496.39</td>\n      <td>1800</td>\n      <td>0.07</td>\n      <td>0.03</td>\n      <td>0</td>\n    </tr>\n    <tr>\n      <th>212759</th>\n      <td>{'$oid': '60cbc07651c1683b462a1b50'}</td>\n      <td>CPER_DP1.00001.001_000.010</td>\n      <td>{'$numberLong': '1498843800000'}</td>\n      <td>2017-06-30T17:30:00Z</td>\n      <td>2017-06-30T18:00:00Z</td>\n      <td>0.72</td>\n      <td>0.01</td>\n      <td>1.99</td>\n      <td>0.14</td>\n      <td>1800</td>\n      <td>0.04</td>\n      <td>0.01</td>\n      <td>0</td>\n      <td>152.64</td>\n      <td>4672.16</td>\n      <td>1800</td>\n      <td>0.07</td>\n      <td>0.03</td>\n      <td>1</td>\n    </tr>\n    <tr>\n      <th>291276</th>\n      <td>{'$oid': '60cbc06651c1683b46283e9d'}</td>\n      <td>CPER_DP1.00001.001_000.020</td>\n      <td>{'$numberLong': '1415518200000'}</td>\n      <td>2014-11-09T07:30:00Z</td>\n      <td>2014-11-09T08:00:00Z</td>\n      <td>1.63</td>\n      <td>0.16</td>\n      <td>3.06</td>\n      <td>0.30</td>\n      <td>1800</td>\n      <td>0.06</td>\n      <td>0.01</td>\n      <td>0</td>\n      <td>358.96</td>\n      <td>770.86</td>\n      <td>1800</td>\n      <td>0.07</td>\n      <td>0.06</td>\n      <td>1</td>\n    </tr>\n    <tr>\n      <th>1264729</th>\n      <td>{'$oid': '60cbc03d51c1683b4623e311'}</td>\n      <td>STER_DP1.00001.001_000.020</td>\n      <td>{'$numberLong': '1457235000000'}</td>\n      <td>2016-03-06T03:30:00Z</td>\n      <td>2016-03-06T04:00:00Z</td>\n      <td>3.35</td>\n      <td>1.69</td>\n      <td>5.29</td>\n      <td>0.31</td>\n      <td>1800</td>\n      <td>0.12</td>\n      <td>0.01</td>\n      <td>0</td>\n      <td>165.41</td>\n      <td>55.33</td>\n      <td>1800</td>\n      <td>0.19</td>\n      <td>0.00</td>\n      <td>0</td>\n    </tr>\n    <tr>\n      <th>118185</th>\n      <td>{'$oid': '60cbc65651c1683b46cdfde0'}</td>\n      <td>COMO_DP1.00001.001_200.000</td>\n      <td>{'$numberLong': '1551771000000'}</td>\n      <td>2019-03-05T07:30:00Z</td>\n      <td>2019-03-05T08:00:00Z</td>\n      <td>1.14</td>\n      <td>0.01</td>\n      <td>4.80</td>\n      <td>0.45</td>\n      <td>1800</td>\n      <td>0.10</td>\n      <td>0.02</td>\n      <td>0</td>\n      <td>349.00</td>\n      <td>6107.69</td>\n      <td>1800</td>\n      <td>0.07</td>\n      <td>0.05</td>\n      <td>0</td>\n    </tr>\n  </tbody>\n</table>\n</div>"
     },
     "execution_count": 33,
     "metadata": {},
     "output_type": "execute_result"
    }
   ],
   "source": [
    "windDataFrame = pd.io.json.read_json('../data/neon_2d_wind.Colorado/data.json')\n",
    "windDataFrame.sample(5)"
   ]
  },
  {
   "cell_type": "code",
   "execution_count": 34,
   "metadata": {},
   "outputs": [
    {
     "data": {
      "text/plain": "                          name  \\\n23  windSpeedSensorErrorPassQM   \n45            windDirGapPassQM   \n38    windDirPersistenceFailQM   \n22  windSpeedSensorErrorFailQM   \n6            windSpeedVariance   \n\n                                                label  \n23  Wind speed quality metric that summarizes the ...  \n45  Wind direction quality metric that summarizes ...  \n38  Wind direction quality metric that summarizes ...  \n22  Wind speed quality metric that summarizes the ...  \n6                              Variance in wind speed  ",
      "text/html": "<div>\n<style scoped>\n    .dataframe tbody tr th:only-of-type {\n        vertical-align: middle;\n    }\n\n    .dataframe tbody tr th {\n        vertical-align: top;\n    }\n\n    .dataframe thead th {\n        text-align: right;\n    }\n</style>\n<table border=\"1\" class=\"dataframe\">\n  <thead>\n    <tr style=\"text-align: right;\">\n      <th></th>\n      <th>name</th>\n      <th>label</th>\n    </tr>\n  </thead>\n  <tbody>\n    <tr>\n      <th>23</th>\n      <td>windSpeedSensorErrorPassQM</td>\n      <td>Wind speed quality metric that summarizes the ...</td>\n    </tr>\n    <tr>\n      <th>45</th>\n      <td>windDirGapPassQM</td>\n      <td>Wind direction quality metric that summarizes ...</td>\n    </tr>\n    <tr>\n      <th>38</th>\n      <td>windDirPersistenceFailQM</td>\n      <td>Wind direction quality metric that summarizes ...</td>\n    </tr>\n    <tr>\n      <th>22</th>\n      <td>windSpeedSensorErrorFailQM</td>\n      <td>Wind speed quality metric that summarizes the ...</td>\n    </tr>\n    <tr>\n      <th>6</th>\n      <td>windSpeedVariance</td>\n      <td>Variance in wind speed</td>\n    </tr>\n  </tbody>\n</table>\n</div>"
     },
     "execution_count": 34,
     "metadata": {},
     "output_type": "execute_result"
    }
   ],
   "source": [
    "windLabelsFrame = pd.io.json.read_json('../data/neon_2d_wind.Colorado/fieldLabels.json')\n",
    "windLabelsFrame.sample(5)"
   ]
  },
  {
   "cell_type": "code",
   "execution_count": 35,
   "metadata": {
    "scrolled": false
   },
   "outputs": [
    {
     "data": {
      "text/plain": "                                     _id     type  \\\n14  {'$oid': '60cbcf5eed5577c25c205268'}  Feature   \n7   {'$oid': '60cbcf5eed5577c25c205296'}  Feature   \n1   {'$oid': '60cbcf5eed5577c25c205233'}  Feature   \n8   {'$oid': '60cbcf5eed5577c25c20520c'}  Feature   \n9   {'$oid': '60cbcf5eed5577c25c20520d'}  Feature   \n\n                                             geometry  \\\n14  {'type': 'Point', 'coordinates': [-102.450966,...   \n7   {'type': 'Point', 'coordinates': [-105.58238, ...   \n1   {'type': 'Point', 'coordinates': [-105.545955,...   \n8   {'type': 'Point', 'coordinates': [-104.74559, ...   \n9   {'type': 'Point', 'coordinates': [-104.74559, ...   \n\n                                           properties  \\\n14  {'HOR.VER': '200.000', 'name': 'CFGLOC101251',...   \n7   {'HOR.VER': '000.030', 'name': 'CFGLOC109359',...   \n1   {'HOR.VER': '000.040', 'name': 'CFGLOC100675',...   \n8   {'HOR.VER': '000.020', 'name': 'CFGLOC100242',...   \n9   {'HOR.VER': '000.030', 'name': 'CFGLOC100245',...   \n\n                          site  \n14  ARIK_DP1.00001.001_200.000  \n7   NIWO_DP1.00001.001_000.030  \n1   RMNP_DP1.00001.001_000.040  \n8   CPER_DP1.00001.001_000.020  \n9   CPER_DP1.00001.001_000.030  ",
      "text/html": "<div>\n<style scoped>\n    .dataframe tbody tr th:only-of-type {\n        vertical-align: middle;\n    }\n\n    .dataframe tbody tr th {\n        vertical-align: top;\n    }\n\n    .dataframe thead th {\n        text-align: right;\n    }\n</style>\n<table border=\"1\" class=\"dataframe\">\n  <thead>\n    <tr style=\"text-align: right;\">\n      <th></th>\n      <th>_id</th>\n      <th>type</th>\n      <th>geometry</th>\n      <th>properties</th>\n      <th>site</th>\n    </tr>\n  </thead>\n  <tbody>\n    <tr>\n      <th>14</th>\n      <td>{'$oid': '60cbcf5eed5577c25c205268'}</td>\n      <td>Feature</td>\n      <td>{'type': 'Point', 'coordinates': [-102.450966,...</td>\n      <td>{'HOR.VER': '200.000', 'name': 'CFGLOC101251',...</td>\n      <td>ARIK_DP1.00001.001_200.000</td>\n    </tr>\n    <tr>\n      <th>7</th>\n      <td>{'$oid': '60cbcf5eed5577c25c205296'}</td>\n      <td>Feature</td>\n      <td>{'type': 'Point', 'coordinates': [-105.58238, ...</td>\n      <td>{'HOR.VER': '000.030', 'name': 'CFGLOC109359',...</td>\n      <td>NIWO_DP1.00001.001_000.030</td>\n    </tr>\n    <tr>\n      <th>1</th>\n      <td>{'$oid': '60cbcf5eed5577c25c205233'}</td>\n      <td>Feature</td>\n      <td>{'type': 'Point', 'coordinates': [-105.545955,...</td>\n      <td>{'HOR.VER': '000.040', 'name': 'CFGLOC100675',...</td>\n      <td>RMNP_DP1.00001.001_000.040</td>\n    </tr>\n    <tr>\n      <th>8</th>\n      <td>{'$oid': '60cbcf5eed5577c25c20520c'}</td>\n      <td>Feature</td>\n      <td>{'type': 'Point', 'coordinates': [-104.74559, ...</td>\n      <td>{'HOR.VER': '000.020', 'name': 'CFGLOC100242',...</td>\n      <td>CPER_DP1.00001.001_000.020</td>\n    </tr>\n    <tr>\n      <th>9</th>\n      <td>{'$oid': '60cbcf5eed5577c25c20520d'}</td>\n      <td>Feature</td>\n      <td>{'type': 'Point', 'coordinates': [-104.74559, ...</td>\n      <td>{'HOR.VER': '000.030', 'name': 'CFGLOC100245',...</td>\n      <td>CPER_DP1.00001.001_000.030</td>\n    </tr>\n  </tbody>\n</table>\n</div>"
     },
     "execution_count": 35,
     "metadata": {},
     "output_type": "execute_result"
    }
   ],
   "source": [
    "windGeometryFrame = pd.io.json.read_json('../data/neon_2d_wind.Colorado/linkedGeometry.json')\n",
    "windGeometryFrame.sample(5)"
   ]
  },
  {
   "cell_type": "markdown",
   "metadata": {},
   "source": [
    "#### NEON Barometric Pressure Dataset"
   ]
  },
  {
   "cell_type": "code",
   "execution_count": 36,
   "metadata": {
    "scrolled": true
   },
   "outputs": [
    {
     "data": {
      "text/plain": "                                         _id                site  \\\n443686  {'$oid': '60c78ce0c8cb4f3f3b22b7e2'}  STER_DP1.00004.001   \n430139  {'$oid': '60c78cdec8cb4f3f3b2282aa'}  STER_DP1.00004.001   \n404826  {'$oid': '60c78cdbc8cb4f3f3b221e36'}  STER_DP1.00004.001   \n11244   {'$oid': '60c78aaac8cb4f3f3be1972c'}  ARIK_DP1.00004.001   \n84267   {'$oid': '60c78b03c8cb4f3f3bebe37b'}  COMO_DP1.00004.001   \n\n                              epoch_time         startDateTime  \\\n443686  {'$numberLong': '1539880200000'}  2018-10-18T16:30:00Z   \n430139  {'$numberLong': '1514746800000'}  2017-12-31T19:00:00Z   \n404826  {'$numberLong': '1467270000000'}  2016-06-30T07:00:00Z   \n11244   {'$numberLong': '1511330400000'}  2017-11-22T06:00:00Z   \n84267   {'$numberLong': '1521365400000'}  2018-03-18T09:30:00Z   \n\n                 endDateTime  staPresMean  staPresMinimum  staPresMaximum  \\\n443686  2018-10-18T17:00:00Z     86.32467        86.30923        86.34880   \n430139  2017-12-31T19:30:00Z     87.31003        87.28903        87.32904   \n404826  2016-06-30T07:30:00Z     86.56702        86.55058        86.58859   \n11244   2017-11-22T06:30:00Z     88.92638        88.90893        88.93894   \n84267   2018-03-18T10:00:00Z     69.65198        69.63722        69.66730   \n\n        staPresVariance  staPresNumPts  staPresExpUncert  staPresStdErMean  \\\n443686          0.00008            180           0.01725           0.00066   \n430139          0.00011            180           0.01727           0.00076   \n404826          0.00014            180           0.01729           0.00087   \n11244           0.00007            180           0.01725           0.00064   \n84267           0.00010            180           0.01726           0.00074   \n\n        staPresFinalQF    corPres  corPresExpUncert  corPresFinalQF  \n443686               0  101.20078           0.10237               0  \n430139               0  104.26540           0.12766               0  \n404826               0  101.35992           0.10702               0  \n11244                0  103.04201           0.08898               0  \n84267                0  101.33148           0.54412               0  ",
      "text/html": "<div>\n<style scoped>\n    .dataframe tbody tr th:only-of-type {\n        vertical-align: middle;\n    }\n\n    .dataframe tbody tr th {\n        vertical-align: top;\n    }\n\n    .dataframe thead th {\n        text-align: right;\n    }\n</style>\n<table border=\"1\" class=\"dataframe\">\n  <thead>\n    <tr style=\"text-align: right;\">\n      <th></th>\n      <th>_id</th>\n      <th>site</th>\n      <th>epoch_time</th>\n      <th>startDateTime</th>\n      <th>endDateTime</th>\n      <th>staPresMean</th>\n      <th>staPresMinimum</th>\n      <th>staPresMaximum</th>\n      <th>staPresVariance</th>\n      <th>staPresNumPts</th>\n      <th>staPresExpUncert</th>\n      <th>staPresStdErMean</th>\n      <th>staPresFinalQF</th>\n      <th>corPres</th>\n      <th>corPresExpUncert</th>\n      <th>corPresFinalQF</th>\n    </tr>\n  </thead>\n  <tbody>\n    <tr>\n      <th>443686</th>\n      <td>{'$oid': '60c78ce0c8cb4f3f3b22b7e2'}</td>\n      <td>STER_DP1.00004.001</td>\n      <td>{'$numberLong': '1539880200000'}</td>\n      <td>2018-10-18T16:30:00Z</td>\n      <td>2018-10-18T17:00:00Z</td>\n      <td>86.32467</td>\n      <td>86.30923</td>\n      <td>86.34880</td>\n      <td>0.00008</td>\n      <td>180</td>\n      <td>0.01725</td>\n      <td>0.00066</td>\n      <td>0</td>\n      <td>101.20078</td>\n      <td>0.10237</td>\n      <td>0</td>\n    </tr>\n    <tr>\n      <th>430139</th>\n      <td>{'$oid': '60c78cdec8cb4f3f3b2282aa'}</td>\n      <td>STER_DP1.00004.001</td>\n      <td>{'$numberLong': '1514746800000'}</td>\n      <td>2017-12-31T19:00:00Z</td>\n      <td>2017-12-31T19:30:00Z</td>\n      <td>87.31003</td>\n      <td>87.28903</td>\n      <td>87.32904</td>\n      <td>0.00011</td>\n      <td>180</td>\n      <td>0.01727</td>\n      <td>0.00076</td>\n      <td>0</td>\n      <td>104.26540</td>\n      <td>0.12766</td>\n      <td>0</td>\n    </tr>\n    <tr>\n      <th>404826</th>\n      <td>{'$oid': '60c78cdbc8cb4f3f3b221e36'}</td>\n      <td>STER_DP1.00004.001</td>\n      <td>{'$numberLong': '1467270000000'}</td>\n      <td>2016-06-30T07:00:00Z</td>\n      <td>2016-06-30T07:30:00Z</td>\n      <td>86.56702</td>\n      <td>86.55058</td>\n      <td>86.58859</td>\n      <td>0.00014</td>\n      <td>180</td>\n      <td>0.01729</td>\n      <td>0.00087</td>\n      <td>0</td>\n      <td>101.35992</td>\n      <td>0.10702</td>\n      <td>0</td>\n    </tr>\n    <tr>\n      <th>11244</th>\n      <td>{'$oid': '60c78aaac8cb4f3f3be1972c'}</td>\n      <td>ARIK_DP1.00004.001</td>\n      <td>{'$numberLong': '1511330400000'}</td>\n      <td>2017-11-22T06:00:00Z</td>\n      <td>2017-11-22T06:30:00Z</td>\n      <td>88.92638</td>\n      <td>88.90893</td>\n      <td>88.93894</td>\n      <td>0.00007</td>\n      <td>180</td>\n      <td>0.01725</td>\n      <td>0.00064</td>\n      <td>0</td>\n      <td>103.04201</td>\n      <td>0.08898</td>\n      <td>0</td>\n    </tr>\n    <tr>\n      <th>84267</th>\n      <td>{'$oid': '60c78b03c8cb4f3f3bebe37b'}</td>\n      <td>COMO_DP1.00004.001</td>\n      <td>{'$numberLong': '1521365400000'}</td>\n      <td>2018-03-18T09:30:00Z</td>\n      <td>2018-03-18T10:00:00Z</td>\n      <td>69.65198</td>\n      <td>69.63722</td>\n      <td>69.66730</td>\n      <td>0.00010</td>\n      <td>180</td>\n      <td>0.01726</td>\n      <td>0.00074</td>\n      <td>0</td>\n      <td>101.33148</td>\n      <td>0.54412</td>\n      <td>0</td>\n    </tr>\n  </tbody>\n</table>\n</div>"
     },
     "execution_count": 36,
     "metadata": {},
     "output_type": "execute_result"
    }
   ],
   "source": [
    "pressureDataFrame = pd.io.json.read_json('../data/neon_barometric_pressure.Colorado/data.json')\n",
    "pressureDataFrame.sample(5)"
   ]
  },
  {
   "cell_type": "code",
   "execution_count": 37,
   "metadata": {},
   "outputs": [
    {
     "data": {
      "text/plain": "                   name                                              label\n0            epoch_time                                               Date\n30  staPresValidCalNAQM  Station pressure quality metric that summarize...\n10   staPresRangeFailQM  Station pressure quality metric that summarize...\n37        corPresTempQF  Corrected pressure quality flag that assesses ...\n32        staPresBetaQM  Station pressure quality metric detailing the ...",
      "text/html": "<div>\n<style scoped>\n    .dataframe tbody tr th:only-of-type {\n        vertical-align: middle;\n    }\n\n    .dataframe tbody tr th {\n        vertical-align: top;\n    }\n\n    .dataframe thead th {\n        text-align: right;\n    }\n</style>\n<table border=\"1\" class=\"dataframe\">\n  <thead>\n    <tr style=\"text-align: right;\">\n      <th></th>\n      <th>name</th>\n      <th>label</th>\n    </tr>\n  </thead>\n  <tbody>\n    <tr>\n      <th>0</th>\n      <td>epoch_time</td>\n      <td>Date</td>\n    </tr>\n    <tr>\n      <th>30</th>\n      <td>staPresValidCalNAQM</td>\n      <td>Station pressure quality metric that summarize...</td>\n    </tr>\n    <tr>\n      <th>10</th>\n      <td>staPresRangeFailQM</td>\n      <td>Station pressure quality metric that summarize...</td>\n    </tr>\n    <tr>\n      <th>37</th>\n      <td>corPresTempQF</td>\n      <td>Corrected pressure quality flag that assesses ...</td>\n    </tr>\n    <tr>\n      <th>32</th>\n      <td>staPresBetaQM</td>\n      <td>Station pressure quality metric detailing the ...</td>\n    </tr>\n  </tbody>\n</table>\n</div>"
     },
     "execution_count": 37,
     "metadata": {},
     "output_type": "execute_result"
    }
   ],
   "source": [
    "pressureLabelsFrame = pd.io.json.read_json('../data/neon_barometric_pressure.Colorado/fieldLabels.json')\n",
    "pressureLabelsFrame.sample(5)"
   ]
  },
  {
   "cell_type": "code",
   "execution_count": 38,
   "metadata": {
    "scrolled": true
   },
   "outputs": [
    {
     "data": {
      "text/plain": "                                    _id     type  \\\n6  {'$oid': '60c78a9d230c7f49850c20a5'}  Feature   \n5  {'$oid': '60c78a9d230c7f49850c20e3'}  Feature   \n2  {'$oid': '60c78a9d230c7f49850c20b0'}  Feature   \n4  {'$oid': '60c78a9d230c7f49850c20b1'}  Feature   \n0  {'$oid': '60c78a9d230c7f49850c20dc'}  Feature   \n\n                                            geometry  \\\n6  {'type': 'Point', 'coordinates': [-102.450966,...   \n5  {'type': 'Point', 'coordinates': [-103.02929, ...   \n2  {'type': 'Point', 'coordinates': [-105.544602,...   \n4  {'type': 'Point', 'coordinates': [-104.74559, ...   \n0  {'type': 'Point', 'coordinates': [-105.545955,...   \n\n                                          properties                site  \n6  {'site': 'ARIK_DP1.00004.001', 'name': 'neon_b...  ARIK_DP1.00004.001  \n5  {'site': 'STER_DP1.00004.001', 'name': 'neon_b...  STER_DP1.00004.001  \n2  {'site': 'COMO_DP1.00004.001', 'name': 'neon_b...  COMO_DP1.00004.001  \n4  {'site': 'CPER_DP1.00004.001', 'name': 'neon_b...  CPER_DP1.00004.001  \n0  {'site': 'RMNP_DP1.00004.001', 'name': 'neon_b...  RMNP_DP1.00004.001  ",
      "text/html": "<div>\n<style scoped>\n    .dataframe tbody tr th:only-of-type {\n        vertical-align: middle;\n    }\n\n    .dataframe tbody tr th {\n        vertical-align: top;\n    }\n\n    .dataframe thead th {\n        text-align: right;\n    }\n</style>\n<table border=\"1\" class=\"dataframe\">\n  <thead>\n    <tr style=\"text-align: right;\">\n      <th></th>\n      <th>_id</th>\n      <th>type</th>\n      <th>geometry</th>\n      <th>properties</th>\n      <th>site</th>\n    </tr>\n  </thead>\n  <tbody>\n    <tr>\n      <th>6</th>\n      <td>{'$oid': '60c78a9d230c7f49850c20a5'}</td>\n      <td>Feature</td>\n      <td>{'type': 'Point', 'coordinates': [-102.450966,...</td>\n      <td>{'site': 'ARIK_DP1.00004.001', 'name': 'neon_b...</td>\n      <td>ARIK_DP1.00004.001</td>\n    </tr>\n    <tr>\n      <th>5</th>\n      <td>{'$oid': '60c78a9d230c7f49850c20e3'}</td>\n      <td>Feature</td>\n      <td>{'type': 'Point', 'coordinates': [-103.02929, ...</td>\n      <td>{'site': 'STER_DP1.00004.001', 'name': 'neon_b...</td>\n      <td>STER_DP1.00004.001</td>\n    </tr>\n    <tr>\n      <th>2</th>\n      <td>{'$oid': '60c78a9d230c7f49850c20b0'}</td>\n      <td>Feature</td>\n      <td>{'type': 'Point', 'coordinates': [-105.544602,...</td>\n      <td>{'site': 'COMO_DP1.00004.001', 'name': 'neon_b...</td>\n      <td>COMO_DP1.00004.001</td>\n    </tr>\n    <tr>\n      <th>4</th>\n      <td>{'$oid': '60c78a9d230c7f49850c20b1'}</td>\n      <td>Feature</td>\n      <td>{'type': 'Point', 'coordinates': [-104.74559, ...</td>\n      <td>{'site': 'CPER_DP1.00004.001', 'name': 'neon_b...</td>\n      <td>CPER_DP1.00004.001</td>\n    </tr>\n    <tr>\n      <th>0</th>\n      <td>{'$oid': '60c78a9d230c7f49850c20dc'}</td>\n      <td>Feature</td>\n      <td>{'type': 'Point', 'coordinates': [-105.545955,...</td>\n      <td>{'site': 'RMNP_DP1.00004.001', 'name': 'neon_b...</td>\n      <td>RMNP_DP1.00004.001</td>\n    </tr>\n  </tbody>\n</table>\n</div>"
     },
     "execution_count": 38,
     "metadata": {},
     "output_type": "execute_result"
    }
   ],
   "source": [
    "pressureGeometryFrame = pd.io.json.read_json('../data/neon_barometric_pressure.Colorado/linkedGeometry.json')\n",
    "pressureGeometryFrame.sample(5)"
   ]
  },
  {
   "cell_type": "markdown",
   "metadata": {},
   "source": [
    "#### NEON Air Temperature"
   ]
  },
  {
   "cell_type": "code",
   "execution_count": 39,
   "metadata": {},
   "outputs": [
    {
     "data": {
      "text/plain": "                                         _id                        site  \\\n890089  {'$oid': '60cbd52f0fc3818c81097553'}  RMNP_DP1.00002.001_000.040   \n87586   {'$oid': '60cbd8140fc3818c8161050b'}  COMO_DP1.00002.001_200.000   \n743897  {'$oid': '60cbd5320fc3818c8109d78d'}  RMNP_DP1.00002.001_000.020   \n727693  {'$oid': '60cbd5280fc3818c8108d499'}  RMNP_DP1.00002.001_000.020   \n512528  {'$oid': '60cbd8970fc3818c81708f89'}  NIWO_DP1.00002.001_000.020   \n\n                              epoch_time         startDateTime  \\\n890089  {'$numberLong': '1524960000000'}  2018-04-29T00:00:00Z   \n87586   {'$numberLong': '1496340000000'}  2017-06-01T18:00:00Z   \n743897  {'$numberLong': '1536685200000'}  2018-09-11T17:00:00Z   \n727693  {'$numberLong': '1504900800000'}  2017-09-08T20:00:00Z   \n512528  {'$numberLong': '1556377200000'}  2019-04-27T15:00:00Z   \n\n                 endDateTime  tempSingleMean  tempSingleMinimum  \\\n890089  2018-04-29T00:30:00Z          9.6170             9.1877   \n87586   2017-06-01T18:30:00Z         12.6128            10.9652   \n743897  2018-09-11T17:30:00Z         21.7179            20.8234   \n727693  2017-09-08T20:30:00Z         18.3687            17.6121   \n512528  2019-04-27T15:30:00Z         -2.9045            -3.2098   \n\n        tempSingleMaximum  tempSingleVariance  tempSingleNumPts  \\\n890089             9.8605              0.0231              1800   \n87586             14.6488              0.8196              1800   \n743897            22.9984              0.1813              1800   \n727693            20.6681              0.6177              1800   \n512528            -2.6333              0.0243              1470   \n\n        tempSingleExpUncert  tempSingleStdErMean  finalQF  \n890089               0.1387               0.0036        0  \n87586                0.1468               0.0213        0  \n743897               0.1456               0.0100        0  \n727693               0.1479               0.0185        0  \n512528               0.1333               0.0041        1  ",
      "text/html": "<div>\n<style scoped>\n    .dataframe tbody tr th:only-of-type {\n        vertical-align: middle;\n    }\n\n    .dataframe tbody tr th {\n        vertical-align: top;\n    }\n\n    .dataframe thead th {\n        text-align: right;\n    }\n</style>\n<table border=\"1\" class=\"dataframe\">\n  <thead>\n    <tr style=\"text-align: right;\">\n      <th></th>\n      <th>_id</th>\n      <th>site</th>\n      <th>epoch_time</th>\n      <th>startDateTime</th>\n      <th>endDateTime</th>\n      <th>tempSingleMean</th>\n      <th>tempSingleMinimum</th>\n      <th>tempSingleMaximum</th>\n      <th>tempSingleVariance</th>\n      <th>tempSingleNumPts</th>\n      <th>tempSingleExpUncert</th>\n      <th>tempSingleStdErMean</th>\n      <th>finalQF</th>\n    </tr>\n  </thead>\n  <tbody>\n    <tr>\n      <th>890089</th>\n      <td>{'$oid': '60cbd52f0fc3818c81097553'}</td>\n      <td>RMNP_DP1.00002.001_000.040</td>\n      <td>{'$numberLong': '1524960000000'}</td>\n      <td>2018-04-29T00:00:00Z</td>\n      <td>2018-04-29T00:30:00Z</td>\n      <td>9.6170</td>\n      <td>9.1877</td>\n      <td>9.8605</td>\n      <td>0.0231</td>\n      <td>1800</td>\n      <td>0.1387</td>\n      <td>0.0036</td>\n      <td>0</td>\n    </tr>\n    <tr>\n      <th>87586</th>\n      <td>{'$oid': '60cbd8140fc3818c8161050b'}</td>\n      <td>COMO_DP1.00002.001_200.000</td>\n      <td>{'$numberLong': '1496340000000'}</td>\n      <td>2017-06-01T18:00:00Z</td>\n      <td>2017-06-01T18:30:00Z</td>\n      <td>12.6128</td>\n      <td>10.9652</td>\n      <td>14.6488</td>\n      <td>0.8196</td>\n      <td>1800</td>\n      <td>0.1468</td>\n      <td>0.0213</td>\n      <td>0</td>\n    </tr>\n    <tr>\n      <th>743897</th>\n      <td>{'$oid': '60cbd5320fc3818c8109d78d'}</td>\n      <td>RMNP_DP1.00002.001_000.020</td>\n      <td>{'$numberLong': '1536685200000'}</td>\n      <td>2018-09-11T17:00:00Z</td>\n      <td>2018-09-11T17:30:00Z</td>\n      <td>21.7179</td>\n      <td>20.8234</td>\n      <td>22.9984</td>\n      <td>0.1813</td>\n      <td>1800</td>\n      <td>0.1456</td>\n      <td>0.0100</td>\n      <td>0</td>\n    </tr>\n    <tr>\n      <th>727693</th>\n      <td>{'$oid': '60cbd5280fc3818c8108d499'}</td>\n      <td>RMNP_DP1.00002.001_000.020</td>\n      <td>{'$numberLong': '1504900800000'}</td>\n      <td>2017-09-08T20:00:00Z</td>\n      <td>2017-09-08T20:30:00Z</td>\n      <td>18.3687</td>\n      <td>17.6121</td>\n      <td>20.6681</td>\n      <td>0.6177</td>\n      <td>1800</td>\n      <td>0.1479</td>\n      <td>0.0185</td>\n      <td>0</td>\n    </tr>\n    <tr>\n      <th>512528</th>\n      <td>{'$oid': '60cbd8970fc3818c81708f89'}</td>\n      <td>NIWO_DP1.00002.001_000.020</td>\n      <td>{'$numberLong': '1556377200000'}</td>\n      <td>2019-04-27T15:00:00Z</td>\n      <td>2019-04-27T15:30:00Z</td>\n      <td>-2.9045</td>\n      <td>-3.2098</td>\n      <td>-2.6333</td>\n      <td>0.0243</td>\n      <td>1470</td>\n      <td>0.1333</td>\n      <td>0.0041</td>\n      <td>1</td>\n    </tr>\n  </tbody>\n</table>\n</div>"
     },
     "execution_count": 39,
     "metadata": {},
     "output_type": "execute_result"
    }
   ],
   "source": [
    "temperatureDataFrame = pd.io.json.read_json('../data/neon_single_asp_air_temperature.Colorado/data.json')\n",
    "temperatureDataFrame.sample(5)"
   ]
  },
  {
   "cell_type": "code",
   "execution_count": 40,
   "metadata": {
    "scrolled": true
   },
   "outputs": [
    {
     "data": {
      "text/plain": "           name                                              label\n17   stepPassQM  Quality metric that summarizes the passed outc...\n23    gapPassQM  Quality metric that summarizes the passed outc...\n26  spikePassQM  Quality metric that summarizes the passed outc...\n27    spikeNAQM  Quality metric that summarizes when the spike ...\n19   nullFailQM  Quality metric that summarizes the failed outc...",
      "text/html": "<div>\n<style scoped>\n    .dataframe tbody tr th:only-of-type {\n        vertical-align: middle;\n    }\n\n    .dataframe tbody tr th {\n        vertical-align: top;\n    }\n\n    .dataframe thead th {\n        text-align: right;\n    }\n</style>\n<table border=\"1\" class=\"dataframe\">\n  <thead>\n    <tr style=\"text-align: right;\">\n      <th></th>\n      <th>name</th>\n      <th>label</th>\n    </tr>\n  </thead>\n  <tbody>\n    <tr>\n      <th>17</th>\n      <td>stepPassQM</td>\n      <td>Quality metric that summarizes the passed outc...</td>\n    </tr>\n    <tr>\n      <th>23</th>\n      <td>gapPassQM</td>\n      <td>Quality metric that summarizes the passed outc...</td>\n    </tr>\n    <tr>\n      <th>26</th>\n      <td>spikePassQM</td>\n      <td>Quality metric that summarizes the passed outc...</td>\n    </tr>\n    <tr>\n      <th>27</th>\n      <td>spikeNAQM</td>\n      <td>Quality metric that summarizes when the spike ...</td>\n    </tr>\n    <tr>\n      <th>19</th>\n      <td>nullFailQM</td>\n      <td>Quality metric that summarizes the failed outc...</td>\n    </tr>\n  </tbody>\n</table>\n</div>"
     },
     "execution_count": 40,
     "metadata": {},
     "output_type": "execute_result"
    }
   ],
   "source": [
    "temperatureLabelsFrame = pd.io.json.read_json('../data/neon_single_asp_air_temperature.Colorado/fieldLabels.json')\n",
    "temperatureLabelsFrame.sample(5)"
   ]
  },
  {
   "cell_type": "code",
   "execution_count": 41,
   "metadata": {
    "scrolled": true
   },
   "outputs": [
    {
     "data": {
      "text/plain": "                                     _id     type  \\\n10  {'$oid': '60cbd3907adbc5ff35cc41a5'}  Feature   \n2   {'$oid': '60cbd3907adbc5ff35cc41cc'}  Feature   \n13  {'$oid': '60cbd3907adbc5ff35cc41a3'}  Feature   \n9   {'$oid': '60cbd3907adbc5ff35cc41a6'}  Feature   \n5   {'$oid': '60cbd3907adbc5ff35cc421b'}  Feature   \n\n                                             geometry  \\\n10  {'type': 'Point', 'coordinates': [-104.74559, ...   \n2   {'type': 'Point', 'coordinates': [-105.545955,...   \n13  {'type': 'Point', 'coordinates': [-103.02929, ...   \n9   {'type': 'Point', 'coordinates': [-104.74559, ...   \n5   {'type': 'Point', 'coordinates': [-105.544602,...   \n\n                                           properties  \\\n10  {'HOR.VER': '000.020', 'name': 'CFGLOC100241',...   \n2   {'HOR.VER': '000.040', 'name': 'CFGLOC100674',...   \n13  {'HOR.VER': '000.030', 'name': 'CFGLOC100018',...   \n9   {'HOR.VER': '000.030', 'name': 'CFGLOC100244',...   \n5   {'HOR.VER': '200.000', 'name': 'CFGLOC101559',...   \n\n                          site  \n10  CPER_DP1.00002.001_000.020  \n2   RMNP_DP1.00002.001_000.040  \n13  STER_DP1.00002.001_000.030  \n9   CPER_DP1.00002.001_000.030  \n5   COMO_DP1.00002.001_200.000  ",
      "text/html": "<div>\n<style scoped>\n    .dataframe tbody tr th:only-of-type {\n        vertical-align: middle;\n    }\n\n    .dataframe tbody tr th {\n        vertical-align: top;\n    }\n\n    .dataframe thead th {\n        text-align: right;\n    }\n</style>\n<table border=\"1\" class=\"dataframe\">\n  <thead>\n    <tr style=\"text-align: right;\">\n      <th></th>\n      <th>_id</th>\n      <th>type</th>\n      <th>geometry</th>\n      <th>properties</th>\n      <th>site</th>\n    </tr>\n  </thead>\n  <tbody>\n    <tr>\n      <th>10</th>\n      <td>{'$oid': '60cbd3907adbc5ff35cc41a5'}</td>\n      <td>Feature</td>\n      <td>{'type': 'Point', 'coordinates': [-104.74559, ...</td>\n      <td>{'HOR.VER': '000.020', 'name': 'CFGLOC100241',...</td>\n      <td>CPER_DP1.00002.001_000.020</td>\n    </tr>\n    <tr>\n      <th>2</th>\n      <td>{'$oid': '60cbd3907adbc5ff35cc41cc'}</td>\n      <td>Feature</td>\n      <td>{'type': 'Point', 'coordinates': [-105.545955,...</td>\n      <td>{'HOR.VER': '000.040', 'name': 'CFGLOC100674',...</td>\n      <td>RMNP_DP1.00002.001_000.040</td>\n    </tr>\n    <tr>\n      <th>13</th>\n      <td>{'$oid': '60cbd3907adbc5ff35cc41a3'}</td>\n      <td>Feature</td>\n      <td>{'type': 'Point', 'coordinates': [-103.02929, ...</td>\n      <td>{'HOR.VER': '000.030', 'name': 'CFGLOC100018',...</td>\n      <td>STER_DP1.00002.001_000.030</td>\n    </tr>\n    <tr>\n      <th>9</th>\n      <td>{'$oid': '60cbd3907adbc5ff35cc41a6'}</td>\n      <td>Feature</td>\n      <td>{'type': 'Point', 'coordinates': [-104.74559, ...</td>\n      <td>{'HOR.VER': '000.030', 'name': 'CFGLOC100244',...</td>\n      <td>CPER_DP1.00002.001_000.030</td>\n    </tr>\n    <tr>\n      <th>5</th>\n      <td>{'$oid': '60cbd3907adbc5ff35cc421b'}</td>\n      <td>Feature</td>\n      <td>{'type': 'Point', 'coordinates': [-105.544602,...</td>\n      <td>{'HOR.VER': '200.000', 'name': 'CFGLOC101559',...</td>\n      <td>COMO_DP1.00002.001_200.000</td>\n    </tr>\n  </tbody>\n</table>\n</div>"
     },
     "execution_count": 41,
     "metadata": {},
     "output_type": "execute_result"
    }
   ],
   "source": [
    "temperatureGeometryFrame = pd.io.json.read_json('../data/neon_single_asp_air_temperature.Colorado/linkedGeometry.json')\n",
    "temperatureGeometryFrame.sample(5)"
   ]
  },
  {
   "cell_type": "markdown",
   "metadata": {},
   "source": [
    "### U.S. Census Total County Population Dataset"
   ]
  },
  {
   "cell_type": "code",
   "execution_count": 42,
   "metadata": {},
   "outputs": [
    {
     "data": {
      "text/plain": "                                     _id   GISJOIN     STATE  STATEFP  \\\n0   {'$oid': '607d4c2708e81eceb6b6e384'}  G0800010  Colorado        8   \n1   {'$oid': '607d4c2708e81eceb6b6e385'}  G0800030  Colorado        8   \n2   {'$oid': '607d4c2708e81eceb6b6e386'}  G0800050  Colorado        8   \n3   {'$oid': '607d4c2708e81eceb6b6e387'}  G0800070  Colorado        8   \n4   {'$oid': '607d4c2708e81eceb6b6e388'}  G0800090  Colorado        8   \n..                                   ...       ...       ...      ...   \n58  {'$oid': '607d4c2708e81eceb6b6e3bf'}  G0801170  Colorado        8   \n59  {'$oid': '607d4c2708e81eceb6b6e3c4'}  G0801190  Colorado        8   \n60  {'$oid': '607d4c2708e81eceb6b6e3c3'}  G0801210  Colorado        8   \n61  {'$oid': '607d4c2708e81eceb6b6e3c2'}  G0801230  Colorado        8   \n62  {'$oid': '607d4c2708e81eceb6b6e3c5'}  G0801250  Colorado        8   \n\n    STATENH             COUNTY  COUNTYFP  COUNTYNH  1980_total_population  \\\n0        80       Adams County         1        10                 245944   \n1        80     Alamosa County         3        30                  11799   \n2        80    Arapahoe County         5        50                 293621   \n3        80   Archuleta County         7        70                   3664   \n4        80        Baca County         9        90                   5419   \n..      ...                ...       ...       ...                    ...   \n58       80      Summit County       117      1170                   8848   \n59       80      Teller County       119      1190                   8034   \n60       80  Washington County       121      1210                   5304   \n61       80        Weld County       123      1230                 123438   \n62       80        Yuma County       125      1250                   9682   \n\n    1990_total_population  2000_total_population  2010_total_population  \n0                  265038                 363857                 441603  \n1                   13617                  14966                  15445  \n2                  391511                 487967                 572003  \n3                    5345                   9898                  12084  \n4                    4556                   4517                   3788  \n..                    ...                    ...                    ...  \n58                  12881                  23548                  27994  \n59                  12468                  20555                  23350  \n60                   4812                   4926                   4814  \n61                 131821                 180936                 252825  \n62                   8954                   9841                  10043  \n\n[63 rows x 12 columns]",
      "text/html": "<div>\n<style scoped>\n    .dataframe tbody tr th:only-of-type {\n        vertical-align: middle;\n    }\n\n    .dataframe tbody tr th {\n        vertical-align: top;\n    }\n\n    .dataframe thead th {\n        text-align: right;\n    }\n</style>\n<table border=\"1\" class=\"dataframe\">\n  <thead>\n    <tr style=\"text-align: right;\">\n      <th></th>\n      <th>_id</th>\n      <th>GISJOIN</th>\n      <th>STATE</th>\n      <th>STATEFP</th>\n      <th>STATENH</th>\n      <th>COUNTY</th>\n      <th>COUNTYFP</th>\n      <th>COUNTYNH</th>\n      <th>1980_total_population</th>\n      <th>1990_total_population</th>\n      <th>2000_total_population</th>\n      <th>2010_total_population</th>\n    </tr>\n  </thead>\n  <tbody>\n    <tr>\n      <th>0</th>\n      <td>{'$oid': '607d4c2708e81eceb6b6e384'}</td>\n      <td>G0800010</td>\n      <td>Colorado</td>\n      <td>8</td>\n      <td>80</td>\n      <td>Adams County</td>\n      <td>1</td>\n      <td>10</td>\n      <td>245944</td>\n      <td>265038</td>\n      <td>363857</td>\n      <td>441603</td>\n    </tr>\n    <tr>\n      <th>1</th>\n      <td>{'$oid': '607d4c2708e81eceb6b6e385'}</td>\n      <td>G0800030</td>\n      <td>Colorado</td>\n      <td>8</td>\n      <td>80</td>\n      <td>Alamosa County</td>\n      <td>3</td>\n      <td>30</td>\n      <td>11799</td>\n      <td>13617</td>\n      <td>14966</td>\n      <td>15445</td>\n    </tr>\n    <tr>\n      <th>2</th>\n      <td>{'$oid': '607d4c2708e81eceb6b6e386'}</td>\n      <td>G0800050</td>\n      <td>Colorado</td>\n      <td>8</td>\n      <td>80</td>\n      <td>Arapahoe County</td>\n      <td>5</td>\n      <td>50</td>\n      <td>293621</td>\n      <td>391511</td>\n      <td>487967</td>\n      <td>572003</td>\n    </tr>\n    <tr>\n      <th>3</th>\n      <td>{'$oid': '607d4c2708e81eceb6b6e387'}</td>\n      <td>G0800070</td>\n      <td>Colorado</td>\n      <td>8</td>\n      <td>80</td>\n      <td>Archuleta County</td>\n      <td>7</td>\n      <td>70</td>\n      <td>3664</td>\n      <td>5345</td>\n      <td>9898</td>\n      <td>12084</td>\n    </tr>\n    <tr>\n      <th>4</th>\n      <td>{'$oid': '607d4c2708e81eceb6b6e388'}</td>\n      <td>G0800090</td>\n      <td>Colorado</td>\n      <td>8</td>\n      <td>80</td>\n      <td>Baca County</td>\n      <td>9</td>\n      <td>90</td>\n      <td>5419</td>\n      <td>4556</td>\n      <td>4517</td>\n      <td>3788</td>\n    </tr>\n    <tr>\n      <th>...</th>\n      <td>...</td>\n      <td>...</td>\n      <td>...</td>\n      <td>...</td>\n      <td>...</td>\n      <td>...</td>\n      <td>...</td>\n      <td>...</td>\n      <td>...</td>\n      <td>...</td>\n      <td>...</td>\n      <td>...</td>\n    </tr>\n    <tr>\n      <th>58</th>\n      <td>{'$oid': '607d4c2708e81eceb6b6e3bf'}</td>\n      <td>G0801170</td>\n      <td>Colorado</td>\n      <td>8</td>\n      <td>80</td>\n      <td>Summit County</td>\n      <td>117</td>\n      <td>1170</td>\n      <td>8848</td>\n      <td>12881</td>\n      <td>23548</td>\n      <td>27994</td>\n    </tr>\n    <tr>\n      <th>59</th>\n      <td>{'$oid': '607d4c2708e81eceb6b6e3c4'}</td>\n      <td>G0801190</td>\n      <td>Colorado</td>\n      <td>8</td>\n      <td>80</td>\n      <td>Teller County</td>\n      <td>119</td>\n      <td>1190</td>\n      <td>8034</td>\n      <td>12468</td>\n      <td>20555</td>\n      <td>23350</td>\n    </tr>\n    <tr>\n      <th>60</th>\n      <td>{'$oid': '607d4c2708e81eceb6b6e3c3'}</td>\n      <td>G0801210</td>\n      <td>Colorado</td>\n      <td>8</td>\n      <td>80</td>\n      <td>Washington County</td>\n      <td>121</td>\n      <td>1210</td>\n      <td>5304</td>\n      <td>4812</td>\n      <td>4926</td>\n      <td>4814</td>\n    </tr>\n    <tr>\n      <th>61</th>\n      <td>{'$oid': '607d4c2708e81eceb6b6e3c2'}</td>\n      <td>G0801230</td>\n      <td>Colorado</td>\n      <td>8</td>\n      <td>80</td>\n      <td>Weld County</td>\n      <td>123</td>\n      <td>1230</td>\n      <td>123438</td>\n      <td>131821</td>\n      <td>180936</td>\n      <td>252825</td>\n    </tr>\n    <tr>\n      <th>62</th>\n      <td>{'$oid': '607d4c2708e81eceb6b6e3c5'}</td>\n      <td>G0801250</td>\n      <td>Colorado</td>\n      <td>8</td>\n      <td>80</td>\n      <td>Yuma County</td>\n      <td>125</td>\n      <td>1250</td>\n      <td>9682</td>\n      <td>8954</td>\n      <td>9841</td>\n      <td>10043</td>\n    </tr>\n  </tbody>\n</table>\n<p>63 rows × 12 columns</p>\n</div>"
     },
     "execution_count": 42,
     "metadata": {},
     "output_type": "execute_result"
    }
   ],
   "source": [
    "populationDataFrame = pd.io.json.read_json('../data/county_total_population.Colorado/data.json')\n",
    "populationDataFrame"
   ]
  },
  {
   "cell_type": "code",
   "execution_count": 43,
   "metadata": {},
   "outputs": [
    {
     "data": {
      "text/plain": "Empty DataFrame\nColumns: []\nIndex: []",
      "text/html": "<div>\n<style scoped>\n    .dataframe tbody tr th:only-of-type {\n        vertical-align: middle;\n    }\n\n    .dataframe tbody tr th {\n        vertical-align: top;\n    }\n\n    .dataframe thead th {\n        text-align: right;\n    }\n</style>\n<table border=\"1\" class=\"dataframe\">\n  <thead>\n    <tr style=\"text-align: right;\">\n      <th></th>\n    </tr>\n  </thead>\n  <tbody>\n  </tbody>\n</table>\n</div>"
     },
     "execution_count": 43,
     "metadata": {},
     "output_type": "execute_result"
    }
   ],
   "source": [
    "populationLabelsFrame = pd.io.json.read_json('../data/county_total_population.Colorado/fieldLabels.json')\n",
    "populationLabelsFrame"
   ]
  },
  {
   "cell_type": "code",
   "execution_count": 44,
   "metadata": {},
   "outputs": [
    {
     "data": {
      "text/plain": "                                     _id     type  \\\n0   {'$oid': '604964ecfed2e95d6b68b676'}  Feature   \n1   {'$oid': '604964ecfed2e95d6b68b684'}  Feature   \n2   {'$oid': '604964eefed2e95d6b68bb16'}  Feature   \n3   {'$oid': '604964eefed2e95d6b68b9c8'}  Feature   \n4   {'$oid': '604964eefed2e95d6b68b83d'}  Feature   \n..                                   ...      ...   \n59  {'$oid': '604964ecfed2e95d6b68b677'}  Feature   \n60  {'$oid': '604964eefed2e95d6b68b840'}  Feature   \n61  {'$oid': '604964eefed2e95d6b68b9c5'}  Feature   \n62  {'$oid': '604964eefed2e95d6b68b9c3'}  Feature   \n63  {'$oid': '604964ecfed2e95d6b68b674'}  Feature   \n\n                                             geometry  \\\n0   {'type': 'Polygon', 'coordinates': [[[-104.961...   \n1   {'type': 'Polygon', 'coordinates': [[[-105.457...   \n2   {'type': 'MultiPolygon', 'coordinates': [[[[-1...   \n3   {'type': 'Polygon', 'coordinates': [[[-107.128...   \n4   {'type': 'Polygon', 'coordinates': [[[-102.747...   \n..                                                ...   \n59  {'type': 'Polygon', 'coordinates': [[[-105.924...   \n60  {'type': 'Polygon', 'coordinates': [[[-105.329...   \n61  {'type': 'Polygon', 'coordinates': [[[-102.779...   \n62  {'type': 'MultiPolygon', 'coordinates': [[[[-1...   \n63  {'type': 'Polygon', 'coordinates': [[[-102.664...   \n\n                                           properties   GISJOIN  \n0   {'STATEFP10': '08', 'COUNTYFP10': '001', 'COUN...  G0800010  \n1   {'STATEFP10': '08', 'COUNTYFP10': '003', 'COUN...  G0800030  \n2   {'STATEFP10': '08', 'COUNTYFP10': '005', 'COUN...  G0800050  \n3   {'STATEFP10': '08', 'COUNTYFP10': '007', 'COUN...  G0800070  \n4   {'STATEFP10': '08', 'COUNTYFP10': '009', 'COUN...  G0800090  \n..                                                ...       ...  \n59  {'STATEFP10': '08', 'COUNTYFP10': '117', 'COUN...  G0801170  \n60  {'STATEFP10': '08', 'COUNTYFP10': '119', 'COUN...  G0801190  \n61  {'STATEFP10': '08', 'COUNTYFP10': '121', 'COUN...  G0801210  \n62  {'STATEFP10': '08', 'COUNTYFP10': '123', 'COUN...  G0801230  \n63  {'STATEFP10': '08', 'COUNTYFP10': '125', 'COUN...  G0801250  \n\n[64 rows x 5 columns]",
      "text/html": "<div>\n<style scoped>\n    .dataframe tbody tr th:only-of-type {\n        vertical-align: middle;\n    }\n\n    .dataframe tbody tr th {\n        vertical-align: top;\n    }\n\n    .dataframe thead th {\n        text-align: right;\n    }\n</style>\n<table border=\"1\" class=\"dataframe\">\n  <thead>\n    <tr style=\"text-align: right;\">\n      <th></th>\n      <th>_id</th>\n      <th>type</th>\n      <th>geometry</th>\n      <th>properties</th>\n      <th>GISJOIN</th>\n    </tr>\n  </thead>\n  <tbody>\n    <tr>\n      <th>0</th>\n      <td>{'$oid': '604964ecfed2e95d6b68b676'}</td>\n      <td>Feature</td>\n      <td>{'type': 'Polygon', 'coordinates': [[[-104.961...</td>\n      <td>{'STATEFP10': '08', 'COUNTYFP10': '001', 'COUN...</td>\n      <td>G0800010</td>\n    </tr>\n    <tr>\n      <th>1</th>\n      <td>{'$oid': '604964ecfed2e95d6b68b684'}</td>\n      <td>Feature</td>\n      <td>{'type': 'Polygon', 'coordinates': [[[-105.457...</td>\n      <td>{'STATEFP10': '08', 'COUNTYFP10': '003', 'COUN...</td>\n      <td>G0800030</td>\n    </tr>\n    <tr>\n      <th>2</th>\n      <td>{'$oid': '604964eefed2e95d6b68bb16'}</td>\n      <td>Feature</td>\n      <td>{'type': 'MultiPolygon', 'coordinates': [[[[-1...</td>\n      <td>{'STATEFP10': '08', 'COUNTYFP10': '005', 'COUN...</td>\n      <td>G0800050</td>\n    </tr>\n    <tr>\n      <th>3</th>\n      <td>{'$oid': '604964eefed2e95d6b68b9c8'}</td>\n      <td>Feature</td>\n      <td>{'type': 'Polygon', 'coordinates': [[[-107.128...</td>\n      <td>{'STATEFP10': '08', 'COUNTYFP10': '007', 'COUN...</td>\n      <td>G0800070</td>\n    </tr>\n    <tr>\n      <th>4</th>\n      <td>{'$oid': '604964eefed2e95d6b68b83d'}</td>\n      <td>Feature</td>\n      <td>{'type': 'Polygon', 'coordinates': [[[-102.747...</td>\n      <td>{'STATEFP10': '08', 'COUNTYFP10': '009', 'COUN...</td>\n      <td>G0800090</td>\n    </tr>\n    <tr>\n      <th>...</th>\n      <td>...</td>\n      <td>...</td>\n      <td>...</td>\n      <td>...</td>\n      <td>...</td>\n    </tr>\n    <tr>\n      <th>59</th>\n      <td>{'$oid': '604964ecfed2e95d6b68b677'}</td>\n      <td>Feature</td>\n      <td>{'type': 'Polygon', 'coordinates': [[[-105.924...</td>\n      <td>{'STATEFP10': '08', 'COUNTYFP10': '117', 'COUN...</td>\n      <td>G0801170</td>\n    </tr>\n    <tr>\n      <th>60</th>\n      <td>{'$oid': '604964eefed2e95d6b68b840'}</td>\n      <td>Feature</td>\n      <td>{'type': 'Polygon', 'coordinates': [[[-105.329...</td>\n      <td>{'STATEFP10': '08', 'COUNTYFP10': '119', 'COUN...</td>\n      <td>G0801190</td>\n    </tr>\n    <tr>\n      <th>61</th>\n      <td>{'$oid': '604964eefed2e95d6b68b9c5'}</td>\n      <td>Feature</td>\n      <td>{'type': 'Polygon', 'coordinates': [[[-102.779...</td>\n      <td>{'STATEFP10': '08', 'COUNTYFP10': '121', 'COUN...</td>\n      <td>G0801210</td>\n    </tr>\n    <tr>\n      <th>62</th>\n      <td>{'$oid': '604964eefed2e95d6b68b9c3'}</td>\n      <td>Feature</td>\n      <td>{'type': 'MultiPolygon', 'coordinates': [[[[-1...</td>\n      <td>{'STATEFP10': '08', 'COUNTYFP10': '123', 'COUN...</td>\n      <td>G0801230</td>\n    </tr>\n    <tr>\n      <th>63</th>\n      <td>{'$oid': '604964ecfed2e95d6b68b674'}</td>\n      <td>Feature</td>\n      <td>{'type': 'Polygon', 'coordinates': [[[-102.664...</td>\n      <td>{'STATEFP10': '08', 'COUNTYFP10': '125', 'COUN...</td>\n      <td>G0801250</td>\n    </tr>\n  </tbody>\n</table>\n<p>64 rows × 5 columns</p>\n</div>"
     },
     "execution_count": 44,
     "metadata": {},
     "output_type": "execute_result"
    }
   ],
   "source": [
    "populationGeometryFrame = pd.io.json.read_json('../data/county_total_population.Colorado/linkedGeometry.json')\n",
    "populationGeometryFrame"
   ]
  },
  {
   "cell_type": "markdown",
   "metadata": {},
   "source": [
    "## Data Exploration"
   ]
  },
  {
   "cell_type": "code",
   "execution_count": 45,
   "metadata": {},
   "outputs": [
    {
     "name": "stderr",
     "output_type": "stream",
     "text": [
      "c:\\users\\jfizzle\\appdata\\local\\programs\\python\\python38\\lib\\site-packages\\seaborn\\distributions.py:2619: FutureWarning: `distplot` is a deprecated function and will be removed in a future version. Please adapt your code to use either `displot` (a figure-level function with similar flexibility) or `histplot` (an axes-level function for histograms).\n",
      "  warnings.warn(msg, FutureWarning)\n"
     ]
    },
    {
     "data": {
      "text/plain": "<AxesSubplot:xlabel='newCaseCount', ylabel='Density'>"
     },
     "execution_count": 45,
     "metadata": {},
     "output_type": "execute_result"
    },
    {
     "data": {
      "text/plain": "<Figure size 432x288 with 1 Axes>",
      "image/png": "[encoded data removed]"
     },
     "metadata": {
      "needs_background": "light"
     },
     "output_type": "display_data"
    }
   ],
   "source": [
    "sns.distplot(covidDataFrame.newCaseCount)"
   ]
  },
  {
   "cell_type": "code",
   "execution_count": 46,
   "metadata": {},
   "outputs": [
    {
     "name": "stderr",
     "output_type": "stream",
     "text": [
      "c:\\users\\jfizzle\\appdata\\local\\programs\\python\\python38\\lib\\site-packages\\seaborn\\distributions.py:2619: FutureWarning: `distplot` is a deprecated function and will be removed in a future version. Please adapt your code to use either `displot` (a figure-level function with similar flexibility) or `histplot` (an axes-level function for histograms).\n",
      "  warnings.warn(msg, FutureWarning)\n"
     ]
    },
    {
     "data": {
      "text/plain": "<AxesSubplot:xlabel='tempSingleMean', ylabel='Density'>"
     },
     "execution_count": 46,
     "metadata": {},
     "output_type": "execute_result"
    },
    {
     "data": {
      "text/plain": "<Figure size 432x288 with 1 Axes>",
      "image/png": "[encoded data removed]"
     },
     "metadata": {
      "needs_background": "light"
     },
     "output_type": "display_data"
    }
   ],
   "source": [
    "sns.distplot(temperatureDataFrame.tempSingleMean)"
   ]
  },
  {
   "cell_type": "markdown",
   "metadata": {},
   "source": [
    "#### Garbage Collection"
   ]
  },
  {
   "cell_type": "code",
   "execution_count": 47,
   "metadata": {},
   "outputs": [
    {
     "data": {
      "text/plain": "105"
     },
     "execution_count": 47,
     "metadata": {},
     "output_type": "execute_result"
    }
   ],
   "source": [
    "del covidDataFrame\n",
    "del covidLabelsFrame\n",
    "del covidGeometryFrame\n",
    "\n",
    "del windDataFrame\n",
    "del windLabelsFrame\n",
    "del windGeometryFrame\n",
    "\n",
    "del pressureDataFrame\n",
    "del pressureLabelsFrame\n",
    "del pressureGeometryFrame\n",
    "\n",
    "del temperatureDataFrame\n",
    "del temperatureLabelsFrame\n",
    "del temperatureGeometryFrame\n",
    "\n",
    "del populationDataFrame\n",
    "del populationLabelsFrame\n",
    "del populationGeometryFrame\n",
    "\n",
    "gc.collect()"
   ]
  },
  {
   "cell_type": "markdown",
   "metadata": {},
   "source": [
    "## Preprocessing"
   ]
  },
  {
   "cell_type": "markdown",
   "metadata": {},
   "source": [
    "#### Flatten Frames"
   ]
  },
  {
   "cell_type": "code",
   "execution_count": 48,
   "metadata": {},
   "outputs": [],
   "source": [
    "flattenedCovidDataFrame = pd.json_normalize(json.load(open(Path('../data/covid_county.Colorado/data.json'))))\n",
    "flattenedCovidGeometryFrame = pd.json_normalize(json.load(open(Path('../data/covid_county.Colorado/linkedGeometry.json'))))\n",
    "\n",
    "flattenedWindDataFrame = pd.json_normalize(json.load(open(Path('../data/neon_2d_wind.Colorado/data.json'))))\n",
    "flattenedWindGeometryFrame = pd.json_normalize(json.load(open(Path('../data/neon_2d_wind.Colorado/linkedGeometry.json'))))\n",
    "\n",
    "flattenedPressureDataFrame = pd.json_normalize(json.load(open(Path('../data/neon_barometric_pressure.Colorado/data.json'))))\n",
    "flattenedPressureGeometryFrame = pd.json_normalize(json.load(open(Path('../data/neon_barometric_pressure.Colorado/linkedGeometry.json'))))\n",
    "\n",
    "flattenedTemperatureDataFrame = pd.json_normalize(json.load(open(Path('../data/neon_single_asp_air_temperature.Colorado/data.json'))))\n",
    "flattenedTemperatureGeometryFrame = pd.json_normalize(json.load(open(Path('../data/neon_single_asp_air_temperature.Colorado/linkedGeometry.json'))))\n",
    "\n",
    "flattenedPopulationDataFrame = pd.json_normalize(json.load(open(Path('../data/county_total_population.Colorado/data.json'))))\n",
    "flattenedPopulationGeometryFrame = pd.json_normalize(json.load(open(Path('../data/county_total_population.Colorado/linkedGeometry.json'))))"
   ]
  },
  {
   "cell_type": "markdown",
   "metadata": {},
   "source": [
    "#### Generalize Geometry"
   ]
  },
  {
   "cell_type": "code",
   "execution_count": 49,
   "metadata": {},
   "outputs": [],
   "source": [
    "combinedCovidFrame = flattenedCovidDataFrame.set_index('GISJOIN').join(flattenedCovidGeometryFrame.set_index('GISJOIN'), lsuffix='_data', rsuffix='_geo')"
   ]
  },
  {
   "cell_type": "code",
   "execution_count": 50,
   "metadata": {},
   "outputs": [],
   "source": [
    "counties = ['Boulder', 'Grand', 'Larimer', 'Logan', 'Weld', 'Yuma']\n",
    "combinedCovidFrame = combinedCovidFrame[combinedCovidFrame.county.isin(counties)]"
   ]
  },
  {
   "cell_type": "code",
   "execution_count": 51,
   "metadata": {
    "pycharm": {
     "name": "#%%\n"
    }
   },
   "outputs": [],
   "source": [
    "def create_county_polygons(combinedCovidFrame):\n",
    "    county_polygons = []\n",
    "    df = combinedCovidFrame.groupby('county').first().reindex(columns=['coordJsonString', 'geometry.type', \"geometry.coordinates\"])\n",
    "    print(df)\n",
    "    df['coordJsonString'] = df[\"geometry.coordinates\"].apply(json.dumps)\n",
    "    for index, row in df[['coordJsonString', 'geometry.type']].iterrows():\n",
    "        print(f\"processing: {index}\")\n",
    "        shape_data = json.loads(row['coordJsonString'])\n",
    "        county = index\n",
    "        if row['geometry.type'] == 'MultiPolygon':\n",
    "            for p in shape_data:\n",
    "                s = np.asarray(p)[0]\n",
    "                shape = Polygon(*s)\n",
    "                county_polygons.append((county, shape))\n",
    "        elif row['geometry.type'] == 'Polygon':\n",
    "            s = np.asarray(shape_data)[0]\n",
    "            shape = Polygon(*s)\n",
    "            county_polygons.append((county, shape))\n",
    "        else:\n",
    "            print(f\"Row had geometry type of {row['geometry.type']}, row is {row}\")\n",
    "    return county_polygons\n",
    "\n",
    "if not os.path.exists(DATA_PATH + '/county_objects.pickle'):\n",
    "    county_polygons = create_county_polygons(combinedCovidFrame)\n",
    "    with open(DATA_PATH + '/county_objects.pickle', 'wb') as handle:\n",
    "        pickle.dump(county_polygons, handle)\n",
    "else:\n",
    "    with open(DATA_PATH + '/county_objects.pickle', 'rb') as handle:\n",
    "        county_polygons = pickle.load(handle)\n",
    "\n",
    "def lookup_county_from_geometry(county_polygons, geometry):\n",
    "    point = Point(np.asarray(geometry))\n",
    "    for county, shape in county_polygons:\n",
    "        if shape.encloses_point(point):\n",
    "            print(f\"found {county}\")\n",
    "            return county"
   ]
  },
  {
   "cell_type": "code",
   "execution_count": 52,
   "metadata": {
    "pycharm": {
     "name": "#%%\n"
    }
   },
   "outputs": [
    {
     "name": "stdout",
     "output_type": "stream",
     "text": [
      "found Larimer\n",
      "found Grand\n",
      "found Boulder\n",
      "found Boulder\n",
      "found Weld\n",
      "found Logan\n",
      "found Yuma\n",
      "found Larimer\n",
      "found Larimer\n",
      "found Larimer\n",
      "found Larimer\n",
      "found Boulder\n",
      "found Boulder\n",
      "found Boulder\n",
      "found Boulder\n",
      "found Weld\n",
      "found Weld\n",
      "found Weld\n",
      "found Logan\n",
      "found Logan\n",
      "found Logan\n",
      "found Yuma\n",
      "found Larimer\n",
      "found Larimer\n",
      "found Larimer\n",
      "found Larimer\n",
      "found Grand\n",
      "found Boulder\n",
      "found Boulder\n",
      "found Boulder\n",
      "found Boulder\n",
      "found Weld\n",
      "found Weld\n",
      "found Weld\n",
      "found Logan\n",
      "found Logan\n",
      "found Logan\n",
      "found Yuma\n"
     ]
    }
   ],
   "source": [
    "flattenedPressureGeometryFrame['county'] = flattenedPressureGeometryFrame.apply(lambda row: lookup_county_from_geometry(county_polygons, row['geometry.coordinates']), axis=1)\n",
    "flattenedWindGeometryFrame['county'] = flattenedWindGeometryFrame.apply(lambda row: lookup_county_from_geometry(county_polygons, row['geometry.coordinates']), axis=1)\n",
    "flattenedTemperatureGeometryFrame['county'] = flattenedTemperatureGeometryFrame.apply(lambda row: lookup_county_from_geometry(county_polygons, row['geometry.coordinates']), axis=1)"
   ]
  },
  {
   "cell_type": "markdown",
   "metadata": {},
   "source": [
    "#### Join Data and Geometry"
   ]
  },
  {
   "cell_type": "code",
   "execution_count": 53,
   "metadata": {},
   "outputs": [],
   "source": [
    "combinedWindFrame = flattenedWindDataFrame.set_index('site').join(flattenedWindGeometryFrame.set_index('site'), lsuffix='_data', rsuffix='_geo')\n",
    "combinedPressureFrame = flattenedPressureDataFrame.set_index('site').join(flattenedPressureGeometryFrame.set_index('site'), lsuffix='_data', rsuffix='_geo')\n",
    "combinedTemperatureFrame = flattenedTemperatureDataFrame.set_index('site').join(flattenedTemperatureGeometryFrame.set_index('site'), lsuffix='_data', rsuffix='_geo')\n",
    "combinedPopulationFrame = flattenedPopulationDataFrame.set_index('GISJOIN').join(flattenedPopulationGeometryFrame.set_index('GISJOIN'), lsuffix='_data', rsuffix='_geo')"
   ]
  },
  {
   "cell_type": "code",
   "execution_count": 54,
   "metadata": {},
   "outputs": [],
   "source": [
    "combinedCovidFrame.to_pickle('../data/control.pkl')\n",
    "combinedPopulationFrame.to_pickle('../data/population.pkl')"
   ]
  },
  {
   "cell_type": "markdown",
   "metadata": {},
   "source": [
    "#### Generalize Timing"
   ]
  },
  {
   "cell_type": "code",
   "execution_count": 55,
   "metadata": {},
   "outputs": [],
   "source": [
    "combinedCovidFrame['date'] = pd.to_datetime(combinedCovidFrame['dateString']).dt.date\n",
    "combinedWindFrame['date'] = pd.to_datetime(combinedWindFrame['startDateTime']).dt.date\n",
    "combinedPressureFrame['date'] = pd.to_datetime(combinedPressureFrame['startDateTime']).dt.date\n",
    "combinedTemperatureFrame['date'] = pd.to_datetime(combinedTemperatureFrame['startDateTime']).dt.date"
   ]
  },
  {
   "cell_type": "code",
   "execution_count": 56,
   "metadata": {},
   "outputs": [],
   "source": [
    "combinedWindFrame['datetime'] = pd.to_datetime(combinedWindFrame['startDateTime']).dt.round(\"H\")\n",
    "combinedPressureFrame['datetime'] = pd.to_datetime(combinedPressureFrame['startDateTime']).dt.round(\"H\")\n",
    "combinedTemperatureFrame['datetime'] = pd.to_datetime(combinedTemperatureFrame['startDateTime']).dt.round(\"H\")"
   ]
  },
  {
   "cell_type": "code",
   "execution_count": 57,
   "metadata": {},
   "outputs": [
    {
     "data": {
      "text/plain": "191"
     },
     "execution_count": 57,
     "metadata": {},
     "output_type": "execute_result"
    }
   ],
   "source": [
    "del flattenedCovidDataFrame\n",
    "del flattenedCovidGeometryFrame\n",
    "\n",
    "del flattenedWindDataFrame\n",
    "del flattenedWindGeometryFrame\n",
    "\n",
    "del flattenedPressureDataFrame\n",
    "del flattenedPressureGeometryFrame\n",
    "\n",
    "del flattenedTemperatureDataFrame\n",
    "del flattenedTemperatureGeometryFrame\n",
    "\n",
    "del flattenedPopulationDataFrame\n",
    "del flattenedPopulationGeometryFrame\n",
    "\n",
    "gc.collect()"
   ]
  },
  {
   "cell_type": "markdown",
   "metadata": {},
   "source": [
    "#### Build Experimental Datasets"
   ]
  },
  {
   "cell_type": "code",
   "execution_count": 58,
   "metadata": {},
   "outputs": [
    {
     "data": {
      "text/plain": "0"
     },
     "execution_count": 58,
     "metadata": {},
     "output_type": "execute_result"
    }
   ],
   "source": [
    "finalCovidWindFrame = pd.merge(combinedWindFrame, combinedCovidFrame,  how='left', left_on = ['county', 'date'], right_on = ['county', 'date'])\n",
    "finalCovidWindFrame.to_pickle('../data/covidWind.pkl')\n",
    "del finalCovidWindFrame\n",
    "gc.collect()"
   ]
  },
  {
   "cell_type": "code",
   "execution_count": 59,
   "metadata": {},
   "outputs": [
    {
     "data": {
      "text/plain": "0"
     },
     "execution_count": 59,
     "metadata": {},
     "output_type": "execute_result"
    }
   ],
   "source": [
    "finalCovidPressureFrame = pd.merge(combinedPressureFrame, combinedCovidFrame,  how='left', left_on = ['county', 'date'], right_on = ['county', 'date'])\n",
    "finalCovidPressureFrame.to_pickle('../data/covidPressure.pkl')\n",
    "del finalCovidPressureFrame\n",
    "gc.collect()"
   ]
  },
  {
   "cell_type": "code",
   "execution_count": 60,
   "metadata": {},
   "outputs": [
    {
     "data": {
      "text/plain": "0"
     },
     "execution_count": 60,
     "metadata": {},
     "output_type": "execute_result"
    }
   ],
   "source": [
    "finalCovidTemperatureFrame = pd.merge(combinedWindFrame, combinedCovidFrame,  how='left', left_on = ['county', 'date'], right_on = ['county', 'date'])\n",
    "finalCovidTemperatureFrame.to_pickle('../data/covidTemperature.pkl')\n",
    "del finalCovidTemperatureFrame\n",
    "gc.collect()"
   ]
  },
  {
   "cell_type": "code",
   "execution_count": 61,
   "metadata": {},
   "outputs": [
    {
     "data": {
      "text/plain": "15"
     },
     "execution_count": 61,
     "metadata": {},
     "output_type": "execute_result"
    }
   ],
   "source": [
    "del combinedCovidFrame\n",
    "del combinedWindFrame\n",
    "del combinedPressureFrame\n",
    "del combinedTemperatureFrame\n",
    "del combinedPopulationFrame\n",
    "gc.collect()"
   ]
  },
  {
   "cell_type": "markdown",
   "metadata": {},
   "source": [
    "## Training"
   ]
  },
  {
   "cell_type": "markdown",
   "metadata": {},
   "source": [
    "### Control"
   ]
  },
  {
   "cell_type": "code",
   "execution_count": 162,
   "metadata": {
    "pycharm": {
     "name": "#%% Create Datasets\n"
    }
   },
   "outputs": [
    {
     "data": {
      "text/plain": "GISJOIN\nG0800690    20210428\nG0800130    20200711\nG0801230    20210520\nG0801230    20200930\nG0800690    20210716\nG0800490    20200703\nG0801250    20200508\nG0800490    20201027\nG0800690    20200220\nG0800130    20201106\nName: date, dtype: int32"
     },
     "execution_count": 162,
     "metadata": {},
     "output_type": "execute_result"
    }
   ],
   "source": [
    "controlFrame = pd.read_pickle('../data/control.pkl')\n",
    "controlFrame['date'] = pd.to_datetime(controlFrame['dateString']).dt.strftime(\"%Y%m%d\").astype(int)\n",
    "\n",
    "reducedControlFrame = controlFrame[['date', 'county', 'newCaseCount', 'totalCaseCount', 'totalDeathCount', 'newDeathCount']]\n",
    "counties = {'Boulder': 1, 'Grand': 2, 'Larimer': 3, 'Logan': 4, 'Weld': 5, 'Yuma': 6}\n",
    "reducedControlFrame['county_index'] = reducedControlFrame.apply(lambda row: counties[row['county']], axis=1)\n",
    "reducedControlFrame = reducedControlFrame[['date', 'county_index', 'newCaseCount']]\n",
    "\n",
    "train = reducedControlFrame.sample(frac=0.8)\n",
    "test = reducedControlFrame.drop(train.index)\n",
    "\n",
    "train_features = train.copy()\n",
    "test_features = train.copy()\n",
    "\n",
    "train_labels = train_features.pop('newCaseCount')\n",
    "test_labels = test_features.pop('newCaseCount')\n",
    "\n",
    "normalizer = keras.layers.Normalization(axis=-1)\n",
    "normalizer.adapt(np.array(train_features))\n"
   ]
  },
  {
   "cell_type": "markdown",
   "source": [
    "#### Linear Regression"
   ],
   "metadata": {
    "collapsed": false
   }
  },
  {
   "cell_type": "code",
   "execution_count": 200,
   "outputs": [
    {
     "name": "stdout",
     "output_type": "stream",
     "text": [
      "Error\n",
      "29.048498153686523\n",
      "Actual - 10\n",
      "GISJOIN\n",
      "G0800130     17\n",
      "G0800750      1\n",
      "G0800690    114\n",
      "G0800690     40\n",
      "G0800750      0\n",
      "G0800690     91\n",
      "G0800130     56\n",
      "G0800690     27\n",
      "G0800490      3\n",
      "G0800490      2\n",
      "Name: newCaseCount, dtype: int64\n",
      "Predicted - 10\n",
      "[[10.972625 ]\n",
      " [ 9.62025  ]\n",
      " [ 7.018968 ]\n",
      " [ 6.911996 ]\n",
      " [ 4.4189763]\n",
      " [11.60061  ]\n",
      " [16.229403 ]\n",
      " [11.804462 ]\n",
      " [ 8.99832  ]\n",
      " [ 9.197126 ]]\n"
     ]
    }
   ],
   "source": [
    "linear_model = keras.Sequential([\n",
    "    normalizer,\n",
    "    keras.layers.Dense(units=1)\n",
    "])\n",
    "linear_model.compile(\n",
    "    optimizer=tensorflow.optimizers.Adam(learning_rate=0.1),\n",
    "    loss='mean_absolute_error')\n",
    "\n",
    "linear_model.fit(\n",
    "    train_features,\n",
    "    train_labels,\n",
    "    epochs=100,\n",
    "    # Suppress logging.\n",
    "    verbose=0,\n",
    "    # Calculate validation results on 20% of the training data.\n",
    "    validation_split = 0.2)\n",
    "print(\"Error\")\n",
    "print(linear_model.evaluate(test_features, test_labels, verbose=0))\n",
    "print(\"Actual - 10\")\n",
    "print(test_labels[:10])\n",
    "print(\"Predicted - 10\")\n",
    "print(linear_model.predict(test_features[:10]))"
   ],
   "metadata": {
    "collapsed": false,
    "pycharm": {
     "name": "#%% Linear Regression\n"
    }
   }
  },
  {
   "cell_type": "markdown",
   "source": [
    "#### DNN"
   ],
   "metadata": {
    "collapsed": false
   }
  },
  {
   "cell_type": "code",
   "execution_count": 202,
   "outputs": [
    {
     "name": "stdout",
     "output_type": "stream",
     "text": [
      "Error\n",
      "20.717971801757812\n",
      "Actual - 10\n",
      "GISJOIN\n",
      "G0800130     17\n",
      "G0800750      1\n",
      "G0800690    114\n",
      "G0800690     40\n",
      "G0800750      0\n",
      "G0800690     91\n",
      "G0800130     56\n",
      "G0800690     27\n",
      "G0800490      3\n",
      "G0800490      2\n",
      "Name: newCaseCount, dtype: int64\n",
      "Predicted - 10\n",
      "[[ 6.211093  ]\n",
      " [ 1.8922805 ]\n",
      " [27.182228  ]\n",
      " [22.667     ]\n",
      " [-1.2644922 ]\n",
      " [52.02715   ]\n",
      " [40.205208  ]\n",
      " [52.74127   ]\n",
      " [ 0.45969665]\n",
      " [ 6.1006947 ]]\n"
     ]
    }
   ],
   "source": [
    "dnn_model = keras.Sequential([\n",
    "    normalizer,\n",
    "    keras.layers.Dense(64, activation='relu'),\n",
    "    keras.layers.Dense(64, activation='relu'),\n",
    "    keras.layers.Dense(1)\n",
    "])\n",
    "\n",
    "dnn_model.compile(loss='mean_absolute_error', optimizer=tensorflow.keras.optimizers.Adam(0.001))\n",
    "dnn_model.fit(\n",
    "    train_features,\n",
    "    train_labels,\n",
    "    validation_split=0.2,\n",
    "    verbose=0, epochs=100)\n",
    "print(\"Error\")\n",
    "print(dnn_model.evaluate(test_features, test_labels, verbose=0))\n",
    "print(\"Actual - 10\")\n",
    "print(test_labels[:10])\n",
    "print(\"Predicted - 10\")\n",
    "print(dnn_model.predict(test_features[:10]))\n"
   ],
   "metadata": {
    "collapsed": false,
    "pycharm": {
     "name": "#%% DNN\n"
    }
   }
  },
  {
   "cell_type": "markdown",
   "metadata": {},
   "source": [
    "#### Experiment One: Wind"
   ]
  },
  {
   "cell_type": "code",
   "execution_count": 65,
   "metadata": {},
   "outputs": [],
   "source": [
    "covidWindFrame = pd.read_pickle('../data/covidWind.pkl')"
   ]
  },
  {
   "cell_type": "code",
   "execution_count": 66,
   "metadata": {},
   "outputs": [],
   "source": [
    "X_train = covidWindFrame.sample(frac=0.8)\n",
    "X_test = covidWindFrame.drop(X_train.index)"
   ]
  },
  {
   "cell_type": "markdown",
   "metadata": {},
   "source": [
    "#### Experiment Two: Pressure"
   ]
  },
  {
   "cell_type": "code",
   "execution_count": 67,
   "metadata": {},
   "outputs": [],
   "source": [
    "covidPressureFrame = pd.read_pickle('../data/covidPressure.pkl')"
   ]
  },
  {
   "cell_type": "code",
   "execution_count": 68,
   "metadata": {},
   "outputs": [],
   "source": [
    "X_train = covidPressureFrame.sample(frac=0.8)\n",
    "X_test = covidPressureFrame.drop(X_train.index)"
   ]
  },
  {
   "cell_type": "markdown",
   "metadata": {},
   "source": [
    "#### Experiment Three: Temperature"
   ]
  },
  {
   "cell_type": "code",
   "execution_count": 69,
   "metadata": {},
   "outputs": [],
   "source": [
    "covidTemperatureFrame = pd.read_pickle('../data/covidTemperature.pkl')"
   ]
  },
  {
   "cell_type": "code",
   "execution_count": 70,
   "metadata": {},
   "outputs": [],
   "source": [
    "X_train = covidTemperatureFrame.sample(frac=0.8)\n",
    "X_test = covidTemperatureFrame.drop(X_train.index)"
   ]
  },
  {
   "cell_type": "code",
   "execution_count": 71,
   "metadata": {},
   "outputs": [
    {
     "ename": "NameError",
     "evalue": "name 'train_dataset' is not defined",
     "output_type": "error",
     "traceback": [
      "\u001B[1;31m---------------------------------------------------------------------------\u001B[0m",
      "\u001B[1;31mNameError\u001B[0m                                 Traceback (most recent call last)",
      "\u001B[1;32m~\\AppData\\Local\\Temp/ipykernel_5368/3716730681.py\u001B[0m in \u001B[0;36m<module>\u001B[1;34m\u001B[0m\n\u001B[0;32m      1\u001B[0m model = keras.Sequential([\n\u001B[1;32m----> 2\u001B[1;33m     \u001B[0mkeras\u001B[0m\u001B[1;33m.\u001B[0m\u001B[0mlayers\u001B[0m\u001B[1;33m.\u001B[0m\u001B[0mDense\u001B[0m\u001B[1;33m(\u001B[0m\u001B[1;36m64\u001B[0m\u001B[1;33m,\u001B[0m \u001B[0muse_bias\u001B[0m\u001B[1;33m=\u001B[0m\u001B[1;32mFalse\u001B[0m\u001B[1;33m,\u001B[0m \u001B[0mactivation\u001B[0m\u001B[1;33m=\u001B[0m\u001B[1;34m'relu'\u001B[0m\u001B[1;33m,\u001B[0m \u001B[0minput_shape\u001B[0m\u001B[1;33m=\u001B[0m\u001B[1;33m[\u001B[0m\u001B[0mlen\u001B[0m\u001B[1;33m(\u001B[0m\u001B[0mtrain_dataset\u001B[0m\u001B[1;33m.\u001B[0m\u001B[0mkeys\u001B[0m\u001B[1;33m(\u001B[0m\u001B[1;33m)\u001B[0m\u001B[1;33m)\u001B[0m\u001B[1;33m]\u001B[0m\u001B[1;33m)\u001B[0m\u001B[1;33m,\u001B[0m\u001B[1;33m\u001B[0m\u001B[1;33m\u001B[0m\u001B[0m\n\u001B[0m\u001B[0;32m      3\u001B[0m     \u001B[0mkeras\u001B[0m\u001B[1;33m.\u001B[0m\u001B[0mlayers\u001B[0m\u001B[1;33m.\u001B[0m\u001B[0mBatchNormalization\u001B[0m\u001B[1;33m(\u001B[0m\u001B[0mcenter\u001B[0m\u001B[1;33m=\u001B[0m\u001B[1;32mTrue\u001B[0m\u001B[1;33m,\u001B[0m \u001B[0mscale\u001B[0m\u001B[1;33m=\u001B[0m\u001B[1;32mFalse\u001B[0m\u001B[1;33m)\u001B[0m\u001B[1;33m,\u001B[0m\u001B[1;33m\u001B[0m\u001B[1;33m\u001B[0m\u001B[0m\n\u001B[0;32m      4\u001B[0m     \u001B[0mkeras\u001B[0m\u001B[1;33m.\u001B[0m\u001B[0mlayers\u001B[0m\u001B[1;33m.\u001B[0m\u001B[0mActivation\u001B[0m\u001B[1;33m(\u001B[0m\u001B[1;34m'relu'\u001B[0m\u001B[1;33m)\u001B[0m\u001B[1;33m,\u001B[0m\u001B[1;33m\u001B[0m\u001B[1;33m\u001B[0m\u001B[0m\n\u001B[0;32m      5\u001B[0m \u001B[1;33m\u001B[0m\u001B[0m\n",
      "\u001B[1;31mNameError\u001B[0m: name 'train_dataset' is not defined"
     ]
    }
   ],
   "source": [
    "model = keras.Sequential([\n",
    "    keras.layers.Dense(64, use_bias=False, activation='relu', input_shape=[len(train_dataset.keys())]),\n",
    "    keras.layers.BatchNormalization(center=True, scale=False),\n",
    "    keras.layers.Activation('relu'),\n",
    "    \n",
    "    keras.layers.Dense(128, use_bias=False, activation='relu'),\n",
    "    keras.layers.BatchNormalization(center=True, scale=False),\n",
    "    keras.layers.Activation('relu'),\n",
    "    \n",
    "    keras.layers.Dense(256, use_bias=False, activation='relu'),\n",
    "    keras.layers.BatchNormalization(center=True, scale=False),\n",
    "    keras.layers.Activation('relu'),\n",
    "    \n",
    "    keras.layers.Dropout(0.3),\n",
    "    keras.layers.Dense(1)\n",
    "])"
   ]
  },
  {
   "cell_type": "markdown",
   "metadata": {},
   "source": [
    "## References"
   ]
  },
  {
   "cell_type": "markdown",
   "metadata": {},
   "source": [
    "## About this Notebook\n",
    "\n",
    "**Authors:** Kyle Bassignani, Jeff Borgerson, and Christian Westbrook  \n",
    "**Updated On:** 2021-11-20"
   ]
  }
 ],
 "metadata": {
  "kernelspec": {
   "display_name": "Python 3",
   "language": "python",
   "name": "python3"
  },
  "language_info": {
   "codemirror_mode": {
    "name": "ipython",
    "version": 3
   },
   "file_extension": ".py",
   "mimetype": "text/x-python",
   "name": "python",
   "nbconvert_exporter": "python",
   "pygments_lexer": "ipython3",
   "version": "3.8.3"
  }
 },
 "nbformat": 4,
 "nbformat_minor": 4
}