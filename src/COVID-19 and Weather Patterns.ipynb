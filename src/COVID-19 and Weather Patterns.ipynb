{
 "cells": [
  {
   "cell_type": "markdown",
   "metadata": {},
   "source": [
    "# COVID-19 and Weather Patterns"
   ]
  },
  {
   "cell_type": "markdown",
   "metadata": {},
   "source": [
    "## Imports\n",
    "\n",
    "- *os* for interfacing with the operating system\n",
    "- *pathlib* for interfacing with the file system\n",
    "- *zipfile* for managing archive files\n",
    "\n",
    "- *numpy* for array processing\n",
    "- *pandas* for tabular processing\n",
    "- *tensorflow* for tensor processing\n",
    "- *keras* for simplified tensor processing\n",
    "\n",
    "- *matplotlib* for visualization\n",
    "- *seaborn* for enhanced visualization"
   ]
  },
  {
   "cell_type": "code",
   "execution_count": 107,
   "metadata": {},
   "outputs": [
    {
     "data": {
      "text/plain": "'2.7.0'"
     },
     "execution_count": 107,
     "metadata": {},
     "output_type": "execute_result"
    }
   ],
   "source": [
    "# Custom\n",
    "import data_processing\n",
    "\n",
    "# File System\n",
    "import os\n",
    "import json\n",
    "from pathlib import Path\n",
    "from zipfile import ZipFile\n",
    "\n",
    "# Processing\n",
    "import numpy as np\n",
    "import pandas as pd\n",
    "from sympy import *\n",
    "from sympy.geometry import *\n",
    "import tensorflow\n",
    "from tensorflow import keras\n",
    "\n",
    "# Visualization\n",
    "import matplotlib.pyplot as plt\n",
    "import seaborn as sns\n",
    "\n",
    "tensorflow.__version__"
   ]
  },
  {
   "cell_type": "markdown",
   "metadata": {},
   "source": [
    "## Introduction\n",
    "\n",
    "The goal of this work is to determine whether or not weather patterns should be considered as a meaningful supporting input when making predictions about new daily COVID-19 cases within a given geographical space. Using census, weather, and COVID-19 datasets provided by the Urban Sustain project, the authors attempt to quantify the correlation between particular weather patterns and COVID-19 transmission events."
   ]
  },
  {
   "cell_type": "markdown",
   "metadata": {},
   "source": [
    "## Defining Terms\n",
    "\n",
    "***Urban Sustain Project*** - A joint effort between researchers at Colorado State University, Arizona State University, the University of California-Irvine, and the University of Maryland – Baltimore County."
   ]
  },
  {
   "cell_type": "markdown",
   "metadata": {},
   "source": [
    "## Loading Data"
   ]
  },
  {
   "cell_type": "markdown",
   "metadata": {},
   "source": [
    "**DEVELOPER NOTE:** Download the five required datasets from Urban Sustain and place them in the cloned repository at ```./data/```. These datasets are also available at a shared OneDrive folder. This logic expects that these files exist at relative path ```../data/``` with respect to this notebook."
   ]
  },
  {
   "cell_type": "markdown",
   "metadata": {},
   "source": [
    "We'll begin by defining a path to our data directory and a list of the datasets that we expect to find there."
   ]
  },
  {
   "cell_type": "code",
   "execution_count": 108,
   "metadata": {},
   "outputs": [],
   "source": [
    "DATA_PATH = '../data/' # Point this constant to the location of your data archive files\n",
    "\n",
    "EXPECTED_DATASETS = [\n",
    "    'county_total_population.Colorado.zip',\n",
    "    'covid_county.Colorado.zip',\n",
    "    'neon_2d_wind.Colorado.zip',\n",
    "    'neon_barometric_pressure.Colorado.zip',\n",
    "    'neon_single_asp_air_temperature.Colorado.zip'\n",
    "]"
   ]
  },
  {
   "cell_type": "markdown",
   "metadata": {},
   "source": [
    "Next, we will attempt to extract each of these archived datasets into a dedicated subdirectory within the given data directory."
   ]
  },
  {
   "cell_type": "code",
   "execution_count": 109,
   "metadata": {},
   "outputs": [],
   "source": [
    "# For each listed dataset string in the EXPECTED_DATASETS constant\n",
    "for datasetName in EXPECTED_DATASETS:\n",
    "    try:\n",
    "        # Open the given archive file\n",
    "        with ZipFile(DATA_PATH + datasetName, 'r') as currentZip:\n",
    "            # Build the target directory path for extracted data\n",
    "            datasetNameTokens = datasetName.split('.')\n",
    "            datasetNameTokens.remove('zip')\n",
    "            targetDirectory = DATA_PATH + '.'.join(datasetNameTokens)\n",
    "            \n",
    "            # If the target directory doesn't exist, create it\n",
    "            if not os.path.exists(targetDirectory):\n",
    "                Path(targetDirectory).mkdir()\n",
    "            \n",
    "            # Extract all data from the archive file to the target directory\n",
    "            currentZip.extractall(targetDirectory)\n",
    "    except FileNotFoundError:\n",
    "        print(\"Unable to open \" + datasetName + \" at path \" + DATA_PATH + datasetName)"
   ]
  },
  {
   "cell_type": "markdown",
   "metadata": {},
   "source": [
    "## File Information\n",
    "\n",
    "Four of the five datasets referenced in this work relate geospatial information to particular events as they occur over time Each is provided by the Urban Sustain project and employs a similar file structure.\n",
    "\n",
    "- data.json\n",
    "- fieldLabels.json\n",
    "- linkedGeometry.json\n",
    "- README.txt\n"
   ]
  },
  {
   "cell_type": "markdown",
   "metadata": {},
   "source": [
    "#### New York Times COVID-19 County Dataset\n",
    "\n",
    "The included COVID-19 County dataset "
   ]
  },
  {
   "cell_type": "code",
   "execution_count": 110,
   "metadata": {},
   "outputs": [
    {
     "data": {
      "text/plain": "                                        _id   GISJOIN  \\\n2265   {'$oid': '615fc624bf06594c4cad4b29'}  G0800070   \n18281  {'$oid': '615fc626bf06594c4cad8a35'}  G0800570   \n14949  {'$oid': '615fc625bf06594c4cad7c1e'}  G0800450   \n9662   {'$oid': '615fc625bf06594c4cad681f'}  G0800290   \n8046   {'$oid': '615fc624bf06594c4cad61a2'}  G0800230   \n\n                             epoch_time dateString     county     state  \\\n2265   {'$numberLong': '1611990000000'}    1/30/21  Archuleta  Colorado   \n18281  {'$numberLong': '1604646000000'}    11/6/20    Jackson  Colorado   \n14949  {'$numberLong': '1616824800000'}    3/27/21   Garfield  Colorado   \n9662   {'$numberLong': '1605423600000'}   11/15/20      Delta  Colorado   \n8046   {'$numberLong': '1623823200000'}    6/16/21   Costilla  Colorado   \n\n       totalCaseCount  newCaseCount  totalDeathCount  newDeathCount  \n2265              603             1                1              0  \n18281               9             0                0              0  \n14949            5373             9               38              0  \n9662              354            14                3              0  \n8046              249             0                4              0  ",
      "text/html": "<div>\n<style scoped>\n    .dataframe tbody tr th:only-of-type {\n        vertical-align: middle;\n    }\n\n    .dataframe tbody tr th {\n        vertical-align: top;\n    }\n\n    .dataframe thead th {\n        text-align: right;\n    }\n</style>\n<table border=\"1\" class=\"dataframe\">\n  <thead>\n    <tr style=\"text-align: right;\">\n      <th></th>\n      <th>_id</th>\n      <th>GISJOIN</th>\n      <th>epoch_time</th>\n      <th>dateString</th>\n      <th>county</th>\n      <th>state</th>\n      <th>totalCaseCount</th>\n      <th>newCaseCount</th>\n      <th>totalDeathCount</th>\n      <th>newDeathCount</th>\n    </tr>\n  </thead>\n  <tbody>\n    <tr>\n      <th>2265</th>\n      <td>{'$oid': '615fc624bf06594c4cad4b29'}</td>\n      <td>G0800070</td>\n      <td>{'$numberLong': '1611990000000'}</td>\n      <td>1/30/21</td>\n      <td>Archuleta</td>\n      <td>Colorado</td>\n      <td>603</td>\n      <td>1</td>\n      <td>1</td>\n      <td>0</td>\n    </tr>\n    <tr>\n      <th>18281</th>\n      <td>{'$oid': '615fc626bf06594c4cad8a35'}</td>\n      <td>G0800570</td>\n      <td>{'$numberLong': '1604646000000'}</td>\n      <td>11/6/20</td>\n      <td>Jackson</td>\n      <td>Colorado</td>\n      <td>9</td>\n      <td>0</td>\n      <td>0</td>\n      <td>0</td>\n    </tr>\n    <tr>\n      <th>14949</th>\n      <td>{'$oid': '615fc625bf06594c4cad7c1e'}</td>\n      <td>G0800450</td>\n      <td>{'$numberLong': '1616824800000'}</td>\n      <td>3/27/21</td>\n      <td>Garfield</td>\n      <td>Colorado</td>\n      <td>5373</td>\n      <td>9</td>\n      <td>38</td>\n      <td>0</td>\n    </tr>\n    <tr>\n      <th>9662</th>\n      <td>{'$oid': '615fc625bf06594c4cad681f'}</td>\n      <td>G0800290</td>\n      <td>{'$numberLong': '1605423600000'}</td>\n      <td>11/15/20</td>\n      <td>Delta</td>\n      <td>Colorado</td>\n      <td>354</td>\n      <td>14</td>\n      <td>3</td>\n      <td>0</td>\n    </tr>\n    <tr>\n      <th>8046</th>\n      <td>{'$oid': '615fc624bf06594c4cad61a2'}</td>\n      <td>G0800230</td>\n      <td>{'$numberLong': '1623823200000'}</td>\n      <td>6/16/21</td>\n      <td>Costilla</td>\n      <td>Colorado</td>\n      <td>249</td>\n      <td>0</td>\n      <td>4</td>\n      <td>0</td>\n    </tr>\n  </tbody>\n</table>\n</div>"
     },
     "execution_count": 110,
     "metadata": {},
     "output_type": "execute_result"
    }
   ],
   "source": [
    "covidDataFrame = pd.io.json.read_json('../data/covid_county.Colorado/data.json')\n",
    "covidDataFrame.sample(5)"
   ]
  },
  {
   "cell_type": "code",
   "execution_count": 111,
   "metadata": {},
   "outputs": [
    {
     "data": {
      "text/plain": "              name              label\n2  totalDeathCount  Total Death Count\n3     newCaseCount     New Case Count\n0       epoch_time               Date\n4   totalCaseCount   Total Case Count\n1    newDeathCount    New Death Count",
      "text/html": "<div>\n<style scoped>\n    .dataframe tbody tr th:only-of-type {\n        vertical-align: middle;\n    }\n\n    .dataframe tbody tr th {\n        vertical-align: top;\n    }\n\n    .dataframe thead th {\n        text-align: right;\n    }\n</style>\n<table border=\"1\" class=\"dataframe\">\n  <thead>\n    <tr style=\"text-align: right;\">\n      <th></th>\n      <th>name</th>\n      <th>label</th>\n    </tr>\n  </thead>\n  <tbody>\n    <tr>\n      <th>2</th>\n      <td>totalDeathCount</td>\n      <td>Total Death Count</td>\n    </tr>\n    <tr>\n      <th>3</th>\n      <td>newCaseCount</td>\n      <td>New Case Count</td>\n    </tr>\n    <tr>\n      <th>0</th>\n      <td>epoch_time</td>\n      <td>Date</td>\n    </tr>\n    <tr>\n      <th>4</th>\n      <td>totalCaseCount</td>\n      <td>Total Case Count</td>\n    </tr>\n    <tr>\n      <th>1</th>\n      <td>newDeathCount</td>\n      <td>New Death Count</td>\n    </tr>\n  </tbody>\n</table>\n</div>"
     },
     "execution_count": 111,
     "metadata": {},
     "output_type": "execute_result"
    }
   ],
   "source": [
    "covidLabelsFrame = pd.io.json.read_json('../data/covid_county.Colorado/fieldLabels.json')\n",
    "covidLabelsFrame.sample(5)"
   ]
  },
  {
   "cell_type": "code",
   "execution_count": 112,
   "metadata": {
    "scrolled": true
   },
   "outputs": [
    {
     "data": {
      "text/plain": "                                     _id     type  \\\n30  {'$oid': '604964ecfed2e95d6b68b68f'}  Feature   \n2   {'$oid': '604964eefed2e95d6b68bb16'}  Feature   \n10  {'$oid': '604964eefed2e95d6b68b843'}  Feature   \n49  {'$oid': '604964ecfed2e95d6b68b678'}  Feature   \n37  {'$oid': '604964ecfed2e95d6b68b680'}  Feature   \n\n                                             geometry  \\\n30  {'type': 'MultiPolygon', 'coordinates': [[[[-1...   \n2   {'type': 'MultiPolygon', 'coordinates': [[[[-1...   \n10  {'type': 'Polygon', 'coordinates': [[[-105.397...   \n49  {'type': 'Polygon', 'coordinates': [[[-107.113...   \n37  {'type': 'Polygon', 'coordinates': [[[-103.707...   \n\n                                           properties   GISJOIN  \n30  {'STATEFP10': '08', 'COUNTYFP10': '059', 'COUN...  G0800590  \n2   {'STATEFP10': '08', 'COUNTYFP10': '005', 'COUN...  G0800050  \n10  {'STATEFP10': '08', 'COUNTYFP10': '019', 'COUN...  G0800190  \n49  {'STATEFP10': '08', 'COUNTYFP10': '097', 'COUN...  G0800970  \n37  {'STATEFP10': '08', 'COUNTYFP10': '073', 'COUN...  G0800730  ",
      "text/html": "<div>\n<style scoped>\n    .dataframe tbody tr th:only-of-type {\n        vertical-align: middle;\n    }\n\n    .dataframe tbody tr th {\n        vertical-align: top;\n    }\n\n    .dataframe thead th {\n        text-align: right;\n    }\n</style>\n<table border=\"1\" class=\"dataframe\">\n  <thead>\n    <tr style=\"text-align: right;\">\n      <th></th>\n      <th>_id</th>\n      <th>type</th>\n      <th>geometry</th>\n      <th>properties</th>\n      <th>GISJOIN</th>\n    </tr>\n  </thead>\n  <tbody>\n    <tr>\n      <th>30</th>\n      <td>{'$oid': '604964ecfed2e95d6b68b68f'}</td>\n      <td>Feature</td>\n      <td>{'type': 'MultiPolygon', 'coordinates': [[[[-1...</td>\n      <td>{'STATEFP10': '08', 'COUNTYFP10': '059', 'COUN...</td>\n      <td>G0800590</td>\n    </tr>\n    <tr>\n      <th>2</th>\n      <td>{'$oid': '604964eefed2e95d6b68bb16'}</td>\n      <td>Feature</td>\n      <td>{'type': 'MultiPolygon', 'coordinates': [[[[-1...</td>\n      <td>{'STATEFP10': '08', 'COUNTYFP10': '005', 'COUN...</td>\n      <td>G0800050</td>\n    </tr>\n    <tr>\n      <th>10</th>\n      <td>{'$oid': '604964eefed2e95d6b68b843'}</td>\n      <td>Feature</td>\n      <td>{'type': 'Polygon', 'coordinates': [[[-105.397...</td>\n      <td>{'STATEFP10': '08', 'COUNTYFP10': '019', 'COUN...</td>\n      <td>G0800190</td>\n    </tr>\n    <tr>\n      <th>49</th>\n      <td>{'$oid': '604964ecfed2e95d6b68b678'}</td>\n      <td>Feature</td>\n      <td>{'type': 'Polygon', 'coordinates': [[[-107.113...</td>\n      <td>{'STATEFP10': '08', 'COUNTYFP10': '097', 'COUN...</td>\n      <td>G0800970</td>\n    </tr>\n    <tr>\n      <th>37</th>\n      <td>{'$oid': '604964ecfed2e95d6b68b680'}</td>\n      <td>Feature</td>\n      <td>{'type': 'Polygon', 'coordinates': [[[-103.707...</td>\n      <td>{'STATEFP10': '08', 'COUNTYFP10': '073', 'COUN...</td>\n      <td>G0800730</td>\n    </tr>\n  </tbody>\n</table>\n</div>"
     },
     "execution_count": 112,
     "metadata": {},
     "output_type": "execute_result"
    }
   ],
   "source": [
    "covidGeometryFrame = pd.io.json.read_json('../data/covid_county.Colorado/linkedGeometry.json')\n",
    "covidGeometryFrame.sample(5)"
   ]
  },
  {
   "cell_type": "markdown",
   "metadata": {},
   "source": [
    "#### NEON 2D Wind Dataset"
   ]
  },
  {
   "cell_type": "code",
   "execution_count": 113,
   "metadata": {
    "scrolled": true
   },
   "outputs": [
    {
     "data": {
      "text/plain": "                                          _id                        site  \\\n768520   {'$oid': '60cbc29751c1683b46654f47'}  RMNP_DP1.00001.001_000.010   \n1115655  {'$oid': '60cbc03151c1683b4622a21b'}  STER_DP1.00001.001_000.010   \n651877   {'$oid': '60cbc6f051c1683b46de7185'}  NIWO_DP1.00001.001_000.030   \n36467    {'$oid': '60cbc55851c1683b46b229a8'}  ARIK_DP1.00001.001_200.000   \n1292155  {'$oid': '60cbc04a51c1683b46254a98'}  STER_DP1.00001.001_000.020   \n\n                               epoch_time         startDateTime  \\\n768520   {'$numberLong': '1563537600000'}  2019-07-19T12:00:00Z   \n1115655  {'$numberLong': '1401834600000'}  2014-06-03T22:30:00Z   \n651877   {'$numberLong': '1539289800000'}  2018-10-11T20:30:00Z   \n36467    {'$numberLong': '1529897400000'}  2018-06-25T03:30:00Z   \n1292155  {'$numberLong': '1519939800000'}  2018-03-01T21:30:00Z   \n\n                  endDateTime  windSpeedMean  windSpeedMinimum  \\\n768520   2019-07-19T12:30:00Z           0.56              0.01   \n1115655  2014-06-03T23:00:00Z           0.24              0.00   \n651877   2018-10-11T21:00:00Z           5.95              2.93   \n36467    2018-06-25T04:00:00Z           1.44              0.38   \n1292155  2018-03-01T22:00:00Z           7.09              3.52   \n\n         windSpeedMaximum  windSpeedVariance  windSpeedNumPts  \\\n768520               1.87               0.10             1800   \n1115655              0.96               0.02             1800   \n651877              10.74               1.59             1800   \n36467                2.57               0.21             1800   \n1292155             12.73               1.91             1800   \n\n         windSpeedExpUncert  windSpeedStdErMean  windSpeedFinalQF  \\\n768520                 0.04                0.01                 0   \n1115655                0.02                0.00                 0   \n651877                 0.41                0.03                 0   \n36467                  0.05                0.01                 0   \n1292155                0.53                0.03                 0   \n\n         windDirMean  windDirVariance  windDirNumPts  windDirExpUncert  \\\n768520         96.31          2904.17           1800              0.07   \n1115655       312.52          2489.99           1800              0.19   \n651877        252.98           139.85           1800              0.07   \n36467         245.96           216.47           1800              0.07   \n1292155       158.17           107.05           1800              0.19   \n\n         windDirStdErMean  windDirFinalQF  \n768520               0.05               1  \n1115655              0.04               1  \n651877               0.00               0  \n36467                0.01               0  \n1292155              0.00               0  ",
      "text/html": "<div>\n<style scoped>\n    .dataframe tbody tr th:only-of-type {\n        vertical-align: middle;\n    }\n\n    .dataframe tbody tr th {\n        vertical-align: top;\n    }\n\n    .dataframe thead th {\n        text-align: right;\n    }\n</style>\n<table border=\"1\" class=\"dataframe\">\n  <thead>\n    <tr style=\"text-align: right;\">\n      <th></th>\n      <th>_id</th>\n      <th>site</th>\n      <th>epoch_time</th>\n      <th>startDateTime</th>\n      <th>endDateTime</th>\n      <th>windSpeedMean</th>\n      <th>windSpeedMinimum</th>\n      <th>windSpeedMaximum</th>\n      <th>windSpeedVariance</th>\n      <th>windSpeedNumPts</th>\n      <th>windSpeedExpUncert</th>\n      <th>windSpeedStdErMean</th>\n      <th>windSpeedFinalQF</th>\n      <th>windDirMean</th>\n      <th>windDirVariance</th>\n      <th>windDirNumPts</th>\n      <th>windDirExpUncert</th>\n      <th>windDirStdErMean</th>\n      <th>windDirFinalQF</th>\n    </tr>\n  </thead>\n  <tbody>\n    <tr>\n      <th>768520</th>\n      <td>{'$oid': '60cbc29751c1683b46654f47'}</td>\n      <td>RMNP_DP1.00001.001_000.010</td>\n      <td>{'$numberLong': '1563537600000'}</td>\n      <td>2019-07-19T12:00:00Z</td>\n      <td>2019-07-19T12:30:00Z</td>\n      <td>0.56</td>\n      <td>0.01</td>\n      <td>1.87</td>\n      <td>0.10</td>\n      <td>1800</td>\n      <td>0.04</td>\n      <td>0.01</td>\n      <td>0</td>\n      <td>96.31</td>\n      <td>2904.17</td>\n      <td>1800</td>\n      <td>0.07</td>\n      <td>0.05</td>\n      <td>1</td>\n    </tr>\n    <tr>\n      <th>1115655</th>\n      <td>{'$oid': '60cbc03151c1683b4622a21b'}</td>\n      <td>STER_DP1.00001.001_000.010</td>\n      <td>{'$numberLong': '1401834600000'}</td>\n      <td>2014-06-03T22:30:00Z</td>\n      <td>2014-06-03T23:00:00Z</td>\n      <td>0.24</td>\n      <td>0.00</td>\n      <td>0.96</td>\n      <td>0.02</td>\n      <td>1800</td>\n      <td>0.02</td>\n      <td>0.00</td>\n      <td>0</td>\n      <td>312.52</td>\n      <td>2489.99</td>\n      <td>1800</td>\n      <td>0.19</td>\n      <td>0.04</td>\n      <td>1</td>\n    </tr>\n    <tr>\n      <th>651877</th>\n      <td>{'$oid': '60cbc6f051c1683b46de7185'}</td>\n      <td>NIWO_DP1.00001.001_000.030</td>\n      <td>{'$numberLong': '1539289800000'}</td>\n      <td>2018-10-11T20:30:00Z</td>\n      <td>2018-10-11T21:00:00Z</td>\n      <td>5.95</td>\n      <td>2.93</td>\n      <td>10.74</td>\n      <td>1.59</td>\n      <td>1800</td>\n      <td>0.41</td>\n      <td>0.03</td>\n      <td>0</td>\n      <td>252.98</td>\n      <td>139.85</td>\n      <td>1800</td>\n      <td>0.07</td>\n      <td>0.00</td>\n      <td>0</td>\n    </tr>\n    <tr>\n      <th>36467</th>\n      <td>{'$oid': '60cbc55851c1683b46b229a8'}</td>\n      <td>ARIK_DP1.00001.001_200.000</td>\n      <td>{'$numberLong': '1529897400000'}</td>\n      <td>2018-06-25T03:30:00Z</td>\n      <td>2018-06-25T04:00:00Z</td>\n      <td>1.44</td>\n      <td>0.38</td>\n      <td>2.57</td>\n      <td>0.21</td>\n      <td>1800</td>\n      <td>0.05</td>\n      <td>0.01</td>\n      <td>0</td>\n      <td>245.96</td>\n      <td>216.47</td>\n      <td>1800</td>\n      <td>0.07</td>\n      <td>0.01</td>\n      <td>0</td>\n    </tr>\n    <tr>\n      <th>1292155</th>\n      <td>{'$oid': '60cbc04a51c1683b46254a98'}</td>\n      <td>STER_DP1.00001.001_000.020</td>\n      <td>{'$numberLong': '1519939800000'}</td>\n      <td>2018-03-01T21:30:00Z</td>\n      <td>2018-03-01T22:00:00Z</td>\n      <td>7.09</td>\n      <td>3.52</td>\n      <td>12.73</td>\n      <td>1.91</td>\n      <td>1800</td>\n      <td>0.53</td>\n      <td>0.03</td>\n      <td>0</td>\n      <td>158.17</td>\n      <td>107.05</td>\n      <td>1800</td>\n      <td>0.19</td>\n      <td>0.00</td>\n      <td>0</td>\n    </tr>\n  </tbody>\n</table>\n</div>"
     },
     "execution_count": 113,
     "metadata": {},
     "output_type": "execute_result"
    }
   ],
   "source": [
    "windDataFrame = pd.io.json.read_json('../data/neon_2d_wind.Colorado/data.json')\n",
    "windDataFrame.sample(5)"
   ]
  },
  {
   "cell_type": "code",
   "execution_count": 114,
   "metadata": {},
   "outputs": [
    {
     "data": {
      "text/plain": "                    name                                              label\n59        windDirFinalQF  Wind direction quality flag indicating whether...\n0             epoch_time                                               Date\n20    windSpeedGapPassQM  Wind speed quality metric that summarizes the ...\n60  windDirFinalQFSciRvw  Wind direction quality flag indicating whether...\n31      windSpeedFinalQF  Wind speed quality flag indicating whether a d...",
      "text/html": "<div>\n<style scoped>\n    .dataframe tbody tr th:only-of-type {\n        vertical-align: middle;\n    }\n\n    .dataframe tbody tr th {\n        vertical-align: top;\n    }\n\n    .dataframe thead th {\n        text-align: right;\n    }\n</style>\n<table border=\"1\" class=\"dataframe\">\n  <thead>\n    <tr style=\"text-align: right;\">\n      <th></th>\n      <th>name</th>\n      <th>label</th>\n    </tr>\n  </thead>\n  <tbody>\n    <tr>\n      <th>59</th>\n      <td>windDirFinalQF</td>\n      <td>Wind direction quality flag indicating whether...</td>\n    </tr>\n    <tr>\n      <th>0</th>\n      <td>epoch_time</td>\n      <td>Date</td>\n    </tr>\n    <tr>\n      <th>20</th>\n      <td>windSpeedGapPassQM</td>\n      <td>Wind speed quality metric that summarizes the ...</td>\n    </tr>\n    <tr>\n      <th>60</th>\n      <td>windDirFinalQFSciRvw</td>\n      <td>Wind direction quality flag indicating whether...</td>\n    </tr>\n    <tr>\n      <th>31</th>\n      <td>windSpeedFinalQF</td>\n      <td>Wind speed quality flag indicating whether a d...</td>\n    </tr>\n  </tbody>\n</table>\n</div>"
     },
     "execution_count": 114,
     "metadata": {},
     "output_type": "execute_result"
    }
   ],
   "source": [
    "windLabelsFrame = pd.io.json.read_json('../data/neon_2d_wind.Colorado/fieldLabels.json')\n",
    "windLabelsFrame.sample(5)"
   ]
  },
  {
   "cell_type": "code",
   "execution_count": 115,
   "metadata": {
    "scrolled": false
   },
   "outputs": [
    {
     "data": {
      "text/plain": "                                     _id     type  \\\n1   {'$oid': '60cbcf5eed5577c25c205233'}  Feature   \n11  {'$oid': '60cbcf5eed5577c25c20520a'}  Feature   \n3   {'$oid': '60cbcf5eed5577c25c205232'}  Feature   \n4   {'$oid': '60cbcf5eed5577c25c205282'}  Feature   \n5   {'$oid': '60cbcf5eed5577c25c205294'}  Feature   \n\n                                             geometry  \\\n1   {'type': 'Point', 'coordinates': [-105.545955,...   \n11  {'type': 'Point', 'coordinates': [-103.02929, ...   \n3   {'type': 'Point', 'coordinates': [-105.545955,...   \n4   {'type': 'Point', 'coordinates': [-105.544602,...   \n5   {'type': 'Point', 'coordinates': [-105.58238, ...   \n\n                                           properties  \\\n1   {'HOR.VER': '000.040', 'name': 'CFGLOC100675',...   \n11  {'HOR.VER': '000.030', 'name': 'CFGLOC100115',...   \n3   {'HOR.VER': '000.030', 'name': 'CFGLOC100672',...   \n4   {'HOR.VER': '200.000', 'name': 'CFGLOC101555',...   \n5   {'HOR.VER': '000.010', 'name': 'CFGLOC109345',...   \n\n                          site  \n1   RMNP_DP1.00001.001_000.040  \n11  STER_DP1.00001.001_000.030  \n3   RMNP_DP1.00001.001_000.030  \n4   COMO_DP1.00001.001_200.000  \n5   NIWO_DP1.00001.001_000.010  ",
      "text/html": "<div>\n<style scoped>\n    .dataframe tbody tr th:only-of-type {\n        vertical-align: middle;\n    }\n\n    .dataframe tbody tr th {\n        vertical-align: top;\n    }\n\n    .dataframe thead th {\n        text-align: right;\n    }\n</style>\n<table border=\"1\" class=\"dataframe\">\n  <thead>\n    <tr style=\"text-align: right;\">\n      <th></th>\n      <th>_id</th>\n      <th>type</th>\n      <th>geometry</th>\n      <th>properties</th>\n      <th>site</th>\n    </tr>\n  </thead>\n  <tbody>\n    <tr>\n      <th>1</th>\n      <td>{'$oid': '60cbcf5eed5577c25c205233'}</td>\n      <td>Feature</td>\n      <td>{'type': 'Point', 'coordinates': [-105.545955,...</td>\n      <td>{'HOR.VER': '000.040', 'name': 'CFGLOC100675',...</td>\n      <td>RMNP_DP1.00001.001_000.040</td>\n    </tr>\n    <tr>\n      <th>11</th>\n      <td>{'$oid': '60cbcf5eed5577c25c20520a'}</td>\n      <td>Feature</td>\n      <td>{'type': 'Point', 'coordinates': [-103.02929, ...</td>\n      <td>{'HOR.VER': '000.030', 'name': 'CFGLOC100115',...</td>\n      <td>STER_DP1.00001.001_000.030</td>\n    </tr>\n    <tr>\n      <th>3</th>\n      <td>{'$oid': '60cbcf5eed5577c25c205232'}</td>\n      <td>Feature</td>\n      <td>{'type': 'Point', 'coordinates': [-105.545955,...</td>\n      <td>{'HOR.VER': '000.030', 'name': 'CFGLOC100672',...</td>\n      <td>RMNP_DP1.00001.001_000.030</td>\n    </tr>\n    <tr>\n      <th>4</th>\n      <td>{'$oid': '60cbcf5eed5577c25c205282'}</td>\n      <td>Feature</td>\n      <td>{'type': 'Point', 'coordinates': [-105.544602,...</td>\n      <td>{'HOR.VER': '200.000', 'name': 'CFGLOC101555',...</td>\n      <td>COMO_DP1.00001.001_200.000</td>\n    </tr>\n    <tr>\n      <th>5</th>\n      <td>{'$oid': '60cbcf5eed5577c25c205294'}</td>\n      <td>Feature</td>\n      <td>{'type': 'Point', 'coordinates': [-105.58238, ...</td>\n      <td>{'HOR.VER': '000.010', 'name': 'CFGLOC109345',...</td>\n      <td>NIWO_DP1.00001.001_000.010</td>\n    </tr>\n  </tbody>\n</table>\n</div>"
     },
     "execution_count": 115,
     "metadata": {},
     "output_type": "execute_result"
    }
   ],
   "source": [
    "windGeometryFrame = pd.io.json.read_json('../data/neon_2d_wind.Colorado/linkedGeometry.json')\n",
    "windGeometryFrame.sample(5)"
   ]
  },
  {
   "cell_type": "markdown",
   "metadata": {},
   "source": [
    "#### NEON Barometric Pressure Dataset"
   ]
  },
  {
   "cell_type": "code",
   "execution_count": 116,
   "metadata": {
    "scrolled": true
   },
   "outputs": [
    {
     "data": {
      "text/plain": "                                         _id                site  \\\n398168  {'$oid': '60c78cdac8cb4f3f3b2205aa'}  STER_DP1.00004.001   \n475769  {'$oid': '60c78ce4c8cb4f3f3b2334c5'}  STER_DP1.00004.001   \n523656  {'$oid': '60c78d4bc8cb4f3f3b2ed673'}  WLOU_DP1.00004.001   \n208277  {'$oid': '60c78b14c8cb4f3f3bedc8c0'}  CPER_DP1.00004.001   \n418152  {'$oid': '60c78cdcc8cb4f3f3b2252ea'}  STER_DP1.00004.001   \n\n                              epoch_time         startDateTime  \\\n398168  {'$numberLong': '1455942600000'}  2016-02-20T04:30:00Z   \n475769  {'$numberLong': '1599055200000'}  2020-09-02T14:00:00Z   \n523656  {'$numberLong': '1602288000000'}  2020-10-10T00:00:00Z   \n208277  {'$numberLong': '1571353200000'}  2019-10-17T23:00:00Z   \n418152  {'$numberLong': '1492090200000'}  2017-04-13T13:30:00Z   \n\n                 endDateTime  staPresMean  staPresMinimum  staPresMaximum  \\\n398168  2016-02-20T05:00:00Z     85.93485        85.91549        85.95750   \n475769  2020-09-02T14:30:00Z     86.52151        86.50850        86.52851   \n523656  2020-10-10T00:30:00Z     71.77729        71.76906        71.78906   \n208277  2019-10-17T23:30:00Z     82.22920        82.20497        82.24498   \n418152  2017-04-13T14:00:00Z     86.57310        86.54726        86.60728   \n\n        staPresVariance  staPresNumPts  staPresExpUncert  staPresStdErMean  \\\n398168          0.00017            180           0.01731           0.00096   \n475769          0.00002            180           0.04722           0.00035   \n523656          0.00003            180           0.04729           0.00040   \n208277          0.00018            180           0.01731           0.00099   \n418152          0.00026            180           0.01737           0.00121   \n\n        staPresFinalQF    corPres  corPresExpUncert  corPresFinalQF  \n398168               0  101.66907           0.11269               0  \n475769               0  101.20819           0.11893               0  \n523656               0  100.52983           0.44723               0  \n208277               0   99.36239           0.13812               0  \n418152               0  102.04812           0.11062               0  ",
      "text/html": "<div>\n<style scoped>\n    .dataframe tbody tr th:only-of-type {\n        vertical-align: middle;\n    }\n\n    .dataframe tbody tr th {\n        vertical-align: top;\n    }\n\n    .dataframe thead th {\n        text-align: right;\n    }\n</style>\n<table border=\"1\" class=\"dataframe\">\n  <thead>\n    <tr style=\"text-align: right;\">\n      <th></th>\n      <th>_id</th>\n      <th>site</th>\n      <th>epoch_time</th>\n      <th>startDateTime</th>\n      <th>endDateTime</th>\n      <th>staPresMean</th>\n      <th>staPresMinimum</th>\n      <th>staPresMaximum</th>\n      <th>staPresVariance</th>\n      <th>staPresNumPts</th>\n      <th>staPresExpUncert</th>\n      <th>staPresStdErMean</th>\n      <th>staPresFinalQF</th>\n      <th>corPres</th>\n      <th>corPresExpUncert</th>\n      <th>corPresFinalQF</th>\n    </tr>\n  </thead>\n  <tbody>\n    <tr>\n      <th>398168</th>\n      <td>{'$oid': '60c78cdac8cb4f3f3b2205aa'}</td>\n      <td>STER_DP1.00004.001</td>\n      <td>{'$numberLong': '1455942600000'}</td>\n      <td>2016-02-20T04:30:00Z</td>\n      <td>2016-02-20T05:00:00Z</td>\n      <td>85.93485</td>\n      <td>85.91549</td>\n      <td>85.95750</td>\n      <td>0.00017</td>\n      <td>180</td>\n      <td>0.01731</td>\n      <td>0.00096</td>\n      <td>0</td>\n      <td>101.66907</td>\n      <td>0.11269</td>\n      <td>0</td>\n    </tr>\n    <tr>\n      <th>475769</th>\n      <td>{'$oid': '60c78ce4c8cb4f3f3b2334c5'}</td>\n      <td>STER_DP1.00004.001</td>\n      <td>{'$numberLong': '1599055200000'}</td>\n      <td>2020-09-02T14:00:00Z</td>\n      <td>2020-09-02T14:30:00Z</td>\n      <td>86.52151</td>\n      <td>86.50850</td>\n      <td>86.52851</td>\n      <td>0.00002</td>\n      <td>180</td>\n      <td>0.04722</td>\n      <td>0.00035</td>\n      <td>0</td>\n      <td>101.20819</td>\n      <td>0.11893</td>\n      <td>0</td>\n    </tr>\n    <tr>\n      <th>523656</th>\n      <td>{'$oid': '60c78d4bc8cb4f3f3b2ed673'}</td>\n      <td>WLOU_DP1.00004.001</td>\n      <td>{'$numberLong': '1602288000000'}</td>\n      <td>2020-10-10T00:00:00Z</td>\n      <td>2020-10-10T00:30:00Z</td>\n      <td>71.77729</td>\n      <td>71.76906</td>\n      <td>71.78906</td>\n      <td>0.00003</td>\n      <td>180</td>\n      <td>0.04729</td>\n      <td>0.00040</td>\n      <td>0</td>\n      <td>100.52983</td>\n      <td>0.44723</td>\n      <td>0</td>\n    </tr>\n    <tr>\n      <th>208277</th>\n      <td>{'$oid': '60c78b14c8cb4f3f3bedc8c0'}</td>\n      <td>CPER_DP1.00004.001</td>\n      <td>{'$numberLong': '1571353200000'}</td>\n      <td>2019-10-17T23:00:00Z</td>\n      <td>2019-10-17T23:30:00Z</td>\n      <td>82.22920</td>\n      <td>82.20497</td>\n      <td>82.24498</td>\n      <td>0.00018</td>\n      <td>180</td>\n      <td>0.01731</td>\n      <td>0.00099</td>\n      <td>0</td>\n      <td>99.36239</td>\n      <td>0.13812</td>\n      <td>0</td>\n    </tr>\n    <tr>\n      <th>418152</th>\n      <td>{'$oid': '60c78cdcc8cb4f3f3b2252ea'}</td>\n      <td>STER_DP1.00004.001</td>\n      <td>{'$numberLong': '1492090200000'}</td>\n      <td>2017-04-13T13:30:00Z</td>\n      <td>2017-04-13T14:00:00Z</td>\n      <td>86.57310</td>\n      <td>86.54726</td>\n      <td>86.60728</td>\n      <td>0.00026</td>\n      <td>180</td>\n      <td>0.01737</td>\n      <td>0.00121</td>\n      <td>0</td>\n      <td>102.04812</td>\n      <td>0.11062</td>\n      <td>0</td>\n    </tr>\n  </tbody>\n</table>\n</div>"
     },
     "execution_count": 116,
     "metadata": {},
     "output_type": "execute_result"
    }
   ],
   "source": [
    "pressureDataFrame = pd.io.json.read_json('../data/neon_barometric_pressure.Colorado/data.json')\n",
    "pressureDataFrame.sample(5)"
   ]
  },
  {
   "cell_type": "code",
   "execution_count": 117,
   "metadata": {},
   "outputs": [
    {
     "data": {
      "text/plain": "                  name                                              label\n4       staPresMinimum                           Minimum Station Pressure\n2          endDateTime     Date and time at which a sampling is completed\n10  staPresRangeFailQM  Station pressure quality metric that summarize...\n26  staPresSpikePassQM  Station pressure quality metric that summarize...\n20   staPresNullPassQM  Station pressure quality metric that summarize...",
      "text/html": "<div>\n<style scoped>\n    .dataframe tbody tr th:only-of-type {\n        vertical-align: middle;\n    }\n\n    .dataframe tbody tr th {\n        vertical-align: top;\n    }\n\n    .dataframe thead th {\n        text-align: right;\n    }\n</style>\n<table border=\"1\" class=\"dataframe\">\n  <thead>\n    <tr style=\"text-align: right;\">\n      <th></th>\n      <th>name</th>\n      <th>label</th>\n    </tr>\n  </thead>\n  <tbody>\n    <tr>\n      <th>4</th>\n      <td>staPresMinimum</td>\n      <td>Minimum Station Pressure</td>\n    </tr>\n    <tr>\n      <th>2</th>\n      <td>endDateTime</td>\n      <td>Date and time at which a sampling is completed</td>\n    </tr>\n    <tr>\n      <th>10</th>\n      <td>staPresRangeFailQM</td>\n      <td>Station pressure quality metric that summarize...</td>\n    </tr>\n    <tr>\n      <th>26</th>\n      <td>staPresSpikePassQM</td>\n      <td>Station pressure quality metric that summarize...</td>\n    </tr>\n    <tr>\n      <th>20</th>\n      <td>staPresNullPassQM</td>\n      <td>Station pressure quality metric that summarize...</td>\n    </tr>\n  </tbody>\n</table>\n</div>"
     },
     "execution_count": 117,
     "metadata": {},
     "output_type": "execute_result"
    }
   ],
   "source": [
    "pressureLabelsFrame = pd.io.json.read_json('../data/neon_barometric_pressure.Colorado/fieldLabels.json')\n",
    "pressureLabelsFrame.sample(5)"
   ]
  },
  {
   "cell_type": "code",
   "execution_count": 118,
   "metadata": {
    "scrolled": true
   },
   "outputs": [
    {
     "data": {
      "text/plain": "                                    _id     type  \\\n1  {'$oid': '60c78a9d230c7f49850c20ef'}  Feature   \n2  {'$oid': '60c78a9d230c7f49850c20b0'}  Feature   \n4  {'$oid': '60c78a9d230c7f49850c20b1'}  Feature   \n6  {'$oid': '60c78a9d230c7f49850c20a5'}  Feature   \n0  {'$oid': '60c78a9d230c7f49850c20dc'}  Feature   \n\n                                            geometry  \\\n1  {'type': 'Point', 'coordinates': [-105.914674,...   \n2  {'type': 'Point', 'coordinates': [-105.544602,...   \n4  {'type': 'Point', 'coordinates': [-104.74559, ...   \n6  {'type': 'Point', 'coordinates': [-102.450966,...   \n0  {'type': 'Point', 'coordinates': [-105.545955,...   \n\n                                          properties                site  \n1  {'site': 'WLOU_DP1.00004.001', 'name': 'neon_b...  WLOU_DP1.00004.001  \n2  {'site': 'COMO_DP1.00004.001', 'name': 'neon_b...  COMO_DP1.00004.001  \n4  {'site': 'CPER_DP1.00004.001', 'name': 'neon_b...  CPER_DP1.00004.001  \n6  {'site': 'ARIK_DP1.00004.001', 'name': 'neon_b...  ARIK_DP1.00004.001  \n0  {'site': 'RMNP_DP1.00004.001', 'name': 'neon_b...  RMNP_DP1.00004.001  ",
      "text/html": "<div>\n<style scoped>\n    .dataframe tbody tr th:only-of-type {\n        vertical-align: middle;\n    }\n\n    .dataframe tbody tr th {\n        vertical-align: top;\n    }\n\n    .dataframe thead th {\n        text-align: right;\n    }\n</style>\n<table border=\"1\" class=\"dataframe\">\n  <thead>\n    <tr style=\"text-align: right;\">\n      <th></th>\n      <th>_id</th>\n      <th>type</th>\n      <th>geometry</th>\n      <th>properties</th>\n      <th>site</th>\n    </tr>\n  </thead>\n  <tbody>\n    <tr>\n      <th>1</th>\n      <td>{'$oid': '60c78a9d230c7f49850c20ef'}</td>\n      <td>Feature</td>\n      <td>{'type': 'Point', 'coordinates': [-105.914674,...</td>\n      <td>{'site': 'WLOU_DP1.00004.001', 'name': 'neon_b...</td>\n      <td>WLOU_DP1.00004.001</td>\n    </tr>\n    <tr>\n      <th>2</th>\n      <td>{'$oid': '60c78a9d230c7f49850c20b0'}</td>\n      <td>Feature</td>\n      <td>{'type': 'Point', 'coordinates': [-105.544602,...</td>\n      <td>{'site': 'COMO_DP1.00004.001', 'name': 'neon_b...</td>\n      <td>COMO_DP1.00004.001</td>\n    </tr>\n    <tr>\n      <th>4</th>\n      <td>{'$oid': '60c78a9d230c7f49850c20b1'}</td>\n      <td>Feature</td>\n      <td>{'type': 'Point', 'coordinates': [-104.74559, ...</td>\n      <td>{'site': 'CPER_DP1.00004.001', 'name': 'neon_b...</td>\n      <td>CPER_DP1.00004.001</td>\n    </tr>\n    <tr>\n      <th>6</th>\n      <td>{'$oid': '60c78a9d230c7f49850c20a5'}</td>\n      <td>Feature</td>\n      <td>{'type': 'Point', 'coordinates': [-102.450966,...</td>\n      <td>{'site': 'ARIK_DP1.00004.001', 'name': 'neon_b...</td>\n      <td>ARIK_DP1.00004.001</td>\n    </tr>\n    <tr>\n      <th>0</th>\n      <td>{'$oid': '60c78a9d230c7f49850c20dc'}</td>\n      <td>Feature</td>\n      <td>{'type': 'Point', 'coordinates': [-105.545955,...</td>\n      <td>{'site': 'RMNP_DP1.00004.001', 'name': 'neon_b...</td>\n      <td>RMNP_DP1.00004.001</td>\n    </tr>\n  </tbody>\n</table>\n</div>"
     },
     "execution_count": 118,
     "metadata": {},
     "output_type": "execute_result"
    }
   ],
   "source": [
    "pressureGeometryFrame = pd.io.json.read_json('../data/neon_barometric_pressure.Colorado/linkedGeometry.json')\n",
    "pressureGeometryFrame.sample(5)"
   ]
  },
  {
   "cell_type": "markdown",
   "metadata": {},
   "source": [
    "#### NEON Air Temperature"
   ]
  },
  {
   "cell_type": "code",
   "execution_count": 119,
   "metadata": {},
   "outputs": [
    {
     "data": {
      "text/plain": "                                          _id                        site  \\\n1037901  {'$oid': '60cbd3b40fc3818c81dc62ce'}  STER_DP1.00002.001_000.010   \n307829   {'$oid': '60cbd3cf0fc3818c81dfac64'}  CPER_DP1.00002.001_000.020   \n319411   {'$oid': '60cbd3d40fc3818c81e03534'}  CPER_DP1.00002.001_000.020   \n1290651  {'$oid': '60cbd97e0fc3818c818bc667'}  WLOU_DP1.00002.001_200.000   \n878871   {'$oid': '60cbd5280fc3818c8108ccbf'}  RMNP_DP1.00002.001_000.040   \n\n                               epoch_time         startDateTime  \\\n1037901  {'$numberLong': '1583992800000'}  2020-03-12T06:00:00Z   \n307829   {'$numberLong': '1545568200000'}  2018-12-23T12:30:00Z   \n319411   {'$numberLong': '1567096200000'}  2019-08-29T16:30:00Z   \n1290651  {'$numberLong': '1569501000000'}  2019-09-26T12:30:00Z   \n878871   {'$numberLong': '1502316000000'}  2017-08-09T22:00:00Z   \n\n                  endDateTime  tempSingleMean  tempSingleMinimum  \\\n1037901  2020-03-12T06:30:00Z          5.2239             4.3780   \n307829   2018-12-23T13:00:00Z         -8.7518            -9.6571   \n319411   2019-08-29T17:00:00Z         28.4247            28.1409   \n1290651  2019-09-26T13:00:00Z         -0.8168            -1.0078   \n878871   2017-08-09T22:30:00Z         10.0658             9.9855   \n\n         tempSingleMaximum  tempSingleVariance  tempSingleNumPts  \\\n1037901             7.1028              0.3815              1800   \n307829             -7.8456              0.2688              1800   \n319411             28.8731              0.0292              1800   \n1290651            -0.6010              0.0074              1800   \n878871             10.1860              0.0026              1800   \n\n         tempSingleExpUncert  tempSingleStdErMean  finalQF  \n1037901               0.1401               0.0146        0  \n307829                0.1332               0.0122        0  \n319411                0.1474               0.0040        0  \n1290651               0.1338               0.0020        0  \n878871                0.1385               0.0012        0  ",
      "text/html": "<div>\n<style scoped>\n    .dataframe tbody tr th:only-of-type {\n        vertical-align: middle;\n    }\n\n    .dataframe tbody tr th {\n        vertical-align: top;\n    }\n\n    .dataframe thead th {\n        text-align: right;\n    }\n</style>\n<table border=\"1\" class=\"dataframe\">\n  <thead>\n    <tr style=\"text-align: right;\">\n      <th></th>\n      <th>_id</th>\n      <th>site</th>\n      <th>epoch_time</th>\n      <th>startDateTime</th>\n      <th>endDateTime</th>\n      <th>tempSingleMean</th>\n      <th>tempSingleMinimum</th>\n      <th>tempSingleMaximum</th>\n      <th>tempSingleVariance</th>\n      <th>tempSingleNumPts</th>\n      <th>tempSingleExpUncert</th>\n      <th>tempSingleStdErMean</th>\n      <th>finalQF</th>\n    </tr>\n  </thead>\n  <tbody>\n    <tr>\n      <th>1037901</th>\n      <td>{'$oid': '60cbd3b40fc3818c81dc62ce'}</td>\n      <td>STER_DP1.00002.001_000.010</td>\n      <td>{'$numberLong': '1583992800000'}</td>\n      <td>2020-03-12T06:00:00Z</td>\n      <td>2020-03-12T06:30:00Z</td>\n      <td>5.2239</td>\n      <td>4.3780</td>\n      <td>7.1028</td>\n      <td>0.3815</td>\n      <td>1800</td>\n      <td>0.1401</td>\n      <td>0.0146</td>\n      <td>0</td>\n    </tr>\n    <tr>\n      <th>307829</th>\n      <td>{'$oid': '60cbd3cf0fc3818c81dfac64'}</td>\n      <td>CPER_DP1.00002.001_000.020</td>\n      <td>{'$numberLong': '1545568200000'}</td>\n      <td>2018-12-23T12:30:00Z</td>\n      <td>2018-12-23T13:00:00Z</td>\n      <td>-8.7518</td>\n      <td>-9.6571</td>\n      <td>-7.8456</td>\n      <td>0.2688</td>\n      <td>1800</td>\n      <td>0.1332</td>\n      <td>0.0122</td>\n      <td>0</td>\n    </tr>\n    <tr>\n      <th>319411</th>\n      <td>{'$oid': '60cbd3d40fc3818c81e03534'}</td>\n      <td>CPER_DP1.00002.001_000.020</td>\n      <td>{'$numberLong': '1567096200000'}</td>\n      <td>2019-08-29T16:30:00Z</td>\n      <td>2019-08-29T17:00:00Z</td>\n      <td>28.4247</td>\n      <td>28.1409</td>\n      <td>28.8731</td>\n      <td>0.0292</td>\n      <td>1800</td>\n      <td>0.1474</td>\n      <td>0.0040</td>\n      <td>0</td>\n    </tr>\n    <tr>\n      <th>1290651</th>\n      <td>{'$oid': '60cbd97e0fc3818c818bc667'}</td>\n      <td>WLOU_DP1.00002.001_200.000</td>\n      <td>{'$numberLong': '1569501000000'}</td>\n      <td>2019-09-26T12:30:00Z</td>\n      <td>2019-09-26T13:00:00Z</td>\n      <td>-0.8168</td>\n      <td>-1.0078</td>\n      <td>-0.6010</td>\n      <td>0.0074</td>\n      <td>1800</td>\n      <td>0.1338</td>\n      <td>0.0020</td>\n      <td>0</td>\n    </tr>\n    <tr>\n      <th>878871</th>\n      <td>{'$oid': '60cbd5280fc3818c8108ccbf'}</td>\n      <td>RMNP_DP1.00002.001_000.040</td>\n      <td>{'$numberLong': '1502316000000'}</td>\n      <td>2017-08-09T22:00:00Z</td>\n      <td>2017-08-09T22:30:00Z</td>\n      <td>10.0658</td>\n      <td>9.9855</td>\n      <td>10.1860</td>\n      <td>0.0026</td>\n      <td>1800</td>\n      <td>0.1385</td>\n      <td>0.0012</td>\n      <td>0</td>\n    </tr>\n  </tbody>\n</table>\n</div>"
     },
     "execution_count": 119,
     "metadata": {},
     "output_type": "execute_result"
    }
   ],
   "source": [
    "temperatureDataFrame = pd.io.json.read_json('../data/neon_single_asp_air_temperature.Colorado/data.json')\n",
    "temperatureDataFrame.sample(5)"
   ]
  },
  {
   "cell_type": "code",
   "execution_count": 120,
   "metadata": {
    "scrolled": true
   },
   "outputs": [
    {
     "data": {
      "text/plain": "              name                                              label\n18        stepNAQM  Quality metric that summarizes when the step t...\n12       rangeNAQM  Quality metric that summarizes when the range ...\n35  validCalPassQM  Quality metric that summarizes the passed outc...\n30        flowNAQM  Quality metric that summarizes when the flow r...\n20      nullPassQM  Quality metric that summarizes the passed outc...",
      "text/html": "<div>\n<style scoped>\n    .dataframe tbody tr th:only-of-type {\n        vertical-align: middle;\n    }\n\n    .dataframe tbody tr th {\n        vertical-align: top;\n    }\n\n    .dataframe thead th {\n        text-align: right;\n    }\n</style>\n<table border=\"1\" class=\"dataframe\">\n  <thead>\n    <tr style=\"text-align: right;\">\n      <th></th>\n      <th>name</th>\n      <th>label</th>\n    </tr>\n  </thead>\n  <tbody>\n    <tr>\n      <th>18</th>\n      <td>stepNAQM</td>\n      <td>Quality metric that summarizes when the step t...</td>\n    </tr>\n    <tr>\n      <th>12</th>\n      <td>rangeNAQM</td>\n      <td>Quality metric that summarizes when the range ...</td>\n    </tr>\n    <tr>\n      <th>35</th>\n      <td>validCalPassQM</td>\n      <td>Quality metric that summarizes the passed outc...</td>\n    </tr>\n    <tr>\n      <th>30</th>\n      <td>flowNAQM</td>\n      <td>Quality metric that summarizes when the flow r...</td>\n    </tr>\n    <tr>\n      <th>20</th>\n      <td>nullPassQM</td>\n      <td>Quality metric that summarizes the passed outc...</td>\n    </tr>\n  </tbody>\n</table>\n</div>"
     },
     "execution_count": 120,
     "metadata": {},
     "output_type": "execute_result"
    }
   ],
   "source": [
    "temperatureLabelsFrame = pd.io.json.read_json('../data/neon_single_asp_air_temperature.Colorado/fieldLabels.json')\n",
    "temperatureLabelsFrame.sample(5)"
   ]
  },
  {
   "cell_type": "code",
   "execution_count": 121,
   "metadata": {
    "scrolled": true
   },
   "outputs": [
    {
     "data": {
      "text/plain": "                                     _id     type  \\\n1   {'$oid': '60cbd3907adbc5ff35cc41ca'}  Feature   \n5   {'$oid': '60cbd3907adbc5ff35cc421b'}  Feature   \n7   {'$oid': '60cbd3907adbc5ff35cc422d'}  Feature   \n12  {'$oid': '60cbd3907adbc5ff35cc41a1'}  Feature   \n10  {'$oid': '60cbd3907adbc5ff35cc41a5'}  Feature   \n\n                                             geometry  \\\n1   {'type': 'Point', 'coordinates': [-105.545955,...   \n5   {'type': 'Point', 'coordinates': [-105.544602,...   \n7   {'type': 'Point', 'coordinates': [-105.58238, ...   \n12  {'type': 'Point', 'coordinates': [-103.02929, ...   \n10  {'type': 'Point', 'coordinates': [-104.74559, ...   \n\n                                           properties  \\\n1   {'HOR.VER': '000.020', 'name': 'CFGLOC100668',...   \n5   {'HOR.VER': '200.000', 'name': 'CFGLOC101559',...   \n7   {'HOR.VER': '000.010', 'name': 'CFGLOC109344',...   \n12  {'HOR.VER': '000.010', 'name': 'CFGLOC100016',...   \n10  {'HOR.VER': '000.020', 'name': 'CFGLOC100241',...   \n\n                          site  \n1   RMNP_DP1.00002.001_000.020  \n5   COMO_DP1.00002.001_200.000  \n7   NIWO_DP1.00002.001_000.010  \n12  STER_DP1.00002.001_000.010  \n10  CPER_DP1.00002.001_000.020  ",
      "text/html": "<div>\n<style scoped>\n    .dataframe tbody tr th:only-of-type {\n        vertical-align: middle;\n    }\n\n    .dataframe tbody tr th {\n        vertical-align: top;\n    }\n\n    .dataframe thead th {\n        text-align: right;\n    }\n</style>\n<table border=\"1\" class=\"dataframe\">\n  <thead>\n    <tr style=\"text-align: right;\">\n      <th></th>\n      <th>_id</th>\n      <th>type</th>\n      <th>geometry</th>\n      <th>properties</th>\n      <th>site</th>\n    </tr>\n  </thead>\n  <tbody>\n    <tr>\n      <th>1</th>\n      <td>{'$oid': '60cbd3907adbc5ff35cc41ca'}</td>\n      <td>Feature</td>\n      <td>{'type': 'Point', 'coordinates': [-105.545955,...</td>\n      <td>{'HOR.VER': '000.020', 'name': 'CFGLOC100668',...</td>\n      <td>RMNP_DP1.00002.001_000.020</td>\n    </tr>\n    <tr>\n      <th>5</th>\n      <td>{'$oid': '60cbd3907adbc5ff35cc421b'}</td>\n      <td>Feature</td>\n      <td>{'type': 'Point', 'coordinates': [-105.544602,...</td>\n      <td>{'HOR.VER': '200.000', 'name': 'CFGLOC101559',...</td>\n      <td>COMO_DP1.00002.001_200.000</td>\n    </tr>\n    <tr>\n      <th>7</th>\n      <td>{'$oid': '60cbd3907adbc5ff35cc422d'}</td>\n      <td>Feature</td>\n      <td>{'type': 'Point', 'coordinates': [-105.58238, ...</td>\n      <td>{'HOR.VER': '000.010', 'name': 'CFGLOC109344',...</td>\n      <td>NIWO_DP1.00002.001_000.010</td>\n    </tr>\n    <tr>\n      <th>12</th>\n      <td>{'$oid': '60cbd3907adbc5ff35cc41a1'}</td>\n      <td>Feature</td>\n      <td>{'type': 'Point', 'coordinates': [-103.02929, ...</td>\n      <td>{'HOR.VER': '000.010', 'name': 'CFGLOC100016',...</td>\n      <td>STER_DP1.00002.001_000.010</td>\n    </tr>\n    <tr>\n      <th>10</th>\n      <td>{'$oid': '60cbd3907adbc5ff35cc41a5'}</td>\n      <td>Feature</td>\n      <td>{'type': 'Point', 'coordinates': [-104.74559, ...</td>\n      <td>{'HOR.VER': '000.020', 'name': 'CFGLOC100241',...</td>\n      <td>CPER_DP1.00002.001_000.020</td>\n    </tr>\n  </tbody>\n</table>\n</div>"
     },
     "execution_count": 121,
     "metadata": {},
     "output_type": "execute_result"
    }
   ],
   "source": [
    "temperatureGeometryFrame = pd.io.json.read_json('../data/neon_single_asp_air_temperature.Colorado/linkedGeometry.json')\n",
    "temperatureGeometryFrame.sample(5)"
   ]
  },
  {
   "cell_type": "markdown",
   "metadata": {},
   "source": [
    "### U.S. Census Total County Population Dataset"
   ]
  },
  {
   "cell_type": "code",
   "execution_count": 122,
   "metadata": {},
   "outputs": [
    {
     "data": {
      "text/plain": "                                     _id   GISJOIN     STATE  STATEFP  \\\n0   {'$oid': '607d4c2708e81eceb6b6e384'}  G0800010  Colorado        8   \n1   {'$oid': '607d4c2708e81eceb6b6e385'}  G0800030  Colorado        8   \n2   {'$oid': '607d4c2708e81eceb6b6e386'}  G0800050  Colorado        8   \n3   {'$oid': '607d4c2708e81eceb6b6e387'}  G0800070  Colorado        8   \n4   {'$oid': '607d4c2708e81eceb6b6e388'}  G0800090  Colorado        8   \n..                                   ...       ...       ...      ...   \n58  {'$oid': '607d4c2708e81eceb6b6e3bf'}  G0801170  Colorado        8   \n59  {'$oid': '607d4c2708e81eceb6b6e3c4'}  G0801190  Colorado        8   \n60  {'$oid': '607d4c2708e81eceb6b6e3c3'}  G0801210  Colorado        8   \n61  {'$oid': '607d4c2708e81eceb6b6e3c2'}  G0801230  Colorado        8   \n62  {'$oid': '607d4c2708e81eceb6b6e3c5'}  G0801250  Colorado        8   \n\n    STATENH             COUNTY  COUNTYFP  COUNTYNH  1980_total_population  \\\n0        80       Adams County         1        10                 245944   \n1        80     Alamosa County         3        30                  11799   \n2        80    Arapahoe County         5        50                 293621   \n3        80   Archuleta County         7        70                   3664   \n4        80        Baca County         9        90                   5419   \n..      ...                ...       ...       ...                    ...   \n58       80      Summit County       117      1170                   8848   \n59       80      Teller County       119      1190                   8034   \n60       80  Washington County       121      1210                   5304   \n61       80        Weld County       123      1230                 123438   \n62       80        Yuma County       125      1250                   9682   \n\n    1990_total_population  2000_total_population  2010_total_population  \n0                  265038                 363857                 441603  \n1                   13617                  14966                  15445  \n2                  391511                 487967                 572003  \n3                    5345                   9898                  12084  \n4                    4556                   4517                   3788  \n..                    ...                    ...                    ...  \n58                  12881                  23548                  27994  \n59                  12468                  20555                  23350  \n60                   4812                   4926                   4814  \n61                 131821                 180936                 252825  \n62                   8954                   9841                  10043  \n\n[63 rows x 12 columns]",
      "text/html": "<div>\n<style scoped>\n    .dataframe tbody tr th:only-of-type {\n        vertical-align: middle;\n    }\n\n    .dataframe tbody tr th {\n        vertical-align: top;\n    }\n\n    .dataframe thead th {\n        text-align: right;\n    }\n</style>\n<table border=\"1\" class=\"dataframe\">\n  <thead>\n    <tr style=\"text-align: right;\">\n      <th></th>\n      <th>_id</th>\n      <th>GISJOIN</th>\n      <th>STATE</th>\n      <th>STATEFP</th>\n      <th>STATENH</th>\n      <th>COUNTY</th>\n      <th>COUNTYFP</th>\n      <th>COUNTYNH</th>\n      <th>1980_total_population</th>\n      <th>1990_total_population</th>\n      <th>2000_total_population</th>\n      <th>2010_total_population</th>\n    </tr>\n  </thead>\n  <tbody>\n    <tr>\n      <th>0</th>\n      <td>{'$oid': '607d4c2708e81eceb6b6e384'}</td>\n      <td>G0800010</td>\n      <td>Colorado</td>\n      <td>8</td>\n      <td>80</td>\n      <td>Adams County</td>\n      <td>1</td>\n      <td>10</td>\n      <td>245944</td>\n      <td>265038</td>\n      <td>363857</td>\n      <td>441603</td>\n    </tr>\n    <tr>\n      <th>1</th>\n      <td>{'$oid': '607d4c2708e81eceb6b6e385'}</td>\n      <td>G0800030</td>\n      <td>Colorado</td>\n      <td>8</td>\n      <td>80</td>\n      <td>Alamosa County</td>\n      <td>3</td>\n      <td>30</td>\n      <td>11799</td>\n      <td>13617</td>\n      <td>14966</td>\n      <td>15445</td>\n    </tr>\n    <tr>\n      <th>2</th>\n      <td>{'$oid': '607d4c2708e81eceb6b6e386'}</td>\n      <td>G0800050</td>\n      <td>Colorado</td>\n      <td>8</td>\n      <td>80</td>\n      <td>Arapahoe County</td>\n      <td>5</td>\n      <td>50</td>\n      <td>293621</td>\n      <td>391511</td>\n      <td>487967</td>\n      <td>572003</td>\n    </tr>\n    <tr>\n      <th>3</th>\n      <td>{'$oid': '607d4c2708e81eceb6b6e387'}</td>\n      <td>G0800070</td>\n      <td>Colorado</td>\n      <td>8</td>\n      <td>80</td>\n      <td>Archuleta County</td>\n      <td>7</td>\n      <td>70</td>\n      <td>3664</td>\n      <td>5345</td>\n      <td>9898</td>\n      <td>12084</td>\n    </tr>\n    <tr>\n      <th>4</th>\n      <td>{'$oid': '607d4c2708e81eceb6b6e388'}</td>\n      <td>G0800090</td>\n      <td>Colorado</td>\n      <td>8</td>\n      <td>80</td>\n      <td>Baca County</td>\n      <td>9</td>\n      <td>90</td>\n      <td>5419</td>\n      <td>4556</td>\n      <td>4517</td>\n      <td>3788</td>\n    </tr>\n    <tr>\n      <th>...</th>\n      <td>...</td>\n      <td>...</td>\n      <td>...</td>\n      <td>...</td>\n      <td>...</td>\n      <td>...</td>\n      <td>...</td>\n      <td>...</td>\n      <td>...</td>\n      <td>...</td>\n      <td>...</td>\n      <td>...</td>\n    </tr>\n    <tr>\n      <th>58</th>\n      <td>{'$oid': '607d4c2708e81eceb6b6e3bf'}</td>\n      <td>G0801170</td>\n      <td>Colorado</td>\n      <td>8</td>\n      <td>80</td>\n      <td>Summit County</td>\n      <td>117</td>\n      <td>1170</td>\n      <td>8848</td>\n      <td>12881</td>\n      <td>23548</td>\n      <td>27994</td>\n    </tr>\n    <tr>\n      <th>59</th>\n      <td>{'$oid': '607d4c2708e81eceb6b6e3c4'}</td>\n      <td>G0801190</td>\n      <td>Colorado</td>\n      <td>8</td>\n      <td>80</td>\n      <td>Teller County</td>\n      <td>119</td>\n      <td>1190</td>\n      <td>8034</td>\n      <td>12468</td>\n      <td>20555</td>\n      <td>23350</td>\n    </tr>\n    <tr>\n      <th>60</th>\n      <td>{'$oid': '607d4c2708e81eceb6b6e3c3'}</td>\n      <td>G0801210</td>\n      <td>Colorado</td>\n      <td>8</td>\n      <td>80</td>\n      <td>Washington County</td>\n      <td>121</td>\n      <td>1210</td>\n      <td>5304</td>\n      <td>4812</td>\n      <td>4926</td>\n      <td>4814</td>\n    </tr>\n    <tr>\n      <th>61</th>\n      <td>{'$oid': '607d4c2708e81eceb6b6e3c2'}</td>\n      <td>G0801230</td>\n      <td>Colorado</td>\n      <td>8</td>\n      <td>80</td>\n      <td>Weld County</td>\n      <td>123</td>\n      <td>1230</td>\n      <td>123438</td>\n      <td>131821</td>\n      <td>180936</td>\n      <td>252825</td>\n    </tr>\n    <tr>\n      <th>62</th>\n      <td>{'$oid': '607d4c2708e81eceb6b6e3c5'}</td>\n      <td>G0801250</td>\n      <td>Colorado</td>\n      <td>8</td>\n      <td>80</td>\n      <td>Yuma County</td>\n      <td>125</td>\n      <td>1250</td>\n      <td>9682</td>\n      <td>8954</td>\n      <td>9841</td>\n      <td>10043</td>\n    </tr>\n  </tbody>\n</table>\n<p>63 rows × 12 columns</p>\n</div>"
     },
     "execution_count": 122,
     "metadata": {},
     "output_type": "execute_result"
    }
   ],
   "source": [
    "populationDataFrame = pd.io.json.read_json('../data/county_total_population.Colorado/data.json')\n",
    "populationDataFrame"
   ]
  },
  {
   "cell_type": "code",
   "execution_count": 123,
   "metadata": {},
   "outputs": [
    {
     "data": {
      "text/plain": "Empty DataFrame\nColumns: []\nIndex: []",
      "text/html": "<div>\n<style scoped>\n    .dataframe tbody tr th:only-of-type {\n        vertical-align: middle;\n    }\n\n    .dataframe tbody tr th {\n        vertical-align: top;\n    }\n\n    .dataframe thead th {\n        text-align: right;\n    }\n</style>\n<table border=\"1\" class=\"dataframe\">\n  <thead>\n    <tr style=\"text-align: right;\">\n      <th></th>\n    </tr>\n  </thead>\n  <tbody>\n  </tbody>\n</table>\n</div>"
     },
     "execution_count": 123,
     "metadata": {},
     "output_type": "execute_result"
    }
   ],
   "source": [
    "populationLabelsFrame = pd.io.json.read_json('../data/county_total_population.Colorado/fieldLabels.json')\n",
    "populationLabelsFrame"
   ]
  },
  {
   "cell_type": "code",
   "execution_count": 124,
   "metadata": {},
   "outputs": [
    {
     "data": {
      "text/plain": "                                     _id     type  \\\n0   {'$oid': '604964ecfed2e95d6b68b676'}  Feature   \n1   {'$oid': '604964ecfed2e95d6b68b684'}  Feature   \n2   {'$oid': '604964eefed2e95d6b68bb16'}  Feature   \n3   {'$oid': '604964eefed2e95d6b68b9c8'}  Feature   \n4   {'$oid': '604964eefed2e95d6b68b83d'}  Feature   \n..                                   ...      ...   \n59  {'$oid': '604964ecfed2e95d6b68b677'}  Feature   \n60  {'$oid': '604964eefed2e95d6b68b840'}  Feature   \n61  {'$oid': '604964eefed2e95d6b68b9c5'}  Feature   \n62  {'$oid': '604964eefed2e95d6b68b9c3'}  Feature   \n63  {'$oid': '604964ecfed2e95d6b68b674'}  Feature   \n\n                                             geometry  \\\n0   {'type': 'Polygon', 'coordinates': [[[-104.961...   \n1   {'type': 'Polygon', 'coordinates': [[[-105.457...   \n2   {'type': 'MultiPolygon', 'coordinates': [[[[-1...   \n3   {'type': 'Polygon', 'coordinates': [[[-107.128...   \n4   {'type': 'Polygon', 'coordinates': [[[-102.747...   \n..                                                ...   \n59  {'type': 'Polygon', 'coordinates': [[[-105.924...   \n60  {'type': 'Polygon', 'coordinates': [[[-105.329...   \n61  {'type': 'Polygon', 'coordinates': [[[-102.779...   \n62  {'type': 'MultiPolygon', 'coordinates': [[[[-1...   \n63  {'type': 'Polygon', 'coordinates': [[[-102.664...   \n\n                                           properties   GISJOIN  \n0   {'STATEFP10': '08', 'COUNTYFP10': '001', 'COUN...  G0800010  \n1   {'STATEFP10': '08', 'COUNTYFP10': '003', 'COUN...  G0800030  \n2   {'STATEFP10': '08', 'COUNTYFP10': '005', 'COUN...  G0800050  \n3   {'STATEFP10': '08', 'COUNTYFP10': '007', 'COUN...  G0800070  \n4   {'STATEFP10': '08', 'COUNTYFP10': '009', 'COUN...  G0800090  \n..                                                ...       ...  \n59  {'STATEFP10': '08', 'COUNTYFP10': '117', 'COUN...  G0801170  \n60  {'STATEFP10': '08', 'COUNTYFP10': '119', 'COUN...  G0801190  \n61  {'STATEFP10': '08', 'COUNTYFP10': '121', 'COUN...  G0801210  \n62  {'STATEFP10': '08', 'COUNTYFP10': '123', 'COUN...  G0801230  \n63  {'STATEFP10': '08', 'COUNTYFP10': '125', 'COUN...  G0801250  \n\n[64 rows x 5 columns]",
      "text/html": "<div>\n<style scoped>\n    .dataframe tbody tr th:only-of-type {\n        vertical-align: middle;\n    }\n\n    .dataframe tbody tr th {\n        vertical-align: top;\n    }\n\n    .dataframe thead th {\n        text-align: right;\n    }\n</style>\n<table border=\"1\" class=\"dataframe\">\n  <thead>\n    <tr style=\"text-align: right;\">\n      <th></th>\n      <th>_id</th>\n      <th>type</th>\n      <th>geometry</th>\n      <th>properties</th>\n      <th>GISJOIN</th>\n    </tr>\n  </thead>\n  <tbody>\n    <tr>\n      <th>0</th>\n      <td>{'$oid': '604964ecfed2e95d6b68b676'}</td>\n      <td>Feature</td>\n      <td>{'type': 'Polygon', 'coordinates': [[[-104.961...</td>\n      <td>{'STATEFP10': '08', 'COUNTYFP10': '001', 'COUN...</td>\n      <td>G0800010</td>\n    </tr>\n    <tr>\n      <th>1</th>\n      <td>{'$oid': '604964ecfed2e95d6b68b684'}</td>\n      <td>Feature</td>\n      <td>{'type': 'Polygon', 'coordinates': [[[-105.457...</td>\n      <td>{'STATEFP10': '08', 'COUNTYFP10': '003', 'COUN...</td>\n      <td>G0800030</td>\n    </tr>\n    <tr>\n      <th>2</th>\n      <td>{'$oid': '604964eefed2e95d6b68bb16'}</td>\n      <td>Feature</td>\n      <td>{'type': 'MultiPolygon', 'coordinates': [[[[-1...</td>\n      <td>{'STATEFP10': '08', 'COUNTYFP10': '005', 'COUN...</td>\n      <td>G0800050</td>\n    </tr>\n    <tr>\n      <th>3</th>\n      <td>{'$oid': '604964eefed2e95d6b68b9c8'}</td>\n      <td>Feature</td>\n      <td>{'type': 'Polygon', 'coordinates': [[[-107.128...</td>\n      <td>{'STATEFP10': '08', 'COUNTYFP10': '007', 'COUN...</td>\n      <td>G0800070</td>\n    </tr>\n    <tr>\n      <th>4</th>\n      <td>{'$oid': '604964eefed2e95d6b68b83d'}</td>\n      <td>Feature</td>\n      <td>{'type': 'Polygon', 'coordinates': [[[-102.747...</td>\n      <td>{'STATEFP10': '08', 'COUNTYFP10': '009', 'COUN...</td>\n      <td>G0800090</td>\n    </tr>\n    <tr>\n      <th>...</th>\n      <td>...</td>\n      <td>...</td>\n      <td>...</td>\n      <td>...</td>\n      <td>...</td>\n    </tr>\n    <tr>\n      <th>59</th>\n      <td>{'$oid': '604964ecfed2e95d6b68b677'}</td>\n      <td>Feature</td>\n      <td>{'type': 'Polygon', 'coordinates': [[[-105.924...</td>\n      <td>{'STATEFP10': '08', 'COUNTYFP10': '117', 'COUN...</td>\n      <td>G0801170</td>\n    </tr>\n    <tr>\n      <th>60</th>\n      <td>{'$oid': '604964eefed2e95d6b68b840'}</td>\n      <td>Feature</td>\n      <td>{'type': 'Polygon', 'coordinates': [[[-105.329...</td>\n      <td>{'STATEFP10': '08', 'COUNTYFP10': '119', 'COUN...</td>\n      <td>G0801190</td>\n    </tr>\n    <tr>\n      <th>61</th>\n      <td>{'$oid': '604964eefed2e95d6b68b9c5'}</td>\n      <td>Feature</td>\n      <td>{'type': 'Polygon', 'coordinates': [[[-102.779...</td>\n      <td>{'STATEFP10': '08', 'COUNTYFP10': '121', 'COUN...</td>\n      <td>G0801210</td>\n    </tr>\n    <tr>\n      <th>62</th>\n      <td>{'$oid': '604964eefed2e95d6b68b9c3'}</td>\n      <td>Feature</td>\n      <td>{'type': 'MultiPolygon', 'coordinates': [[[[-1...</td>\n      <td>{'STATEFP10': '08', 'COUNTYFP10': '123', 'COUN...</td>\n      <td>G0801230</td>\n    </tr>\n    <tr>\n      <th>63</th>\n      <td>{'$oid': '604964ecfed2e95d6b68b674'}</td>\n      <td>Feature</td>\n      <td>{'type': 'Polygon', 'coordinates': [[[-102.664...</td>\n      <td>{'STATEFP10': '08', 'COUNTYFP10': '125', 'COUN...</td>\n      <td>G0801250</td>\n    </tr>\n  </tbody>\n</table>\n<p>64 rows × 5 columns</p>\n</div>"
     },
     "execution_count": 124,
     "metadata": {},
     "output_type": "execute_result"
    }
   ],
   "source": [
    "populationGeometryFrame = pd.io.json.read_json('../data/county_total_population.Colorado/linkedGeometry.json')\n",
    "populationGeometryFrame"
   ]
  },
  {
   "cell_type": "markdown",
   "metadata": {},
   "source": [
    "## Data Exploration"
   ]
  },
  {
   "cell_type": "code",
   "execution_count": 125,
   "metadata": {},
   "outputs": [
    {
     "name": "stderr",
     "output_type": "stream",
     "text": [
      "c:\\users\\jfizzle\\appdata\\local\\programs\\python\\python38\\lib\\site-packages\\seaborn\\distributions.py:2619: FutureWarning: `distplot` is a deprecated function and will be removed in a future version. Please adapt your code to use either `displot` (a figure-level function with similar flexibility) or `histplot` (an axes-level function for histograms).\n",
      "  warnings.warn(msg, FutureWarning)\n"
     ]
    },
    {
     "data": {
      "text/plain": "<AxesSubplot:xlabel='newCaseCount', ylabel='Density'>"
     },
     "execution_count": 125,
     "metadata": {},
     "output_type": "execute_result"
    },
    {
     "data": {
      "text/plain": "<Figure size 432x288 with 1 Axes>",
      "image/png": "[encoded data removed]"
     },
     "metadata": {
      "needs_background": "light"
     },
     "output_type": "display_data"
    }
   ],
   "source": [
    "sns.distplot(covidDataFrame.newCaseCount)"
   ]
  },
  {
   "cell_type": "code",
   "execution_count": 126,
   "metadata": {},
   "outputs": [
    {
     "name": "stderr",
     "output_type": "stream",
     "text": [
      "c:\\users\\jfizzle\\appdata\\local\\programs\\python\\python38\\lib\\site-packages\\seaborn\\distributions.py:2619: FutureWarning: `distplot` is a deprecated function and will be removed in a future version. Please adapt your code to use either `displot` (a figure-level function with similar flexibility) or `histplot` (an axes-level function for histograms).\n",
      "  warnings.warn(msg, FutureWarning)\n"
     ]
    },
    {
     "data": {
      "text/plain": "<AxesSubplot:xlabel='tempSingleMean', ylabel='Density'>"
     },
     "execution_count": 126,
     "metadata": {},
     "output_type": "execute_result"
    },
    {
     "data": {
      "text/plain": "<Figure size 432x288 with 1 Axes>",
      "image/png": "[encoded data removed]"
     },
     "metadata": {
      "needs_background": "light"
     },
     "output_type": "display_data"
    }
   ],
   "source": [
    "sns.distplot(temperatureDataFrame.tempSingleMean)"
   ]
  },
  {
   "cell_type": "markdown",
   "metadata": {},
   "source": [
    "## Preprocessing"
   ]
  },
  {
   "cell_type": "markdown",
   "metadata": {},
   "source": [
    "#### Flatten Frames"
   ]
  },
  {
   "cell_type": "code",
   "execution_count": 127,
   "metadata": {},
   "outputs": [],
   "source": [
    "flattenedCovidDataFrame = pd.json_normalize(json.load(open(Path('../data/covid_county.Colorado/data.json'))))\n",
    "flattenedCovidGeometryFrame = pd.json_normalize(json.load(open(Path('../data/covid_county.Colorado/linkedGeometry.json'))))\n",
    "\n",
    "flattenedWindDataFrame = pd.json_normalize(json.load(open(Path('../data/neon_2d_wind.Colorado/data.json'))))\n",
    "flattenedWindGeometryFrame = pd.json_normalize(json.load(open(Path('../data/neon_2d_wind.Colorado/linkedGeometry.json'))))\n",
    "\n",
    "flattenedPressureDataFrame = pd.json_normalize(json.load(open(Path('../data/neon_barometric_pressure.Colorado/data.json'))))\n",
    "flattenedPressureGeometryFrame = pd.json_normalize(json.load(open(Path('../data/neon_barometric_pressure.Colorado/linkedGeometry.json'))))\n",
    "\n",
    "flattenedTemperatureDataFrame = pd.json_normalize(json.load(open(Path('../data/neon_single_asp_air_temperature.Colorado/data.json'))))\n",
    "flattenedTemperatureGeometryFrame = pd.json_normalize(json.load(open(Path('../data/neon_single_asp_air_temperature.Colorado/linkedGeometry.json'))))\n",
    "\n",
    "flattenedPopulationDataFrame = pd.json_normalize(json.load(open(Path('../data/county_total_population.Colorado/data.json'))))\n",
    "flattenedPopulationGeometryFrame = pd.json_normalize(json.load(open(Path('../data/county_total_population.Colorado/linkedGeometry.json'))))"
   ]
  },
  {
   "cell_type": "markdown",
   "metadata": {},
   "source": [
    "#### Join Data and Geometry"
   ]
  },
  {
   "cell_type": "code",
   "execution_count": 128,
   "metadata": {},
   "outputs": [],
   "source": [
    "combinedCovidFrame = flattenedCovidDataFrame.set_index('GISJOIN').join(flattenedCovidGeometryFrame.set_index('GISJOIN'), lsuffix='_data', rsuffix='_geo')\n",
    "combinedWindFrame = flattenedWindDataFrame.set_index('site').join(flattenedWindGeometryFrame.set_index('site'), lsuffix='_data', rsuffix='_geo')\n",
    "combinedPressureFrame = flattenedPressureDataFrame.set_index('site').join(flattenedPressureGeometryFrame.set_index('site'), lsuffix='_data', rsuffix='_geo')\n",
    "combinedTemperatureFrame = flattenedTemperatureDataFrame.set_index('site').join(flattenedTemperatureGeometryFrame.set_index('site'), lsuffix='_data', rsuffix='_geo')\n",
    "combinedPopulationFrame = flattenedPopulationDataFrame.set_index('GISJOIN').join(flattenedPopulationGeometryFrame.set_index('GISJOIN'), lsuffix='_data', rsuffix='_geo')"
   ]
  },
  {
   "cell_type": "markdown",
   "metadata": {},
   "source": [
    "#### Generalize Geometry"
   ]
  },
  {
   "cell_type": "code",
   "execution_count": 157,
   "metadata": {
    "pycharm": {
     "name": "#%%\n"
    }
   },
   "outputs": [
    {
     "name": "stdout",
     "output_type": "stream",
     "text": [
      "Trying index G0800010, row is county                                                         Adams\n",
      "coordJsonString    [[[-104.96140800028297, 40.00033699940714], [-...\n",
      "geometry.type                                                Polygon\n",
      "Name: G0800010, dtype: object\n",
      "Trying index G0800030, row is county                                                       Alamosa\n",
      "coordJsonString    [[[-105.45725500006058, 37.75146400032936], [-...\n",
      "geometry.type                                                Polygon\n",
      "Name: G0800030, dtype: object\n",
      "Trying index G0800050, row is county                                                      Arapahoe\n",
      "coordJsonString    [[[[-104.93042900099888, 39.66755700030373], [...\n",
      "geometry.type                                           MultiPolygon\n",
      "Name: G0800050, dtype: object\n"
     ]
    },
    {
     "name": "stderr",
     "output_type": "stream",
     "text": [
      "C:\\Users\\Jfizzle\\AppData\\Local\\Temp/ipykernel_7064/217916448.py:9: VisibleDeprecationWarning: Creating an ndarray from ragged nested sequences (which is a list-or-tuple of lists-or-tuples-or ndarrays with different lengths or shapes) is deprecated. If you meant to do this, you must specify 'dtype=object' when creating the ndarray.\n",
      "  s = np.asarray(json.loads(row['coordJsonString']))[0]\n"
     ]
    },
    {
     "ename": "ValueError",
     "evalue": "Nonzero coordinates cannot be removed.",
     "output_type": "error",
     "traceback": [
      "\u001B[1;31m---------------------------------------------------------------------------\u001B[0m",
      "\u001B[1;31mValueError\u001B[0m                                Traceback (most recent call last)",
      "\u001B[1;32m~\\AppData\\Local\\Temp/ipykernel_7064/217916448.py\u001B[0m in \u001B[0;36m<module>\u001B[1;34m\u001B[0m\n\u001B[0;32m      8\u001B[0m     \u001B[0mprint\u001B[0m\u001B[1;33m(\u001B[0m\u001B[1;34mf\"Trying index {index}, row is {row}\"\u001B[0m\u001B[1;33m)\u001B[0m\u001B[1;33m\u001B[0m\u001B[1;33m\u001B[0m\u001B[0m\n\u001B[0;32m      9\u001B[0m     \u001B[0ms\u001B[0m \u001B[1;33m=\u001B[0m \u001B[0mnp\u001B[0m\u001B[1;33m.\u001B[0m\u001B[0masarray\u001B[0m\u001B[1;33m(\u001B[0m\u001B[0mjson\u001B[0m\u001B[1;33m.\u001B[0m\u001B[0mloads\u001B[0m\u001B[1;33m(\u001B[0m\u001B[0mrow\u001B[0m\u001B[1;33m[\u001B[0m\u001B[1;34m'coordJsonString'\u001B[0m\u001B[1;33m]\u001B[0m\u001B[1;33m)\u001B[0m\u001B[1;33m)\u001B[0m\u001B[1;33m[\u001B[0m\u001B[1;36m0\u001B[0m\u001B[1;33m]\u001B[0m\u001B[1;33m\u001B[0m\u001B[1;33m\u001B[0m\u001B[0m\n\u001B[1;32m---> 10\u001B[1;33m     \u001B[0mshape\u001B[0m \u001B[1;33m=\u001B[0m \u001B[0mPolygon\u001B[0m\u001B[1;33m(\u001B[0m\u001B[1;33m*\u001B[0m\u001B[0ms\u001B[0m\u001B[1;33m)\u001B[0m\u001B[1;33m\u001B[0m\u001B[1;33m\u001B[0m\u001B[0m\n\u001B[0m\u001B[0;32m     11\u001B[0m     \u001B[0mcounty\u001B[0m \u001B[1;33m=\u001B[0m \u001B[0mrow\u001B[0m\u001B[1;33m[\u001B[0m\u001B[1;34m'county'\u001B[0m\u001B[1;33m]\u001B[0m\u001B[1;33m\u001B[0m\u001B[1;33m\u001B[0m\u001B[0m\n\u001B[0;32m     12\u001B[0m     \u001B[0mcounties\u001B[0m\u001B[1;33m[\u001B[0m\u001B[0mcounty\u001B[0m\u001B[1;33m]\u001B[0m \u001B[1;33m=\u001B[0m \u001B[0mshape\u001B[0m\u001B[1;33m\u001B[0m\u001B[1;33m\u001B[0m\u001B[0m\n",
      "\u001B[1;32mc:\\users\\jfizzle\\appdata\\local\\programs\\python\\python38\\lib\\site-packages\\sympy\\geometry\\polygon.py\u001B[0m in \u001B[0;36m__new__\u001B[1;34m(cls, n, *args, **kwargs)\u001B[0m\n\u001B[0;32m    124\u001B[0m             \u001B[1;32mreturn\u001B[0m \u001B[0mRegularPolygon\u001B[0m\u001B[1;33m(\u001B[0m\u001B[1;33m*\u001B[0m\u001B[0margs\u001B[0m\u001B[1;33m,\u001B[0m \u001B[1;33m**\u001B[0m\u001B[0mkwargs\u001B[0m\u001B[1;33m)\u001B[0m\u001B[1;33m\u001B[0m\u001B[1;33m\u001B[0m\u001B[0m\n\u001B[0;32m    125\u001B[0m \u001B[1;33m\u001B[0m\u001B[0m\n\u001B[1;32m--> 126\u001B[1;33m         \u001B[0mvertices\u001B[0m \u001B[1;33m=\u001B[0m \u001B[1;33m[\u001B[0m\u001B[0mPoint\u001B[0m\u001B[1;33m(\u001B[0m\u001B[0ma\u001B[0m\u001B[1;33m,\u001B[0m \u001B[0mdim\u001B[0m\u001B[1;33m=\u001B[0m\u001B[1;36m2\u001B[0m\u001B[1;33m,\u001B[0m \u001B[1;33m**\u001B[0m\u001B[0mkwargs\u001B[0m\u001B[1;33m)\u001B[0m \u001B[1;32mfor\u001B[0m \u001B[0ma\u001B[0m \u001B[1;32min\u001B[0m \u001B[0margs\u001B[0m\u001B[1;33m]\u001B[0m\u001B[1;33m\u001B[0m\u001B[1;33m\u001B[0m\u001B[0m\n\u001B[0m\u001B[0;32m    127\u001B[0m \u001B[1;33m\u001B[0m\u001B[0m\n\u001B[0;32m    128\u001B[0m         \u001B[1;31m# remove consecutive duplicates\u001B[0m\u001B[1;33m\u001B[0m\u001B[1;33m\u001B[0m\u001B[1;33m\u001B[0m\u001B[0m\n",
      "\u001B[1;32mc:\\users\\jfizzle\\appdata\\local\\programs\\python\\python38\\lib\\site-packages\\sympy\\geometry\\polygon.py\u001B[0m in \u001B[0;36m<listcomp>\u001B[1;34m(.0)\u001B[0m\n\u001B[0;32m    124\u001B[0m             \u001B[1;32mreturn\u001B[0m \u001B[0mRegularPolygon\u001B[0m\u001B[1;33m(\u001B[0m\u001B[1;33m*\u001B[0m\u001B[0margs\u001B[0m\u001B[1;33m,\u001B[0m \u001B[1;33m**\u001B[0m\u001B[0mkwargs\u001B[0m\u001B[1;33m)\u001B[0m\u001B[1;33m\u001B[0m\u001B[1;33m\u001B[0m\u001B[0m\n\u001B[0;32m    125\u001B[0m \u001B[1;33m\u001B[0m\u001B[0m\n\u001B[1;32m--> 126\u001B[1;33m         \u001B[0mvertices\u001B[0m \u001B[1;33m=\u001B[0m \u001B[1;33m[\u001B[0m\u001B[0mPoint\u001B[0m\u001B[1;33m(\u001B[0m\u001B[0ma\u001B[0m\u001B[1;33m,\u001B[0m \u001B[0mdim\u001B[0m\u001B[1;33m=\u001B[0m\u001B[1;36m2\u001B[0m\u001B[1;33m,\u001B[0m \u001B[1;33m**\u001B[0m\u001B[0mkwargs\u001B[0m\u001B[1;33m)\u001B[0m \u001B[1;32mfor\u001B[0m \u001B[0ma\u001B[0m \u001B[1;32min\u001B[0m \u001B[0margs\u001B[0m\u001B[1;33m]\u001B[0m\u001B[1;33m\u001B[0m\u001B[1;33m\u001B[0m\u001B[0m\n\u001B[0m\u001B[0;32m    127\u001B[0m \u001B[1;33m\u001B[0m\u001B[0m\n\u001B[0;32m    128\u001B[0m         \u001B[1;31m# remove consecutive duplicates\u001B[0m\u001B[1;33m\u001B[0m\u001B[1;33m\u001B[0m\u001B[1;33m\u001B[0m\u001B[0m\n",
      "\u001B[1;32mc:\\users\\jfizzle\\appdata\\local\\programs\\python\\python38\\lib\\site-packages\\sympy\\geometry\\point.py\u001B[0m in \u001B[0;36m__new__\u001B[1;34m(cls, *args, **kwargs)\u001B[0m\n\u001B[0;32m    149\u001B[0m                         'warn' or 'ignore'.'''))\n\u001B[0;32m    150\u001B[0m         \u001B[1;32mif\u001B[0m \u001B[0many\u001B[0m\u001B[1;33m(\u001B[0m\u001B[0mcoords\u001B[0m\u001B[1;33m[\u001B[0m\u001B[0mdim\u001B[0m\u001B[1;33m:\u001B[0m\u001B[1;33m]\u001B[0m\u001B[1;33m)\u001B[0m\u001B[1;33m:\u001B[0m\u001B[1;33m\u001B[0m\u001B[1;33m\u001B[0m\u001B[0m\n\u001B[1;32m--> 151\u001B[1;33m             \u001B[1;32mraise\u001B[0m \u001B[0mValueError\u001B[0m\u001B[1;33m(\u001B[0m\u001B[1;34m'Nonzero coordinates cannot be removed.'\u001B[0m\u001B[1;33m)\u001B[0m\u001B[1;33m\u001B[0m\u001B[1;33m\u001B[0m\u001B[0m\n\u001B[0m\u001B[0;32m    152\u001B[0m         \u001B[1;32mif\u001B[0m \u001B[0many\u001B[0m\u001B[1;33m(\u001B[0m\u001B[0ma\u001B[0m\u001B[1;33m.\u001B[0m\u001B[0mis_number\u001B[0m \u001B[1;32mand\u001B[0m \u001B[0mim\u001B[0m\u001B[1;33m(\u001B[0m\u001B[0ma\u001B[0m\u001B[1;33m)\u001B[0m \u001B[1;32mfor\u001B[0m \u001B[0ma\u001B[0m \u001B[1;32min\u001B[0m \u001B[0mcoords\u001B[0m\u001B[1;33m)\u001B[0m\u001B[1;33m:\u001B[0m\u001B[1;33m\u001B[0m\u001B[1;33m\u001B[0m\u001B[0m\n\u001B[0;32m    153\u001B[0m             \u001B[1;32mraise\u001B[0m \u001B[0mValueError\u001B[0m\u001B[1;33m(\u001B[0m\u001B[1;34m'Imaginary coordinates are not permitted.'\u001B[0m\u001B[1;33m)\u001B[0m\u001B[1;33m\u001B[0m\u001B[1;33m\u001B[0m\u001B[0m\n",
      "\u001B[1;31mValueError\u001B[0m: Nonzero coordinates cannot be removed."
     ]
    }
   ],
   "source": [
    "counties = {}\n",
    "# print(np.asarray(combinedCovidFrame.iloc[1][\"geometry.coordinates\"])[0])\n",
    "# print(json.dumps(combinedCovidFrame[\"geometry.coordinates\"].iloc[1]))\n",
    "\n",
    "\n",
    "combinedCovidFrame['coordJsonString'] = combinedCovidFrame[\"geometry.coordinates\"].apply(json.dumps)\n",
    "for index, row in combinedCovidFrame[['county', 'coordJsonString', 'geometry.type']].drop_duplicates(['county', 'coordJsonString','geometry.type']).iterrows():\n",
    "    print(f\"Trying index {index}, row is {row}\")\n",
    "    s = np.asarray(json.loads(row['coordJsonString']))[0]\n",
    "    shape = Polygon(*s)\n",
    "    county = row['county']\n",
    "    counties[county] = shape\n",
    "\n",
    "countyCoordinates = np.asarray(combinedCovidFrame.iloc[1][\"geometry.coordinates\"])[0]\n",
    "shape = Polygon(*countyCoordinates)\n",
    "location = np.asarray(combinedWindFrame.iloc[1][\"geometry.coordinates\"])\n",
    "point = Point(location)\n",
    "for county, shape in counties.items():\n",
    "    if shape.encloses_point(point):\n",
    "        print(f\"point is in {county}\")"
   ]
  },
  {
   "cell_type": "markdown",
   "metadata": {},
   "source": [
    "## References"
   ]
  },
  {
   "cell_type": "markdown",
   "metadata": {},
   "source": [
    "## About this Notebook\n",
    "\n",
    "**Authors:** Kyle Bassignani, Jeff Borgerson, and Christian Westbrook  \n",
    "**Updated On:** 2021-11-20"
   ]
  }
 ],
 "metadata": {
  "kernelspec": {
   "display_name": "Python 3",
   "language": "python",
   "name": "python3"
  },
  "language_info": {
   "codemirror_mode": {
    "name": "ipython",
    "version": 3
   },
   "file_extension": ".py",
   "mimetype": "text/x-python",
   "name": "python",
   "nbconvert_exporter": "python",
   "pygments_lexer": "ipython3",
   "version": "3.8.3"
  }
 },
 "nbformat": 4,
 "nbformat_minor": 4
}