{
 "cells": [
  {
   "cell_type": "markdown",
   "metadata": {},
   "source": [
    "# COVID-19 and Weather Patterns"
   ]
  },
  {
   "cell_type": "markdown",
   "metadata": {},
   "source": [
    "## Imports\n",
    "\n",
    "- *os* for interfacing with the operating system\n",
    "- *pathlib* for interfacing with the file system\n",
    "- *zipfile* for managing archive files\n",
    "\n",
    "- *numpy* for array processing\n",
    "- *pandas* for tabular processing\n",
    "- *tensorflow* for tensor processing\n",
    "- *keras* for simplified tensor processing\n",
    "\n",
    "- *matplotlib* for visualization\n",
    "- *seaborn* for enhanced visualization"
   ]
  },
  {
   "cell_type": "code",
   "execution_count": 1,
   "metadata": {},
   "outputs": [
    {
     "data": {
      "text/plain": [
       "'2.7.0'"
      ]
     },
     "execution_count": 1,
     "metadata": {},
     "output_type": "execute_result"
    }
   ],
   "source": [
    "# Custom\n",
    "import data_processing\n",
    "\n",
    "# File System\n",
    "import os\n",
    "import json\n",
    "from pathlib import Path\n",
    "from zipfile import ZipFile\n",
    "import pickle\n",
    "\n",
    "# Processing\n",
    "import gc\n",
    "import numpy as np\n",
    "import pandas as pd\n",
    "from sympy import *\n",
    "from sympy.geometry import *\n",
    "import tensorflow\n",
    "from tensorflow import keras\n",
    "\n",
    "# Visualization\n",
    "import matplotlib.pyplot as plt\n",
    "import seaborn as sns\n",
    "\n",
    "tensorflow.__version__"
   ]
  },
  {
   "cell_type": "markdown",
   "metadata": {},
   "source": [
    "## Introduction\n",
    "\n",
    "The goal of this work is to determine whether or not weather patterns should be considered as a meaningful supporting input when making predictions about new daily COVID-19 cases within a given geographical space. Using census, weather, and COVID-19 datasets provided by the Urban Sustain project, the authors attempt to quantify the correlation between particular weather patterns and COVID-19 transmission events."
   ]
  },
  {
   "cell_type": "markdown",
   "metadata": {},
   "source": [
    "## Defining Terms\n",
    "\n",
    "***Urban Sustain Project*** - A joint effort between researchers at Colorado State University, Arizona State University, the University of California-Irvine, and the University of Maryland – Baltimore County."
   ]
  },
  {
   "cell_type": "markdown",
   "metadata": {},
   "source": [
    "## Loading Data"
   ]
  },
  {
   "cell_type": "markdown",
   "metadata": {},
   "source": [
    "**DEVELOPER NOTE:** Download the five required datasets from Urban Sustain and place them in the cloned repository at ```./data/```. These datasets are also available at a shared OneDrive folder. This logic expects that these files exist at relative path ```../data/``` with respect to this notebook."
   ]
  },
  {
   "cell_type": "markdown",
   "metadata": {},
   "source": [
    "We'll begin by defining a path to our data directory and a list of the datasets that we expect to find there."
   ]
  },
  {
   "cell_type": "code",
   "execution_count": 2,
   "metadata": {},
   "outputs": [],
   "source": [
    "DATA_PATH = '../data/' # Point this constant to the location of your data archive files\n",
    "\n",
    "EXPECTED_DATASETS = [\n",
    "    'county_total_population.Colorado.zip',\n",
    "    'covid_county.Colorado.zip',\n",
    "    'neon_2d_wind.Colorado.zip',\n",
    "    'neon_barometric_pressure.Colorado.zip',\n",
    "    'neon_single_asp_air_temperature.Colorado.zip'\n",
    "]"
   ]
  },
  {
   "cell_type": "markdown",
   "metadata": {},
   "source": [
    "Next, we will attempt to extract each of these archived datasets into a dedicated subdirectory within the given data directory."
   ]
  },
  {
   "cell_type": "code",
   "execution_count": 3,
   "metadata": {},
   "outputs": [],
   "source": [
    "# For each listed dataset string in the EXPECTED_DATASETS constant\n",
    "for datasetName in EXPECTED_DATASETS:\n",
    "    try:\n",
    "        # Open the given archive file\n",
    "        with ZipFile(DATA_PATH + datasetName, 'r') as currentZip:\n",
    "            # Build the target directory path for extracted data\n",
    "            datasetNameTokens = datasetName.split('.')\n",
    "            datasetNameTokens.remove('zip')\n",
    "            targetDirectory = DATA_PATH + '.'.join(datasetNameTokens)\n",
    "            \n",
    "            # If the target directory doesn't exist, create it\n",
    "            if not os.path.exists(targetDirectory):\n",
    "                Path(targetDirectory).mkdir()\n",
    "            \n",
    "            # Extract all data from the archive file to the target directory\n",
    "            currentZip.extractall(targetDirectory)\n",
    "    except FileNotFoundError:\n",
    "        print(\"Unable to open \" + datasetName + \" at path \" + DATA_PATH + datasetName)"
   ]
  },
  {
   "cell_type": "markdown",
   "metadata": {},
   "source": [
    "## File Information\n",
    "\n",
    "Four of the five datasets referenced in this work relate geospatial information to particular events as they occur over time Each is provided by the Urban Sustain project and employs a similar file structure.\n",
    "\n",
    "- data.json\n",
    "- fieldLabels.json\n",
    "- linkedGeometry.json\n",
    "- README.txt\n"
   ]
  },
  {
   "cell_type": "markdown",
   "metadata": {},
   "source": [
    "#### New York Times COVID-19 County Dataset\n",
    "\n",
    "The included COVID-19 County dataset "
   ]
  },
  {
   "cell_type": "code",
   "execution_count": 4,
   "metadata": {},
   "outputs": [
    {
     "data": {
      "text/html": [
       "<div>\n",
       "<style scoped>\n",
       "    .dataframe tbody tr th:only-of-type {\n",
       "        vertical-align: middle;\n",
       "    }\n",
       "\n",
       "    .dataframe tbody tr th {\n",
       "        vertical-align: top;\n",
       "    }\n",
       "\n",
       "    .dataframe thead th {\n",
       "        text-align: right;\n",
       "    }\n",
       "</style>\n",
       "<table border=\"1\" class=\"dataframe\">\n",
       "  <thead>\n",
       "    <tr style=\"text-align: right;\">\n",
       "      <th></th>\n",
       "      <th>_id</th>\n",
       "      <th>GISJOIN</th>\n",
       "      <th>epoch_time</th>\n",
       "      <th>dateString</th>\n",
       "      <th>county</th>\n",
       "      <th>state</th>\n",
       "      <th>totalCaseCount</th>\n",
       "      <th>newCaseCount</th>\n",
       "      <th>totalDeathCount</th>\n",
       "      <th>newDeathCount</th>\n",
       "    </tr>\n",
       "  </thead>\n",
       "  <tbody>\n",
       "    <tr>\n",
       "      <th>18512</th>\n",
       "      <td>{'$oid': '615fc626bf06594c4cad89ed'}</td>\n",
       "      <td>G0800570</td>\n",
       "      <td>{'$numberLong': '1598421600000'}</td>\n",
       "      <td>8/26/20</td>\n",
       "      <td>Jackson</td>\n",
       "      <td>Colorado</td>\n",
       "      <td>9</td>\n",
       "      <td>0</td>\n",
       "      <td>0</td>\n",
       "      <td>0</td>\n",
       "    </tr>\n",
       "    <tr>\n",
       "      <th>29741</th>\n",
       "      <td>{'$oid': '615fc627bf06594c4cadb9b7'}</td>\n",
       "      <td>G0800930</td>\n",
       "      <td>{'$numberLong': '1631080800000'}</td>\n",
       "      <td>9/8/21</td>\n",
       "      <td>Park</td>\n",
       "      <td>Colorado</td>\n",
       "      <td>1068</td>\n",
       "      <td>8</td>\n",
       "      <td>7</td>\n",
       "      <td>0</td>\n",
       "    </tr>\n",
       "    <tr>\n",
       "      <th>19506</th>\n",
       "      <td>{'$oid': '615fc626bf06594c4cad8e7d'}</td>\n",
       "      <td>G0800610</td>\n",
       "      <td>{'$numberLong': '1591596000000'}</td>\n",
       "      <td>6/8/20</td>\n",
       "      <td>Kiowa</td>\n",
       "      <td>Colorado</td>\n",
       "      <td>0</td>\n",
       "      <td>0</td>\n",
       "      <td>0</td>\n",
       "      <td>0</td>\n",
       "    </tr>\n",
       "    <tr>\n",
       "      <th>7910</th>\n",
       "      <td>{'$oid': '615fc624bf06594c4cad6204'}</td>\n",
       "      <td>G0800230</td>\n",
       "      <td>{'$numberLong': '1632204000000'}</td>\n",
       "      <td>9/21/21</td>\n",
       "      <td>Costilla</td>\n",
       "      <td>Colorado</td>\n",
       "      <td>318</td>\n",
       "      <td>6</td>\n",
       "      <td>6</td>\n",
       "      <td>0</td>\n",
       "    </tr>\n",
       "    <tr>\n",
       "      <th>20673</th>\n",
       "      <td>{'$oid': '615fc626bf06594c4cad95fe'}</td>\n",
       "      <td>G0800650</td>\n",
       "      <td>{'$numberLong': '1595656800000'}</td>\n",
       "      <td>7/25/20</td>\n",
       "      <td>Lake</td>\n",
       "      <td>Colorado</td>\n",
       "      <td>61</td>\n",
       "      <td>0</td>\n",
       "      <td>0</td>\n",
       "      <td>0</td>\n",
       "    </tr>\n",
       "  </tbody>\n",
       "</table>\n",
       "</div>"
      ],
      "text/plain": [
       "                                        _id   GISJOIN  \\\n",
       "18512  {'$oid': '615fc626bf06594c4cad89ed'}  G0800570   \n",
       "29741  {'$oid': '615fc627bf06594c4cadb9b7'}  G0800930   \n",
       "19506  {'$oid': '615fc626bf06594c4cad8e7d'}  G0800610   \n",
       "7910   {'$oid': '615fc624bf06594c4cad6204'}  G0800230   \n",
       "20673  {'$oid': '615fc626bf06594c4cad95fe'}  G0800650   \n",
       "\n",
       "                             epoch_time dateString    county     state  \\\n",
       "18512  {'$numberLong': '1598421600000'}    8/26/20   Jackson  Colorado   \n",
       "29741  {'$numberLong': '1631080800000'}     9/8/21      Park  Colorado   \n",
       "19506  {'$numberLong': '1591596000000'}     6/8/20     Kiowa  Colorado   \n",
       "7910   {'$numberLong': '1632204000000'}    9/21/21  Costilla  Colorado   \n",
       "20673  {'$numberLong': '1595656800000'}    7/25/20      Lake  Colorado   \n",
       "\n",
       "       totalCaseCount  newCaseCount  totalDeathCount  newDeathCount  \n",
       "18512               9             0                0              0  \n",
       "29741            1068             8                7              0  \n",
       "19506               0             0                0              0  \n",
       "7910              318             6                6              0  \n",
       "20673              61             0                0              0  "
      ]
     },
     "execution_count": 4,
     "metadata": {},
     "output_type": "execute_result"
    }
   ],
   "source": [
    "covidDataFrame = pd.io.json.read_json('../data/covid_county.Colorado/data.json')\n",
    "covidDataFrame.sample(5)"
   ]
  },
  {
   "cell_type": "code",
   "execution_count": 5,
   "metadata": {},
   "outputs": [
    {
     "data": {
      "text/html": [
       "<div>\n",
       "<style scoped>\n",
       "    .dataframe tbody tr th:only-of-type {\n",
       "        vertical-align: middle;\n",
       "    }\n",
       "\n",
       "    .dataframe tbody tr th {\n",
       "        vertical-align: top;\n",
       "    }\n",
       "\n",
       "    .dataframe thead th {\n",
       "        text-align: right;\n",
       "    }\n",
       "</style>\n",
       "<table border=\"1\" class=\"dataframe\">\n",
       "  <thead>\n",
       "    <tr style=\"text-align: right;\">\n",
       "      <th></th>\n",
       "      <th>name</th>\n",
       "      <th>label</th>\n",
       "    </tr>\n",
       "  </thead>\n",
       "  <tbody>\n",
       "    <tr>\n",
       "      <th>0</th>\n",
       "      <td>epoch_time</td>\n",
       "      <td>Date</td>\n",
       "    </tr>\n",
       "    <tr>\n",
       "      <th>4</th>\n",
       "      <td>totalCaseCount</td>\n",
       "      <td>Total Case Count</td>\n",
       "    </tr>\n",
       "    <tr>\n",
       "      <th>1</th>\n",
       "      <td>newDeathCount</td>\n",
       "      <td>New Death Count</td>\n",
       "    </tr>\n",
       "    <tr>\n",
       "      <th>3</th>\n",
       "      <td>newCaseCount</td>\n",
       "      <td>New Case Count</td>\n",
       "    </tr>\n",
       "    <tr>\n",
       "      <th>2</th>\n",
       "      <td>totalDeathCount</td>\n",
       "      <td>Total Death Count</td>\n",
       "    </tr>\n",
       "  </tbody>\n",
       "</table>\n",
       "</div>"
      ],
      "text/plain": [
       "              name              label\n",
       "0       epoch_time               Date\n",
       "4   totalCaseCount   Total Case Count\n",
       "1    newDeathCount    New Death Count\n",
       "3     newCaseCount     New Case Count\n",
       "2  totalDeathCount  Total Death Count"
      ]
     },
     "execution_count": 5,
     "metadata": {},
     "output_type": "execute_result"
    }
   ],
   "source": [
    "covidLabelsFrame = pd.io.json.read_json('../data/covid_county.Colorado/fieldLabels.json')\n",
    "covidLabelsFrame.sample(5)"
   ]
  },
  {
   "cell_type": "code",
   "execution_count": 6,
   "metadata": {
    "scrolled": true
   },
   "outputs": [
    {
     "data": {
      "text/html": [
       "<div>\n",
       "<style scoped>\n",
       "    .dataframe tbody tr th:only-of-type {\n",
       "        vertical-align: middle;\n",
       "    }\n",
       "\n",
       "    .dataframe tbody tr th {\n",
       "        vertical-align: top;\n",
       "    }\n",
       "\n",
       "    .dataframe thead th {\n",
       "        text-align: right;\n",
       "    }\n",
       "</style>\n",
       "<table border=\"1\" class=\"dataframe\">\n",
       "  <thead>\n",
       "    <tr style=\"text-align: right;\">\n",
       "      <th></th>\n",
       "      <th>_id</th>\n",
       "      <th>type</th>\n",
       "      <th>geometry</th>\n",
       "      <th>properties</th>\n",
       "      <th>GISJOIN</th>\n",
       "    </tr>\n",
       "  </thead>\n",
       "  <tbody>\n",
       "    <tr>\n",
       "      <th>1</th>\n",
       "      <td>{'$oid': '604964ecfed2e95d6b68b684'}</td>\n",
       "      <td>Feature</td>\n",
       "      <td>{'type': 'Polygon', 'coordinates': [[[-105.457...</td>\n",
       "      <td>{'STATEFP10': '08', 'COUNTYFP10': '003', 'COUN...</td>\n",
       "      <td>G0800030</td>\n",
       "    </tr>\n",
       "    <tr>\n",
       "      <th>9</th>\n",
       "      <td>{'$oid': '604964ecfed2e95d6b68b671'}</td>\n",
       "      <td>Feature</td>\n",
       "      <td>{'type': 'Polygon', 'coordinates': [[[-102.046...</td>\n",
       "      <td>{'STATEFP10': '08', 'COUNTYFP10': '017', 'COUN...</td>\n",
       "      <td>G0800170</td>\n",
       "    </tr>\n",
       "    <tr>\n",
       "      <th>18</th>\n",
       "      <td>{'$oid': '604964eefed2e95d6b68b839'}</td>\n",
       "      <td>Feature</td>\n",
       "      <td>{'type': 'Polygon', 'coordinates': [[[-104.660...</td>\n",
       "      <td>{'STATEFP10': '08', 'COUNTYFP10': '035', 'COUN...</td>\n",
       "      <td>G0800350</td>\n",
       "    </tr>\n",
       "    <tr>\n",
       "      <th>24</th>\n",
       "      <td>{'$oid': '604964eefed2e95d6b68b9d8'}</td>\n",
       "      <td>Feature</td>\n",
       "      <td>{'type': 'Polygon', 'coordinates': [[[-105.397...</td>\n",
       "      <td>{'STATEFP10': '08', 'COUNTYFP10': '047', 'COUN...</td>\n",
       "      <td>G0800470</td>\n",
       "    </tr>\n",
       "    <tr>\n",
       "      <th>57</th>\n",
       "      <td>{'$oid': '604964ecfed2e95d6b68b68e'}</td>\n",
       "      <td>Feature</td>\n",
       "      <td>{'type': 'Polygon', 'coordinates': [[[-109.041...</td>\n",
       "      <td>{'STATEFP10': '08', 'COUNTYFP10': '113', 'COUN...</td>\n",
       "      <td>G0801130</td>\n",
       "    </tr>\n",
       "  </tbody>\n",
       "</table>\n",
       "</div>"
      ],
      "text/plain": [
       "                                     _id     type  \\\n",
       "1   {'$oid': '604964ecfed2e95d6b68b684'}  Feature   \n",
       "9   {'$oid': '604964ecfed2e95d6b68b671'}  Feature   \n",
       "18  {'$oid': '604964eefed2e95d6b68b839'}  Feature   \n",
       "24  {'$oid': '604964eefed2e95d6b68b9d8'}  Feature   \n",
       "57  {'$oid': '604964ecfed2e95d6b68b68e'}  Feature   \n",
       "\n",
       "                                             geometry  \\\n",
       "1   {'type': 'Polygon', 'coordinates': [[[-105.457...   \n",
       "9   {'type': 'Polygon', 'coordinates': [[[-102.046...   \n",
       "18  {'type': 'Polygon', 'coordinates': [[[-104.660...   \n",
       "24  {'type': 'Polygon', 'coordinates': [[[-105.397...   \n",
       "57  {'type': 'Polygon', 'coordinates': [[[-109.041...   \n",
       "\n",
       "                                           properties   GISJOIN  \n",
       "1   {'STATEFP10': '08', 'COUNTYFP10': '003', 'COUN...  G0800030  \n",
       "9   {'STATEFP10': '08', 'COUNTYFP10': '017', 'COUN...  G0800170  \n",
       "18  {'STATEFP10': '08', 'COUNTYFP10': '035', 'COUN...  G0800350  \n",
       "24  {'STATEFP10': '08', 'COUNTYFP10': '047', 'COUN...  G0800470  \n",
       "57  {'STATEFP10': '08', 'COUNTYFP10': '113', 'COUN...  G0801130  "
      ]
     },
     "execution_count": 6,
     "metadata": {},
     "output_type": "execute_result"
    }
   ],
   "source": [
    "covidGeometryFrame = pd.io.json.read_json('../data/covid_county.Colorado/linkedGeometry.json')\n",
    "covidGeometryFrame.sample(5)"
   ]
  },
  {
   "cell_type": "markdown",
   "metadata": {},
   "source": [
    "#### NEON 2D Wind Dataset"
   ]
  },
  {
   "cell_type": "code",
   "execution_count": 7,
   "metadata": {
    "scrolled": true
   },
   "outputs": [
    {
     "data": {
      "text/html": [
       "<div>\n",
       "<style scoped>\n",
       "    .dataframe tbody tr th:only-of-type {\n",
       "        vertical-align: middle;\n",
       "    }\n",
       "\n",
       "    .dataframe tbody tr th {\n",
       "        vertical-align: top;\n",
       "    }\n",
       "\n",
       "    .dataframe thead th {\n",
       "        text-align: right;\n",
       "    }\n",
       "</style>\n",
       "<table border=\"1\" class=\"dataframe\">\n",
       "  <thead>\n",
       "    <tr style=\"text-align: right;\">\n",
       "      <th></th>\n",
       "      <th>_id</th>\n",
       "      <th>site</th>\n",
       "      <th>epoch_time</th>\n",
       "      <th>startDateTime</th>\n",
       "      <th>endDateTime</th>\n",
       "      <th>windSpeedMean</th>\n",
       "      <th>windSpeedMinimum</th>\n",
       "      <th>windSpeedMaximum</th>\n",
       "      <th>windSpeedVariance</th>\n",
       "      <th>windSpeedNumPts</th>\n",
       "      <th>windSpeedExpUncert</th>\n",
       "      <th>windSpeedStdErMean</th>\n",
       "      <th>windSpeedFinalQF</th>\n",
       "      <th>windDirMean</th>\n",
       "      <th>windDirVariance</th>\n",
       "      <th>windDirNumPts</th>\n",
       "      <th>windDirExpUncert</th>\n",
       "      <th>windDirStdErMean</th>\n",
       "      <th>windDirFinalQF</th>\n",
       "    </tr>\n",
       "  </thead>\n",
       "  <tbody>\n",
       "    <tr>\n",
       "      <th>1003633</th>\n",
       "      <td>{'$oid': '60cbc2a851c1683b46671cf8'}</td>\n",
       "      <td>RMNP_DP1.00001.001_000.030</td>\n",
       "      <td>{'$numberLong': '1621080000000'}</td>\n",
       "      <td>2021-05-15T12:00:00Z</td>\n",
       "      <td>2021-05-15T12:30:00Z</td>\n",
       "      <td>0.54</td>\n",
       "      <td>0.05</td>\n",
       "      <td>1.18</td>\n",
       "      <td>0.03</td>\n",
       "      <td>1800</td>\n",
       "      <td>0.03</td>\n",
       "      <td>0.00</td>\n",
       "      <td>0</td>\n",
       "      <td>281.35</td>\n",
       "      <td>870.80</td>\n",
       "      <td>1800</td>\n",
       "      <td>0.07</td>\n",
       "      <td>0.01</td>\n",
       "      <td>0</td>\n",
       "    </tr>\n",
       "    <tr>\n",
       "      <th>34604</th>\n",
       "      <td>{'$oid': '60cbc55751c1683b46b2219d'}</td>\n",
       "      <td>ARIK_DP1.00001.001_200.000</td>\n",
       "      <td>{'$numberLong': '1526193000000'}</td>\n",
       "      <td>2018-05-13T06:30:00Z</td>\n",
       "      <td>2018-05-13T07:00:00Z</td>\n",
       "      <td>2.56</td>\n",
       "      <td>0.64</td>\n",
       "      <td>5.45</td>\n",
       "      <td>0.57</td>\n",
       "      <td>1800</td>\n",
       "      <td>0.12</td>\n",
       "      <td>0.02</td>\n",
       "      <td>0</td>\n",
       "      <td>47.89</td>\n",
       "      <td>250.65</td>\n",
       "      <td>1800</td>\n",
       "      <td>0.07</td>\n",
       "      <td>0.01</td>\n",
       "      <td>0</td>\n",
       "    </tr>\n",
       "    <tr>\n",
       "      <th>389396</th>\n",
       "      <td>{'$oid': '60cbc08d51c1683b462ca7f4'}</td>\n",
       "      <td>CPER_DP1.00001.001_000.020</td>\n",
       "      <td>{'$numberLong': '1601098200000'}</td>\n",
       "      <td>2020-09-26T05:30:00Z</td>\n",
       "      <td>2020-09-26T06:00:00Z</td>\n",
       "      <td>1.64</td>\n",
       "      <td>0.46</td>\n",
       "      <td>3.12</td>\n",
       "      <td>0.18</td>\n",
       "      <td>1800</td>\n",
       "      <td>0.06</td>\n",
       "      <td>0.01</td>\n",
       "      <td>0</td>\n",
       "      <td>355.92</td>\n",
       "      <td>319.57</td>\n",
       "      <td>1800</td>\n",
       "      <td>0.07</td>\n",
       "      <td>0.07</td>\n",
       "      <td>0</td>\n",
       "    </tr>\n",
       "    <tr>\n",
       "      <th>1225828</th>\n",
       "      <td>{'$oid': '60cbc05f51c1683b46277c0e'}</td>\n",
       "      <td>STER_DP1.00001.001_000.010</td>\n",
       "      <td>{'$numberLong': '1614429000000'}</td>\n",
       "      <td>2021-02-27T12:30:00Z</td>\n",
       "      <td>2021-02-27T13:00:00Z</td>\n",
       "      <td>0.09</td>\n",
       "      <td>0.00</td>\n",
       "      <td>0.45</td>\n",
       "      <td>0.00</td>\n",
       "      <td>1799</td>\n",
       "      <td>0.02</td>\n",
       "      <td>0.00</td>\n",
       "      <td>0</td>\n",
       "      <td>136.92</td>\n",
       "      <td>6589.78</td>\n",
       "      <td>1799</td>\n",
       "      <td>0.19</td>\n",
       "      <td>0.04</td>\n",
       "      <td>1</td>\n",
       "    </tr>\n",
       "    <tr>\n",
       "      <th>1136415</th>\n",
       "      <td>{'$oid': '60cbc03a51c1683b46239547'}</td>\n",
       "      <td>STER_DP1.00001.001_000.010</td>\n",
       "      <td>{'$numberLong': '1445907600000'}</td>\n",
       "      <td>2015-10-27T01:00:00Z</td>\n",
       "      <td>2015-10-27T01:30:00Z</td>\n",
       "      <td>0.05</td>\n",
       "      <td>0.00</td>\n",
       "      <td>0.32</td>\n",
       "      <td>0.00</td>\n",
       "      <td>1800</td>\n",
       "      <td>0.02</td>\n",
       "      <td>0.00</td>\n",
       "      <td>0</td>\n",
       "      <td>153.54</td>\n",
       "      <td>6925.60</td>\n",
       "      <td>1800</td>\n",
       "      <td>0.19</td>\n",
       "      <td>0.04</td>\n",
       "      <td>1</td>\n",
       "    </tr>\n",
       "  </tbody>\n",
       "</table>\n",
       "</div>"
      ],
      "text/plain": [
       "                                          _id                        site  \\\n",
       "1003633  {'$oid': '60cbc2a851c1683b46671cf8'}  RMNP_DP1.00001.001_000.030   \n",
       "34604    {'$oid': '60cbc55751c1683b46b2219d'}  ARIK_DP1.00001.001_200.000   \n",
       "389396   {'$oid': '60cbc08d51c1683b462ca7f4'}  CPER_DP1.00001.001_000.020   \n",
       "1225828  {'$oid': '60cbc05f51c1683b46277c0e'}  STER_DP1.00001.001_000.010   \n",
       "1136415  {'$oid': '60cbc03a51c1683b46239547'}  STER_DP1.00001.001_000.010   \n",
       "\n",
       "                               epoch_time         startDateTime  \\\n",
       "1003633  {'$numberLong': '1621080000000'}  2021-05-15T12:00:00Z   \n",
       "34604    {'$numberLong': '1526193000000'}  2018-05-13T06:30:00Z   \n",
       "389396   {'$numberLong': '1601098200000'}  2020-09-26T05:30:00Z   \n",
       "1225828  {'$numberLong': '1614429000000'}  2021-02-27T12:30:00Z   \n",
       "1136415  {'$numberLong': '1445907600000'}  2015-10-27T01:00:00Z   \n",
       "\n",
       "                  endDateTime  windSpeedMean  windSpeedMinimum  \\\n",
       "1003633  2021-05-15T12:30:00Z           0.54              0.05   \n",
       "34604    2018-05-13T07:00:00Z           2.56              0.64   \n",
       "389396   2020-09-26T06:00:00Z           1.64              0.46   \n",
       "1225828  2021-02-27T13:00:00Z           0.09              0.00   \n",
       "1136415  2015-10-27T01:30:00Z           0.05              0.00   \n",
       "\n",
       "         windSpeedMaximum  windSpeedVariance  windSpeedNumPts  \\\n",
       "1003633              1.18               0.03             1800   \n",
       "34604                5.45               0.57             1800   \n",
       "389396               3.12               0.18             1800   \n",
       "1225828              0.45               0.00             1799   \n",
       "1136415              0.32               0.00             1800   \n",
       "\n",
       "         windSpeedExpUncert  windSpeedStdErMean  windSpeedFinalQF  \\\n",
       "1003633                0.03                0.00                 0   \n",
       "34604                  0.12                0.02                 0   \n",
       "389396                 0.06                0.01                 0   \n",
       "1225828                0.02                0.00                 0   \n",
       "1136415                0.02                0.00                 0   \n",
       "\n",
       "         windDirMean  windDirVariance  windDirNumPts  windDirExpUncert  \\\n",
       "1003633       281.35           870.80           1800              0.07   \n",
       "34604          47.89           250.65           1800              0.07   \n",
       "389396        355.92           319.57           1800              0.07   \n",
       "1225828       136.92          6589.78           1799              0.19   \n",
       "1136415       153.54          6925.60           1800              0.19   \n",
       "\n",
       "         windDirStdErMean  windDirFinalQF  \n",
       "1003633              0.01               0  \n",
       "34604                0.01               0  \n",
       "389396               0.07               0  \n",
       "1225828              0.04               1  \n",
       "1136415              0.04               1  "
      ]
     },
     "execution_count": 7,
     "metadata": {},
     "output_type": "execute_result"
    }
   ],
   "source": [
    "windDataFrame = pd.io.json.read_json('../data/neon_2d_wind.Colorado/data.json')\n",
    "windDataFrame.sample(5)"
   ]
  },
  {
   "cell_type": "code",
   "execution_count": 8,
   "metadata": {},
   "outputs": [
    {
     "data": {
      "text/html": [
       "<div>\n",
       "<style scoped>\n",
       "    .dataframe tbody tr th:only-of-type {\n",
       "        vertical-align: middle;\n",
       "    }\n",
       "\n",
       "    .dataframe tbody tr th {\n",
       "        vertical-align: top;\n",
       "    }\n",
       "\n",
       "    .dataframe thead th {\n",
       "        text-align: right;\n",
       "    }\n",
       "</style>\n",
       "<table border=\"1\" class=\"dataframe\">\n",
       "  <thead>\n",
       "    <tr style=\"text-align: right;\">\n",
       "      <th></th>\n",
       "      <th>name</th>\n",
       "      <th>label</th>\n",
       "    </tr>\n",
       "  </thead>\n",
       "  <tbody>\n",
       "    <tr>\n",
       "      <th>4</th>\n",
       "      <td>windSpeedMinimum</td>\n",
       "      <td>Minimum wind speed</td>\n",
       "    </tr>\n",
       "    <tr>\n",
       "      <th>50</th>\n",
       "      <td>windDirDistortedFlowFailQM</td>\n",
       "      <td>Wind direction quality metric that summarizes ...</td>\n",
       "    </tr>\n",
       "    <tr>\n",
       "      <th>45</th>\n",
       "      <td>windDirGapPassQM</td>\n",
       "      <td>Wind direction quality metric that summarizes ...</td>\n",
       "    </tr>\n",
       "    <tr>\n",
       "      <th>13</th>\n",
       "      <td>windSpeedPersistenceFailQM</td>\n",
       "      <td>Wind speed quality metric that summarizes  the...</td>\n",
       "    </tr>\n",
       "    <tr>\n",
       "      <th>48</th>\n",
       "      <td>windDirSensorErrorPassQM</td>\n",
       "      <td>Wind direction quality metric that summarizes ...</td>\n",
       "    </tr>\n",
       "  </tbody>\n",
       "</table>\n",
       "</div>"
      ],
      "text/plain": [
       "                          name  \\\n",
       "4             windSpeedMinimum   \n",
       "50  windDirDistortedFlowFailQM   \n",
       "45            windDirGapPassQM   \n",
       "13  windSpeedPersistenceFailQM   \n",
       "48    windDirSensorErrorPassQM   \n",
       "\n",
       "                                                label  \n",
       "4                                  Minimum wind speed  \n",
       "50  Wind direction quality metric that summarizes ...  \n",
       "45  Wind direction quality metric that summarizes ...  \n",
       "13  Wind speed quality metric that summarizes  the...  \n",
       "48  Wind direction quality metric that summarizes ...  "
      ]
     },
     "execution_count": 8,
     "metadata": {},
     "output_type": "execute_result"
    }
   ],
   "source": [
    "windLabelsFrame = pd.io.json.read_json('../data/neon_2d_wind.Colorado/fieldLabels.json')\n",
    "windLabelsFrame.sample(5)"
   ]
  },
  {
   "cell_type": "code",
   "execution_count": 9,
   "metadata": {
    "scrolled": false
   },
   "outputs": [
    {
     "data": {
      "text/html": [
       "<div>\n",
       "<style scoped>\n",
       "    .dataframe tbody tr th:only-of-type {\n",
       "        vertical-align: middle;\n",
       "    }\n",
       "\n",
       "    .dataframe tbody tr th {\n",
       "        vertical-align: top;\n",
       "    }\n",
       "\n",
       "    .dataframe thead th {\n",
       "        text-align: right;\n",
       "    }\n",
       "</style>\n",
       "<table border=\"1\" class=\"dataframe\">\n",
       "  <thead>\n",
       "    <tr style=\"text-align: right;\">\n",
       "      <th></th>\n",
       "      <th>_id</th>\n",
       "      <th>type</th>\n",
       "      <th>geometry</th>\n",
       "      <th>properties</th>\n",
       "      <th>site</th>\n",
       "    </tr>\n",
       "  </thead>\n",
       "  <tbody>\n",
       "    <tr>\n",
       "      <th>9</th>\n",
       "      <td>{'$oid': '60cbcf5eed5577c25c20520d'}</td>\n",
       "      <td>Feature</td>\n",
       "      <td>{'type': 'Point', 'coordinates': [-104.74559, ...</td>\n",
       "      <td>{'HOR.VER': '000.030', 'name': 'CFGLOC100245',...</td>\n",
       "      <td>CPER_DP1.00001.001_000.030</td>\n",
       "    </tr>\n",
       "    <tr>\n",
       "      <th>1</th>\n",
       "      <td>{'$oid': '60cbcf5eed5577c25c205233'}</td>\n",
       "      <td>Feature</td>\n",
       "      <td>{'type': 'Point', 'coordinates': [-105.545955,...</td>\n",
       "      <td>{'HOR.VER': '000.040', 'name': 'CFGLOC100675',...</td>\n",
       "      <td>RMNP_DP1.00001.001_000.040</td>\n",
       "    </tr>\n",
       "    <tr>\n",
       "      <th>11</th>\n",
       "      <td>{'$oid': '60cbcf5eed5577c25c20520a'}</td>\n",
       "      <td>Feature</td>\n",
       "      <td>{'type': 'Point', 'coordinates': [-103.02929, ...</td>\n",
       "      <td>{'HOR.VER': '000.030', 'name': 'CFGLOC100115',...</td>\n",
       "      <td>STER_DP1.00001.001_000.030</td>\n",
       "    </tr>\n",
       "    <tr>\n",
       "      <th>4</th>\n",
       "      <td>{'$oid': '60cbcf5eed5577c25c205282'}</td>\n",
       "      <td>Feature</td>\n",
       "      <td>{'type': 'Point', 'coordinates': [-105.544602,...</td>\n",
       "      <td>{'HOR.VER': '200.000', 'name': 'CFGLOC101555',...</td>\n",
       "      <td>COMO_DP1.00001.001_200.000</td>\n",
       "    </tr>\n",
       "    <tr>\n",
       "      <th>13</th>\n",
       "      <td>{'$oid': '60cbcf5eed5577c25c205208'}</td>\n",
       "      <td>Feature</td>\n",
       "      <td>{'type': 'Point', 'coordinates': [-103.02929, ...</td>\n",
       "      <td>{'HOR.VER': '000.010', 'name': 'CFGLOC100113',...</td>\n",
       "      <td>STER_DP1.00001.001_000.010</td>\n",
       "    </tr>\n",
       "  </tbody>\n",
       "</table>\n",
       "</div>"
      ],
      "text/plain": [
       "                                     _id     type  \\\n",
       "9   {'$oid': '60cbcf5eed5577c25c20520d'}  Feature   \n",
       "1   {'$oid': '60cbcf5eed5577c25c205233'}  Feature   \n",
       "11  {'$oid': '60cbcf5eed5577c25c20520a'}  Feature   \n",
       "4   {'$oid': '60cbcf5eed5577c25c205282'}  Feature   \n",
       "13  {'$oid': '60cbcf5eed5577c25c205208'}  Feature   \n",
       "\n",
       "                                             geometry  \\\n",
       "9   {'type': 'Point', 'coordinates': [-104.74559, ...   \n",
       "1   {'type': 'Point', 'coordinates': [-105.545955,...   \n",
       "11  {'type': 'Point', 'coordinates': [-103.02929, ...   \n",
       "4   {'type': 'Point', 'coordinates': [-105.544602,...   \n",
       "13  {'type': 'Point', 'coordinates': [-103.02929, ...   \n",
       "\n",
       "                                           properties  \\\n",
       "9   {'HOR.VER': '000.030', 'name': 'CFGLOC100245',...   \n",
       "1   {'HOR.VER': '000.040', 'name': 'CFGLOC100675',...   \n",
       "11  {'HOR.VER': '000.030', 'name': 'CFGLOC100115',...   \n",
       "4   {'HOR.VER': '200.000', 'name': 'CFGLOC101555',...   \n",
       "13  {'HOR.VER': '000.010', 'name': 'CFGLOC100113',...   \n",
       "\n",
       "                          site  \n",
       "9   CPER_DP1.00001.001_000.030  \n",
       "1   RMNP_DP1.00001.001_000.040  \n",
       "11  STER_DP1.00001.001_000.030  \n",
       "4   COMO_DP1.00001.001_200.000  \n",
       "13  STER_DP1.00001.001_000.010  "
      ]
     },
     "execution_count": 9,
     "metadata": {},
     "output_type": "execute_result"
    }
   ],
   "source": [
    "windGeometryFrame = pd.io.json.read_json('../data/neon_2d_wind.Colorado/linkedGeometry.json')\n",
    "windGeometryFrame.sample(5)"
   ]
  },
  {
   "cell_type": "markdown",
   "metadata": {},
   "source": [
    "#### NEON Barometric Pressure Dataset"
   ]
  },
  {
   "cell_type": "code",
   "execution_count": 10,
   "metadata": {
    "scrolled": true
   },
   "outputs": [
    {
     "data": {
      "text/html": [
       "<div>\n",
       "<style scoped>\n",
       "    .dataframe tbody tr th:only-of-type {\n",
       "        vertical-align: middle;\n",
       "    }\n",
       "\n",
       "    .dataframe tbody tr th {\n",
       "        vertical-align: top;\n",
       "    }\n",
       "\n",
       "    .dataframe thead th {\n",
       "        text-align: right;\n",
       "    }\n",
       "</style>\n",
       "<table border=\"1\" class=\"dataframe\">\n",
       "  <thead>\n",
       "    <tr style=\"text-align: right;\">\n",
       "      <th></th>\n",
       "      <th>_id</th>\n",
       "      <th>site</th>\n",
       "      <th>epoch_time</th>\n",
       "      <th>startDateTime</th>\n",
       "      <th>endDateTime</th>\n",
       "      <th>staPresMean</th>\n",
       "      <th>staPresMinimum</th>\n",
       "      <th>staPresMaximum</th>\n",
       "      <th>staPresVariance</th>\n",
       "      <th>staPresNumPts</th>\n",
       "      <th>staPresExpUncert</th>\n",
       "      <th>staPresStdErMean</th>\n",
       "      <th>staPresFinalQF</th>\n",
       "      <th>corPres</th>\n",
       "      <th>corPresExpUncert</th>\n",
       "      <th>corPresFinalQF</th>\n",
       "    </tr>\n",
       "  </thead>\n",
       "  <tbody>\n",
       "    <tr>\n",
       "      <th>203368</th>\n",
       "      <td>{'$oid': '60c78b13c8cb4f3f3bedb6c9'}</td>\n",
       "      <td>CPER_DP1.00004.001</td>\n",
       "      <td>{'$numberLong': '1562830200000'}</td>\n",
       "      <td>2019-07-11T07:30:00Z</td>\n",
       "      <td>2019-07-11T08:00:00Z</td>\n",
       "      <td>84.09547</td>\n",
       "      <td>84.08525</td>\n",
       "      <td>84.11525</td>\n",
       "      <td>0.00016</td>\n",
       "      <td>180</td>\n",
       "      <td>0.01730</td>\n",
       "      <td>0.00094</td>\n",
       "      <td>0</td>\n",
       "      <td>102.08575</td>\n",
       "      <td>0.15239</td>\n",
       "      <td>0</td>\n",
       "    </tr>\n",
       "    <tr>\n",
       "      <th>178266</th>\n",
       "      <td>{'$oid': '60c78b10c8cb4f3f3bed5397'}</td>\n",
       "      <td>CPER_DP1.00004.001</td>\n",
       "      <td>{'$numberLong': '1515591000000'}</td>\n",
       "      <td>2018-01-10T13:30:00Z</td>\n",
       "      <td>2018-01-10T14:00:00Z</td>\n",
       "      <td>81.85264</td>\n",
       "      <td>81.83829</td>\n",
       "      <td>81.86832</td>\n",
       "      <td>0.00007</td>\n",
       "      <td>180</td>\n",
       "      <td>0.01724</td>\n",
       "      <td>0.00062</td>\n",
       "      <td>0</td>\n",
       "      <td>100.23747</td>\n",
       "      <td>0.15953</td>\n",
       "      <td>0</td>\n",
       "    </tr>\n",
       "    <tr>\n",
       "      <th>525437</th>\n",
       "      <td>{'$oid': '60c78d4bc8cb4f3f3b2ede02'}</td>\n",
       "      <td>WLOU_DP1.00004.001</td>\n",
       "      <td>{'$numberLong': '1606271400000'}</td>\n",
       "      <td>2020-11-25T02:30:00Z</td>\n",
       "      <td>2020-11-25T03:00:00Z</td>\n",
       "      <td>71.20952</td>\n",
       "      <td>71.19780</td>\n",
       "      <td>71.21780</td>\n",
       "      <td>0.00004</td>\n",
       "      <td>180</td>\n",
       "      <td>0.04721</td>\n",
       "      <td>0.00046</td>\n",
       "      <td>0</td>\n",
       "      <td>102.16768</td>\n",
       "      <td>0.52079</td>\n",
       "      <td>0</td>\n",
       "    </tr>\n",
       "    <tr>\n",
       "      <th>246337</th>\n",
       "      <td>{'$oid': '60c78c29c8cb4f3f3b0d9a91'}</td>\n",
       "      <td>NIWO_DP1.00004.001</td>\n",
       "      <td>{'$numberLong': '1519606800000'}</td>\n",
       "      <td>2018-02-26T01:00:00Z</td>\n",
       "      <td>2018-02-26T01:30:00Z</td>\n",
       "      <td>65.40241</td>\n",
       "      <td>65.30415</td>\n",
       "      <td>65.46412</td>\n",
       "      <td>0.00113</td>\n",
       "      <td>180</td>\n",
       "      <td>0.01792</td>\n",
       "      <td>0.00251</td>\n",
       "      <td>0</td>\n",
       "      <td>102.21712</td>\n",
       "      <td>0.77811</td>\n",
       "      <td>0</td>\n",
       "    </tr>\n",
       "    <tr>\n",
       "      <th>352774</th>\n",
       "      <td>{'$oid': '60c78c9ec8cb4f3f3b1b2670'}</td>\n",
       "      <td>RMNP_DP1.00004.001</td>\n",
       "      <td>{'$numberLong': '1557430200000'}</td>\n",
       "      <td>2019-05-09T19:30:00Z</td>\n",
       "      <td>2019-05-09T20:00:00Z</td>\n",
       "      <td>72.82892</td>\n",
       "      <td>72.82236</td>\n",
       "      <td>72.83236</td>\n",
       "      <td>0.00002</td>\n",
       "      <td>180</td>\n",
       "      <td>0.01721</td>\n",
       "      <td>0.00036</td>\n",
       "      <td>0</td>\n",
       "      <td>101.85113</td>\n",
       "      <td>0.43854</td>\n",
       "      <td>0</td>\n",
       "    </tr>\n",
       "  </tbody>\n",
       "</table>\n",
       "</div>"
      ],
      "text/plain": [
       "                                         _id                site  \\\n",
       "203368  {'$oid': '60c78b13c8cb4f3f3bedb6c9'}  CPER_DP1.00004.001   \n",
       "178266  {'$oid': '60c78b10c8cb4f3f3bed5397'}  CPER_DP1.00004.001   \n",
       "525437  {'$oid': '60c78d4bc8cb4f3f3b2ede02'}  WLOU_DP1.00004.001   \n",
       "246337  {'$oid': '60c78c29c8cb4f3f3b0d9a91'}  NIWO_DP1.00004.001   \n",
       "352774  {'$oid': '60c78c9ec8cb4f3f3b1b2670'}  RMNP_DP1.00004.001   \n",
       "\n",
       "                              epoch_time         startDateTime  \\\n",
       "203368  {'$numberLong': '1562830200000'}  2019-07-11T07:30:00Z   \n",
       "178266  {'$numberLong': '1515591000000'}  2018-01-10T13:30:00Z   \n",
       "525437  {'$numberLong': '1606271400000'}  2020-11-25T02:30:00Z   \n",
       "246337  {'$numberLong': '1519606800000'}  2018-02-26T01:00:00Z   \n",
       "352774  {'$numberLong': '1557430200000'}  2019-05-09T19:30:00Z   \n",
       "\n",
       "                 endDateTime  staPresMean  staPresMinimum  staPresMaximum  \\\n",
       "203368  2019-07-11T08:00:00Z     84.09547        84.08525        84.11525   \n",
       "178266  2018-01-10T14:00:00Z     81.85264        81.83829        81.86832   \n",
       "525437  2020-11-25T03:00:00Z     71.20952        71.19780        71.21780   \n",
       "246337  2018-02-26T01:30:00Z     65.40241        65.30415        65.46412   \n",
       "352774  2019-05-09T20:00:00Z     72.82892        72.82236        72.83236   \n",
       "\n",
       "        staPresVariance  staPresNumPts  staPresExpUncert  staPresStdErMean  \\\n",
       "203368          0.00016            180           0.01730           0.00094   \n",
       "178266          0.00007            180           0.01724           0.00062   \n",
       "525437          0.00004            180           0.04721           0.00046   \n",
       "246337          0.00113            180           0.01792           0.00251   \n",
       "352774          0.00002            180           0.01721           0.00036   \n",
       "\n",
       "        staPresFinalQF    corPres  corPresExpUncert  corPresFinalQF  \n",
       "203368               0  102.08575           0.15239               0  \n",
       "178266               0  100.23747           0.15953               0  \n",
       "525437               0  102.16768           0.52079               0  \n",
       "246337               0  102.21712           0.77811               0  \n",
       "352774               0  101.85113           0.43854               0  "
      ]
     },
     "execution_count": 10,
     "metadata": {},
     "output_type": "execute_result"
    }
   ],
   "source": [
    "pressureDataFrame = pd.io.json.read_json('../data/neon_barometric_pressure.Colorado/data.json')\n",
    "pressureDataFrame.sample(5)"
   ]
  },
  {
   "cell_type": "code",
   "execution_count": 11,
   "metadata": {},
   "outputs": [
    {
     "data": {
      "text/html": [
       "<div>\n",
       "<style scoped>\n",
       "    .dataframe tbody tr th:only-of-type {\n",
       "        vertical-align: middle;\n",
       "    }\n",
       "\n",
       "    .dataframe tbody tr th {\n",
       "        vertical-align: top;\n",
       "    }\n",
       "\n",
       "    .dataframe thead th {\n",
       "        text-align: right;\n",
       "    }\n",
       "</style>\n",
       "<table border=\"1\" class=\"dataframe\">\n",
       "  <thead>\n",
       "    <tr style=\"text-align: right;\">\n",
       "      <th></th>\n",
       "      <th>name</th>\n",
       "      <th>label</th>\n",
       "    </tr>\n",
       "  </thead>\n",
       "  <tbody>\n",
       "    <tr>\n",
       "      <th>18</th>\n",
       "      <td>staPresStepNAQM</td>\n",
       "      <td>Station pressure quality metric that summarize...</td>\n",
       "    </tr>\n",
       "    <tr>\n",
       "      <th>27</th>\n",
       "      <td>staPresSpikeNAQM</td>\n",
       "      <td>Station pressure quality metric that summarize...</td>\n",
       "    </tr>\n",
       "    <tr>\n",
       "      <th>21</th>\n",
       "      <td>staPresNullNAQM</td>\n",
       "      <td>Station pressure quality metric that summarize...</td>\n",
       "    </tr>\n",
       "    <tr>\n",
       "      <th>28</th>\n",
       "      <td>staPresValidCalFailQM</td>\n",
       "      <td>Station pressure quality metric that summarize...</td>\n",
       "    </tr>\n",
       "    <tr>\n",
       "      <th>1</th>\n",
       "      <td>startDateTime</td>\n",
       "      <td>Date and time at which a sampling is initiated</td>\n",
       "    </tr>\n",
       "  </tbody>\n",
       "</table>\n",
       "</div>"
      ],
      "text/plain": [
       "                     name                                              label\n",
       "18        staPresStepNAQM  Station pressure quality metric that summarize...\n",
       "27       staPresSpikeNAQM  Station pressure quality metric that summarize...\n",
       "21        staPresNullNAQM  Station pressure quality metric that summarize...\n",
       "28  staPresValidCalFailQM  Station pressure quality metric that summarize...\n",
       "1           startDateTime     Date and time at which a sampling is initiated"
      ]
     },
     "execution_count": 11,
     "metadata": {},
     "output_type": "execute_result"
    }
   ],
   "source": [
    "pressureLabelsFrame = pd.io.json.read_json('../data/neon_barometric_pressure.Colorado/fieldLabels.json')\n",
    "pressureLabelsFrame.sample(5)"
   ]
  },
  {
   "cell_type": "code",
   "execution_count": 12,
   "metadata": {
    "scrolled": true
   },
   "outputs": [
    {
     "data": {
      "text/html": [
       "<div>\n",
       "<style scoped>\n",
       "    .dataframe tbody tr th:only-of-type {\n",
       "        vertical-align: middle;\n",
       "    }\n",
       "\n",
       "    .dataframe tbody tr th {\n",
       "        vertical-align: top;\n",
       "    }\n",
       "\n",
       "    .dataframe thead th {\n",
       "        text-align: right;\n",
       "    }\n",
       "</style>\n",
       "<table border=\"1\" class=\"dataframe\">\n",
       "  <thead>\n",
       "    <tr style=\"text-align: right;\">\n",
       "      <th></th>\n",
       "      <th>_id</th>\n",
       "      <th>type</th>\n",
       "      <th>geometry</th>\n",
       "      <th>properties</th>\n",
       "      <th>site</th>\n",
       "    </tr>\n",
       "  </thead>\n",
       "  <tbody>\n",
       "    <tr>\n",
       "      <th>2</th>\n",
       "      <td>{'$oid': '60c78a9d230c7f49850c20b0'}</td>\n",
       "      <td>Feature</td>\n",
       "      <td>{'type': 'Point', 'coordinates': [-105.544602,...</td>\n",
       "      <td>{'site': 'COMO_DP1.00004.001', 'name': 'neon_b...</td>\n",
       "      <td>COMO_DP1.00004.001</td>\n",
       "    </tr>\n",
       "    <tr>\n",
       "      <th>5</th>\n",
       "      <td>{'$oid': '60c78a9d230c7f49850c20e3'}</td>\n",
       "      <td>Feature</td>\n",
       "      <td>{'type': 'Point', 'coordinates': [-103.02929, ...</td>\n",
       "      <td>{'site': 'STER_DP1.00004.001', 'name': 'neon_b...</td>\n",
       "      <td>STER_DP1.00004.001</td>\n",
       "    </tr>\n",
       "    <tr>\n",
       "      <th>1</th>\n",
       "      <td>{'$oid': '60c78a9d230c7f49850c20ef'}</td>\n",
       "      <td>Feature</td>\n",
       "      <td>{'type': 'Point', 'coordinates': [-105.914674,...</td>\n",
       "      <td>{'site': 'WLOU_DP1.00004.001', 'name': 'neon_b...</td>\n",
       "      <td>WLOU_DP1.00004.001</td>\n",
       "    </tr>\n",
       "    <tr>\n",
       "      <th>3</th>\n",
       "      <td>{'$oid': '60c78a9d230c7f49850c20cf'}</td>\n",
       "      <td>Feature</td>\n",
       "      <td>{'type': 'Point', 'coordinates': [-105.58238, ...</td>\n",
       "      <td>{'site': 'NIWO_DP1.00004.001', 'name': 'neon_b...</td>\n",
       "      <td>NIWO_DP1.00004.001</td>\n",
       "    </tr>\n",
       "    <tr>\n",
       "      <th>6</th>\n",
       "      <td>{'$oid': '60c78a9d230c7f49850c20a5'}</td>\n",
       "      <td>Feature</td>\n",
       "      <td>{'type': 'Point', 'coordinates': [-102.450966,...</td>\n",
       "      <td>{'site': 'ARIK_DP1.00004.001', 'name': 'neon_b...</td>\n",
       "      <td>ARIK_DP1.00004.001</td>\n",
       "    </tr>\n",
       "  </tbody>\n",
       "</table>\n",
       "</div>"
      ],
      "text/plain": [
       "                                    _id     type  \\\n",
       "2  {'$oid': '60c78a9d230c7f49850c20b0'}  Feature   \n",
       "5  {'$oid': '60c78a9d230c7f49850c20e3'}  Feature   \n",
       "1  {'$oid': '60c78a9d230c7f49850c20ef'}  Feature   \n",
       "3  {'$oid': '60c78a9d230c7f49850c20cf'}  Feature   \n",
       "6  {'$oid': '60c78a9d230c7f49850c20a5'}  Feature   \n",
       "\n",
       "                                            geometry  \\\n",
       "2  {'type': 'Point', 'coordinates': [-105.544602,...   \n",
       "5  {'type': 'Point', 'coordinates': [-103.02929, ...   \n",
       "1  {'type': 'Point', 'coordinates': [-105.914674,...   \n",
       "3  {'type': 'Point', 'coordinates': [-105.58238, ...   \n",
       "6  {'type': 'Point', 'coordinates': [-102.450966,...   \n",
       "\n",
       "                                          properties                site  \n",
       "2  {'site': 'COMO_DP1.00004.001', 'name': 'neon_b...  COMO_DP1.00004.001  \n",
       "5  {'site': 'STER_DP1.00004.001', 'name': 'neon_b...  STER_DP1.00004.001  \n",
       "1  {'site': 'WLOU_DP1.00004.001', 'name': 'neon_b...  WLOU_DP1.00004.001  \n",
       "3  {'site': 'NIWO_DP1.00004.001', 'name': 'neon_b...  NIWO_DP1.00004.001  \n",
       "6  {'site': 'ARIK_DP1.00004.001', 'name': 'neon_b...  ARIK_DP1.00004.001  "
      ]
     },
     "execution_count": 12,
     "metadata": {},
     "output_type": "execute_result"
    }
   ],
   "source": [
    "pressureGeometryFrame = pd.io.json.read_json('../data/neon_barometric_pressure.Colorado/linkedGeometry.json')\n",
    "pressureGeometryFrame.sample(5)"
   ]
  },
  {
   "cell_type": "markdown",
   "metadata": {},
   "source": [
    "#### NEON Air Temperature"
   ]
  },
  {
   "cell_type": "code",
   "execution_count": 13,
   "metadata": {},
   "outputs": [
    {
     "data": {
      "text/html": [
       "<div>\n",
       "<style scoped>\n",
       "    .dataframe tbody tr th:only-of-type {\n",
       "        vertical-align: middle;\n",
       "    }\n",
       "\n",
       "    .dataframe tbody tr th {\n",
       "        vertical-align: top;\n",
       "    }\n",
       "\n",
       "    .dataframe thead th {\n",
       "        text-align: right;\n",
       "    }\n",
       "</style>\n",
       "<table border=\"1\" class=\"dataframe\">\n",
       "  <thead>\n",
       "    <tr style=\"text-align: right;\">\n",
       "      <th></th>\n",
       "      <th>_id</th>\n",
       "      <th>site</th>\n",
       "      <th>epoch_time</th>\n",
       "      <th>startDateTime</th>\n",
       "      <th>endDateTime</th>\n",
       "      <th>tempSingleMean</th>\n",
       "      <th>tempSingleMinimum</th>\n",
       "      <th>tempSingleMaximum</th>\n",
       "      <th>tempSingleVariance</th>\n",
       "      <th>tempSingleNumPts</th>\n",
       "      <th>tempSingleExpUncert</th>\n",
       "      <th>tempSingleStdErMean</th>\n",
       "      <th>finalQF</th>\n",
       "    </tr>\n",
       "  </thead>\n",
       "  <tbody>\n",
       "    <tr>\n",
       "      <th>312468</th>\n",
       "      <td>{'$oid': '60cbd3d10fc3818c81dfebad'}</td>\n",
       "      <td>CPER_DP1.00002.001_000.020</td>\n",
       "      <td>{'$numberLong': '1554330600000'}</td>\n",
       "      <td>2019-04-03T22:30:00Z</td>\n",
       "      <td>2019-04-03T23:00:00Z</td>\n",
       "      <td>12.2933</td>\n",
       "      <td>10.8363</td>\n",
       "      <td>14.6075</td>\n",
       "      <td>0.7591</td>\n",
       "      <td>1800</td>\n",
       "      <td>0.1467</td>\n",
       "      <td>0.0205</td>\n",
       "      <td>0</td>\n",
       "    </tr>\n",
       "    <tr>\n",
       "      <th>1227668</th>\n",
       "      <td>{'$oid': '60cbd3ab0fc3818c81db5ed5'}</td>\n",
       "      <td>STER_DP1.00002.001_000.030</td>\n",
       "      <td>{'$numberLong': '1540483200000'}</td>\n",
       "      <td>2018-10-25T16:00:00Z</td>\n",
       "      <td>2018-10-25T16:30:00Z</td>\n",
       "      <td>10.6455</td>\n",
       "      <td>10.0983</td>\n",
       "      <td>11.5160</td>\n",
       "      <td>0.1685</td>\n",
       "      <td>1800</td>\n",
       "      <td>0.1405</td>\n",
       "      <td>0.0097</td>\n",
       "      <td>0</td>\n",
       "    </tr>\n",
       "    <tr>\n",
       "      <th>461375</th>\n",
       "      <td>{'$oid': '60cbd89a0fc3818c8170d806'}</td>\n",
       "      <td>NIWO_DP1.00002.001_000.010</td>\n",
       "      <td>{'$numberLong': '1569776400000'}</td>\n",
       "      <td>2019-09-29T17:00:00Z</td>\n",
       "      <td>2019-09-29T17:30:00Z</td>\n",
       "      <td>13.4511</td>\n",
       "      <td>11.8288</td>\n",
       "      <td>15.5330</td>\n",
       "      <td>0.6338</td>\n",
       "      <td>1800</td>\n",
       "      <td>0.1457</td>\n",
       "      <td>0.0188</td>\n",
       "      <td>0</td>\n",
       "    </tr>\n",
       "    <tr>\n",
       "      <th>845166</th>\n",
       "      <td>{'$oid': '60cbd53a0fc3818c810ac068'}</td>\n",
       "      <td>RMNP_DP1.00002.001_000.030</td>\n",
       "      <td>{'$numberLong': '1566671400000'}</td>\n",
       "      <td>2019-08-24T18:30:00Z</td>\n",
       "      <td>2019-08-24T19:00:00Z</td>\n",
       "      <td>17.1202</td>\n",
       "      <td>16.9414</td>\n",
       "      <td>17.3241</td>\n",
       "      <td>0.0148</td>\n",
       "      <td>1800</td>\n",
       "      <td>0.1417</td>\n",
       "      <td>0.0029</td>\n",
       "      <td>0</td>\n",
       "    </tr>\n",
       "    <tr>\n",
       "      <th>390676</th>\n",
       "      <td>{'$oid': '60cbd3cc0fc3818c81df4559'}</td>\n",
       "      <td>CPER_DP1.00002.001_000.030</td>\n",
       "      <td>{'$numberLong': '1507930200000'}</td>\n",
       "      <td>2017-10-13T21:30:00Z</td>\n",
       "      <td>2017-10-13T22:00:00Z</td>\n",
       "      <td>14.1543</td>\n",
       "      <td>13.7951</td>\n",
       "      <td>14.5355</td>\n",
       "      <td>0.0369</td>\n",
       "      <td>1800</td>\n",
       "      <td>0.1406</td>\n",
       "      <td>0.0045</td>\n",
       "      <td>0</td>\n",
       "    </tr>\n",
       "  </tbody>\n",
       "</table>\n",
       "</div>"
      ],
      "text/plain": [
       "                                          _id                        site  \\\n",
       "312468   {'$oid': '60cbd3d10fc3818c81dfebad'}  CPER_DP1.00002.001_000.020   \n",
       "1227668  {'$oid': '60cbd3ab0fc3818c81db5ed5'}  STER_DP1.00002.001_000.030   \n",
       "461375   {'$oid': '60cbd89a0fc3818c8170d806'}  NIWO_DP1.00002.001_000.010   \n",
       "845166   {'$oid': '60cbd53a0fc3818c810ac068'}  RMNP_DP1.00002.001_000.030   \n",
       "390676   {'$oid': '60cbd3cc0fc3818c81df4559'}  CPER_DP1.00002.001_000.030   \n",
       "\n",
       "                               epoch_time         startDateTime  \\\n",
       "312468   {'$numberLong': '1554330600000'}  2019-04-03T22:30:00Z   \n",
       "1227668  {'$numberLong': '1540483200000'}  2018-10-25T16:00:00Z   \n",
       "461375   {'$numberLong': '1569776400000'}  2019-09-29T17:00:00Z   \n",
       "845166   {'$numberLong': '1566671400000'}  2019-08-24T18:30:00Z   \n",
       "390676   {'$numberLong': '1507930200000'}  2017-10-13T21:30:00Z   \n",
       "\n",
       "                  endDateTime  tempSingleMean  tempSingleMinimum  \\\n",
       "312468   2019-04-03T23:00:00Z         12.2933            10.8363   \n",
       "1227668  2018-10-25T16:30:00Z         10.6455            10.0983   \n",
       "461375   2019-09-29T17:30:00Z         13.4511            11.8288   \n",
       "845166   2019-08-24T19:00:00Z         17.1202            16.9414   \n",
       "390676   2017-10-13T22:00:00Z         14.1543            13.7951   \n",
       "\n",
       "         tempSingleMaximum  tempSingleVariance  tempSingleNumPts  \\\n",
       "312468             14.6075              0.7591              1800   \n",
       "1227668            11.5160              0.1685              1800   \n",
       "461375             15.5330              0.6338              1800   \n",
       "845166             17.3241              0.0148              1800   \n",
       "390676             14.5355              0.0369              1800   \n",
       "\n",
       "         tempSingleExpUncert  tempSingleStdErMean  finalQF  \n",
       "312468                0.1467               0.0205        0  \n",
       "1227668               0.1405               0.0097        0  \n",
       "461375                0.1457               0.0188        0  \n",
       "845166                0.1417               0.0029        0  \n",
       "390676                0.1406               0.0045        0  "
      ]
     },
     "execution_count": 13,
     "metadata": {},
     "output_type": "execute_result"
    }
   ],
   "source": [
    "temperatureDataFrame = pd.io.json.read_json('../data/neon_single_asp_air_temperature.Colorado/data.json')\n",
    "temperatureDataFrame.sample(5)"
   ]
  },
  {
   "cell_type": "code",
   "execution_count": 14,
   "metadata": {
    "scrolled": true
   },
   "outputs": [
    {
     "data": {
      "text/html": [
       "<div>\n",
       "<style scoped>\n",
       "    .dataframe tbody tr th:only-of-type {\n",
       "        vertical-align: middle;\n",
       "    }\n",
       "\n",
       "    .dataframe tbody tr th {\n",
       "        vertical-align: top;\n",
       "    }\n",
       "\n",
       "    .dataframe thead th {\n",
       "        text-align: right;\n",
       "    }\n",
       "</style>\n",
       "<table border=\"1\" class=\"dataframe\">\n",
       "  <thead>\n",
       "    <tr style=\"text-align: right;\">\n",
       "      <th></th>\n",
       "      <th>name</th>\n",
       "      <th>label</th>\n",
       "    </tr>\n",
       "  </thead>\n",
       "  <tbody>\n",
       "    <tr>\n",
       "      <th>7</th>\n",
       "      <td>tempSingleNumPts</td>\n",
       "      <td>Number of points used to calculate the arithme...</td>\n",
       "    </tr>\n",
       "    <tr>\n",
       "      <th>17</th>\n",
       "      <td>stepPassQM</td>\n",
       "      <td>Quality metric that summarizes the passed outc...</td>\n",
       "    </tr>\n",
       "    <tr>\n",
       "      <th>1</th>\n",
       "      <td>startDateTime</td>\n",
       "      <td>Date and time at which a sampling is initiated</td>\n",
       "    </tr>\n",
       "    <tr>\n",
       "      <th>30</th>\n",
       "      <td>flowNAQM</td>\n",
       "      <td>Quality metric that summarizes when the flow r...</td>\n",
       "    </tr>\n",
       "    <tr>\n",
       "      <th>9</th>\n",
       "      <td>tempSingleStdErMean</td>\n",
       "      <td>Standard error of the mean for single aspirate...</td>\n",
       "    </tr>\n",
       "  </tbody>\n",
       "</table>\n",
       "</div>"
      ],
      "text/plain": [
       "                   name                                              label\n",
       "7      tempSingleNumPts  Number of points used to calculate the arithme...\n",
       "17           stepPassQM  Quality metric that summarizes the passed outc...\n",
       "1         startDateTime     Date and time at which a sampling is initiated\n",
       "30             flowNAQM  Quality metric that summarizes when the flow r...\n",
       "9   tempSingleStdErMean  Standard error of the mean for single aspirate..."
      ]
     },
     "execution_count": 14,
     "metadata": {},
     "output_type": "execute_result"
    }
   ],
   "source": [
    "temperatureLabelsFrame = pd.io.json.read_json('../data/neon_single_asp_air_temperature.Colorado/fieldLabels.json')\n",
    "temperatureLabelsFrame.sample(5)"
   ]
  },
  {
   "cell_type": "code",
   "execution_count": 15,
   "metadata": {
    "scrolled": true
   },
   "outputs": [
    {
     "data": {
      "text/html": [
       "<div>\n",
       "<style scoped>\n",
       "    .dataframe tbody tr th:only-of-type {\n",
       "        vertical-align: middle;\n",
       "    }\n",
       "\n",
       "    .dataframe tbody tr th {\n",
       "        vertical-align: top;\n",
       "    }\n",
       "\n",
       "    .dataframe thead th {\n",
       "        text-align: right;\n",
       "    }\n",
       "</style>\n",
       "<table border=\"1\" class=\"dataframe\">\n",
       "  <thead>\n",
       "    <tr style=\"text-align: right;\">\n",
       "      <th></th>\n",
       "      <th>_id</th>\n",
       "      <th>type</th>\n",
       "      <th>geometry</th>\n",
       "      <th>properties</th>\n",
       "      <th>site</th>\n",
       "    </tr>\n",
       "  </thead>\n",
       "  <tbody>\n",
       "    <tr>\n",
       "      <th>7</th>\n",
       "      <td>{'$oid': '60cbd3907adbc5ff35cc422d'}</td>\n",
       "      <td>Feature</td>\n",
       "      <td>{'type': 'Point', 'coordinates': [-105.58238, ...</td>\n",
       "      <td>{'HOR.VER': '000.010', 'name': 'CFGLOC109344',...</td>\n",
       "      <td>NIWO_DP1.00002.001_000.010</td>\n",
       "    </tr>\n",
       "    <tr>\n",
       "      <th>3</th>\n",
       "      <td>{'$oid': '60cbd3907adbc5ff35cc41c9'}</td>\n",
       "      <td>Feature</td>\n",
       "      <td>{'type': 'Point', 'coordinates': [-105.545955,...</td>\n",
       "      <td>{'HOR.VER': '000.010', 'name': 'CFGLOC100665',...</td>\n",
       "      <td>RMNP_DP1.00002.001_000.010</td>\n",
       "    </tr>\n",
       "    <tr>\n",
       "      <th>6</th>\n",
       "      <td>{'$oid': '60cbd3907adbc5ff35cc422f'}</td>\n",
       "      <td>Feature</td>\n",
       "      <td>{'type': 'Point', 'coordinates': [-105.58238, ...</td>\n",
       "      <td>{'HOR.VER': '000.030', 'name': 'CFGLOC109358',...</td>\n",
       "      <td>NIWO_DP1.00002.001_000.030</td>\n",
       "    </tr>\n",
       "    <tr>\n",
       "      <th>12</th>\n",
       "      <td>{'$oid': '60cbd3907adbc5ff35cc41a1'}</td>\n",
       "      <td>Feature</td>\n",
       "      <td>{'type': 'Point', 'coordinates': [-103.02929, ...</td>\n",
       "      <td>{'HOR.VER': '000.010', 'name': 'CFGLOC100016',...</td>\n",
       "      <td>STER_DP1.00002.001_000.010</td>\n",
       "    </tr>\n",
       "    <tr>\n",
       "      <th>15</th>\n",
       "      <td>{'$oid': '60cbd3907adbc5ff35cc4201'}</td>\n",
       "      <td>Feature</td>\n",
       "      <td>{'type': 'Point', 'coordinates': [-102.450966,...</td>\n",
       "      <td>{'HOR.VER': '200.000', 'name': 'CFGLOC101255',...</td>\n",
       "      <td>ARIK_DP1.00002.001_200.000</td>\n",
       "    </tr>\n",
       "  </tbody>\n",
       "</table>\n",
       "</div>"
      ],
      "text/plain": [
       "                                     _id     type  \\\n",
       "7   {'$oid': '60cbd3907adbc5ff35cc422d'}  Feature   \n",
       "3   {'$oid': '60cbd3907adbc5ff35cc41c9'}  Feature   \n",
       "6   {'$oid': '60cbd3907adbc5ff35cc422f'}  Feature   \n",
       "12  {'$oid': '60cbd3907adbc5ff35cc41a1'}  Feature   \n",
       "15  {'$oid': '60cbd3907adbc5ff35cc4201'}  Feature   \n",
       "\n",
       "                                             geometry  \\\n",
       "7   {'type': 'Point', 'coordinates': [-105.58238, ...   \n",
       "3   {'type': 'Point', 'coordinates': [-105.545955,...   \n",
       "6   {'type': 'Point', 'coordinates': [-105.58238, ...   \n",
       "12  {'type': 'Point', 'coordinates': [-103.02929, ...   \n",
       "15  {'type': 'Point', 'coordinates': [-102.450966,...   \n",
       "\n",
       "                                           properties  \\\n",
       "7   {'HOR.VER': '000.010', 'name': 'CFGLOC109344',...   \n",
       "3   {'HOR.VER': '000.010', 'name': 'CFGLOC100665',...   \n",
       "6   {'HOR.VER': '000.030', 'name': 'CFGLOC109358',...   \n",
       "12  {'HOR.VER': '000.010', 'name': 'CFGLOC100016',...   \n",
       "15  {'HOR.VER': '200.000', 'name': 'CFGLOC101255',...   \n",
       "\n",
       "                          site  \n",
       "7   NIWO_DP1.00002.001_000.010  \n",
       "3   RMNP_DP1.00002.001_000.010  \n",
       "6   NIWO_DP1.00002.001_000.030  \n",
       "12  STER_DP1.00002.001_000.010  \n",
       "15  ARIK_DP1.00002.001_200.000  "
      ]
     },
     "execution_count": 15,
     "metadata": {},
     "output_type": "execute_result"
    }
   ],
   "source": [
    "temperatureGeometryFrame = pd.io.json.read_json('../data/neon_single_asp_air_temperature.Colorado/linkedGeometry.json')\n",
    "temperatureGeometryFrame.sample(5)"
   ]
  },
  {
   "cell_type": "markdown",
   "metadata": {},
   "source": [
    "### U.S. Census Total County Population Dataset"
   ]
  },
  {
   "cell_type": "code",
   "execution_count": 16,
   "metadata": {},
   "outputs": [
    {
     "data": {
      "text/html": [
       "<div>\n",
       "<style scoped>\n",
       "    .dataframe tbody tr th:only-of-type {\n",
       "        vertical-align: middle;\n",
       "    }\n",
       "\n",
       "    .dataframe tbody tr th {\n",
       "        vertical-align: top;\n",
       "    }\n",
       "\n",
       "    .dataframe thead th {\n",
       "        text-align: right;\n",
       "    }\n",
       "</style>\n",
       "<table border=\"1\" class=\"dataframe\">\n",
       "  <thead>\n",
       "    <tr style=\"text-align: right;\">\n",
       "      <th></th>\n",
       "      <th>_id</th>\n",
       "      <th>GISJOIN</th>\n",
       "      <th>STATE</th>\n",
       "      <th>STATEFP</th>\n",
       "      <th>STATENH</th>\n",
       "      <th>COUNTY</th>\n",
       "      <th>COUNTYFP</th>\n",
       "      <th>COUNTYNH</th>\n",
       "      <th>1980_total_population</th>\n",
       "      <th>1990_total_population</th>\n",
       "      <th>2000_total_population</th>\n",
       "      <th>2010_total_population</th>\n",
       "    </tr>\n",
       "  </thead>\n",
       "  <tbody>\n",
       "    <tr>\n",
       "      <th>0</th>\n",
       "      <td>{'$oid': '607d4c2708e81eceb6b6e384'}</td>\n",
       "      <td>G0800010</td>\n",
       "      <td>Colorado</td>\n",
       "      <td>8</td>\n",
       "      <td>80</td>\n",
       "      <td>Adams County</td>\n",
       "      <td>1</td>\n",
       "      <td>10</td>\n",
       "      <td>245944</td>\n",
       "      <td>265038</td>\n",
       "      <td>363857</td>\n",
       "      <td>441603</td>\n",
       "    </tr>\n",
       "    <tr>\n",
       "      <th>1</th>\n",
       "      <td>{'$oid': '607d4c2708e81eceb6b6e385'}</td>\n",
       "      <td>G0800030</td>\n",
       "      <td>Colorado</td>\n",
       "      <td>8</td>\n",
       "      <td>80</td>\n",
       "      <td>Alamosa County</td>\n",
       "      <td>3</td>\n",
       "      <td>30</td>\n",
       "      <td>11799</td>\n",
       "      <td>13617</td>\n",
       "      <td>14966</td>\n",
       "      <td>15445</td>\n",
       "    </tr>\n",
       "    <tr>\n",
       "      <th>2</th>\n",
       "      <td>{'$oid': '607d4c2708e81eceb6b6e386'}</td>\n",
       "      <td>G0800050</td>\n",
       "      <td>Colorado</td>\n",
       "      <td>8</td>\n",
       "      <td>80</td>\n",
       "      <td>Arapahoe County</td>\n",
       "      <td>5</td>\n",
       "      <td>50</td>\n",
       "      <td>293621</td>\n",
       "      <td>391511</td>\n",
       "      <td>487967</td>\n",
       "      <td>572003</td>\n",
       "    </tr>\n",
       "    <tr>\n",
       "      <th>3</th>\n",
       "      <td>{'$oid': '607d4c2708e81eceb6b6e387'}</td>\n",
       "      <td>G0800070</td>\n",
       "      <td>Colorado</td>\n",
       "      <td>8</td>\n",
       "      <td>80</td>\n",
       "      <td>Archuleta County</td>\n",
       "      <td>7</td>\n",
       "      <td>70</td>\n",
       "      <td>3664</td>\n",
       "      <td>5345</td>\n",
       "      <td>9898</td>\n",
       "      <td>12084</td>\n",
       "    </tr>\n",
       "    <tr>\n",
       "      <th>4</th>\n",
       "      <td>{'$oid': '607d4c2708e81eceb6b6e388'}</td>\n",
       "      <td>G0800090</td>\n",
       "      <td>Colorado</td>\n",
       "      <td>8</td>\n",
       "      <td>80</td>\n",
       "      <td>Baca County</td>\n",
       "      <td>9</td>\n",
       "      <td>90</td>\n",
       "      <td>5419</td>\n",
       "      <td>4556</td>\n",
       "      <td>4517</td>\n",
       "      <td>3788</td>\n",
       "    </tr>\n",
       "    <tr>\n",
       "      <th>...</th>\n",
       "      <td>...</td>\n",
       "      <td>...</td>\n",
       "      <td>...</td>\n",
       "      <td>...</td>\n",
       "      <td>...</td>\n",
       "      <td>...</td>\n",
       "      <td>...</td>\n",
       "      <td>...</td>\n",
       "      <td>...</td>\n",
       "      <td>...</td>\n",
       "      <td>...</td>\n",
       "      <td>...</td>\n",
       "    </tr>\n",
       "    <tr>\n",
       "      <th>58</th>\n",
       "      <td>{'$oid': '607d4c2708e81eceb6b6e3bf'}</td>\n",
       "      <td>G0801170</td>\n",
       "      <td>Colorado</td>\n",
       "      <td>8</td>\n",
       "      <td>80</td>\n",
       "      <td>Summit County</td>\n",
       "      <td>117</td>\n",
       "      <td>1170</td>\n",
       "      <td>8848</td>\n",
       "      <td>12881</td>\n",
       "      <td>23548</td>\n",
       "      <td>27994</td>\n",
       "    </tr>\n",
       "    <tr>\n",
       "      <th>59</th>\n",
       "      <td>{'$oid': '607d4c2708e81eceb6b6e3c4'}</td>\n",
       "      <td>G0801190</td>\n",
       "      <td>Colorado</td>\n",
       "      <td>8</td>\n",
       "      <td>80</td>\n",
       "      <td>Teller County</td>\n",
       "      <td>119</td>\n",
       "      <td>1190</td>\n",
       "      <td>8034</td>\n",
       "      <td>12468</td>\n",
       "      <td>20555</td>\n",
       "      <td>23350</td>\n",
       "    </tr>\n",
       "    <tr>\n",
       "      <th>60</th>\n",
       "      <td>{'$oid': '607d4c2708e81eceb6b6e3c3'}</td>\n",
       "      <td>G0801210</td>\n",
       "      <td>Colorado</td>\n",
       "      <td>8</td>\n",
       "      <td>80</td>\n",
       "      <td>Washington County</td>\n",
       "      <td>121</td>\n",
       "      <td>1210</td>\n",
       "      <td>5304</td>\n",
       "      <td>4812</td>\n",
       "      <td>4926</td>\n",
       "      <td>4814</td>\n",
       "    </tr>\n",
       "    <tr>\n",
       "      <th>61</th>\n",
       "      <td>{'$oid': '607d4c2708e81eceb6b6e3c2'}</td>\n",
       "      <td>G0801230</td>\n",
       "      <td>Colorado</td>\n",
       "      <td>8</td>\n",
       "      <td>80</td>\n",
       "      <td>Weld County</td>\n",
       "      <td>123</td>\n",
       "      <td>1230</td>\n",
       "      <td>123438</td>\n",
       "      <td>131821</td>\n",
       "      <td>180936</td>\n",
       "      <td>252825</td>\n",
       "    </tr>\n",
       "    <tr>\n",
       "      <th>62</th>\n",
       "      <td>{'$oid': '607d4c2708e81eceb6b6e3c5'}</td>\n",
       "      <td>G0801250</td>\n",
       "      <td>Colorado</td>\n",
       "      <td>8</td>\n",
       "      <td>80</td>\n",
       "      <td>Yuma County</td>\n",
       "      <td>125</td>\n",
       "      <td>1250</td>\n",
       "      <td>9682</td>\n",
       "      <td>8954</td>\n",
       "      <td>9841</td>\n",
       "      <td>10043</td>\n",
       "    </tr>\n",
       "  </tbody>\n",
       "</table>\n",
       "<p>63 rows × 12 columns</p>\n",
       "</div>"
      ],
      "text/plain": [
       "                                     _id   GISJOIN     STATE  STATEFP  \\\n",
       "0   {'$oid': '607d4c2708e81eceb6b6e384'}  G0800010  Colorado        8   \n",
       "1   {'$oid': '607d4c2708e81eceb6b6e385'}  G0800030  Colorado        8   \n",
       "2   {'$oid': '607d4c2708e81eceb6b6e386'}  G0800050  Colorado        8   \n",
       "3   {'$oid': '607d4c2708e81eceb6b6e387'}  G0800070  Colorado        8   \n",
       "4   {'$oid': '607d4c2708e81eceb6b6e388'}  G0800090  Colorado        8   \n",
       "..                                   ...       ...       ...      ...   \n",
       "58  {'$oid': '607d4c2708e81eceb6b6e3bf'}  G0801170  Colorado        8   \n",
       "59  {'$oid': '607d4c2708e81eceb6b6e3c4'}  G0801190  Colorado        8   \n",
       "60  {'$oid': '607d4c2708e81eceb6b6e3c3'}  G0801210  Colorado        8   \n",
       "61  {'$oid': '607d4c2708e81eceb6b6e3c2'}  G0801230  Colorado        8   \n",
       "62  {'$oid': '607d4c2708e81eceb6b6e3c5'}  G0801250  Colorado        8   \n",
       "\n",
       "    STATENH             COUNTY  COUNTYFP  COUNTYNH  1980_total_population  \\\n",
       "0        80       Adams County         1        10                 245944   \n",
       "1        80     Alamosa County         3        30                  11799   \n",
       "2        80    Arapahoe County         5        50                 293621   \n",
       "3        80   Archuleta County         7        70                   3664   \n",
       "4        80        Baca County         9        90                   5419   \n",
       "..      ...                ...       ...       ...                    ...   \n",
       "58       80      Summit County       117      1170                   8848   \n",
       "59       80      Teller County       119      1190                   8034   \n",
       "60       80  Washington County       121      1210                   5304   \n",
       "61       80        Weld County       123      1230                 123438   \n",
       "62       80        Yuma County       125      1250                   9682   \n",
       "\n",
       "    1990_total_population  2000_total_population  2010_total_population  \n",
       "0                  265038                 363857                 441603  \n",
       "1                   13617                  14966                  15445  \n",
       "2                  391511                 487967                 572003  \n",
       "3                    5345                   9898                  12084  \n",
       "4                    4556                   4517                   3788  \n",
       "..                    ...                    ...                    ...  \n",
       "58                  12881                  23548                  27994  \n",
       "59                  12468                  20555                  23350  \n",
       "60                   4812                   4926                   4814  \n",
       "61                 131821                 180936                 252825  \n",
       "62                   8954                   9841                  10043  \n",
       "\n",
       "[63 rows x 12 columns]"
      ]
     },
     "execution_count": 16,
     "metadata": {},
     "output_type": "execute_result"
    }
   ],
   "source": [
    "populationDataFrame = pd.io.json.read_json('../data/county_total_population.Colorado/data.json')\n",
    "populationDataFrame"
   ]
  },
  {
   "cell_type": "code",
   "execution_count": 17,
   "metadata": {},
   "outputs": [
    {
     "data": {
      "text/html": [
       "<div>\n",
       "<style scoped>\n",
       "    .dataframe tbody tr th:only-of-type {\n",
       "        vertical-align: middle;\n",
       "    }\n",
       "\n",
       "    .dataframe tbody tr th {\n",
       "        vertical-align: top;\n",
       "    }\n",
       "\n",
       "    .dataframe thead th {\n",
       "        text-align: right;\n",
       "    }\n",
       "</style>\n",
       "<table border=\"1\" class=\"dataframe\">\n",
       "  <thead>\n",
       "    <tr style=\"text-align: right;\">\n",
       "      <th></th>\n",
       "    </tr>\n",
       "  </thead>\n",
       "  <tbody>\n",
       "  </tbody>\n",
       "</table>\n",
       "</div>"
      ],
      "text/plain": [
       "Empty DataFrame\n",
       "Columns: []\n",
       "Index: []"
      ]
     },
     "execution_count": 17,
     "metadata": {},
     "output_type": "execute_result"
    }
   ],
   "source": [
    "populationLabelsFrame = pd.io.json.read_json('../data/county_total_population.Colorado/fieldLabels.json')\n",
    "populationLabelsFrame"
   ]
  },
  {
   "cell_type": "code",
   "execution_count": 18,
   "metadata": {},
   "outputs": [
    {
     "data": {
      "text/html": [
       "<div>\n",
       "<style scoped>\n",
       "    .dataframe tbody tr th:only-of-type {\n",
       "        vertical-align: middle;\n",
       "    }\n",
       "\n",
       "    .dataframe tbody tr th {\n",
       "        vertical-align: top;\n",
       "    }\n",
       "\n",
       "    .dataframe thead th {\n",
       "        text-align: right;\n",
       "    }\n",
       "</style>\n",
       "<table border=\"1\" class=\"dataframe\">\n",
       "  <thead>\n",
       "    <tr style=\"text-align: right;\">\n",
       "      <th></th>\n",
       "      <th>_id</th>\n",
       "      <th>type</th>\n",
       "      <th>geometry</th>\n",
       "      <th>properties</th>\n",
       "      <th>GISJOIN</th>\n",
       "    </tr>\n",
       "  </thead>\n",
       "  <tbody>\n",
       "    <tr>\n",
       "      <th>0</th>\n",
       "      <td>{'$oid': '604964ecfed2e95d6b68b676'}</td>\n",
       "      <td>Feature</td>\n",
       "      <td>{'type': 'Polygon', 'coordinates': [[[-104.961...</td>\n",
       "      <td>{'STATEFP10': '08', 'COUNTYFP10': '001', 'COUN...</td>\n",
       "      <td>G0800010</td>\n",
       "    </tr>\n",
       "    <tr>\n",
       "      <th>1</th>\n",
       "      <td>{'$oid': '604964ecfed2e95d6b68b684'}</td>\n",
       "      <td>Feature</td>\n",
       "      <td>{'type': 'Polygon', 'coordinates': [[[-105.457...</td>\n",
       "      <td>{'STATEFP10': '08', 'COUNTYFP10': '003', 'COUN...</td>\n",
       "      <td>G0800030</td>\n",
       "    </tr>\n",
       "    <tr>\n",
       "      <th>2</th>\n",
       "      <td>{'$oid': '604964eefed2e95d6b68bb16'}</td>\n",
       "      <td>Feature</td>\n",
       "      <td>{'type': 'MultiPolygon', 'coordinates': [[[[-1...</td>\n",
       "      <td>{'STATEFP10': '08', 'COUNTYFP10': '005', 'COUN...</td>\n",
       "      <td>G0800050</td>\n",
       "    </tr>\n",
       "    <tr>\n",
       "      <th>3</th>\n",
       "      <td>{'$oid': '604964eefed2e95d6b68b9c8'}</td>\n",
       "      <td>Feature</td>\n",
       "      <td>{'type': 'Polygon', 'coordinates': [[[-107.128...</td>\n",
       "      <td>{'STATEFP10': '08', 'COUNTYFP10': '007', 'COUN...</td>\n",
       "      <td>G0800070</td>\n",
       "    </tr>\n",
       "    <tr>\n",
       "      <th>4</th>\n",
       "      <td>{'$oid': '604964eefed2e95d6b68b83d'}</td>\n",
       "      <td>Feature</td>\n",
       "      <td>{'type': 'Polygon', 'coordinates': [[[-102.747...</td>\n",
       "      <td>{'STATEFP10': '08', 'COUNTYFP10': '009', 'COUN...</td>\n",
       "      <td>G0800090</td>\n",
       "    </tr>\n",
       "    <tr>\n",
       "      <th>...</th>\n",
       "      <td>...</td>\n",
       "      <td>...</td>\n",
       "      <td>...</td>\n",
       "      <td>...</td>\n",
       "      <td>...</td>\n",
       "    </tr>\n",
       "    <tr>\n",
       "      <th>59</th>\n",
       "      <td>{'$oid': '604964ecfed2e95d6b68b677'}</td>\n",
       "      <td>Feature</td>\n",
       "      <td>{'type': 'Polygon', 'coordinates': [[[-105.924...</td>\n",
       "      <td>{'STATEFP10': '08', 'COUNTYFP10': '117', 'COUN...</td>\n",
       "      <td>G0801170</td>\n",
       "    </tr>\n",
       "    <tr>\n",
       "      <th>60</th>\n",
       "      <td>{'$oid': '604964eefed2e95d6b68b840'}</td>\n",
       "      <td>Feature</td>\n",
       "      <td>{'type': 'Polygon', 'coordinates': [[[-105.329...</td>\n",
       "      <td>{'STATEFP10': '08', 'COUNTYFP10': '119', 'COUN...</td>\n",
       "      <td>G0801190</td>\n",
       "    </tr>\n",
       "    <tr>\n",
       "      <th>61</th>\n",
       "      <td>{'$oid': '604964eefed2e95d6b68b9c5'}</td>\n",
       "      <td>Feature</td>\n",
       "      <td>{'type': 'Polygon', 'coordinates': [[[-102.779...</td>\n",
       "      <td>{'STATEFP10': '08', 'COUNTYFP10': '121', 'COUN...</td>\n",
       "      <td>G0801210</td>\n",
       "    </tr>\n",
       "    <tr>\n",
       "      <th>62</th>\n",
       "      <td>{'$oid': '604964eefed2e95d6b68b9c3'}</td>\n",
       "      <td>Feature</td>\n",
       "      <td>{'type': 'MultiPolygon', 'coordinates': [[[[-1...</td>\n",
       "      <td>{'STATEFP10': '08', 'COUNTYFP10': '123', 'COUN...</td>\n",
       "      <td>G0801230</td>\n",
       "    </tr>\n",
       "    <tr>\n",
       "      <th>63</th>\n",
       "      <td>{'$oid': '604964ecfed2e95d6b68b674'}</td>\n",
       "      <td>Feature</td>\n",
       "      <td>{'type': 'Polygon', 'coordinates': [[[-102.664...</td>\n",
       "      <td>{'STATEFP10': '08', 'COUNTYFP10': '125', 'COUN...</td>\n",
       "      <td>G0801250</td>\n",
       "    </tr>\n",
       "  </tbody>\n",
       "</table>\n",
       "<p>64 rows × 5 columns</p>\n",
       "</div>"
      ],
      "text/plain": [
       "                                     _id     type  \\\n",
       "0   {'$oid': '604964ecfed2e95d6b68b676'}  Feature   \n",
       "1   {'$oid': '604964ecfed2e95d6b68b684'}  Feature   \n",
       "2   {'$oid': '604964eefed2e95d6b68bb16'}  Feature   \n",
       "3   {'$oid': '604964eefed2e95d6b68b9c8'}  Feature   \n",
       "4   {'$oid': '604964eefed2e95d6b68b83d'}  Feature   \n",
       "..                                   ...      ...   \n",
       "59  {'$oid': '604964ecfed2e95d6b68b677'}  Feature   \n",
       "60  {'$oid': '604964eefed2e95d6b68b840'}  Feature   \n",
       "61  {'$oid': '604964eefed2e95d6b68b9c5'}  Feature   \n",
       "62  {'$oid': '604964eefed2e95d6b68b9c3'}  Feature   \n",
       "63  {'$oid': '604964ecfed2e95d6b68b674'}  Feature   \n",
       "\n",
       "                                             geometry  \\\n",
       "0   {'type': 'Polygon', 'coordinates': [[[-104.961...   \n",
       "1   {'type': 'Polygon', 'coordinates': [[[-105.457...   \n",
       "2   {'type': 'MultiPolygon', 'coordinates': [[[[-1...   \n",
       "3   {'type': 'Polygon', 'coordinates': [[[-107.128...   \n",
       "4   {'type': 'Polygon', 'coordinates': [[[-102.747...   \n",
       "..                                                ...   \n",
       "59  {'type': 'Polygon', 'coordinates': [[[-105.924...   \n",
       "60  {'type': 'Polygon', 'coordinates': [[[-105.329...   \n",
       "61  {'type': 'Polygon', 'coordinates': [[[-102.779...   \n",
       "62  {'type': 'MultiPolygon', 'coordinates': [[[[-1...   \n",
       "63  {'type': 'Polygon', 'coordinates': [[[-102.664...   \n",
       "\n",
       "                                           properties   GISJOIN  \n",
       "0   {'STATEFP10': '08', 'COUNTYFP10': '001', 'COUN...  G0800010  \n",
       "1   {'STATEFP10': '08', 'COUNTYFP10': '003', 'COUN...  G0800030  \n",
       "2   {'STATEFP10': '08', 'COUNTYFP10': '005', 'COUN...  G0800050  \n",
       "3   {'STATEFP10': '08', 'COUNTYFP10': '007', 'COUN...  G0800070  \n",
       "4   {'STATEFP10': '08', 'COUNTYFP10': '009', 'COUN...  G0800090  \n",
       "..                                                ...       ...  \n",
       "59  {'STATEFP10': '08', 'COUNTYFP10': '117', 'COUN...  G0801170  \n",
       "60  {'STATEFP10': '08', 'COUNTYFP10': '119', 'COUN...  G0801190  \n",
       "61  {'STATEFP10': '08', 'COUNTYFP10': '121', 'COUN...  G0801210  \n",
       "62  {'STATEFP10': '08', 'COUNTYFP10': '123', 'COUN...  G0801230  \n",
       "63  {'STATEFP10': '08', 'COUNTYFP10': '125', 'COUN...  G0801250  \n",
       "\n",
       "[64 rows x 5 columns]"
      ]
     },
     "execution_count": 18,
     "metadata": {},
     "output_type": "execute_result"
    }
   ],
   "source": [
    "populationGeometryFrame = pd.io.json.read_json('../data/county_total_population.Colorado/linkedGeometry.json')\n",
    "populationGeometryFrame"
   ]
  },
  {
   "cell_type": "markdown",
   "metadata": {},
   "source": [
    "## Data Exploration"
   ]
  },
  {
   "cell_type": "code",
   "execution_count": 19,
   "metadata": {},
   "outputs": [
    {
     "name": "stderr",
     "output_type": "stream",
     "text": [
      "c:\\python38\\lib\\site-packages\\seaborn\\distributions.py:2619: FutureWarning: `distplot` is a deprecated function and will be removed in a future version. Please adapt your code to use either `displot` (a figure-level function with similar flexibility) or `histplot` (an axes-level function for histograms).\n",
      "  warnings.warn(msg, FutureWarning)\n"
     ]
    },
    {
     "data": {
      "text/plain": [
       "<AxesSubplot:xlabel='newCaseCount', ylabel='Density'>"
      ]
     },
     "execution_count": 19,
     "metadata": {},
     "output_type": "execute_result"
    },
    {
     "data": {
      "image/png": "[encoded data removed]",
      "text/plain": [
       "<Figure size 432x288 with 1 Axes>"
      ]
     },
     "metadata": {
      "needs_background": "light"
     },
     "output_type": "display_data"
    }
   ],
   "source": [
    "sns.distplot(covidDataFrame.newCaseCount)"
   ]
  },
  {
   "cell_type": "code",
   "execution_count": 20,
   "metadata": {},
   "outputs": [
    {
     "name": "stderr",
     "output_type": "stream",
     "text": [
      "c:\\python38\\lib\\site-packages\\seaborn\\distributions.py:2619: FutureWarning: `distplot` is a deprecated function and will be removed in a future version. Please adapt your code to use either `displot` (a figure-level function with similar flexibility) or `histplot` (an axes-level function for histograms).\n",
      "  warnings.warn(msg, FutureWarning)\n"
     ]
    },
    {
     "data": {
      "text/plain": [
       "<AxesSubplot:xlabel='tempSingleMean', ylabel='Density'>"
      ]
     },
     "execution_count": 20,
     "metadata": {},
     "output_type": "execute_result"
    },
    {
     "data": {
      "image/png": "[encoded data removed]",
      "text/plain": [
       "<Figure size 432x288 with 1 Axes>"
      ]
     },
     "metadata": {
      "needs_background": "light"
     },
     "output_type": "display_data"
    }
   ],
   "source": [
    "sns.distplot(temperatureDataFrame.tempSingleMean)"
   ]
  },
  {
   "cell_type": "markdown",
   "metadata": {},
   "source": [
    "#### Garbage Collection"
   ]
  },
  {
   "cell_type": "code",
   "execution_count": 21,
   "metadata": {},
   "outputs": [
    {
     "data": {
      "text/plain": [
       "25"
      ]
     },
     "execution_count": 21,
     "metadata": {},
     "output_type": "execute_result"
    }
   ],
   "source": [
    "del covidDataFrame\n",
    "del covidLabelsFrame\n",
    "del covidGeometryFrame\n",
    "\n",
    "del windDataFrame\n",
    "del windLabelsFrame\n",
    "del windGeometryFrame\n",
    "\n",
    "del pressureDataFrame\n",
    "del pressureLabelsFrame\n",
    "del pressureGeometryFrame\n",
    "\n",
    "del temperatureDataFrame\n",
    "del temperatureLabelsFrame\n",
    "del temperatureGeometryFrame\n",
    "\n",
    "del populationDataFrame\n",
    "del populationLabelsFrame\n",
    "del populationGeometryFrame\n",
    "\n",
    "gc.collect()"
   ]
  },
  {
   "cell_type": "markdown",
   "metadata": {},
   "source": [
    "## Preprocessing"
   ]
  },
  {
   "cell_type": "markdown",
   "metadata": {},
   "source": [
    "#### Flatten Frames"
   ]
  },
  {
   "cell_type": "code",
   "execution_count": 22,
   "metadata": {},
   "outputs": [],
   "source": [
    "flattenedCovidDataFrame = pd.json_normalize(json.load(open(Path('../data/covid_county.Colorado/data.json'))))\n",
    "flattenedCovidGeometryFrame = pd.json_normalize(json.load(open(Path('../data/covid_county.Colorado/linkedGeometry.json'))))\n",
    "\n",
    "flattenedWindDataFrame = pd.json_normalize(json.load(open(Path('../data/neon_2d_wind.Colorado/data.json'))))\n",
    "flattenedWindGeometryFrame = pd.json_normalize(json.load(open(Path('../data/neon_2d_wind.Colorado/linkedGeometry.json'))))\n",
    "\n",
    "flattenedPressureDataFrame = pd.json_normalize(json.load(open(Path('../data/neon_barometric_pressure.Colorado/data.json'))))\n",
    "flattenedPressureGeometryFrame = pd.json_normalize(json.load(open(Path('../data/neon_barometric_pressure.Colorado/linkedGeometry.json'))))\n",
    "\n",
    "flattenedTemperatureDataFrame = pd.json_normalize(json.load(open(Path('../data/neon_single_asp_air_temperature.Colorado/data.json'))))\n",
    "flattenedTemperatureGeometryFrame = pd.json_normalize(json.load(open(Path('../data/neon_single_asp_air_temperature.Colorado/linkedGeometry.json'))))\n",
    "\n",
    "flattenedPopulationDataFrame = pd.json_normalize(json.load(open(Path('../data/county_total_population.Colorado/data.json'))))\n",
    "flattenedPopulationGeometryFrame = pd.json_normalize(json.load(open(Path('../data/county_total_population.Colorado/linkedGeometry.json'))))"
   ]
  },
  {
   "cell_type": "markdown",
   "metadata": {},
   "source": [
    "#### Generalize Geometry"
   ]
  },
  {
   "cell_type": "code",
   "execution_count": 23,
   "metadata": {},
   "outputs": [],
   "source": [
    "combinedCovidFrame = flattenedCovidDataFrame.set_index('GISJOIN').join(flattenedCovidGeometryFrame.set_index('GISJOIN'), lsuffix='_data', rsuffix='_geo')"
   ]
  },
  {
   "cell_type": "code",
   "execution_count": 24,
   "metadata": {},
   "outputs": [],
   "source": [
    "counties = ['Boulder', 'Grand', 'Larimer', 'Logan', 'Weld', 'Yuma']\n",
    "combinedCovidFrame = combinedCovidFrame[combinedCovidFrame.county.isin(counties)]"
   ]
  },
  {
   "cell_type": "code",
   "execution_count": 25,
   "metadata": {
    "pycharm": {
     "name": "#%%\n"
    }
   },
   "outputs": [],
   "source": [
    "def create_county_polygons(combinedCovidFrame):\n",
    "    county_polygons = []\n",
    "    df = combinedCovidFrame.groupby('county').first().reindex(columns=['coordJsonString', 'geometry.type', \"geometry.coordinates\"])\n",
    "    print(df)\n",
    "    df['coordJsonString'] = df[\"geometry.coordinates\"].apply(json.dumps)\n",
    "    for index, row in df[['coordJsonString', 'geometry.type']].iterrows():\n",
    "        print(f\"processing: {index}\")\n",
    "        shape_data = json.loads(row['coordJsonString'])\n",
    "        county = index\n",
    "        if row['geometry.type'] == 'MultiPolygon':\n",
    "            for p in shape_data:\n",
    "                s = np.asarray(p)[0]\n",
    "                shape = Polygon(*s)\n",
    "                county_polygons.append((county, shape))\n",
    "        elif row['geometry.type'] == 'Polygon':\n",
    "            s = np.asarray(shape_data)[0]\n",
    "            shape = Polygon(*s)\n",
    "            county_polygons.append((county, shape))\n",
    "        else:\n",
    "            print(f\"Row had geometry type of {row['geometry.type']}, row is {row}\")\n",
    "    return county_polygons\n",
    "\n",
    "if not os.path.exists(DATA_PATH + '/county_objects.pickle'):\n",
    "    county_polygons = create_county_polygons(combinedCovidFrame)\n",
    "    with open(DATA_PATH + '/county_objects.pickle', 'wb') as handle:\n",
    "        pickle.dump(county_polygons, handle)\n",
    "else:\n",
    "    with open(DATA_PATH + '/county_objects.pickle', 'rb') as handle:\n",
    "        county_polygons = pickle.load(handle)\n",
    "\n",
    "def lookup_county_from_geometry(county_polygons, geometry):\n",
    "    point = Point(np.asarray(geometry))\n",
    "    for county, shape in county_polygons:\n",
    "        if shape.encloses_point(point):\n",
    "            print(f\"found {county}\")\n",
    "            return county"
   ]
  },
  {
   "cell_type": "code",
   "execution_count": 26,
   "metadata": {
    "pycharm": {
     "name": "#%%\n"
    }
   },
   "outputs": [
    {
     "name": "stdout",
     "output_type": "stream",
     "text": [
      "found Larimer\n",
      "found Grand\n",
      "found Boulder\n",
      "found Boulder\n",
      "found Weld\n",
      "found Logan\n",
      "found Yuma\n",
      "found Larimer\n",
      "found Larimer\n",
      "found Larimer\n",
      "found Larimer\n",
      "found Boulder\n",
      "found Boulder\n",
      "found Boulder\n",
      "found Boulder\n",
      "found Weld\n",
      "found Weld\n",
      "found Weld\n",
      "found Logan\n",
      "found Logan\n",
      "found Logan\n",
      "found Yuma\n",
      "found Larimer\n",
      "found Larimer\n",
      "found Larimer\n",
      "found Larimer\n",
      "found Grand\n",
      "found Boulder\n",
      "found Boulder\n",
      "found Boulder\n",
      "found Boulder\n",
      "found Weld\n",
      "found Weld\n",
      "found Weld\n",
      "found Logan\n",
      "found Logan\n",
      "found Logan\n",
      "found Yuma\n"
     ]
    }
   ],
   "source": [
    "flattenedPressureGeometryFrame['county'] = flattenedPressureGeometryFrame.apply(lambda row: lookup_county_from_geometry(county_polygons, row['geometry.coordinates']), axis=1)\n",
    "flattenedWindGeometryFrame['county'] = flattenedWindGeometryFrame.apply(lambda row: lookup_county_from_geometry(county_polygons, row['geometry.coordinates']), axis=1)\n",
    "flattenedTemperatureGeometryFrame['county'] = flattenedTemperatureGeometryFrame.apply(lambda row: lookup_county_from_geometry(county_polygons, row['geometry.coordinates']), axis=1)"
   ]
  },
  {
   "cell_type": "markdown",
   "metadata": {},
   "source": [
    "#### Join Data and Geometry"
   ]
  },
  {
   "cell_type": "code",
   "execution_count": 27,
   "metadata": {},
   "outputs": [],
   "source": [
    "combinedWindFrame = flattenedWindDataFrame.set_index('site').join(flattenedWindGeometryFrame.set_index('site'), lsuffix='_data', rsuffix='_geo')\n",
    "combinedPressureFrame = flattenedPressureDataFrame.set_index('site').join(flattenedPressureGeometryFrame.set_index('site'), lsuffix='_data', rsuffix='_geo')\n",
    "combinedTemperatureFrame = flattenedTemperatureDataFrame.set_index('site').join(flattenedTemperatureGeometryFrame.set_index('site'), lsuffix='_data', rsuffix='_geo')\n",
    "combinedPopulationFrame = flattenedPopulationDataFrame.set_index('GISJOIN').join(flattenedPopulationGeometryFrame.set_index('GISJOIN'), lsuffix='_data', rsuffix='_geo')"
   ]
  },
  {
   "cell_type": "code",
   "execution_count": 28,
   "metadata": {},
   "outputs": [],
   "source": [
    "combinedCovidFrame.to_pickle('../data/control.pkl')\n",
    "combinedPopulationFrame.to_pickle('../data/population.pkl')"
   ]
  },
  {
   "cell_type": "markdown",
   "metadata": {},
   "source": [
    "#### Generalize Timing"
   ]
  },
  {
   "cell_type": "code",
   "execution_count": 29,
   "metadata": {},
   "outputs": [],
   "source": [
    "combinedCovidFrame['date'] = pd.to_datetime(combinedCovidFrame['dateString']).dt.date\n",
    "combinedWindFrame['date'] = pd.to_datetime(combinedWindFrame['startDateTime']).dt.date\n",
    "combinedPressureFrame['date'] = pd.to_datetime(combinedPressureFrame['startDateTime']).dt.date\n",
    "combinedTemperatureFrame['date'] = pd.to_datetime(combinedTemperatureFrame['startDateTime']).dt.date"
   ]
  },
  {
   "cell_type": "code",
   "execution_count": 30,
   "metadata": {},
   "outputs": [],
   "source": [
    "combinedWindFrame['datetime'] = pd.to_datetime(combinedWindFrame['startDateTime']).dt.round(\"H\")\n",
    "combinedPressureFrame['datetime'] = pd.to_datetime(combinedPressureFrame['startDateTime']).dt.round(\"H\")\n",
    "combinedTemperatureFrame['datetime'] = pd.to_datetime(combinedTemperatureFrame['startDateTime']).dt.round(\"H\")"
   ]
  },
  {
   "cell_type": "code",
   "execution_count": 31,
   "metadata": {},
   "outputs": [
    {
     "data": {
      "text/plain": [
       "124"
      ]
     },
     "execution_count": 31,
     "metadata": {},
     "output_type": "execute_result"
    }
   ],
   "source": [
    "del flattenedCovidDataFrame\n",
    "del flattenedCovidGeometryFrame\n",
    "\n",
    "del flattenedWindDataFrame\n",
    "del flattenedWindGeometryFrame\n",
    "\n",
    "del flattenedPressureDataFrame\n",
    "del flattenedPressureGeometryFrame\n",
    "\n",
    "del flattenedTemperatureDataFrame\n",
    "del flattenedTemperatureGeometryFrame\n",
    "\n",
    "del flattenedPopulationDataFrame\n",
    "del flattenedPopulationGeometryFrame\n",
    "\n",
    "gc.collect()"
   ]
  },
  {
   "cell_type": "markdown",
   "metadata": {},
   "source": [
    "#### Build Experimental Datasets"
   ]
  },
  {
   "cell_type": "code",
   "execution_count": 32,
   "metadata": {},
   "outputs": [
    {
     "data": {
      "text/plain": [
       "0"
      ]
     },
     "execution_count": 32,
     "metadata": {},
     "output_type": "execute_result"
    }
   ],
   "source": [
    "finalCovidWindFrame = pd.merge(combinedWindFrame, combinedCovidFrame,  how='left', left_on = ['county', 'date'], right_on = ['county', 'date'])\n",
    "finalCovidWindFrame.to_pickle('../data/covidWind.pkl')\n",
    "del finalCovidWindFrame\n",
    "gc.collect()"
   ]
  },
  {
   "cell_type": "code",
   "execution_count": 33,
   "metadata": {},
   "outputs": [
    {
     "data": {
      "text/plain": [
       "0"
      ]
     },
     "execution_count": 33,
     "metadata": {},
     "output_type": "execute_result"
    }
   ],
   "source": [
    "finalCovidPressureFrame = pd.merge(combinedPressureFrame, combinedCovidFrame,  how='left', left_on = ['county', 'date'], right_on = ['county', 'date'])\n",
    "finalCovidPressureFrame.to_pickle('../data/covidPressure.pkl')\n",
    "del finalCovidPressureFrame\n",
    "gc.collect()"
   ]
  },
  {
   "cell_type": "code",
   "execution_count": 34,
   "metadata": {},
   "outputs": [
    {
     "data": {
      "text/plain": [
       "0"
      ]
     },
     "execution_count": 34,
     "metadata": {},
     "output_type": "execute_result"
    }
   ],
   "source": [
    "finalCovidTemperatureFrame = pd.merge(combinedWindFrame, combinedCovidFrame,  how='left', left_on = ['county', 'date'], right_on = ['county', 'date'])\n",
    "finalCovidTemperatureFrame.to_pickle('../data/covidTemperature.pkl')\n",
    "del finalCovidTemperatureFrame\n",
    "gc.collect()"
   ]
  },
  {
   "cell_type": "code",
   "execution_count": 35,
   "metadata": {},
   "outputs": [
    {
     "data": {
      "text/plain": [
       "20"
      ]
     },
     "execution_count": 35,
     "metadata": {},
     "output_type": "execute_result"
    }
   ],
   "source": [
    "del combinedCovidFrame\n",
    "del combinedWindFrame\n",
    "del combinedPressureFrame\n",
    "del combinedTemperatureFrame\n",
    "del combinedPopulationFrame\n",
    "gc.collect()"
   ]
  },
  {
   "cell_type": "markdown",
   "metadata": {},
   "source": [
    "## Training"
   ]
  },
  {
   "cell_type": "markdown",
   "metadata": {},
   "source": [
    "#### Control"
   ]
  },
  {
   "cell_type": "code",
   "execution_count": 47,
   "metadata": {},
   "outputs": [
    {
     "data": {
      "text/plain": [
       "Index(['dateString', 'county', 'state', 'totalCaseCount', 'newCaseCount',\n",
       "       'totalDeathCount', 'newDeathCount', '_id.$oid_data',\n",
       "       'epoch_time.$numberLong', 'type', '_id.$oid_geo', 'geometry.type',\n",
       "       'geometry.coordinates', 'properties.STATEFP10', 'properties.COUNTYFP10',\n",
       "       'properties.COUNTYNS10', 'properties.GEOID10', 'properties.NAME10',\n",
       "       'properties.NAMELSAD10', 'properties.LSAD10', 'properties.CLASSFP10',\n",
       "       'properties.MTFCC10', 'properties.CSAFP10', 'properties.CBSAFP10',\n",
       "       'properties.METDIVFP10', 'properties.FUNCSTAT10',\n",
       "       'properties.ALAND10.$numberLong', 'properties.AWATER10',\n",
       "       'properties.INTPTLAT10', 'properties.INTPTLON10', 'properties.GISJOIN',\n",
       "       'properties.Shape_area', 'properties.Shape_len', 'properties.ALAND10'],\n",
       "      dtype='object')"
      ]
     },
     "execution_count": 47,
     "metadata": {},
     "output_type": "execute_result"
    }
   ],
   "source": [
    "controlFrame = pd.read_pickle('../data/control.pkl')\n",
    "controlFrame.columns"
   ]
  },
  {
   "cell_type": "code",
   "execution_count": 50,
   "metadata": {},
   "outputs": [
    {
     "data": {
      "text/plain": [
       "Index(['county', 'totalCaseCount', 'newCaseCount', 'totalDeathCount',\n",
       "       'newDeathCount'],\n",
       "      dtype='object')"
      ]
     },
     "execution_count": 50,
     "metadata": {},
     "output_type": "execute_result"
    }
   ],
   "source": [
    "reducedControlFrame = controlFrame[['county', 'totalCaseCount', 'newCaseCount', 'totalDeathCount', 'newDeathCount']]\n",
    "reducedControlFrame.columns"
   ]
  },
  {
   "cell_type": "code",
   "execution_count": 37,
   "metadata": {},
   "outputs": [],
   "source": [
    "X_train = controlFrame.sample(frac=0.8)\n",
    "X_test = controlFrame.drop(X_train.index)"
   ]
  },
  {
   "cell_type": "markdown",
   "metadata": {},
   "source": [
    "#### Experiment One: Wind"
   ]
  },
  {
   "cell_type": "code",
   "execution_count": null,
   "metadata": {},
   "outputs": [],
   "source": [
    "covidWindFrame = pd.read_pickle('../data/covidWind.pkl')"
   ]
  },
  {
   "cell_type": "code",
   "execution_count": null,
   "metadata": {},
   "outputs": [],
   "source": [
    "X_train = covidWindFrame.sample(frac=0.8)\n",
    "X_test = covidWindFrame.drop(X_train.index)"
   ]
  },
  {
   "cell_type": "markdown",
   "metadata": {},
   "source": [
    "#### Experiment Two: Pressure"
   ]
  },
  {
   "cell_type": "code",
   "execution_count": null,
   "metadata": {},
   "outputs": [],
   "source": [
    "covidPressureFrame = pd.read_pickle('../data/covidPressure.pkl')"
   ]
  },
  {
   "cell_type": "code",
   "execution_count": null,
   "metadata": {},
   "outputs": [],
   "source": [
    "X_train = covidPressureFrame.sample(frac=0.8)\n",
    "X_test = covidPressureFrame.drop(X_train.index)"
   ]
  },
  {
   "cell_type": "markdown",
   "metadata": {},
   "source": [
    "#### Experiment Three: Temperature"
   ]
  },
  {
   "cell_type": "code",
   "execution_count": null,
   "metadata": {},
   "outputs": [],
   "source": [
    "covidTemperatureFrame = pd.read_pickle('../data/covidTemperature.pkl')"
   ]
  },
  {
   "cell_type": "code",
   "execution_count": null,
   "metadata": {},
   "outputs": [],
   "source": [
    "X_train = covidTemperatureFrame.sample(frac=0.8)\n",
    "X_test = covidTemperatureFrame.drop(X_train.index)"
   ]
  },
  {
   "cell_type": "code",
   "execution_count": null,
   "metadata": {},
   "outputs": [],
   "source": [
    "model = keras.Sequential([\n",
    "    keras.layers.Dense(64, use_bias=False, activation='relu', input_shape=[len(train_dataset.keys())]),\n",
    "    keras.layers.BatchNormalization(center=True, scale=False),\n",
    "    keras.layers.Activation('relu'),\n",
    "    \n",
    "    keras.layers.Dense(128, use_bias=False, activation='relu'),\n",
    "    keras.layers.BatchNormalization(center=True, scale=False),\n",
    "    keras.layers.Activation('relu'),\n",
    "    \n",
    "    keras.layers.Dense(256, use_bias=False, activation='relu'),\n",
    "    keras.layers.BatchNormalization(center=True, scale=False),\n",
    "    keras.layers.Activation('relu'),\n",
    "    \n",
    "    keras.layers.Dropout(0.3),\n",
    "    keras.layers.Dense(1)\n",
    "])"
   ]
  },
  {
   "cell_type": "markdown",
   "metadata": {},
   "source": [
    "## References"
   ]
  },
  {
   "cell_type": "markdown",
   "metadata": {},
   "source": [
    "## About this Notebook\n",
    "\n",
    "**Authors:** Kyle Bassignani, Jeff Borgerson, and Christian Westbrook  \n",
    "**Updated On:** 2021-11-20"
   ]
  }
 ],
 "metadata": {
  "kernelspec": {
   "display_name": "Python 3",
   "language": "python",
   "name": "python3"
  },
  "language_info": {
   "codemirror_mode": {
    "name": "ipython",
    "version": 3
   },
   "file_extension": ".py",
   "mimetype": "text/x-python",
   "name": "python",
   "nbconvert_exporter": "python",
   "pygments_lexer": "ipython3",
   "version": "3.8.3"
  }
 },
 "nbformat": 4,
 "nbformat_minor": 4
}
