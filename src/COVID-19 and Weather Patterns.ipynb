{
 "cells": [
  {
   "cell_type": "markdown",
   "metadata": {},
   "source": [
    "# COVID-19 and Weather Patterns"
   ]
  },
  {
   "cell_type": "markdown",
   "metadata": {},
   "source": [
    "## Imports\n",
    "\n",
    "- *os* for interfacing with the operating system\n",
    "- *pathlib* for interfacing with the file system\n",
    "- *zipfile* for managing archive files\n",
    "\n",
    "- *numpy* for array processing\n",
    "- *pandas* for tabular processing\n",
    "- *tensorflow* for tensor processing\n",
    "- *keras* for simplified tensor processing\n",
    "\n",
    "- *matplotlib* for visualization\n",
    "- *seaborn* for enhanced visualization"
   ]
  },
  {
   "cell_type": "code",
   "execution_count": 1,
   "metadata": {},
   "outputs": [
    {
     "data": {
      "text/plain": [
       "'2.7.0'"
      ]
     },
     "execution_count": 1,
     "metadata": {},
     "output_type": "execute_result"
    }
   ],
   "source": [
    "# Custom\n",
    "import data_processing\n",
    "import run\n",
    "\n",
    "# File System\n",
    "import os\n",
    "import json\n",
    "from pathlib import Path\n",
    "from zipfile import ZipFile\n",
    "import pickle\n",
    "\n",
    "# Processing\n",
    "import gc\n",
    "import numpy as np\n",
    "import pandas as pd\n",
    "from sympy import *\n",
    "from sympy.geometry import *\n",
    "import tensorflow\n",
    "from tensorflow import keras\n",
    "\n",
    "# Visualization\n",
    "import matplotlib.pyplot as plt\n",
    "import seaborn as sns\n",
    "\n",
    "tensorflow.__version__"
   ]
  },
  {
   "cell_type": "markdown",
   "metadata": {},
   "source": [
    "## Introduction\n",
    "\n",
    "The goal of this work is to determine whether or not weather patterns should be considered as a meaningful supporting input when making predictions about new daily COVID-19 cases within a given geospatial extent. Using census, weather, and COVID-19 datasets provided by the Urban Sustain project, the authors attempt to quantify the correlation between particular weather patterns and COVID-19 transmission events."
   ]
  },
  {
   "cell_type": "markdown",
   "metadata": {},
   "source": [
    "## Defining Terms\n",
    "\n",
    "***Adam*** - A modified version of the stochastic gradient descent algorithm, also known as adaptive moment estimation. This algorithm is used to minimize a loss function during the iterative training process.\n",
    "\n",
    "***ReLU*** - Rectified linear unit. This is a type of activation function intended to introduce non-linearity to our model.\n",
    "\n",
    "***Urban Sustain Project*** - A joint effort between researchers at Colorado State University, Arizona State University, the University of California-Irvine, and the University of Maryland – Baltimore County."
   ]
  },
  {
   "cell_type": "markdown",
   "metadata": {},
   "source": [
    "## Loading Data"
   ]
  },
  {
   "cell_type": "markdown",
   "metadata": {},
   "source": [
    "**DEVELOPER NOTE:** Download the five required datasets from Urban Sustain and place them in the cloned repository at ```./data/```. These datasets are also available at a shared OneDrive folder. This logic expects that these files exist at relative path ```../data/``` with respect to this notebook."
   ]
  },
  {
   "cell_type": "markdown",
   "metadata": {},
   "source": [
    "We'll begin by defining a path to our data directory and a list of the datasets that we expect to find there."
   ]
  },
  {
   "cell_type": "code",
   "execution_count": 2,
   "metadata": {},
   "outputs": [],
   "source": [
    "DATA_PATH = '../data/' # Point this constant to the location of your data archive files\n",
    "\n",
    "EXPECTED_DATASETS = [\n",
    "    'county_total_population.Colorado.zip',\n",
    "    'covid_county.Colorado.zip',\n",
    "    'neon_2d_wind.Colorado.zip',\n",
    "    'neon_barometric_pressure.Colorado.zip',\n",
    "    'neon_single_asp_air_temperature.Colorado.zip'\n",
    "]"
   ]
  },
  {
   "cell_type": "markdown",
   "metadata": {},
   "source": [
    "Next, we will attempt to extract each of these archived datasets into a dedicated subdirectory within the given data directory."
   ]
  },
  {
   "cell_type": "code",
   "execution_count": 3,
   "metadata": {},
   "outputs": [],
   "source": [
    "state = 'Colorado'"
   ]
  },
  {
   "cell_type": "code",
   "execution_count": 4,
   "metadata": {},
   "outputs": [],
   "source": [
    "def extract(state):\n",
    "    # For each listed dataset string in the EXPECTED_DATASETS constant\n",
    "    for datasetName in EXPECTED_DATASETS:\n",
    "        try:\n",
    "            # Open the given archive file\n",
    "            with ZipFile(DATA_PATH + datasetName, 'r') as currentZip:\n",
    "                # Build the target directory path for extracted data\n",
    "                datasetNameTokens = datasetName.split('.')\n",
    "                datasetNameTokens.remove('zip')\n",
    "                targetDirectory = DATA_PATH + '.'.join(datasetNameTokens)\n",
    "\n",
    "                # If the target directory doesn't exist, create it\n",
    "                if not os.path.exists(targetDirectory):\n",
    "                    Path(targetDirectory).mkdir()\n",
    "\n",
    "                # Extract all data from the archive file to the target directory\n",
    "                currentZip.extractall(targetDirectory)\n",
    "        except FileNotFoundError:\n",
    "            print(\"Unable to open \" + datasetName + \" at path \" + DATA_PATH + datasetName)"
   ]
  },
  {
   "cell_type": "code",
   "execution_count": 5,
   "metadata": {},
   "outputs": [],
   "source": [
    "extract(state)"
   ]
  },
  {
   "cell_type": "markdown",
   "metadata": {},
   "source": [
    "## File Information\n",
    "\n",
    "Four of the five datasets referenced in this work relate geospatial information to particular events as they occur over time Each is provided by the Urban Sustain project and employs a similar file structure.\n",
    "\n",
    "- data.json\n",
    "- fieldLabels.json\n",
    "- linkedGeometry.json\n",
    "- README.txt\n"
   ]
  },
  {
   "cell_type": "markdown",
   "metadata": {},
   "source": [
    "#### New York Times COVID-19 County Dataset\n",
    "\n",
    "The included COVID-19 County dataset "
   ]
  },
  {
   "cell_type": "code",
   "execution_count": 6,
   "metadata": {},
   "outputs": [],
   "source": [
    "state = 'Colorado'\n",
    "counties = {'Colorado': ['Boulder', 'Boulder County', 'Grand', 'Grand County', 'Larimer', 'Larimer County', 'Logan', 'Logan County', 'Weld', 'Weld County', 'Yuma', 'Yuma County']}"
   ]
  },
  {
   "cell_type": "code",
   "execution_count": 7,
   "metadata": {
    "pycharm": {
     "name": "#%%\n"
    }
   },
   "outputs": [],
   "source": [
    "if not os.path.exists(f'../data/control.{state}.pkl'):\n",
    "    print(\"Processing COVID dataset\")\n",
    "    flattenedCovidDataFrame = pd.json_normalize(json.load(open(Path(f'../data/covid_county.{state}/data.json'))))\n",
    "    flattenedCovidGeometryFrame = pd.json_normalize(json.load(open(Path(f'../data/covid_county.{state}/linkedGeometry.json'))))\n",
    "\n",
    "    print(\"Combining data geometry for COVID dataset\")\n",
    "    combinedCovidFrame = flattenedCovidDataFrame.set_index('GISJOIN').join(\n",
    "        flattenedCovidGeometryFrame.set_index('GISJOIN'), lsuffix='_data', rsuffix='_geo')\n",
    "\n",
    "    combinedCovidFrame = combinedCovidFrame[combinedCovidFrame.county.isin(counties[state])]\n",
    "    combinedCovidFrame['date'] = pd.to_datetime(combinedCovidFrame['dateString']).dt.date\n",
    "    print(\"Finding County Geometries\")\n",
    "    county_polygons = data_processing.create_county_polygons(state, combinedCovidFrame)\n",
    "    combinedCovidFrame.to_pickle(f'../data/control.{state}.pkl')\n",
    "else:\n",
    "    combinedCovidFrame = pd.read_pickle(f'../data/control.{state}.pkl')\n"
   ]
  },
  {
   "cell_type": "markdown",
   "metadata": {},
   "source": [
    "#### NEON 2D Wind Dataset"
   ]
  },
  {
   "cell_type": "code",
   "execution_count": 8,
   "metadata": {
    "scrolled": true
   },
   "outputs": [],
   "source": [
    "if not os.path.exists(f'../data/covidWind.{state}.pkl'):\n",
    "    print('Processing Wind data')\n",
    "    flattenedWindDataFrame = pd.json_normalize(json.load(open(Path(f'../data/neon_2d_wind.{state}/data.json'))))\n",
    "    flattenedWindGeometryFrame = pd.json_normalize(\n",
    "        json.load(open(Path(f'../data/neon_2d_wind.{state}/linkedGeometry.json'))))\n",
    "    flattenedWindGeometryFrame['county'] = flattenedWindGeometryFrame.apply(\n",
    "        lambda row: data_processing.lookup_county_from_geometry(county_polygons, row['geometry.coordinates']), axis=1)\n",
    "    combinedWindFrame = flattenedWindDataFrame.set_index('site').join(flattenedWindGeometryFrame.set_index('site'), lsuffix='_data', rsuffix='_geo')\n",
    "    combinedWindFrame['date'] = pd.to_datetime(combinedWindFrame['startDateTime']).dt.date\n",
    "    combinedWindFrame['datetime'] = pd.to_datetime(combinedWindFrame['startDateTime']).dt.round(\"H\")\n",
    "    finalCovidWindFrame = pd.merge(combinedWindFrame, combinedCovidFrame, how='left', left_on=['county', 'date'],\n",
    "                                   right_on=['county', 'date'])\n",
    "    finalCovidWindFrame = finalCovidWindFrame[finalCovidWindFrame['totalCaseCount'].notna()]\n",
    "    finalCovidWindFrame.to_pickle(f'../data/covidWind.{state}.pkl')\n",
    "    del finalCovidWindFrame\n",
    "    del combinedWindFrame\n",
    "    del flattenedWindDataFrame\n",
    "    gc.collect()"
   ]
  },
  {
   "cell_type": "markdown",
   "metadata": {},
   "source": [
    "#### NEON Barometric Pressure Dataset"
   ]
  },
  {
   "cell_type": "code",
   "execution_count": 9,
   "metadata": {
    "scrolled": true
   },
   "outputs": [],
   "source": [
    "if not os.path.exists(f'../data/covidPressure.{state}.pkl'):\n",
    "    print('Processing Pressure data')\n",
    "    flattenedPressureDataFrame = pd.json_normalize(json.load(open(Path(f'../data/neon_barometric_pressure.{state}/data.json'))))\n",
    "    flattenedPressureGeometryFrame = pd.json_normalize(json.load(open(Path(f'../data/neon_barometric_pressure.{state}/linkedGeometry.json'))))\n",
    "    flattenedPressureGeometryFrame['county'] = flattenedPressureGeometryFrame.apply(\n",
    "        lambda row: data_processing.lookup_county_from_geometry(county_polygons, row['geometry.coordinates']), axis=1)\n",
    "    combinedPressureFrame = flattenedPressureDataFrame.set_index('site').join(\n",
    "        flattenedPressureGeometryFrame.set_index('site'), lsuffix='_data', rsuffix='_geo')\n",
    "    combinedPressureFrame['date'] = pd.to_datetime(combinedPressureFrame['startDateTime']).dt.date\n",
    "    combinedPressureFrame['datetime'] = pd.to_datetime(combinedPressureFrame['startDateTime']).dt.round(\"H\")\n",
    "    finalCovidPressureFrame = pd.merge(combinedPressureFrame, combinedCovidFrame, how='left',\n",
    "                                       left_on=['county', 'date'], right_on=['county', 'date'])\n",
    "    finalCovidPressureFrame = finalCovidPressureFrame[finalCovidPressureFrame['totalCaseCount'].notna()]\n",
    "    finalCovidPressureFrame.to_pickle(f'../data/covidPressure.{state}.pkl')\n",
    "    del finalCovidPressureFrame\n",
    "    del combinedPressureFrame\n",
    "    del flattenedPressureDataFrame\n",
    "    gc.collect()"
   ]
  },
  {
   "cell_type": "markdown",
   "metadata": {},
   "source": [
    "#### NEON Air Temperature"
   ]
  },
  {
   "cell_type": "code",
   "execution_count": 10,
   "metadata": {},
   "outputs": [],
   "source": [
    "if not os.path.exists(f'../data/covidTemperature.{state}.pkl'):\n",
    "    print(\"Processing Temperature data\")\n",
    "    flattenedTemperatureDataFrame = pd.json_normalize(json.load(open(Path(f'../data/neon_single_asp_air_temperature.{state}/data.json'))))\n",
    "    flattenedTemperatureGeometryFrame = pd.json_normalize(json.load(open(Path(f'../data/neon_single_asp_air_temperature.{state}/linkedGeometry.json'))))\n",
    "    flattenedTemperatureGeometryFrame['county'] = flattenedTemperatureGeometryFrame.apply(\n",
    "        lambda row: data_processing.lookup_county_from_geometry(county_polygons, row['geometry.coordinates']), axis=1)\n",
    "    combinedTemperatureFrame = flattenedTemperatureDataFrame.set_index('site').join(\n",
    "        flattenedTemperatureGeometryFrame.set_index('site'), lsuffix='_data', rsuffix='_geo')\n",
    "    combinedTemperatureFrame['date'] = pd.to_datetime(combinedTemperatureFrame['startDateTime']).dt.date\n",
    "    combinedTemperatureFrame['datetime'] = pd.to_datetime(combinedTemperatureFrame['startDateTime']).dt.round(\"H\")\n",
    "    finalCovidTemperatureFrame = pd.merge(combinedTemperatureFrame, combinedCovidFrame, how='left', left_on=['county', 'date'],\n",
    "                                          right_on=['county', 'date'])\n",
    "    finalCovidTemperatureFrame = finalCovidTemperatureFrame[finalCovidTemperatureFrame['totalCaseCount'].notna()]\n",
    "    finalCovidTemperatureFrame.to_pickle(f'../data/covidTemperature.{state}.pkl')\n",
    "    del finalCovidTemperatureFrame\n",
    "    del combinedTemperatureFrame\n",
    "    del flattenedTemperatureDataFrame\n",
    "    gc.collect()"
   ]
  },
  {
   "cell_type": "markdown",
   "metadata": {},
   "source": [
    "#### U.S. Census Total County Population Dataset"
   ]
  },
  {
   "cell_type": "code",
   "execution_count": 11,
   "metadata": {},
   "outputs": [
    {
     "data": {
      "text/plain": [
       "0"
      ]
     },
     "execution_count": 11,
     "metadata": {},
     "output_type": "execute_result"
    }
   ],
   "source": [
    "# print('Processing Population data')\n",
    "flattenedPopulationDataFrame = pd.json_normalize(\n",
    "    json.load(open(Path(f'../data/county_total_population.{state}/data.json'))))\n",
    "flattenedPopulationGeometryFrame = pd.json_normalize(\n",
    "    json.load(open(Path(f'../data/county_total_population.{state}/linkedGeometry.json'))))\n",
    "\n",
    "combinedPopulationFrame = flattenedPopulationDataFrame.set_index('GISJOIN').join(flattenedPopulationGeometryFrame.set_index('GISJOIN'), lsuffix='_data', rsuffix='_geo')\n",
    "combinedPopulationFrame = combinedPopulationFrame[combinedPopulationFrame.COUNTY.isin(counties[state])]\n",
    "combinedPopulationFrame['county'] = combinedPopulationFrame['COUNTY'].map({'Boulder County' : 'Boulder', 'Grand County' : 'Grand', 'Larimer County' : 'Larimer', 'Logan County' : 'Logan', 'Weld County' : 'Weld', 'Yuma County' : 'Yuma'})\n",
    "combinedPopulationFrame.to_pickle(f'../data/population.{state}.pkl')\n",
    "\n",
    "del flattenedPopulationDataFrame\n",
    "del combinedPopulationFrame\n",
    "gc.collect()"
   ]
  },
  {
   "cell_type": "markdown",
   "metadata": {},
   "source": [
    "## Data Exploration"
   ]
  },
  {
   "cell_type": "code",
   "execution_count": 12,
   "metadata": {},
   "outputs": [
    {
     "name": "stderr",
     "output_type": "stream",
     "text": [
      "c:\\python38\\lib\\site-packages\\seaborn\\distributions.py:2619: FutureWarning: `distplot` is a deprecated function and will be removed in a future version. Please adapt your code to use either `displot` (a figure-level function with similar flexibility) or `histplot` (an axes-level function for histograms).\n",
      "  warnings.warn(msg, FutureWarning)\n"
     ]
    },
    {
     "data": {
      "text/plain": [
       "<AxesSubplot:xlabel='newCaseCount', ylabel='Density'>"
      ]
     },
     "execution_count": 12,
     "metadata": {},
     "output_type": "execute_result"
    },
    {
     "data": {
      "image/png": "[encoded data removed]",
      "text/plain": [
       "<Figure size 432x288 with 1 Axes>"
      ]
     },
     "metadata": {
      "needs_background": "light"
     },
     "output_type": "display_data"
    }
   ],
   "source": [
    "control = combinedCovidFrame\n",
    "sns.distplot(control.newCaseCount)"
   ]
  },
  {
   "cell_type": "code",
   "execution_count": 13,
   "metadata": {},
   "outputs": [
    {
     "name": "stderr",
     "output_type": "stream",
     "text": [
      "c:\\python38\\lib\\site-packages\\seaborn\\distributions.py:2619: FutureWarning: `distplot` is a deprecated function and will be removed in a future version. Please adapt your code to use either `displot` (a figure-level function with similar flexibility) or `histplot` (an axes-level function for histograms).\n",
      "  warnings.warn(msg, FutureWarning)\n"
     ]
    },
    {
     "data": {
      "text/plain": [
       "<AxesSubplot:xlabel='tempSingleMean', ylabel='Density'>"
      ]
     },
     "execution_count": 13,
     "metadata": {},
     "output_type": "execute_result"
    },
    {
     "data": {
      "image/png": "[encoded data removed]",
      "text/plain": [
       "<Figure size 432x288 with 1 Axes>"
      ]
     },
     "metadata": {
      "needs_background": "light"
     },
     "output_type": "display_data"
    }
   ],
   "source": [
    "covidTemperature = pd.read_pickle(f'../data/covidTemperature.{state}.pkl')\n",
    "sns.distplot(covidTemperature.tempSingleMean)"
   ]
  },
  {
   "cell_type": "code",
   "execution_count": 14,
   "metadata": {},
   "outputs": [
    {
     "data": {
      "text/plain": [
       "30.816773504273506"
      ]
     },
     "execution_count": 14,
     "metadata": {},
     "output_type": "execute_result"
    }
   ],
   "source": [
    "combinedCovidFrame['newCaseCount'].mean()"
   ]
  },
  {
   "cell_type": "markdown",
   "metadata": {
    "pycharm": {
     "name": "#%% md\n"
    }
   },
   "source": [
    "## Experiments"
   ]
  },
  {
   "cell_type": "code",
   "execution_count": 2,
   "metadata": {},
   "outputs": [],
   "source": [
    "state = 'Colorado'"
   ]
  },
  {
   "cell_type": "code",
   "execution_count": 3,
   "metadata": {
    "pycharm": {
     "name": "#%%\n"
    }
   },
   "outputs": [],
   "source": [
    "error_values = {}"
   ]
  },
  {
   "cell_type": "code",
   "execution_count": 4,
   "metadata": {},
   "outputs": [],
   "source": [
    "pop = pd.read_pickle(f'../data/population.{state}.pkl')"
   ]
  },
  {
   "cell_type": "markdown",
   "metadata": {},
   "source": [
    "#### Control"
   ]
  },
  {
   "cell_type": "code",
   "execution_count": 5,
   "metadata": {
    "pycharm": {
     "name": "#%%\n"
    }
   },
   "outputs": [
    {
     "name": "stdout",
     "output_type": "stream",
     "text": [
      "Index(['date', 'county_index', 'newCaseCount', 'totalCaseCount',\n",
      "       'totalDeathCount', 'newDeathCount', '2010_total_population'],\n",
      "      dtype='object')\n",
      "Running DNN for dataset\n",
      "24/24 [==============================] - 0s 1ms/step - loss: 15.8435 - mae: 15.8435 - mse: 1369.2709\n"
     ]
    },
    {
     "data": {
      "text/plain": [
       "(15.843473434448242, 15.843473434448242, 1369.2708740234375)"
      ]
     },
     "execution_count": 5,
     "metadata": {},
     "output_type": "execute_result"
    },
    {
     "data": {
      "image/png": "[encoded data removed]",
      "text/plain": [
       "<Figure size 432x288 with 1 Axes>"
      ]
     },
     "metadata": {
      "needs_background": "light"
     },
     "output_type": "display_data"
    }
   ],
   "source": [
    "df = pd.read_pickle(f'../data/control.{state}.pkl')\n",
    "error_values['control'] = run.run_control(df, pop)\n",
    "\n",
    "del df\n",
    "gc.collect()\n",
    "\n",
    "error_values['control']"
   ]
  },
  {
   "cell_type": "markdown",
   "metadata": {},
   "source": [
    "#### Experiment One: Wind"
   ]
  },
  {
   "cell_type": "code",
   "execution_count": 6,
   "metadata": {
    "scrolled": true
   },
   "outputs": [
    {
     "name": "stdout",
     "output_type": "stream",
     "text": [
      "Running DNN for dataset\n",
      "1959/1959 [==============================] - 1s 732us/step - loss: 13.6889 - mae: 13.6889 - mse: 630.1521\n"
     ]
    },
    {
     "data": {
      "text/plain": [
       "(13.688925743103027, 13.688925743103027, 630.152099609375)"
      ]
     },
     "execution_count": 6,
     "metadata": {},
     "output_type": "execute_result"
    },
    {
     "data": {
      "image/png": "[encoded data removed]",
      "text/plain": [
       "<Figure size 432x288 with 1 Axes>"
      ]
     },
     "metadata": {
      "needs_background": "light"
     },
     "output_type": "display_data"
    }
   ],
   "source": [
    "df = pd.read_pickle(f'../data/covidWind.{state}.pkl')\n",
    "error_values['wind'] = run.run_wind(df, pop)\n",
    "\n",
    "del df\n",
    "gc.collect()\n",
    "\n",
    "error_values['wind']"
   ]
  },
  {
   "cell_type": "markdown",
   "metadata": {},
   "source": [
    "#### Experiment Two: Pressure"
   ]
  },
  {
   "cell_type": "code",
   "execution_count": 7,
   "metadata": {},
   "outputs": [
    {
     "name": "stdout",
     "output_type": "stream",
     "text": [
      "Running DNN for dataset\n",
      "983/983 [==============================] - 1s 692us/step - loss: 11.1185 - mae: 11.1185 - mse: 488.0993\n"
     ]
    },
    {
     "data": {
      "text/plain": [
       "(11.118513107299805, 11.118513107299805, 488.0992736816406)"
      ]
     },
     "execution_count": 7,
     "metadata": {},
     "output_type": "execute_result"
    },
    {
     "data": {
      "image/png": "[encoded data removed]",
      "text/plain": [
       "<Figure size 432x288 with 1 Axes>"
      ]
     },
     "metadata": {
      "needs_background": "light"
     },
     "output_type": "display_data"
    }
   ],
   "source": [
    "df = pd.read_pickle(f'../data/covidPressure.{state}.pkl')\n",
    "\n",
    "error_values['pressure'] =  run.run_pressure(df, pop)\n",
    "\n",
    "del df\n",
    "gc.collect()\n",
    "\n",
    "error_values['pressure']"
   ]
  },
  {
   "cell_type": "markdown",
   "metadata": {},
   "source": [
    "#### Experiment Three: Temperature"
   ]
  },
  {
   "cell_type": "code",
   "execution_count": 8,
   "metadata": {},
   "outputs": [
    {
     "name": "stdout",
     "output_type": "stream",
     "text": [
      "Running DNN for dataset\n",
      "2207/2207 [==============================] - 2s 736us/step - loss: 12.5673 - mae: 12.5673 - mse: 575.2431\n"
     ]
    },
    {
     "data": {
      "text/plain": [
       "(12.56731128692627, 12.56731128692627, 575.2431030273438)"
      ]
     },
     "execution_count": 8,
     "metadata": {},
     "output_type": "execute_result"
    },
    {
     "data": {
      "image/png": "[encoded data removed]",
      "text/plain": [
       "<Figure size 432x288 with 1 Axes>"
      ]
     },
     "metadata": {
      "needs_background": "light"
     },
     "output_type": "display_data"
    }
   ],
   "source": [
    "df = pd.read_pickle(f'../data/covidTemperature.{state}.pkl')\n",
    "error_values['temperature'] = run.run_temperature(df, pop)\n",
    "\n",
    "del df\n",
    "gc.collect()\n",
    "\n",
    "error_values['temperature']"
   ]
  },
  {
   "cell_type": "markdown",
   "metadata": {
    "pycharm": {
     "name": "#%% md\n"
    }
   },
   "source": [
    "## Results"
   ]
  },
  {
   "cell_type": "code",
   "execution_count": 9,
   "metadata": {
    "pycharm": {
     "name": "#%%\n"
    }
   },
   "outputs": [
    {
     "name": "stdout",
     "output_type": "stream",
     "text": [
      "mean_absolute_error\n",
      "control\t\t15.843473434448242\n",
      "wind\t\t13.688925743103027\n",
      "pressure\t\t11.118513107299805\n",
      "temperature\t\t12.56731128692627\n",
      "\n",
      "mean_square_error\n",
      "control\t\t1369.2708740234375\n",
      "wind\t\t630.152099609375\n",
      "pressure\t\t488.0992736816406\n",
      "temperature\t\t575.2431030273438\n"
     ]
    }
   ],
   "source": [
    "print(\"mean_absolute_error\")\n",
    "for dsname, error_value in error_values.items():\n",
    "    print(f\"{dsname}\\t\\t{error_value[0]}\")\n",
    "    \n",
    "print()\n",
    "    \n",
    "print(\"mean_square_error\")\n",
    "for dsname, error_value in error_values.items():\n",
    "    print(f\"{dsname}\\t\\t{error_value[2]}\")"
   ]
  },
  {
   "cell_type": "markdown",
   "metadata": {},
   "source": [
    "## References"
   ]
  },
  {
   "cell_type": "markdown",
   "metadata": {},
   "source": [
    "## About this Notebook\n",
    "\n",
    "**Authors:** Kyle Bassignani, Jeff Borgerson, and Christian Westbrook  \n",
    "**Updated On:** 2021-11-20"
   ]
  }
 ],
 "metadata": {
  "kernelspec": {
   "display_name": "Python 3",
   "language": "python",
   "name": "python3"
  },
  "language_info": {
   "codemirror_mode": {
    "name": "ipython",
    "version": 3
   },
   "file_extension": ".py",
   "mimetype": "text/x-python",
   "name": "python",
   "nbconvert_exporter": "python",
   "pygments_lexer": "ipython3",
   "version": "3.8.3"
  }
 },
 "nbformat": 4,
 "nbformat_minor": 4
}
