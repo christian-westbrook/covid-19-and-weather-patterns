{
 "cells": [
  {
   "cell_type": "markdown",
   "metadata": {},
   "source": [
    "# COVID-19 and Weather Patterns"
   ]
  },
  {
   "cell_type": "markdown",
   "metadata": {},
   "source": [
    "## Imports\n",
    "\n",
    "- *os* for interfacing with the operating system\n",
    "- *pathlib* for interfacing with the file system\n",
    "- *zipfile* for managing archive files\n",
    "\n",
    "- *numpy* for array processing\n",
    "- *pandas* for tabular processing\n",
    "- *tensorflow* for tensor processing\n",
    "- *keras* for simplified tensor processing\n",
    "\n",
    "- *matplotlib* for visualization\n",
    "- *seaborn* for enhanced visualization"
   ]
  },
  {
   "cell_type": "code",
   "execution_count": 2,
   "metadata": {},
   "outputs": [
    {
     "data": {
      "text/plain": "'2.7.0'"
     },
     "execution_count": 2,
     "metadata": {},
     "output_type": "execute_result"
    }
   ],
   "source": [
    "# Custom\n",
    "import data_processing\n",
    "\n",
    "# File System\n",
    "import os\n",
    "import json\n",
    "from pathlib import Path\n",
    "from zipfile import ZipFile\n",
    "\n",
    "# Processing\n",
    "import numpy as np\n",
    "import pandas as pd\n",
    "from sympy import *\n",
    "from sympy.geometry import *\n",
    "import tensorflow\n",
    "from tensorflow import keras\n",
    "\n",
    "# Visualization\n",
    "import matplotlib.pyplot as plt\n",
    "import seaborn as sns\n",
    "\n",
    "tensorflow.__version__"
   ]
  },
  {
   "cell_type": "markdown",
   "metadata": {},
   "source": [
    "## Introduction\n",
    "\n",
    "The goal of this work is to determine whether or not weather patterns should be considered as a meaningful supporting input when making predictions about new daily COVID-19 cases within a given geographical space. Using census, weather, and COVID-19 datasets provided by the Urban Sustain project, the authors attempt to quantify the correlation between particular weather patterns and COVID-19 transmission events."
   ]
  },
  {
   "cell_type": "markdown",
   "metadata": {},
   "source": [
    "## Defining Terms\n",
    "\n",
    "***Urban Sustain Project*** - A joint effort between researchers at Colorado State University, Arizona State University, the University of California-Irvine, and the University of Maryland – Baltimore County."
   ]
  },
  {
   "cell_type": "markdown",
   "metadata": {},
   "source": [
    "## Loading Data"
   ]
  },
  {
   "cell_type": "markdown",
   "metadata": {},
   "source": [
    "**DEVELOPER NOTE:** Download the five required datasets from Urban Sustain and place them in the cloned repository at ```./data/```. These datasets are also available at a shared OneDrive folder. This logic expects that these files exist at relative path ```../data/``` with respect to this notebook."
   ]
  },
  {
   "cell_type": "markdown",
   "metadata": {},
   "source": [
    "We'll begin by defining a path to our data directory and a list of the datasets that we expect to find there."
   ]
  },
  {
   "cell_type": "code",
   "execution_count": 30,
   "metadata": {},
   "outputs": [],
   "source": [
    "DATA_PATH = '../data/' # Point this constant to the location of your data archive files\n",
    "\n",
    "EXPECTED_DATASETS = [\n",
    "    'county_total_population.Colorado.zip',\n",
    "    'covid_county.Colorado.zip',\n",
    "    'neon_2d_wind.Colorado.zip',\n",
    "    'neon_barometric_pressure.Colorado.zip',\n",
    "    'neon_single_asp_air_temperature.Colorado.zip'\n",
    "]"
   ]
  },
  {
   "cell_type": "markdown",
   "metadata": {},
   "source": [
    "Next, we will attempt to extract each of these archived datasets into a dedicated subdirectory within the given data directory."
   ]
  },
  {
   "cell_type": "code",
   "execution_count": 31,
   "metadata": {},
   "outputs": [],
   "source": [
    "# For each listed dataset string in the EXPECTED_DATASETS constant\n",
    "for datasetName in EXPECTED_DATASETS:\n",
    "    try:\n",
    "        # Open the given archive file\n",
    "        with ZipFile(DATA_PATH + datasetName, 'r') as currentZip:\n",
    "            # Build the target directory path for extracted data\n",
    "            datasetNameTokens = datasetName.split('.')\n",
    "            datasetNameTokens.remove('zip')\n",
    "            targetDirectory = DATA_PATH + '.'.join(datasetNameTokens)\n",
    "            \n",
    "            # If the target directory doesn't exist, create it\n",
    "            if not os.path.exists(targetDirectory):\n",
    "                Path(targetDirectory).mkdir()\n",
    "            \n",
    "            # Extract all data from the archive file to the target directory\n",
    "            currentZip.extractall(targetDirectory)\n",
    "    except FileNotFoundError:\n",
    "        print(\"Unable to open \" + datasetName + \" at path \" + DATA_PATH + datasetName)"
   ]
  },
  {
   "cell_type": "markdown",
   "metadata": {},
   "source": [
    "## File Information\n",
    "\n",
    "Four of the five datasets referenced in this work relate geospatial information to particular events as they occur over time Each is provided by the Urban Sustain project and employs a similar file structure.\n",
    "\n",
    "- data.json\n",
    "- fieldLabels.json\n",
    "- linkedGeometry.json\n",
    "- README.txt\n"
   ]
  },
  {
   "cell_type": "markdown",
   "metadata": {},
   "source": [
    "#### New York Times COVID-19 County Dataset\n",
    "\n",
    "The included COVID-19 County dataset "
   ]
  },
  {
   "cell_type": "code",
   "execution_count": 32,
   "metadata": {},
   "outputs": [
    {
     "data": {
      "text/plain": "                                        _id   GISJOIN  \\\n4917   {'$oid': '615fc624bf06594c4cad5541'}  G0800140   \n15987  {'$oid': '615fc625bf06594c4cad7f79'}  G0800490   \n35639  {'$oid': '615fc628bf06594c4cadd131'}  G0801130   \n3077   {'$oid': '615fc624bf06594c4cad4ddd'}  G0800090   \n35636  {'$oid': '615fc628bf06594c4cadd0ee'}  G0801130   \n\n                             epoch_time dateString      county     state  \\\n4917   {'$numberLong': '1619935200000'}     5/2/21  Broomfield  Colorado   \n15987  {'$numberLong': '1582873200000'}    2/28/20       Grand  Colorado   \n35639  {'$numberLong': '1611385200000'}    1/23/21  San Miguel  Colorado   \n3077   {'$numberLong': '1617775200000'}     4/7/21        Baca  Colorado   \n35636  {'$numberLong': '1605423600000'}   11/15/20  San Miguel  Colorado   \n\n       totalCaseCount  newCaseCount  totalDeathCount  newDeathCount  \n4917             4690             3               75              0  \n15987               0             0                0              0  \n35639             594            11                0              0  \n3077              278             0                4              0  \n35636             163             8                0              0  ",
      "text/html": "<div>\n<style scoped>\n    .dataframe tbody tr th:only-of-type {\n        vertical-align: middle;\n    }\n\n    .dataframe tbody tr th {\n        vertical-align: top;\n    }\n\n    .dataframe thead th {\n        text-align: right;\n    }\n</style>\n<table border=\"1\" class=\"dataframe\">\n  <thead>\n    <tr style=\"text-align: right;\">\n      <th></th>\n      <th>_id</th>\n      <th>GISJOIN</th>\n      <th>epoch_time</th>\n      <th>dateString</th>\n      <th>county</th>\n      <th>state</th>\n      <th>totalCaseCount</th>\n      <th>newCaseCount</th>\n      <th>totalDeathCount</th>\n      <th>newDeathCount</th>\n    </tr>\n  </thead>\n  <tbody>\n    <tr>\n      <th>4917</th>\n      <td>{'$oid': '615fc624bf06594c4cad5541'}</td>\n      <td>G0800140</td>\n      <td>{'$numberLong': '1619935200000'}</td>\n      <td>5/2/21</td>\n      <td>Broomfield</td>\n      <td>Colorado</td>\n      <td>4690</td>\n      <td>3</td>\n      <td>75</td>\n      <td>0</td>\n    </tr>\n    <tr>\n      <th>15987</th>\n      <td>{'$oid': '615fc625bf06594c4cad7f79'}</td>\n      <td>G0800490</td>\n      <td>{'$numberLong': '1582873200000'}</td>\n      <td>2/28/20</td>\n      <td>Grand</td>\n      <td>Colorado</td>\n      <td>0</td>\n      <td>0</td>\n      <td>0</td>\n      <td>0</td>\n    </tr>\n    <tr>\n      <th>35639</th>\n      <td>{'$oid': '615fc628bf06594c4cadd131'}</td>\n      <td>G0801130</td>\n      <td>{'$numberLong': '1611385200000'}</td>\n      <td>1/23/21</td>\n      <td>San Miguel</td>\n      <td>Colorado</td>\n      <td>594</td>\n      <td>11</td>\n      <td>0</td>\n      <td>0</td>\n    </tr>\n    <tr>\n      <th>3077</th>\n      <td>{'$oid': '615fc624bf06594c4cad4ddd'}</td>\n      <td>G0800090</td>\n      <td>{'$numberLong': '1617775200000'}</td>\n      <td>4/7/21</td>\n      <td>Baca</td>\n      <td>Colorado</td>\n      <td>278</td>\n      <td>0</td>\n      <td>4</td>\n      <td>0</td>\n    </tr>\n    <tr>\n      <th>35636</th>\n      <td>{'$oid': '615fc628bf06594c4cadd0ee'}</td>\n      <td>G0801130</td>\n      <td>{'$numberLong': '1605423600000'}</td>\n      <td>11/15/20</td>\n      <td>San Miguel</td>\n      <td>Colorado</td>\n      <td>163</td>\n      <td>8</td>\n      <td>0</td>\n      <td>0</td>\n    </tr>\n  </tbody>\n</table>\n</div>"
     },
     "execution_count": 32,
     "metadata": {},
     "output_type": "execute_result"
    }
   ],
   "source": [
    "covidDataFrame = pd.io.json.read_json('../data/covid_county.Colorado/data.json')\n",
    "covidDataFrame.sample(5)"
   ]
  },
  {
   "cell_type": "code",
   "execution_count": 33,
   "metadata": {},
   "outputs": [
    {
     "data": {
      "text/plain": "              name              label\n3     newCaseCount     New Case Count\n4   totalCaseCount   Total Case Count\n0       epoch_time               Date\n1    newDeathCount    New Death Count\n2  totalDeathCount  Total Death Count",
      "text/html": "<div>\n<style scoped>\n    .dataframe tbody tr th:only-of-type {\n        vertical-align: middle;\n    }\n\n    .dataframe tbody tr th {\n        vertical-align: top;\n    }\n\n    .dataframe thead th {\n        text-align: right;\n    }\n</style>\n<table border=\"1\" class=\"dataframe\">\n  <thead>\n    <tr style=\"text-align: right;\">\n      <th></th>\n      <th>name</th>\n      <th>label</th>\n    </tr>\n  </thead>\n  <tbody>\n    <tr>\n      <th>3</th>\n      <td>newCaseCount</td>\n      <td>New Case Count</td>\n    </tr>\n    <tr>\n      <th>4</th>\n      <td>totalCaseCount</td>\n      <td>Total Case Count</td>\n    </tr>\n    <tr>\n      <th>0</th>\n      <td>epoch_time</td>\n      <td>Date</td>\n    </tr>\n    <tr>\n      <th>1</th>\n      <td>newDeathCount</td>\n      <td>New Death Count</td>\n    </tr>\n    <tr>\n      <th>2</th>\n      <td>totalDeathCount</td>\n      <td>Total Death Count</td>\n    </tr>\n  </tbody>\n</table>\n</div>"
     },
     "execution_count": 33,
     "metadata": {},
     "output_type": "execute_result"
    }
   ],
   "source": [
    "covidLabelsFrame = pd.io.json.read_json('../data/covid_county.Colorado/fieldLabels.json')\n",
    "covidLabelsFrame.sample(5)"
   ]
  },
  {
   "cell_type": "code",
   "execution_count": 34,
   "metadata": {
    "scrolled": true
   },
   "outputs": [
    {
     "data": {
      "text/plain": "                                     _id     type  \\\n20  {'$oid': '604964ecfed2e95d6b68b673'}  Feature   \n39  {'$oid': '604964eefed2e95d6b68b83c'}  Feature   \n42  {'$oid': '604964ecfed2e95d6b68b685'}  Feature   \n33  {'$oid': '604964ecfed2e95d6b68b67b'}  Feature   \n58  {'$oid': '604964ecfed2e95d6b68b67e'}  Feature   \n\n                                             geometry  \\\n20  {'type': 'Polygon', 'coordinates': [[[-103.714...   \n39  {'type': 'Polygon', 'coordinates': [[[-107.430...   \n42  {'type': 'Polygon', 'coordinates': [[[-107.970...   \n33  {'type': 'Polygon', 'coordinates': [[[-106.206...   \n58  {'type': 'Polygon', 'coordinates': [[[-102.621...   \n\n                                           properties   GISJOIN  \n20  {'STATEFP10': '08', 'COUNTYFP10': '039', 'COUN...  G0800390  \n39  {'STATEFP10': '08', 'COUNTYFP10': '077', 'COUN...  G0800770  \n42  {'STATEFP10': '08', 'COUNTYFP10': '083', 'COUN...  G0800830  \n33  {'STATEFP10': '08', 'COUNTYFP10': '065', 'COUN...  G0800650  \n58  {'STATEFP10': '08', 'COUNTYFP10': '115', 'COUN...  G0801150  ",
      "text/html": "<div>\n<style scoped>\n    .dataframe tbody tr th:only-of-type {\n        vertical-align: middle;\n    }\n\n    .dataframe tbody tr th {\n        vertical-align: top;\n    }\n\n    .dataframe thead th {\n        text-align: right;\n    }\n</style>\n<table border=\"1\" class=\"dataframe\">\n  <thead>\n    <tr style=\"text-align: right;\">\n      <th></th>\n      <th>_id</th>\n      <th>type</th>\n      <th>geometry</th>\n      <th>properties</th>\n      <th>GISJOIN</th>\n    </tr>\n  </thead>\n  <tbody>\n    <tr>\n      <th>20</th>\n      <td>{'$oid': '604964ecfed2e95d6b68b673'}</td>\n      <td>Feature</td>\n      <td>{'type': 'Polygon', 'coordinates': [[[-103.714...</td>\n      <td>{'STATEFP10': '08', 'COUNTYFP10': '039', 'COUN...</td>\n      <td>G0800390</td>\n    </tr>\n    <tr>\n      <th>39</th>\n      <td>{'$oid': '604964eefed2e95d6b68b83c'}</td>\n      <td>Feature</td>\n      <td>{'type': 'Polygon', 'coordinates': [[[-107.430...</td>\n      <td>{'STATEFP10': '08', 'COUNTYFP10': '077', 'COUN...</td>\n      <td>G0800770</td>\n    </tr>\n    <tr>\n      <th>42</th>\n      <td>{'$oid': '604964ecfed2e95d6b68b685'}</td>\n      <td>Feature</td>\n      <td>{'type': 'Polygon', 'coordinates': [[[-107.970...</td>\n      <td>{'STATEFP10': '08', 'COUNTYFP10': '083', 'COUN...</td>\n      <td>G0800830</td>\n    </tr>\n    <tr>\n      <th>33</th>\n      <td>{'$oid': '604964ecfed2e95d6b68b67b'}</td>\n      <td>Feature</td>\n      <td>{'type': 'Polygon', 'coordinates': [[[-106.206...</td>\n      <td>{'STATEFP10': '08', 'COUNTYFP10': '065', 'COUN...</td>\n      <td>G0800650</td>\n    </tr>\n    <tr>\n      <th>58</th>\n      <td>{'$oid': '604964ecfed2e95d6b68b67e'}</td>\n      <td>Feature</td>\n      <td>{'type': 'Polygon', 'coordinates': [[[-102.621...</td>\n      <td>{'STATEFP10': '08', 'COUNTYFP10': '115', 'COUN...</td>\n      <td>G0801150</td>\n    </tr>\n  </tbody>\n</table>\n</div>"
     },
     "execution_count": 34,
     "metadata": {},
     "output_type": "execute_result"
    }
   ],
   "source": [
    "covidGeometryFrame = pd.io.json.read_json('../data/covid_county.Colorado/linkedGeometry.json')\n",
    "covidGeometryFrame.sample(5)"
   ]
  },
  {
   "cell_type": "markdown",
   "metadata": {},
   "source": [
    "#### NEON 2D Wind Dataset"
   ]
  },
  {
   "cell_type": "code",
   "execution_count": 35,
   "metadata": {
    "scrolled": true
   },
   "outputs": [
    {
     "data": {
      "text/plain": "                                          _id                        site  \\\n86390    {'$oid': '60cbc55f51c1683b46b2eb4f'}  ARIK_DP1.00001.001_200.000   \n984344   {'$oid': '60cbc29d51c1683b4665fb5b'}  RMNP_DP1.00001.001_000.030   \n1246148  {'$oid': '60cbc03451c1683b4622f5d8'}  STER_DP1.00001.001_000.020   \n609050   {'$oid': '60cbc6f851c1683b46df59ef'}  NIWO_DP1.00001.001_000.020   \n939677   {'$oid': '60cbc28451c1683b4663497f'}  RMNP_DP1.00001.001_000.030   \n\n                               epoch_time         startDateTime  \\\n86390    {'$numberLong': '1619866800000'}  2021-05-01T11:00:00Z   \n984344   {'$numberLong': '1584901800000'}  2020-03-22T18:30:00Z   \n1246148  {'$numberLong': '1417165200000'}  2014-11-28T09:00:00Z   \n609050   {'$numberLong': '1580488200000'}  2020-01-31T16:30:00Z   \n939677   {'$numberLong': '1501009200000'}  2017-07-25T19:00:00Z   \n\n                  endDateTime  windSpeedMean  windSpeedMinimum  \\\n86390    2021-05-01T11:30:00Z           1.74              0.01   \n984344   2020-03-22T19:00:00Z           3.12              0.14   \n1246148  2014-11-28T09:30:00Z           2.37              0.21   \n609050   2020-01-31T17:00:00Z          12.55              5.06   \n939677   2017-07-25T19:30:00Z           1.76              0.01   \n\n         windSpeedMaximum  windSpeedVariance  windSpeedNumPts  \\\n86390                5.36               0.95             1800   \n984344              11.08               3.02             1800   \n1246148              5.06               0.95             1800   \n609050              21.69               7.08             1800   \n939677               6.14               1.03             1800   \n\n         windSpeedExpUncert  windSpeedStdErMean  windSpeedFinalQF  \\\n86390                  0.12                0.02                 0   \n984344                 0.43                0.04                 0   \n1246148                0.10                0.02                 0   \n609050                 1.18                0.06                 0   \n939677                 0.16                0.02                 0   \n\n         windDirMean  windDirVariance  windDirNumPts  windDirExpUncert  \\\n86390         289.43          5756.48           1800              0.07   \n984344        328.99          1194.87           1800              0.07   \n1246148       244.72           485.55           1800              0.19   \n609050        310.87           101.01           1800              0.07   \n939677        321.33          1972.09           1800              0.07   \n\n         windDirStdErMean  windDirFinalQF  \n86390                0.04               0  \n984344               0.05               1  \n1246148              0.01               1  \n609050               0.00               0  \n939677               0.04               1  ",
      "text/html": "<div>\n<style scoped>\n    .dataframe tbody tr th:only-of-type {\n        vertical-align: middle;\n    }\n\n    .dataframe tbody tr th {\n        vertical-align: top;\n    }\n\n    .dataframe thead th {\n        text-align: right;\n    }\n</style>\n<table border=\"1\" class=\"dataframe\">\n  <thead>\n    <tr style=\"text-align: right;\">\n      <th></th>\n      <th>_id</th>\n      <th>site</th>\n      <th>epoch_time</th>\n      <th>startDateTime</th>\n      <th>endDateTime</th>\n      <th>windSpeedMean</th>\n      <th>windSpeedMinimum</th>\n      <th>windSpeedMaximum</th>\n      <th>windSpeedVariance</th>\n      <th>windSpeedNumPts</th>\n      <th>windSpeedExpUncert</th>\n      <th>windSpeedStdErMean</th>\n      <th>windSpeedFinalQF</th>\n      <th>windDirMean</th>\n      <th>windDirVariance</th>\n      <th>windDirNumPts</th>\n      <th>windDirExpUncert</th>\n      <th>windDirStdErMean</th>\n      <th>windDirFinalQF</th>\n    </tr>\n  </thead>\n  <tbody>\n    <tr>\n      <th>86390</th>\n      <td>{'$oid': '60cbc55f51c1683b46b2eb4f'}</td>\n      <td>ARIK_DP1.00001.001_200.000</td>\n      <td>{'$numberLong': '1619866800000'}</td>\n      <td>2021-05-01T11:00:00Z</td>\n      <td>2021-05-01T11:30:00Z</td>\n      <td>1.74</td>\n      <td>0.01</td>\n      <td>5.36</td>\n      <td>0.95</td>\n      <td>1800</td>\n      <td>0.12</td>\n      <td>0.02</td>\n      <td>0</td>\n      <td>289.43</td>\n      <td>5756.48</td>\n      <td>1800</td>\n      <td>0.07</td>\n      <td>0.04</td>\n      <td>0</td>\n    </tr>\n    <tr>\n      <th>984344</th>\n      <td>{'$oid': '60cbc29d51c1683b4665fb5b'}</td>\n      <td>RMNP_DP1.00001.001_000.030</td>\n      <td>{'$numberLong': '1584901800000'}</td>\n      <td>2020-03-22T18:30:00Z</td>\n      <td>2020-03-22T19:00:00Z</td>\n      <td>3.12</td>\n      <td>0.14</td>\n      <td>11.08</td>\n      <td>3.02</td>\n      <td>1800</td>\n      <td>0.43</td>\n      <td>0.04</td>\n      <td>0</td>\n      <td>328.99</td>\n      <td>1194.87</td>\n      <td>1800</td>\n      <td>0.07</td>\n      <td>0.05</td>\n      <td>1</td>\n    </tr>\n    <tr>\n      <th>1246148</th>\n      <td>{'$oid': '60cbc03451c1683b4622f5d8'}</td>\n      <td>STER_DP1.00001.001_000.020</td>\n      <td>{'$numberLong': '1417165200000'}</td>\n      <td>2014-11-28T09:00:00Z</td>\n      <td>2014-11-28T09:30:00Z</td>\n      <td>2.37</td>\n      <td>0.21</td>\n      <td>5.06</td>\n      <td>0.95</td>\n      <td>1800</td>\n      <td>0.10</td>\n      <td>0.02</td>\n      <td>0</td>\n      <td>244.72</td>\n      <td>485.55</td>\n      <td>1800</td>\n      <td>0.19</td>\n      <td>0.01</td>\n      <td>1</td>\n    </tr>\n    <tr>\n      <th>609050</th>\n      <td>{'$oid': '60cbc6f851c1683b46df59ef'}</td>\n      <td>NIWO_DP1.00001.001_000.020</td>\n      <td>{'$numberLong': '1580488200000'}</td>\n      <td>2020-01-31T16:30:00Z</td>\n      <td>2020-01-31T17:00:00Z</td>\n      <td>12.55</td>\n      <td>5.06</td>\n      <td>21.69</td>\n      <td>7.08</td>\n      <td>1800</td>\n      <td>1.18</td>\n      <td>0.06</td>\n      <td>0</td>\n      <td>310.87</td>\n      <td>101.01</td>\n      <td>1800</td>\n      <td>0.07</td>\n      <td>0.00</td>\n      <td>0</td>\n    </tr>\n    <tr>\n      <th>939677</th>\n      <td>{'$oid': '60cbc28451c1683b4663497f'}</td>\n      <td>RMNP_DP1.00001.001_000.030</td>\n      <td>{'$numberLong': '1501009200000'}</td>\n      <td>2017-07-25T19:00:00Z</td>\n      <td>2017-07-25T19:30:00Z</td>\n      <td>1.76</td>\n      <td>0.01</td>\n      <td>6.14</td>\n      <td>1.03</td>\n      <td>1800</td>\n      <td>0.16</td>\n      <td>0.02</td>\n      <td>0</td>\n      <td>321.33</td>\n      <td>1972.09</td>\n      <td>1800</td>\n      <td>0.07</td>\n      <td>0.04</td>\n      <td>1</td>\n    </tr>\n  </tbody>\n</table>\n</div>"
     },
     "execution_count": 35,
     "metadata": {},
     "output_type": "execute_result"
    }
   ],
   "source": [
    "windDataFrame = pd.io.json.read_json('../data/neon_2d_wind.Colorado/data.json')\n",
    "windDataFrame.sample(5)"
   ]
  },
  {
   "cell_type": "code",
   "execution_count": 36,
   "metadata": {},
   "outputs": [
    {
     "data": {
      "text/plain": "                        name  \\\n19        windSpeedGapFailQM   \n18         windSpeedNullNAQM   \n9         windSpeedStdErMean   \n38  windDirPersistenceFailQM   \n26   windSpeedValidCalPassQM   \n\n                                                label  \n19  Wind speed quality metric that summarizes the ...  \n18  Wind speed quality metric that summarizes when...  \n9           Standard error of the mean for wind speed  \n38  Wind direction quality metric that summarizes ...  \n26  Wind speed quality metric that summarizes the ...  ",
      "text/html": "<div>\n<style scoped>\n    .dataframe tbody tr th:only-of-type {\n        vertical-align: middle;\n    }\n\n    .dataframe tbody tr th {\n        vertical-align: top;\n    }\n\n    .dataframe thead th {\n        text-align: right;\n    }\n</style>\n<table border=\"1\" class=\"dataframe\">\n  <thead>\n    <tr style=\"text-align: right;\">\n      <th></th>\n      <th>name</th>\n      <th>label</th>\n    </tr>\n  </thead>\n  <tbody>\n    <tr>\n      <th>19</th>\n      <td>windSpeedGapFailQM</td>\n      <td>Wind speed quality metric that summarizes the ...</td>\n    </tr>\n    <tr>\n      <th>18</th>\n      <td>windSpeedNullNAQM</td>\n      <td>Wind speed quality metric that summarizes when...</td>\n    </tr>\n    <tr>\n      <th>9</th>\n      <td>windSpeedStdErMean</td>\n      <td>Standard error of the mean for wind speed</td>\n    </tr>\n    <tr>\n      <th>38</th>\n      <td>windDirPersistenceFailQM</td>\n      <td>Wind direction quality metric that summarizes ...</td>\n    </tr>\n    <tr>\n      <th>26</th>\n      <td>windSpeedValidCalPassQM</td>\n      <td>Wind speed quality metric that summarizes the ...</td>\n    </tr>\n  </tbody>\n</table>\n</div>"
     },
     "execution_count": 36,
     "metadata": {},
     "output_type": "execute_result"
    }
   ],
   "source": [
    "windLabelsFrame = pd.io.json.read_json('../data/neon_2d_wind.Colorado/fieldLabels.json')\n",
    "windLabelsFrame.sample(5)"
   ]
  },
  {
   "cell_type": "code",
   "execution_count": 37,
   "metadata": {
    "scrolled": false
   },
   "outputs": [
    {
     "data": {
      "text/plain": "                                     _id     type  \\\n12  {'$oid': '60cbcf5eed5577c25c205209'}  Feature   \n8   {'$oid': '60cbcf5eed5577c25c20520c'}  Feature   \n9   {'$oid': '60cbcf5eed5577c25c20520d'}  Feature   \n5   {'$oid': '60cbcf5eed5577c25c205294'}  Feature   \n1   {'$oid': '60cbcf5eed5577c25c205233'}  Feature   \n\n                                             geometry  \\\n12  {'type': 'Point', 'coordinates': [-103.02929, ...   \n8   {'type': 'Point', 'coordinates': [-104.74559, ...   \n9   {'type': 'Point', 'coordinates': [-104.74559, ...   \n5   {'type': 'Point', 'coordinates': [-105.58238, ...   \n1   {'type': 'Point', 'coordinates': [-105.545955,...   \n\n                                           properties  \\\n12  {'HOR.VER': '000.020', 'name': 'CFGLOC100114',...   \n8   {'HOR.VER': '000.020', 'name': 'CFGLOC100242',...   \n9   {'HOR.VER': '000.030', 'name': 'CFGLOC100245',...   \n5   {'HOR.VER': '000.010', 'name': 'CFGLOC109345',...   \n1   {'HOR.VER': '000.040', 'name': 'CFGLOC100675',...   \n\n                          site  \n12  STER_DP1.00001.001_000.020  \n8   CPER_DP1.00001.001_000.020  \n9   CPER_DP1.00001.001_000.030  \n5   NIWO_DP1.00001.001_000.010  \n1   RMNP_DP1.00001.001_000.040  ",
      "text/html": "<div>\n<style scoped>\n    .dataframe tbody tr th:only-of-type {\n        vertical-align: middle;\n    }\n\n    .dataframe tbody tr th {\n        vertical-align: top;\n    }\n\n    .dataframe thead th {\n        text-align: right;\n    }\n</style>\n<table border=\"1\" class=\"dataframe\">\n  <thead>\n    <tr style=\"text-align: right;\">\n      <th></th>\n      <th>_id</th>\n      <th>type</th>\n      <th>geometry</th>\n      <th>properties</th>\n      <th>site</th>\n    </tr>\n  </thead>\n  <tbody>\n    <tr>\n      <th>12</th>\n      <td>{'$oid': '60cbcf5eed5577c25c205209'}</td>\n      <td>Feature</td>\n      <td>{'type': 'Point', 'coordinates': [-103.02929, ...</td>\n      <td>{'HOR.VER': '000.020', 'name': 'CFGLOC100114',...</td>\n      <td>STER_DP1.00001.001_000.020</td>\n    </tr>\n    <tr>\n      <th>8</th>\n      <td>{'$oid': '60cbcf5eed5577c25c20520c'}</td>\n      <td>Feature</td>\n      <td>{'type': 'Point', 'coordinates': [-104.74559, ...</td>\n      <td>{'HOR.VER': '000.020', 'name': 'CFGLOC100242',...</td>\n      <td>CPER_DP1.00001.001_000.020</td>\n    </tr>\n    <tr>\n      <th>9</th>\n      <td>{'$oid': '60cbcf5eed5577c25c20520d'}</td>\n      <td>Feature</td>\n      <td>{'type': 'Point', 'coordinates': [-104.74559, ...</td>\n      <td>{'HOR.VER': '000.030', 'name': 'CFGLOC100245',...</td>\n      <td>CPER_DP1.00001.001_000.030</td>\n    </tr>\n    <tr>\n      <th>5</th>\n      <td>{'$oid': '60cbcf5eed5577c25c205294'}</td>\n      <td>Feature</td>\n      <td>{'type': 'Point', 'coordinates': [-105.58238, ...</td>\n      <td>{'HOR.VER': '000.010', 'name': 'CFGLOC109345',...</td>\n      <td>NIWO_DP1.00001.001_000.010</td>\n    </tr>\n    <tr>\n      <th>1</th>\n      <td>{'$oid': '60cbcf5eed5577c25c205233'}</td>\n      <td>Feature</td>\n      <td>{'type': 'Point', 'coordinates': [-105.545955,...</td>\n      <td>{'HOR.VER': '000.040', 'name': 'CFGLOC100675',...</td>\n      <td>RMNP_DP1.00001.001_000.040</td>\n    </tr>\n  </tbody>\n</table>\n</div>"
     },
     "execution_count": 37,
     "metadata": {},
     "output_type": "execute_result"
    }
   ],
   "source": [
    "windGeometryFrame = pd.io.json.read_json('../data/neon_2d_wind.Colorado/linkedGeometry.json')\n",
    "windGeometryFrame.sample(5)"
   ]
  },
  {
   "cell_type": "markdown",
   "metadata": {},
   "source": [
    "#### NEON Barometric Pressure Dataset"
   ]
  },
  {
   "cell_type": "code",
   "execution_count": 38,
   "metadata": {
    "scrolled": true
   },
   "outputs": [
    {
     "data": {
      "text/plain": "                                         _id                site  \\\n203503  {'$oid': '60c78b13c8cb4f3f3bedb5fa'}  CPER_DP1.00004.001   \n342753  {'$oid': '60c78c9dc8cb4f3f3b1afe3e'}  RMNP_DP1.00004.001   \n22774   {'$oid': '60c78aacc8cb4f3f3be1c3c3'}  ARIK_DP1.00004.001   \n277265  {'$oid': '60c78c2dc8cb4f3f3b0e1408'}  NIWO_DP1.00004.001   \n473894  {'$oid': '60c78ce4c8cb4f3f3b232d7c'}  STER_DP1.00004.001   \n\n                              epoch_time         startDateTime  \\\n203503  {'$numberLong': '1562441400000'}  2019-07-06T19:30:00Z   \n342753  {'$numberLong': '1538789400000'}  2018-10-06T01:30:00Z   \n22774   {'$numberLong': '1532777400000'}  2018-07-28T11:30:00Z   \n277265  {'$numberLong': '1582174800000'}  2020-02-20T05:00:00Z   \n473894  {'$numberLong': '1594562400000'}  2020-07-12T14:00:00Z   \n\n                 endDateTime  staPresMean  staPresMinimum  staPresMaximum  \\\n203503  2019-07-06T20:00:00Z     83.97196        83.94523        83.99524   \n342753  2018-10-06T02:00:00Z     72.98160        72.96238        73.00237   \n22774   2018-07-28T12:00:00Z     88.67126        88.65683        88.69696   \n277265  2020-02-20T05:30:00Z     66.28132        66.26921        66.28921   \n473894  2020-07-12T14:30:00Z     86.51867        86.46850        86.55851   \n\n        staPresVariance  staPresNumPts  staPresExpUncert  staPresStdErMean  \\\n203503          0.00012            180           0.01728           0.00081   \n342753          0.00015            180           0.01730           0.00091   \n22774           0.00012            180           0.01728           0.00082   \n277265          0.00003            180           0.04730           0.00038   \n473894          0.00041            180           0.04731           0.00151   \n\n        staPresFinalQF    corPres  corPresExpUncert  corPresFinalQF  \n203503               0  101.15872           0.14562               0  \n342753               0  101.32007           0.41851               0  \n22774                0  101.89720           0.08600               0  \n277265               0  101.75660           0.72445               0  \n473894               0  101.02602           0.12446               0  ",
      "text/html": "<div>\n<style scoped>\n    .dataframe tbody tr th:only-of-type {\n        vertical-align: middle;\n    }\n\n    .dataframe tbody tr th {\n        vertical-align: top;\n    }\n\n    .dataframe thead th {\n        text-align: right;\n    }\n</style>\n<table border=\"1\" class=\"dataframe\">\n  <thead>\n    <tr style=\"text-align: right;\">\n      <th></th>\n      <th>_id</th>\n      <th>site</th>\n      <th>epoch_time</th>\n      <th>startDateTime</th>\n      <th>endDateTime</th>\n      <th>staPresMean</th>\n      <th>staPresMinimum</th>\n      <th>staPresMaximum</th>\n      <th>staPresVariance</th>\n      <th>staPresNumPts</th>\n      <th>staPresExpUncert</th>\n      <th>staPresStdErMean</th>\n      <th>staPresFinalQF</th>\n      <th>corPres</th>\n      <th>corPresExpUncert</th>\n      <th>corPresFinalQF</th>\n    </tr>\n  </thead>\n  <tbody>\n    <tr>\n      <th>203503</th>\n      <td>{'$oid': '60c78b13c8cb4f3f3bedb5fa'}</td>\n      <td>CPER_DP1.00004.001</td>\n      <td>{'$numberLong': '1562441400000'}</td>\n      <td>2019-07-06T19:30:00Z</td>\n      <td>2019-07-06T20:00:00Z</td>\n      <td>83.97196</td>\n      <td>83.94523</td>\n      <td>83.99524</td>\n      <td>0.00012</td>\n      <td>180</td>\n      <td>0.01728</td>\n      <td>0.00081</td>\n      <td>0</td>\n      <td>101.15872</td>\n      <td>0.14562</td>\n      <td>0</td>\n    </tr>\n    <tr>\n      <th>342753</th>\n      <td>{'$oid': '60c78c9dc8cb4f3f3b1afe3e'}</td>\n      <td>RMNP_DP1.00004.001</td>\n      <td>{'$numberLong': '1538789400000'}</td>\n      <td>2018-10-06T01:30:00Z</td>\n      <td>2018-10-06T02:00:00Z</td>\n      <td>72.98160</td>\n      <td>72.96238</td>\n      <td>73.00237</td>\n      <td>0.00015</td>\n      <td>180</td>\n      <td>0.01730</td>\n      <td>0.00091</td>\n      <td>0</td>\n      <td>101.32007</td>\n      <td>0.41851</td>\n      <td>0</td>\n    </tr>\n    <tr>\n      <th>22774</th>\n      <td>{'$oid': '60c78aacc8cb4f3f3be1c3c3'}</td>\n      <td>ARIK_DP1.00004.001</td>\n      <td>{'$numberLong': '1532777400000'}</td>\n      <td>2018-07-28T11:30:00Z</td>\n      <td>2018-07-28T12:00:00Z</td>\n      <td>88.67126</td>\n      <td>88.65683</td>\n      <td>88.69696</td>\n      <td>0.00012</td>\n      <td>180</td>\n      <td>0.01728</td>\n      <td>0.00082</td>\n      <td>0</td>\n      <td>101.89720</td>\n      <td>0.08600</td>\n      <td>0</td>\n    </tr>\n    <tr>\n      <th>277265</th>\n      <td>{'$oid': '60c78c2dc8cb4f3f3b0e1408'}</td>\n      <td>NIWO_DP1.00004.001</td>\n      <td>{'$numberLong': '1582174800000'}</td>\n      <td>2020-02-20T05:00:00Z</td>\n      <td>2020-02-20T05:30:00Z</td>\n      <td>66.28132</td>\n      <td>66.26921</td>\n      <td>66.28921</td>\n      <td>0.00003</td>\n      <td>180</td>\n      <td>0.04730</td>\n      <td>0.00038</td>\n      <td>0</td>\n      <td>101.75660</td>\n      <td>0.72445</td>\n      <td>0</td>\n    </tr>\n    <tr>\n      <th>473894</th>\n      <td>{'$oid': '60c78ce4c8cb4f3f3b232d7c'}</td>\n      <td>STER_DP1.00004.001</td>\n      <td>{'$numberLong': '1594562400000'}</td>\n      <td>2020-07-12T14:00:00Z</td>\n      <td>2020-07-12T14:30:00Z</td>\n      <td>86.51867</td>\n      <td>86.46850</td>\n      <td>86.55851</td>\n      <td>0.00041</td>\n      <td>180</td>\n      <td>0.04731</td>\n      <td>0.00151</td>\n      <td>0</td>\n      <td>101.02602</td>\n      <td>0.12446</td>\n      <td>0</td>\n    </tr>\n  </tbody>\n</table>\n</div>"
     },
     "execution_count": 38,
     "metadata": {},
     "output_type": "execute_result"
    }
   ],
   "source": [
    "pressureDataFrame = pd.io.json.read_json('../data/neon_barometric_pressure.Colorado/data.json')\n",
    "pressureDataFrame.sample(5)"
   ]
  },
  {
   "cell_type": "code",
   "execution_count": 39,
   "metadata": {},
   "outputs": [
    {
     "data": {
      "text/plain": "                  name                                              label\n3          staPresMean                           Average Station Pressure\n11  staPresRangePassQM  Station pressure quality metric that summarize...\n18     staPresStepNAQM  Station pressure quality metric that summarize...\n4       staPresMinimum                           Minimum Station Pressure\n20   staPresNullPassQM  Station pressure quality metric that summarize...",
      "text/html": "<div>\n<style scoped>\n    .dataframe tbody tr th:only-of-type {\n        vertical-align: middle;\n    }\n\n    .dataframe tbody tr th {\n        vertical-align: top;\n    }\n\n    .dataframe thead th {\n        text-align: right;\n    }\n</style>\n<table border=\"1\" class=\"dataframe\">\n  <thead>\n    <tr style=\"text-align: right;\">\n      <th></th>\n      <th>name</th>\n      <th>label</th>\n    </tr>\n  </thead>\n  <tbody>\n    <tr>\n      <th>3</th>\n      <td>staPresMean</td>\n      <td>Average Station Pressure</td>\n    </tr>\n    <tr>\n      <th>11</th>\n      <td>staPresRangePassQM</td>\n      <td>Station pressure quality metric that summarize...</td>\n    </tr>\n    <tr>\n      <th>18</th>\n      <td>staPresStepNAQM</td>\n      <td>Station pressure quality metric that summarize...</td>\n    </tr>\n    <tr>\n      <th>4</th>\n      <td>staPresMinimum</td>\n      <td>Minimum Station Pressure</td>\n    </tr>\n    <tr>\n      <th>20</th>\n      <td>staPresNullPassQM</td>\n      <td>Station pressure quality metric that summarize...</td>\n    </tr>\n  </tbody>\n</table>\n</div>"
     },
     "execution_count": 39,
     "metadata": {},
     "output_type": "execute_result"
    }
   ],
   "source": [
    "pressureLabelsFrame = pd.io.json.read_json('../data/neon_barometric_pressure.Colorado/fieldLabels.json')\n",
    "pressureLabelsFrame.sample(5)"
   ]
  },
  {
   "cell_type": "code",
   "execution_count": 40,
   "metadata": {
    "scrolled": true
   },
   "outputs": [
    {
     "data": {
      "text/plain": "                                    _id     type  \\\n6  {'$oid': '60c78a9d230c7f49850c20a5'}  Feature   \n5  {'$oid': '60c78a9d230c7f49850c20e3'}  Feature   \n0  {'$oid': '60c78a9d230c7f49850c20dc'}  Feature   \n4  {'$oid': '60c78a9d230c7f49850c20b1'}  Feature   \n3  {'$oid': '60c78a9d230c7f49850c20cf'}  Feature   \n\n                                            geometry  \\\n6  {'type': 'Point', 'coordinates': [-102.450966,...   \n5  {'type': 'Point', 'coordinates': [-103.02929, ...   \n0  {'type': 'Point', 'coordinates': [-105.545955,...   \n4  {'type': 'Point', 'coordinates': [-104.74559, ...   \n3  {'type': 'Point', 'coordinates': [-105.58238, ...   \n\n                                          properties                site  \n6  {'site': 'ARIK_DP1.00004.001', 'name': 'neon_b...  ARIK_DP1.00004.001  \n5  {'site': 'STER_DP1.00004.001', 'name': 'neon_b...  STER_DP1.00004.001  \n0  {'site': 'RMNP_DP1.00004.001', 'name': 'neon_b...  RMNP_DP1.00004.001  \n4  {'site': 'CPER_DP1.00004.001', 'name': 'neon_b...  CPER_DP1.00004.001  \n3  {'site': 'NIWO_DP1.00004.001', 'name': 'neon_b...  NIWO_DP1.00004.001  ",
      "text/html": "<div>\n<style scoped>\n    .dataframe tbody tr th:only-of-type {\n        vertical-align: middle;\n    }\n\n    .dataframe tbody tr th {\n        vertical-align: top;\n    }\n\n    .dataframe thead th {\n        text-align: right;\n    }\n</style>\n<table border=\"1\" class=\"dataframe\">\n  <thead>\n    <tr style=\"text-align: right;\">\n      <th></th>\n      <th>_id</th>\n      <th>type</th>\n      <th>geometry</th>\n      <th>properties</th>\n      <th>site</th>\n    </tr>\n  </thead>\n  <tbody>\n    <tr>\n      <th>6</th>\n      <td>{'$oid': '60c78a9d230c7f49850c20a5'}</td>\n      <td>Feature</td>\n      <td>{'type': 'Point', 'coordinates': [-102.450966,...</td>\n      <td>{'site': 'ARIK_DP1.00004.001', 'name': 'neon_b...</td>\n      <td>ARIK_DP1.00004.001</td>\n    </tr>\n    <tr>\n      <th>5</th>\n      <td>{'$oid': '60c78a9d230c7f49850c20e3'}</td>\n      <td>Feature</td>\n      <td>{'type': 'Point', 'coordinates': [-103.02929, ...</td>\n      <td>{'site': 'STER_DP1.00004.001', 'name': 'neon_b...</td>\n      <td>STER_DP1.00004.001</td>\n    </tr>\n    <tr>\n      <th>0</th>\n      <td>{'$oid': '60c78a9d230c7f49850c20dc'}</td>\n      <td>Feature</td>\n      <td>{'type': 'Point', 'coordinates': [-105.545955,...</td>\n      <td>{'site': 'RMNP_DP1.00004.001', 'name': 'neon_b...</td>\n      <td>RMNP_DP1.00004.001</td>\n    </tr>\n    <tr>\n      <th>4</th>\n      <td>{'$oid': '60c78a9d230c7f49850c20b1'}</td>\n      <td>Feature</td>\n      <td>{'type': 'Point', 'coordinates': [-104.74559, ...</td>\n      <td>{'site': 'CPER_DP1.00004.001', 'name': 'neon_b...</td>\n      <td>CPER_DP1.00004.001</td>\n    </tr>\n    <tr>\n      <th>3</th>\n      <td>{'$oid': '60c78a9d230c7f49850c20cf'}</td>\n      <td>Feature</td>\n      <td>{'type': 'Point', 'coordinates': [-105.58238, ...</td>\n      <td>{'site': 'NIWO_DP1.00004.001', 'name': 'neon_b...</td>\n      <td>NIWO_DP1.00004.001</td>\n    </tr>\n  </tbody>\n</table>\n</div>"
     },
     "execution_count": 40,
     "metadata": {},
     "output_type": "execute_result"
    }
   ],
   "source": [
    "pressureGeometryFrame = pd.io.json.read_json('../data/neon_barometric_pressure.Colorado/linkedGeometry.json')\n",
    "pressureGeometryFrame.sample(5)"
   ]
  },
  {
   "cell_type": "markdown",
   "metadata": {},
   "source": [
    "#### NEON Air Temperature"
   ]
  },
  {
   "cell_type": "code",
   "execution_count": 41,
   "metadata": {},
   "outputs": [
    {
     "data": {
      "text/plain": "                                          _id                        site  \\\n135908   {'$oid': '60cbd81a0fc3818c8161c2f0'}  COMO_DP1.00002.001_200.000   \n1246539  {'$oid': '60cbd3b20fc3818c81dc2ef8'}  STER_DP1.00002.001_000.030   \n991532   {'$oid': '60cbd3a10fc3818c81da3e41'}  STER_DP1.00002.001_000.010   \n649420   {'$oid': '60cbd5340fc3818c8109ff69'}  RMNP_DP1.00002.001_000.010   \n1135179  {'$oid': '60cbd3b50fc3818c81dc69ec'}  STER_DP1.00002.001_000.020   \n\n                               epoch_time         startDateTime  \\\n135908   {'$numberLong': '1586151000000'}  2020-04-06T05:30:00Z   \n1246539  {'$numberLong': '1575093600000'}  2019-11-30T06:00:00Z   \n991532   {'$numberLong': '1494279000000'}  2017-05-08T21:30:00Z   \n649420   {'$numberLong': '1542668400000'}  2018-11-19T23:00:00Z   \n1135179  {'$numberLong': '1584595800000'}  2020-03-19T05:30:00Z   \n\n                  endDateTime  tempSingleMean  tempSingleMinimum  \\\n135908   2020-04-06T06:00:00Z         -2.2864            -2.7571   \n1246539  2019-11-30T06:30:00Z         -1.4415            -2.0607   \n991532   2017-05-08T22:00:00Z         23.0549            22.7143   \n649420   2018-11-19T23:30:00Z         -3.7996            -4.9111   \n1135179  2020-03-19T06:00:00Z          5.9533             5.8955   \n\n         tempSingleMaximum  tempSingleVariance  tempSingleNumPts  \\\n135908             -1.0755              0.2144              1800   \n1246539            -0.4251              0.2476              1800   \n991532             23.9426              0.0964              1800   \n649420             -2.7501              0.3398              1800   \n1135179             6.0285              0.0009              1800   \n\n         tempSingleExpUncert  tempSingleStdErMean  finalQF  \n135908                0.1353               0.0109        0  \n1246539               0.1359               0.0117        0  \n991532                0.1453               0.0073        0  \n649420                0.1357               0.0137        0  \n1135179               0.1367               0.0007        0  ",
      "text/html": "<div>\n<style scoped>\n    .dataframe tbody tr th:only-of-type {\n        vertical-align: middle;\n    }\n\n    .dataframe tbody tr th {\n        vertical-align: top;\n    }\n\n    .dataframe thead th {\n        text-align: right;\n    }\n</style>\n<table border=\"1\" class=\"dataframe\">\n  <thead>\n    <tr style=\"text-align: right;\">\n      <th></th>\n      <th>_id</th>\n      <th>site</th>\n      <th>epoch_time</th>\n      <th>startDateTime</th>\n      <th>endDateTime</th>\n      <th>tempSingleMean</th>\n      <th>tempSingleMinimum</th>\n      <th>tempSingleMaximum</th>\n      <th>tempSingleVariance</th>\n      <th>tempSingleNumPts</th>\n      <th>tempSingleExpUncert</th>\n      <th>tempSingleStdErMean</th>\n      <th>finalQF</th>\n    </tr>\n  </thead>\n  <tbody>\n    <tr>\n      <th>135908</th>\n      <td>{'$oid': '60cbd81a0fc3818c8161c2f0'}</td>\n      <td>COMO_DP1.00002.001_200.000</td>\n      <td>{'$numberLong': '1586151000000'}</td>\n      <td>2020-04-06T05:30:00Z</td>\n      <td>2020-04-06T06:00:00Z</td>\n      <td>-2.2864</td>\n      <td>-2.7571</td>\n      <td>-1.0755</td>\n      <td>0.2144</td>\n      <td>1800</td>\n      <td>0.1353</td>\n      <td>0.0109</td>\n      <td>0</td>\n    </tr>\n    <tr>\n      <th>1246539</th>\n      <td>{'$oid': '60cbd3b20fc3818c81dc2ef8'}</td>\n      <td>STER_DP1.00002.001_000.030</td>\n      <td>{'$numberLong': '1575093600000'}</td>\n      <td>2019-11-30T06:00:00Z</td>\n      <td>2019-11-30T06:30:00Z</td>\n      <td>-1.4415</td>\n      <td>-2.0607</td>\n      <td>-0.4251</td>\n      <td>0.2476</td>\n      <td>1800</td>\n      <td>0.1359</td>\n      <td>0.0117</td>\n      <td>0</td>\n    </tr>\n    <tr>\n      <th>991532</th>\n      <td>{'$oid': '60cbd3a10fc3818c81da3e41'}</td>\n      <td>STER_DP1.00002.001_000.010</td>\n      <td>{'$numberLong': '1494279000000'}</td>\n      <td>2017-05-08T21:30:00Z</td>\n      <td>2017-05-08T22:00:00Z</td>\n      <td>23.0549</td>\n      <td>22.7143</td>\n      <td>23.9426</td>\n      <td>0.0964</td>\n      <td>1800</td>\n      <td>0.1453</td>\n      <td>0.0073</td>\n      <td>0</td>\n    </tr>\n    <tr>\n      <th>649420</th>\n      <td>{'$oid': '60cbd5340fc3818c8109ff69'}</td>\n      <td>RMNP_DP1.00002.001_000.010</td>\n      <td>{'$numberLong': '1542668400000'}</td>\n      <td>2018-11-19T23:00:00Z</td>\n      <td>2018-11-19T23:30:00Z</td>\n      <td>-3.7996</td>\n      <td>-4.9111</td>\n      <td>-2.7501</td>\n      <td>0.3398</td>\n      <td>1800</td>\n      <td>0.1357</td>\n      <td>0.0137</td>\n      <td>0</td>\n    </tr>\n    <tr>\n      <th>1135179</th>\n      <td>{'$oid': '60cbd3b50fc3818c81dc69ec'}</td>\n      <td>STER_DP1.00002.001_000.020</td>\n      <td>{'$numberLong': '1584595800000'}</td>\n      <td>2020-03-19T05:30:00Z</td>\n      <td>2020-03-19T06:00:00Z</td>\n      <td>5.9533</td>\n      <td>5.8955</td>\n      <td>6.0285</td>\n      <td>0.0009</td>\n      <td>1800</td>\n      <td>0.1367</td>\n      <td>0.0007</td>\n      <td>0</td>\n    </tr>\n  </tbody>\n</table>\n</div>"
     },
     "execution_count": 41,
     "metadata": {},
     "output_type": "execute_result"
    }
   ],
   "source": [
    "temperatureDataFrame = pd.io.json.read_json('../data/neon_single_asp_air_temperature.Colorado/data.json')\n",
    "temperatureDataFrame.sample(5)"
   ]
  },
  {
   "cell_type": "code",
   "execution_count": 42,
   "metadata": {
    "scrolled": true
   },
   "outputs": [
    {
     "data": {
      "text/plain": "                name                                              label\n20        nullPassQM  Quality metric that summarizes the passed outc...\n27         spikeNAQM  Quality metric that summarizes when the spike ...\n7   tempSingleNumPts  Number of points used to calculate the arithme...\n2        endDateTime     Date and time at which a sampling is completed\n37           alphaQM  Quality metric detailing the outcomes of the a...",
      "text/html": "<div>\n<style scoped>\n    .dataframe tbody tr th:only-of-type {\n        vertical-align: middle;\n    }\n\n    .dataframe tbody tr th {\n        vertical-align: top;\n    }\n\n    .dataframe thead th {\n        text-align: right;\n    }\n</style>\n<table border=\"1\" class=\"dataframe\">\n  <thead>\n    <tr style=\"text-align: right;\">\n      <th></th>\n      <th>name</th>\n      <th>label</th>\n    </tr>\n  </thead>\n  <tbody>\n    <tr>\n      <th>20</th>\n      <td>nullPassQM</td>\n      <td>Quality metric that summarizes the passed outc...</td>\n    </tr>\n    <tr>\n      <th>27</th>\n      <td>spikeNAQM</td>\n      <td>Quality metric that summarizes when the spike ...</td>\n    </tr>\n    <tr>\n      <th>7</th>\n      <td>tempSingleNumPts</td>\n      <td>Number of points used to calculate the arithme...</td>\n    </tr>\n    <tr>\n      <th>2</th>\n      <td>endDateTime</td>\n      <td>Date and time at which a sampling is completed</td>\n    </tr>\n    <tr>\n      <th>37</th>\n      <td>alphaQM</td>\n      <td>Quality metric detailing the outcomes of the a...</td>\n    </tr>\n  </tbody>\n</table>\n</div>"
     },
     "execution_count": 42,
     "metadata": {},
     "output_type": "execute_result"
    }
   ],
   "source": [
    "temperatureLabelsFrame = pd.io.json.read_json('../data/neon_single_asp_air_temperature.Colorado/fieldLabels.json')\n",
    "temperatureLabelsFrame.sample(5)"
   ]
  },
  {
   "cell_type": "code",
   "execution_count": 43,
   "metadata": {
    "scrolled": true
   },
   "outputs": [
    {
     "data": {
      "text/plain": "                                     _id     type  \\\n6   {'$oid': '60cbd3907adbc5ff35cc422f'}  Feature   \n3   {'$oid': '60cbd3907adbc5ff35cc41c9'}  Feature   \n12  {'$oid': '60cbd3907adbc5ff35cc41a1'}  Feature   \n1   {'$oid': '60cbd3907adbc5ff35cc41ca'}  Feature   \n14  {'$oid': '60cbd3907adbc5ff35cc41a2'}  Feature   \n\n                                             geometry  \\\n6   {'type': 'Point', 'coordinates': [-105.58238, ...   \n3   {'type': 'Point', 'coordinates': [-105.545955,...   \n12  {'type': 'Point', 'coordinates': [-103.02929, ...   \n1   {'type': 'Point', 'coordinates': [-105.545955,...   \n14  {'type': 'Point', 'coordinates': [-103.02929, ...   \n\n                                           properties  \\\n6   {'HOR.VER': '000.030', 'name': 'CFGLOC109358',...   \n3   {'HOR.VER': '000.010', 'name': 'CFGLOC100665',...   \n12  {'HOR.VER': '000.010', 'name': 'CFGLOC100016',...   \n1   {'HOR.VER': '000.020', 'name': 'CFGLOC100668',...   \n14  {'HOR.VER': '000.020', 'name': 'CFGLOC100017',...   \n\n                          site  \n6   NIWO_DP1.00002.001_000.030  \n3   RMNP_DP1.00002.001_000.010  \n12  STER_DP1.00002.001_000.010  \n1   RMNP_DP1.00002.001_000.020  \n14  STER_DP1.00002.001_000.020  ",
      "text/html": "<div>\n<style scoped>\n    .dataframe tbody tr th:only-of-type {\n        vertical-align: middle;\n    }\n\n    .dataframe tbody tr th {\n        vertical-align: top;\n    }\n\n    .dataframe thead th {\n        text-align: right;\n    }\n</style>\n<table border=\"1\" class=\"dataframe\">\n  <thead>\n    <tr style=\"text-align: right;\">\n      <th></th>\n      <th>_id</th>\n      <th>type</th>\n      <th>geometry</th>\n      <th>properties</th>\n      <th>site</th>\n    </tr>\n  </thead>\n  <tbody>\n    <tr>\n      <th>6</th>\n      <td>{'$oid': '60cbd3907adbc5ff35cc422f'}</td>\n      <td>Feature</td>\n      <td>{'type': 'Point', 'coordinates': [-105.58238, ...</td>\n      <td>{'HOR.VER': '000.030', 'name': 'CFGLOC109358',...</td>\n      <td>NIWO_DP1.00002.001_000.030</td>\n    </tr>\n    <tr>\n      <th>3</th>\n      <td>{'$oid': '60cbd3907adbc5ff35cc41c9'}</td>\n      <td>Feature</td>\n      <td>{'type': 'Point', 'coordinates': [-105.545955,...</td>\n      <td>{'HOR.VER': '000.010', 'name': 'CFGLOC100665',...</td>\n      <td>RMNP_DP1.00002.001_000.010</td>\n    </tr>\n    <tr>\n      <th>12</th>\n      <td>{'$oid': '60cbd3907adbc5ff35cc41a1'}</td>\n      <td>Feature</td>\n      <td>{'type': 'Point', 'coordinates': [-103.02929, ...</td>\n      <td>{'HOR.VER': '000.010', 'name': 'CFGLOC100016',...</td>\n      <td>STER_DP1.00002.001_000.010</td>\n    </tr>\n    <tr>\n      <th>1</th>\n      <td>{'$oid': '60cbd3907adbc5ff35cc41ca'}</td>\n      <td>Feature</td>\n      <td>{'type': 'Point', 'coordinates': [-105.545955,...</td>\n      <td>{'HOR.VER': '000.020', 'name': 'CFGLOC100668',...</td>\n      <td>RMNP_DP1.00002.001_000.020</td>\n    </tr>\n    <tr>\n      <th>14</th>\n      <td>{'$oid': '60cbd3907adbc5ff35cc41a2'}</td>\n      <td>Feature</td>\n      <td>{'type': 'Point', 'coordinates': [-103.02929, ...</td>\n      <td>{'HOR.VER': '000.020', 'name': 'CFGLOC100017',...</td>\n      <td>STER_DP1.00002.001_000.020</td>\n    </tr>\n  </tbody>\n</table>\n</div>"
     },
     "execution_count": 43,
     "metadata": {},
     "output_type": "execute_result"
    }
   ],
   "source": [
    "temperatureGeometryFrame = pd.io.json.read_json('../data/neon_single_asp_air_temperature.Colorado/linkedGeometry.json')\n",
    "temperatureGeometryFrame.sample(5)"
   ]
  },
  {
   "cell_type": "markdown",
   "metadata": {},
   "source": [
    "### U.S. Census Total County Population Dataset"
   ]
  },
  {
   "cell_type": "code",
   "execution_count": 44,
   "metadata": {},
   "outputs": [
    {
     "data": {
      "text/plain": "                                     _id   GISJOIN     STATE  STATEFP  \\\n0   {'$oid': '607d4c2708e81eceb6b6e384'}  G0800010  Colorado        8   \n1   {'$oid': '607d4c2708e81eceb6b6e385'}  G0800030  Colorado        8   \n2   {'$oid': '607d4c2708e81eceb6b6e386'}  G0800050  Colorado        8   \n3   {'$oid': '607d4c2708e81eceb6b6e387'}  G0800070  Colorado        8   \n4   {'$oid': '607d4c2708e81eceb6b6e388'}  G0800090  Colorado        8   \n..                                   ...       ...       ...      ...   \n58  {'$oid': '607d4c2708e81eceb6b6e3bf'}  G0801170  Colorado        8   \n59  {'$oid': '607d4c2708e81eceb6b6e3c4'}  G0801190  Colorado        8   \n60  {'$oid': '607d4c2708e81eceb6b6e3c3'}  G0801210  Colorado        8   \n61  {'$oid': '607d4c2708e81eceb6b6e3c2'}  G0801230  Colorado        8   \n62  {'$oid': '607d4c2708e81eceb6b6e3c5'}  G0801250  Colorado        8   \n\n    STATENH             COUNTY  COUNTYFP  COUNTYNH  1980_total_population  \\\n0        80       Adams County         1        10                 245944   \n1        80     Alamosa County         3        30                  11799   \n2        80    Arapahoe County         5        50                 293621   \n3        80   Archuleta County         7        70                   3664   \n4        80        Baca County         9        90                   5419   \n..      ...                ...       ...       ...                    ...   \n58       80      Summit County       117      1170                   8848   \n59       80      Teller County       119      1190                   8034   \n60       80  Washington County       121      1210                   5304   \n61       80        Weld County       123      1230                 123438   \n62       80        Yuma County       125      1250                   9682   \n\n    1990_total_population  2000_total_population  2010_total_population  \n0                  265038                 363857                 441603  \n1                   13617                  14966                  15445  \n2                  391511                 487967                 572003  \n3                    5345                   9898                  12084  \n4                    4556                   4517                   3788  \n..                    ...                    ...                    ...  \n58                  12881                  23548                  27994  \n59                  12468                  20555                  23350  \n60                   4812                   4926                   4814  \n61                 131821                 180936                 252825  \n62                   8954                   9841                  10043  \n\n[63 rows x 12 columns]",
      "text/html": "<div>\n<style scoped>\n    .dataframe tbody tr th:only-of-type {\n        vertical-align: middle;\n    }\n\n    .dataframe tbody tr th {\n        vertical-align: top;\n    }\n\n    .dataframe thead th {\n        text-align: right;\n    }\n</style>\n<table border=\"1\" class=\"dataframe\">\n  <thead>\n    <tr style=\"text-align: right;\">\n      <th></th>\n      <th>_id</th>\n      <th>GISJOIN</th>\n      <th>STATE</th>\n      <th>STATEFP</th>\n      <th>STATENH</th>\n      <th>COUNTY</th>\n      <th>COUNTYFP</th>\n      <th>COUNTYNH</th>\n      <th>1980_total_population</th>\n      <th>1990_total_population</th>\n      <th>2000_total_population</th>\n      <th>2010_total_population</th>\n    </tr>\n  </thead>\n  <tbody>\n    <tr>\n      <th>0</th>\n      <td>{'$oid': '607d4c2708e81eceb6b6e384'}</td>\n      <td>G0800010</td>\n      <td>Colorado</td>\n      <td>8</td>\n      <td>80</td>\n      <td>Adams County</td>\n      <td>1</td>\n      <td>10</td>\n      <td>245944</td>\n      <td>265038</td>\n      <td>363857</td>\n      <td>441603</td>\n    </tr>\n    <tr>\n      <th>1</th>\n      <td>{'$oid': '607d4c2708e81eceb6b6e385'}</td>\n      <td>G0800030</td>\n      <td>Colorado</td>\n      <td>8</td>\n      <td>80</td>\n      <td>Alamosa County</td>\n      <td>3</td>\n      <td>30</td>\n      <td>11799</td>\n      <td>13617</td>\n      <td>14966</td>\n      <td>15445</td>\n    </tr>\n    <tr>\n      <th>2</th>\n      <td>{'$oid': '607d4c2708e81eceb6b6e386'}</td>\n      <td>G0800050</td>\n      <td>Colorado</td>\n      <td>8</td>\n      <td>80</td>\n      <td>Arapahoe County</td>\n      <td>5</td>\n      <td>50</td>\n      <td>293621</td>\n      <td>391511</td>\n      <td>487967</td>\n      <td>572003</td>\n    </tr>\n    <tr>\n      <th>3</th>\n      <td>{'$oid': '607d4c2708e81eceb6b6e387'}</td>\n      <td>G0800070</td>\n      <td>Colorado</td>\n      <td>8</td>\n      <td>80</td>\n      <td>Archuleta County</td>\n      <td>7</td>\n      <td>70</td>\n      <td>3664</td>\n      <td>5345</td>\n      <td>9898</td>\n      <td>12084</td>\n    </tr>\n    <tr>\n      <th>4</th>\n      <td>{'$oid': '607d4c2708e81eceb6b6e388'}</td>\n      <td>G0800090</td>\n      <td>Colorado</td>\n      <td>8</td>\n      <td>80</td>\n      <td>Baca County</td>\n      <td>9</td>\n      <td>90</td>\n      <td>5419</td>\n      <td>4556</td>\n      <td>4517</td>\n      <td>3788</td>\n    </tr>\n    <tr>\n      <th>...</th>\n      <td>...</td>\n      <td>...</td>\n      <td>...</td>\n      <td>...</td>\n      <td>...</td>\n      <td>...</td>\n      <td>...</td>\n      <td>...</td>\n      <td>...</td>\n      <td>...</td>\n      <td>...</td>\n      <td>...</td>\n    </tr>\n    <tr>\n      <th>58</th>\n      <td>{'$oid': '607d4c2708e81eceb6b6e3bf'}</td>\n      <td>G0801170</td>\n      <td>Colorado</td>\n      <td>8</td>\n      <td>80</td>\n      <td>Summit County</td>\n      <td>117</td>\n      <td>1170</td>\n      <td>8848</td>\n      <td>12881</td>\n      <td>23548</td>\n      <td>27994</td>\n    </tr>\n    <tr>\n      <th>59</th>\n      <td>{'$oid': '607d4c2708e81eceb6b6e3c4'}</td>\n      <td>G0801190</td>\n      <td>Colorado</td>\n      <td>8</td>\n      <td>80</td>\n      <td>Teller County</td>\n      <td>119</td>\n      <td>1190</td>\n      <td>8034</td>\n      <td>12468</td>\n      <td>20555</td>\n      <td>23350</td>\n    </tr>\n    <tr>\n      <th>60</th>\n      <td>{'$oid': '607d4c2708e81eceb6b6e3c3'}</td>\n      <td>G0801210</td>\n      <td>Colorado</td>\n      <td>8</td>\n      <td>80</td>\n      <td>Washington County</td>\n      <td>121</td>\n      <td>1210</td>\n      <td>5304</td>\n      <td>4812</td>\n      <td>4926</td>\n      <td>4814</td>\n    </tr>\n    <tr>\n      <th>61</th>\n      <td>{'$oid': '607d4c2708e81eceb6b6e3c2'}</td>\n      <td>G0801230</td>\n      <td>Colorado</td>\n      <td>8</td>\n      <td>80</td>\n      <td>Weld County</td>\n      <td>123</td>\n      <td>1230</td>\n      <td>123438</td>\n      <td>131821</td>\n      <td>180936</td>\n      <td>252825</td>\n    </tr>\n    <tr>\n      <th>62</th>\n      <td>{'$oid': '607d4c2708e81eceb6b6e3c5'}</td>\n      <td>G0801250</td>\n      <td>Colorado</td>\n      <td>8</td>\n      <td>80</td>\n      <td>Yuma County</td>\n      <td>125</td>\n      <td>1250</td>\n      <td>9682</td>\n      <td>8954</td>\n      <td>9841</td>\n      <td>10043</td>\n    </tr>\n  </tbody>\n</table>\n<p>63 rows × 12 columns</p>\n</div>"
     },
     "execution_count": 44,
     "metadata": {},
     "output_type": "execute_result"
    }
   ],
   "source": [
    "populationDataFrame = pd.io.json.read_json('../data/county_total_population.Colorado/data.json')\n",
    "populationDataFrame"
   ]
  },
  {
   "cell_type": "code",
   "execution_count": 45,
   "metadata": {},
   "outputs": [
    {
     "data": {
      "text/plain": "Empty DataFrame\nColumns: []\nIndex: []",
      "text/html": "<div>\n<style scoped>\n    .dataframe tbody tr th:only-of-type {\n        vertical-align: middle;\n    }\n\n    .dataframe tbody tr th {\n        vertical-align: top;\n    }\n\n    .dataframe thead th {\n        text-align: right;\n    }\n</style>\n<table border=\"1\" class=\"dataframe\">\n  <thead>\n    <tr style=\"text-align: right;\">\n      <th></th>\n    </tr>\n  </thead>\n  <tbody>\n  </tbody>\n</table>\n</div>"
     },
     "execution_count": 45,
     "metadata": {},
     "output_type": "execute_result"
    }
   ],
   "source": [
    "populationLabelsFrame = pd.io.json.read_json('../data/county_total_population.Colorado/fieldLabels.json')\n",
    "populationLabelsFrame"
   ]
  },
  {
   "cell_type": "code",
   "execution_count": 46,
   "metadata": {},
   "outputs": [
    {
     "data": {
      "text/plain": "                                     _id     type  \\\n0   {'$oid': '604964ecfed2e95d6b68b676'}  Feature   \n1   {'$oid': '604964ecfed2e95d6b68b684'}  Feature   \n2   {'$oid': '604964eefed2e95d6b68bb16'}  Feature   \n3   {'$oid': '604964eefed2e95d6b68b9c8'}  Feature   \n4   {'$oid': '604964eefed2e95d6b68b83d'}  Feature   \n..                                   ...      ...   \n59  {'$oid': '604964ecfed2e95d6b68b677'}  Feature   \n60  {'$oid': '604964eefed2e95d6b68b840'}  Feature   \n61  {'$oid': '604964eefed2e95d6b68b9c5'}  Feature   \n62  {'$oid': '604964eefed2e95d6b68b9c3'}  Feature   \n63  {'$oid': '604964ecfed2e95d6b68b674'}  Feature   \n\n                                             geometry  \\\n0   {'type': 'Polygon', 'coordinates': [[[-104.961...   \n1   {'type': 'Polygon', 'coordinates': [[[-105.457...   \n2   {'type': 'MultiPolygon', 'coordinates': [[[[-1...   \n3   {'type': 'Polygon', 'coordinates': [[[-107.128...   \n4   {'type': 'Polygon', 'coordinates': [[[-102.747...   \n..                                                ...   \n59  {'type': 'Polygon', 'coordinates': [[[-105.924...   \n60  {'type': 'Polygon', 'coordinates': [[[-105.329...   \n61  {'type': 'Polygon', 'coordinates': [[[-102.779...   \n62  {'type': 'MultiPolygon', 'coordinates': [[[[-1...   \n63  {'type': 'Polygon', 'coordinates': [[[-102.664...   \n\n                                           properties   GISJOIN  \n0   {'STATEFP10': '08', 'COUNTYFP10': '001', 'COUN...  G0800010  \n1   {'STATEFP10': '08', 'COUNTYFP10': '003', 'COUN...  G0800030  \n2   {'STATEFP10': '08', 'COUNTYFP10': '005', 'COUN...  G0800050  \n3   {'STATEFP10': '08', 'COUNTYFP10': '007', 'COUN...  G0800070  \n4   {'STATEFP10': '08', 'COUNTYFP10': '009', 'COUN...  G0800090  \n..                                                ...       ...  \n59  {'STATEFP10': '08', 'COUNTYFP10': '117', 'COUN...  G0801170  \n60  {'STATEFP10': '08', 'COUNTYFP10': '119', 'COUN...  G0801190  \n61  {'STATEFP10': '08', 'COUNTYFP10': '121', 'COUN...  G0801210  \n62  {'STATEFP10': '08', 'COUNTYFP10': '123', 'COUN...  G0801230  \n63  {'STATEFP10': '08', 'COUNTYFP10': '125', 'COUN...  G0801250  \n\n[64 rows x 5 columns]",
      "text/html": "<div>\n<style scoped>\n    .dataframe tbody tr th:only-of-type {\n        vertical-align: middle;\n    }\n\n    .dataframe tbody tr th {\n        vertical-align: top;\n    }\n\n    .dataframe thead th {\n        text-align: right;\n    }\n</style>\n<table border=\"1\" class=\"dataframe\">\n  <thead>\n    <tr style=\"text-align: right;\">\n      <th></th>\n      <th>_id</th>\n      <th>type</th>\n      <th>geometry</th>\n      <th>properties</th>\n      <th>GISJOIN</th>\n    </tr>\n  </thead>\n  <tbody>\n    <tr>\n      <th>0</th>\n      <td>{'$oid': '604964ecfed2e95d6b68b676'}</td>\n      <td>Feature</td>\n      <td>{'type': 'Polygon', 'coordinates': [[[-104.961...</td>\n      <td>{'STATEFP10': '08', 'COUNTYFP10': '001', 'COUN...</td>\n      <td>G0800010</td>\n    </tr>\n    <tr>\n      <th>1</th>\n      <td>{'$oid': '604964ecfed2e95d6b68b684'}</td>\n      <td>Feature</td>\n      <td>{'type': 'Polygon', 'coordinates': [[[-105.457...</td>\n      <td>{'STATEFP10': '08', 'COUNTYFP10': '003', 'COUN...</td>\n      <td>G0800030</td>\n    </tr>\n    <tr>\n      <th>2</th>\n      <td>{'$oid': '604964eefed2e95d6b68bb16'}</td>\n      <td>Feature</td>\n      <td>{'type': 'MultiPolygon', 'coordinates': [[[[-1...</td>\n      <td>{'STATEFP10': '08', 'COUNTYFP10': '005', 'COUN...</td>\n      <td>G0800050</td>\n    </tr>\n    <tr>\n      <th>3</th>\n      <td>{'$oid': '604964eefed2e95d6b68b9c8'}</td>\n      <td>Feature</td>\n      <td>{'type': 'Polygon', 'coordinates': [[[-107.128...</td>\n      <td>{'STATEFP10': '08', 'COUNTYFP10': '007', 'COUN...</td>\n      <td>G0800070</td>\n    </tr>\n    <tr>\n      <th>4</th>\n      <td>{'$oid': '604964eefed2e95d6b68b83d'}</td>\n      <td>Feature</td>\n      <td>{'type': 'Polygon', 'coordinates': [[[-102.747...</td>\n      <td>{'STATEFP10': '08', 'COUNTYFP10': '009', 'COUN...</td>\n      <td>G0800090</td>\n    </tr>\n    <tr>\n      <th>...</th>\n      <td>...</td>\n      <td>...</td>\n      <td>...</td>\n      <td>...</td>\n      <td>...</td>\n    </tr>\n    <tr>\n      <th>59</th>\n      <td>{'$oid': '604964ecfed2e95d6b68b677'}</td>\n      <td>Feature</td>\n      <td>{'type': 'Polygon', 'coordinates': [[[-105.924...</td>\n      <td>{'STATEFP10': '08', 'COUNTYFP10': '117', 'COUN...</td>\n      <td>G0801170</td>\n    </tr>\n    <tr>\n      <th>60</th>\n      <td>{'$oid': '604964eefed2e95d6b68b840'}</td>\n      <td>Feature</td>\n      <td>{'type': 'Polygon', 'coordinates': [[[-105.329...</td>\n      <td>{'STATEFP10': '08', 'COUNTYFP10': '119', 'COUN...</td>\n      <td>G0801190</td>\n    </tr>\n    <tr>\n      <th>61</th>\n      <td>{'$oid': '604964eefed2e95d6b68b9c5'}</td>\n      <td>Feature</td>\n      <td>{'type': 'Polygon', 'coordinates': [[[-102.779...</td>\n      <td>{'STATEFP10': '08', 'COUNTYFP10': '121', 'COUN...</td>\n      <td>G0801210</td>\n    </tr>\n    <tr>\n      <th>62</th>\n      <td>{'$oid': '604964eefed2e95d6b68b9c3'}</td>\n      <td>Feature</td>\n      <td>{'type': 'MultiPolygon', 'coordinates': [[[[-1...</td>\n      <td>{'STATEFP10': '08', 'COUNTYFP10': '123', 'COUN...</td>\n      <td>G0801230</td>\n    </tr>\n    <tr>\n      <th>63</th>\n      <td>{'$oid': '604964ecfed2e95d6b68b674'}</td>\n      <td>Feature</td>\n      <td>{'type': 'Polygon', 'coordinates': [[[-102.664...</td>\n      <td>{'STATEFP10': '08', 'COUNTYFP10': '125', 'COUN...</td>\n      <td>G0801250</td>\n    </tr>\n  </tbody>\n</table>\n<p>64 rows × 5 columns</p>\n</div>"
     },
     "execution_count": 46,
     "metadata": {},
     "output_type": "execute_result"
    }
   ],
   "source": [
    "populationGeometryFrame = pd.io.json.read_json('../data/county_total_population.Colorado/linkedGeometry.json')\n",
    "populationGeometryFrame"
   ]
  },
  {
   "cell_type": "markdown",
   "metadata": {},
   "source": [
    "## Data Exploration"
   ]
  },
  {
   "cell_type": "code",
   "execution_count": 47,
   "metadata": {},
   "outputs": [
    {
     "name": "stderr",
     "output_type": "stream",
     "text": [
      "c:\\users\\jfizzle\\appdata\\local\\programs\\python\\python38\\lib\\site-packages\\seaborn\\distributions.py:2619: FutureWarning: `distplot` is a deprecated function and will be removed in a future version. Please adapt your code to use either `displot` (a figure-level function with similar flexibility) or `histplot` (an axes-level function for histograms).\n",
      "  warnings.warn(msg, FutureWarning)\n"
     ]
    },
    {
     "data": {
      "text/plain": "<AxesSubplot:xlabel='newCaseCount', ylabel='Density'>"
     },
     "execution_count": 47,
     "metadata": {},
     "output_type": "execute_result"
    },
    {
     "data": {
      "text/plain": "<Figure size 432x288 with 1 Axes>",
      "image/png": "[encoded data removed]"
     },
     "metadata": {
      "needs_background": "light"
     },
     "output_type": "display_data"
    }
   ],
   "source": [
    "sns.distplot(covidDataFrame.newCaseCount)"
   ]
  },
  {
   "cell_type": "code",
   "execution_count": 48,
   "metadata": {},
   "outputs": [
    {
     "name": "stderr",
     "output_type": "stream",
     "text": [
      "c:\\users\\jfizzle\\appdata\\local\\programs\\python\\python38\\lib\\site-packages\\seaborn\\distributions.py:2619: FutureWarning: `distplot` is a deprecated function and will be removed in a future version. Please adapt your code to use either `displot` (a figure-level function with similar flexibility) or `histplot` (an axes-level function for histograms).\n",
      "  warnings.warn(msg, FutureWarning)\n"
     ]
    },
    {
     "data": {
      "text/plain": "<AxesSubplot:xlabel='tempSingleMean', ylabel='Density'>"
     },
     "execution_count": 48,
     "metadata": {},
     "output_type": "execute_result"
    },
    {
     "data": {
      "text/plain": "<Figure size 432x288 with 1 Axes>",
      "image/png": "[encoded data removed]"
     },
     "metadata": {
      "needs_background": "light"
     },
     "output_type": "display_data"
    }
   ],
   "source": [
    "sns.distplot(temperatureDataFrame.tempSingleMean)"
   ]
  },
  {
   "cell_type": "markdown",
   "metadata": {},
   "source": [
    "## Preprocessing"
   ]
  },
  {
   "cell_type": "markdown",
   "metadata": {},
   "source": [
    "#### Flatten Frames"
   ]
  },
  {
   "cell_type": "code",
   "execution_count": 3,
   "metadata": {},
   "outputs": [],
   "source": [
    "flattenedCovidDataFrame = pd.json_normalize(json.load(open(Path('../data/covid_county.Colorado/data.json'))))\n",
    "flattenedCovidGeometryFrame = pd.json_normalize(json.load(open(Path('../data/covid_county.Colorado/linkedGeometry.json'))))\n",
    "\n",
    "flattenedWindDataFrame = pd.json_normalize(json.load(open(Path('../data/neon_2d_wind.Colorado/data.json'))))\n",
    "flattenedWindGeometryFrame = pd.json_normalize(json.load(open(Path('../data/neon_2d_wind.Colorado/linkedGeometry.json'))))\n",
    "\n",
    "# flattenedPressureDataFrame = pd.json_normalize(json.load(open(Path('../data/neon_barometric_pressure.Colorado/data.json'))))\n",
    "# flattenedPressureGeometryFrame = pd.json_normalize(json.load(open(Path('../data/neon_barometric_pressure.Colorado/linkedGeometry.json'))))\n",
    "#\n",
    "# flattenedTemperatureDataFrame = pd.json_normalize(json.load(open(Path('../data/neon_single_asp_air_temperature.Colorado/data.json'))))\n",
    "# flattenedTemperatureGeometryFrame = pd.json_normalize(json.load(open(Path('../data/neon_single_asp_air_temperature.Colorado/linkedGeometry.json'))))\n",
    "#\n",
    "# flattenedPopulationDataFrame = pd.json_normalize(json.load(open(Path('../data/county_total_population.Colorado/data.json'))))\n",
    "# flattenedPopulationGeometryFrame = pd.json_normalize(json.load(open(Path('../data/county_total_population.Colorado/linkedGeometry.json'))))"
   ]
  },
  {
   "cell_type": "markdown",
   "metadata": {},
   "source": [
    "#### Join Data and Geometry"
   ]
  },
  {
   "cell_type": "code",
   "execution_count": 4,
   "metadata": {},
   "outputs": [],
   "source": [
    "combinedCovidFrame = flattenedCovidDataFrame.set_index('GISJOIN').join(flattenedCovidGeometryFrame.set_index('GISJOIN'), lsuffix='_data', rsuffix='_geo')\n",
    "combinedWindFrame = flattenedWindDataFrame.set_index('site').join(flattenedWindGeometryFrame.set_index('site'), lsuffix='_data', rsuffix='_geo')\n",
    "# combinedPressureFrame = flattenedPressureDataFrame.set_index('site').join(flattenedPressureGeometryFrame.set_index('site'), lsuffix='_data', rsuffix='_geo')\n",
    "# combinedTemperatureFrame = flattenedTemperatureDataFrame.set_index('site').join(flattenedTemperatureGeometryFrame.set_index('site'), lsuffix='_data', rsuffix='_geo')\n",
    "# combinedPopulationFrame = flattenedPopulationDataFrame.set_index('GISJOIN').join(flattenedPopulationGeometryFrame.set_index('GISJOIN'), lsuffix='_data', rsuffix='_geo')"
   ]
  },
  {
   "cell_type": "markdown",
   "metadata": {},
   "source": [
    "#### Generalize Geometry"
   ]
  },
  {
   "cell_type": "code",
   "execution_count": 22,
   "metadata": {
    "pycharm": {
     "name": "#%%\n"
    }
   },
   "outputs": [
    {
     "name": "stdout",
     "output_type": "stream",
     "text": [
      "                                              coordJsonString geometry.type  \\\n",
      "county                                                                        \n",
      "Adams       [[[-104.96140800028297, 40.00033699940714], [-...       Polygon   \n",
      "Alamosa     [[[-105.45725500006058, 37.75146400032936], [-...       Polygon   \n",
      "Arapahoe    [[[[-104.93042900099888, 39.66755700030373], [...  MultiPolygon   \n",
      "Archuleta   [[[-107.1286799987523, 37.42294200083849], [-1...       Polygon   \n",
      "Baca        [[[-102.747614999905, 37.64364200060204], [-10...       Polygon   \n",
      "...                                                       ...           ...   \n",
      "Summit      [[[-105.92461799963675, 39.69897200037548], [-...       Polygon   \n",
      "Teller      [[[-105.32922000017577, 39.12968899909268], [-...       Polygon   \n",
      "Washington  [[[-102.77995999963086, 40.43844599984182], [-...       Polygon   \n",
      "Weld        [[[[-104.97304400029685, 40.032751999519604], ...  MultiPolygon   \n",
      "Yuma        [[[-102.66480400059046, 40.438473000158055], [...       Polygon   \n",
      "\n",
      "                                         geometry.coordinates  \n",
      "county                                                         \n",
      "Adams       [[[-104.96140800028297, 40.00033699940714], [-...  \n",
      "Alamosa     [[[-105.45725500006058, 37.75146400032936], [-...  \n",
      "Arapahoe    [[[[-104.93042900099888, 39.66755700030373], [...  \n",
      "Archuleta   [[[-107.1286799987523, 37.42294200083849], [-1...  \n",
      "Baca        [[[-102.747614999905, 37.64364200060204], [-10...  \n",
      "...                                                       ...  \n",
      "Summit      [[[-105.92461799963675, 39.69897200037548], [-...  \n",
      "Teller      [[[-105.32922000017577, 39.12968899909268], [-...  \n",
      "Washington  [[[-102.77995999963086, 40.43844599984182], [-...  \n",
      "Weld        [[[[-104.97304400029685, 40.032751999519604], ...  \n",
      "Yuma        [[[-102.66480400059046, 40.438473000158055], [...  \n",
      "\n",
      "[64 rows x 3 columns]\n",
      "processing: Adams\n",
      "processing: Alamosa\n",
      "processing: Arapahoe\n",
      "processing: Archuleta\n",
      "processing: Baca\n",
      "processing: Bent\n",
      "processing: Boulder\n",
      "processing: Broomfield\n",
      "processing: Chaffee\n",
      "processing: Cheyenne\n",
      "processing: Clear Creek\n",
      "processing: Conejos\n",
      "processing: Costilla\n",
      "processing: Crowley\n",
      "processing: Custer\n",
      "processing: Delta\n",
      "processing: Denver\n",
      "processing: Dolores\n",
      "processing: Douglas\n",
      "processing: Eagle\n",
      "processing: El Paso\n",
      "processing: Elbert\n",
      "processing: Fremont\n",
      "processing: Garfield\n",
      "processing: Gilpin\n",
      "processing: Grand\n",
      "processing: Gunnison\n",
      "processing: Hinsdale\n",
      "processing: Huerfano\n",
      "processing: Jackson\n",
      "processing: Jefferson\n",
      "processing: Kiowa\n",
      "processing: Kit Carson\n",
      "processing: La Plata\n",
      "processing: Lake\n",
      "processing: Larimer\n",
      "processing: Las Animas\n",
      "processing: Lincoln\n",
      "processing: Logan\n",
      "processing: Mesa\n",
      "processing: Mineral\n",
      "processing: Moffat\n",
      "processing: Montezuma\n",
      "processing: Montrose\n",
      "processing: Morgan\n",
      "processing: Otero\n",
      "processing: Ouray\n",
      "processing: Park\n",
      "processing: Phillips\n",
      "processing: Pitkin\n",
      "processing: Prowers\n",
      "processing: Pueblo\n",
      "processing: Rio Blanco\n",
      "processing: Rio Grande\n",
      "processing: Routt\n",
      "processing: Saguache\n",
      "processing: San Juan\n",
      "processing: San Miguel\n",
      "processing: Sedgwick\n",
      "processing: Summit\n",
      "processing: Teller\n",
      "processing: Washington\n",
      "processing: Weld\n",
      "processing: Yuma\n"
     ]
    },
    {
     "name": "stderr",
     "output_type": "stream",
     "text": [
      "C:\\Users\\Jfizzle\\AppData\\Local\\Temp/ipykernel_1124/1820218632.py:12: VisibleDeprecationWarning: Creating an ndarray from ragged nested sequences (which is a list-or-tuple of lists-or-tuples-or ndarrays with different lengths or shapes) is deprecated. If you meant to do this, you must specify 'dtype=object' when creating the ndarray.\n",
      "  s = np.asarray(p)[0]\n"
     ]
    }
   ],
   "source": [
    "\n",
    "def create_county_polygons(combinedCovidFrame):\n",
    "    county_polygons = []\n",
    "    df = combinedCovidFrame.groupby('county').first().reindex(columns=['coordJsonString', 'geometry.type', \"geometry.coordinates\"])\n",
    "    print(df)\n",
    "    df['coordJsonString'] = df[\"geometry.coordinates\"].apply(json.dumps)\n",
    "    for index, row in df[['coordJsonString', 'geometry.type']].iterrows():\n",
    "        print(f\"processing: {index}\")\n",
    "        shape_data = json.loads(row['coordJsonString'])\n",
    "        county = index\n",
    "        if row['geometry.type'] == 'MultiPolygon':\n",
    "            for p in shape_data:\n",
    "                s = np.asarray(p)[0]\n",
    "                shape = Polygon(*s)\n",
    "                county_polygons.append((county, shape))\n",
    "        elif row['geometry.type'] == 'Polygon':\n",
    "            s = np.asarray(shape_data)[0]\n",
    "            shape = Polygon(*s)\n",
    "            county_polygons.append((county, shape))\n",
    "        else:\n",
    "            print(f\"Row had geometry type of {row['geometry.type']}, row is {row}\")\n",
    "    return county_polygons\n",
    "#\n",
    "county_polygons = create_county_polygons(combinedCovidFrame)"
   ]
  },
  {
   "cell_type": "code",
   "execution_count": 27,
   "outputs": [
    {
     "name": "stdout",
     "output_type": "stream",
     "text": [
      "point is in Broomfield\n",
      "point is in Arapahoe\n",
      "point is in Arapahoe\n",
      "point is in Yuma\n"
     ]
    }
   ],
   "source": [
    "# Test points in multipolygons:\n",
    "\n",
    "broomfield = Point(-105.155050, 39.902027)\n",
    "araphoe_a = Point(-104.938059, 39.708506)\n",
    "araphoe_b = Point(-104.645945, 39.672519)\n",
    "for point in [broomfield, araphoe_a, araphoe_b]:\n",
    "    for county, shape in county_polygons:\n",
    "        if shape.encloses_point(point):\n",
    "            print(f\"point is in {county}\")\n",
    "            break\n",
    "\n",
    "location = np.asarray(combinedWindFrame.iloc[1][\"geometry.coordinates\"])\n",
    "point = Point(location)\n",
    "for county, shape in county_polygons:\n",
    "    if shape.encloses_point(point):\n",
    "        print(f\"point is in {county}\")"
   ],
   "metadata": {
    "collapsed": false,
    "pycharm": {
     "name": "#%%\n"
    }
   }
  },
  {
   "cell_type": "markdown",
   "metadata": {},
   "source": [
    "## References"
   ]
  },
  {
   "cell_type": "markdown",
   "metadata": {},
   "source": [
    "## About this Notebook\n",
    "\n",
    "**Authors:** Kyle Bassignani, Jeff Borgerson, and Christian Westbrook  \n",
    "**Updated On:** 2021-11-20"
   ]
  }
 ],
 "metadata": {
  "kernelspec": {
   "display_name": "Python 3",
   "language": "python",
   "name": "python3"
  },
  "language_info": {
   "codemirror_mode": {
    "name": "ipython",
    "version": 3
   },
   "file_extension": ".py",
   "mimetype": "text/x-python",
   "name": "python",
   "nbconvert_exporter": "python",
   "pygments_lexer": "ipython3",
   "version": "3.8.3"
  }
 },
 "nbformat": 4,
 "nbformat_minor": 4
}